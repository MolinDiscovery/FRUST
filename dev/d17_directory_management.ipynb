{
 "cells": [
  {
   "cell_type": "markdown",
   "id": "93f10020",
   "metadata": {},
   "source": [
    "In this notebook I intend to change how directories are handled. Currently FRUST can only save a calculation directory and all files from the calculation folder. Also a scratch folder is not used, which can bslow down calculations.\n",
    "\n",
    "Intend behavioral changes\n",
    "* Save only needed files\n",
    "* Use scratch for calculation directory."
   ]
  },
  {
   "cell_type": "code",
   "execution_count": 43,
   "id": "c7d74dde",
   "metadata": {},
   "outputs": [
    {
     "name": "stdout",
     "output_type": "stream",
     "text": [
      "The autoreload extension is already loaded. To reload it, use:\n",
      "  %reload_ext autoreload\n"
     ]
    }
   ],
   "source": [
    "%load_ext autoreload\n",
    "%autoreload 2"
   ]
  },
  {
   "cell_type": "code",
   "execution_count": 44,
   "id": "e1220ee0",
   "metadata": {},
   "outputs": [],
   "source": [
    "from tooltoad.chemutils import xyz2ac\n",
    "from tooltoad.orca import orca_calculate\n",
    "\n",
    "inp = \"\"\"3\n",
    "water\n",
    "O     -5.099200    3.059520    0.000003\n",
    "H     -4.747591    3.911975   -0.228455\n",
    "H     -5.982743    3.160594    0.334122\"\"\"\n",
    "\n",
    "atoms, coords = xyz2ac(inp)\n",
    "\n",
    "result = orca_calculate(atoms, coords, options={\"HF\": None, \"STO-3G\": None, \"Opt\": None, \"Freq\": None}, save_dir=\"noob\", save_files=[\"orca.out\"])"
   ]
  },
  {
   "cell_type": "code",
   "execution_count": 45,
   "id": "bb3a928b",
   "metadata": {},
   "outputs": [],
   "source": [
    "import pandas as pd\n",
    "from frust.transformers import transformer_mols\n",
    "from frust.embedder import embed_mols\n",
    "from rdkit import Chem\n",
    "\n",
    "smi = \"CN1C=CC=C1\"\n",
    "m = Chem.MolFromSmiles(smi)\n",
    "mol_dict = {\"mol\": m}\n",
    "mols_dict_embedded = embed_mols(mol_dict, n_confs=1)"
   ]
  },
  {
   "cell_type": "code",
   "execution_count": 53,
   "id": "9ef03c04",
   "metadata": {},
   "outputs": [
    {
     "name": "stdout",
     "output_type": "stream",
     "text": [
      "2025-07-11 13:09:01 WARNING frust.stepper: \n",
      "\n",
      "warning: No calculation type identified.\n",
      "warning: This is fine if you don't calculate a transition state.\n",
      "\n"
     ]
    },
    {
     "data": {
      "application/vnd.microsoft.datawrangler.viewer.v0+json": {
       "columns": [
        {
         "name": "index",
         "rawType": "int64",
         "type": "integer"
        },
        {
         "name": "custom_name",
         "rawType": "object",
         "type": "string"
        },
        {
         "name": "ligand_name",
         "rawType": "object",
         "type": "string"
        },
        {
         "name": "rpos",
         "rawType": "object",
         "type": "unknown"
        },
        {
         "name": "constraint_atoms",
         "rawType": "object",
         "type": "unknown"
        },
        {
         "name": "cid",
         "rawType": "int64",
         "type": "integer"
        },
        {
         "name": "smiles",
         "rawType": "object",
         "type": "unknown"
        },
        {
         "name": "atoms",
         "rawType": "object",
         "type": "unknown"
        },
        {
         "name": "coords_embedded",
         "rawType": "object",
         "type": "unknown"
        },
        {
         "name": "energy_uff",
         "rawType": "object",
         "type": "unknown"
        }
       ],
       "ref": "8ca13a82-adf0-4493-affa-c310f4a59574",
       "rows": [
        [
         "0",
         "mol",
         "mol",
         null,
         null,
         "0",
         null,
         "['C', 'N', 'C', 'C', 'C', 'C', 'H', 'H', 'H', 'H', 'H', 'H', 'H']",
         "[(-1.885251124437047, 0.1257047194904601, 0.03938446493508729), (-0.4269204025675221, 0.013442451355017215, 0.004688420976918672), (0.4269482668925563, 1.0453296600925626, -0.11362478973396754), (1.7395060908106295, 0.5862077217061311, -0.11289321486767784), (1.6258285206957892, -0.7976995650116878, 0.01414818055496172), (0.2696453208664646, -1.133420163172867, 0.08571660554948975), (-2.2256996832906064, 0.8049603549392456, 0.8721683922534545), (-2.3298833432444437, -0.8605130192925077, 0.2511916165858497), (-2.2948336138735344, 0.5880819419213856, -0.888772871702203), (0.1330256690024477, 2.097974709319724, -0.1985834079789441), (2.658993589522337, 1.1639990987120865, -0.1926742514135337), (2.4618179603800616, -1.4993479306786004, 0.05116024909122798), (-0.15317725075710587, -2.1347199793809444, 0.18809060574933636)]",
         null
        ]
       ],
       "shape": {
        "columns": 9,
        "rows": 1
       }
      },
      "text/html": [
       "<div>\n",
       "<style scoped>\n",
       "    .dataframe tbody tr th:only-of-type {\n",
       "        vertical-align: middle;\n",
       "    }\n",
       "\n",
       "    .dataframe tbody tr th {\n",
       "        vertical-align: top;\n",
       "    }\n",
       "\n",
       "    .dataframe thead th {\n",
       "        text-align: right;\n",
       "    }\n",
       "</style>\n",
       "<table border=\"1\" class=\"dataframe\">\n",
       "  <thead>\n",
       "    <tr style=\"text-align: right;\">\n",
       "      <th></th>\n",
       "      <th>custom_name</th>\n",
       "      <th>ligand_name</th>\n",
       "      <th>rpos</th>\n",
       "      <th>constraint_atoms</th>\n",
       "      <th>cid</th>\n",
       "      <th>smiles</th>\n",
       "      <th>atoms</th>\n",
       "      <th>coords_embedded</th>\n",
       "      <th>energy_uff</th>\n",
       "    </tr>\n",
       "  </thead>\n",
       "  <tbody>\n",
       "    <tr>\n",
       "      <th>0</th>\n",
       "      <td>mol</td>\n",
       "      <td>mol</td>\n",
       "      <td>&lt;NA&gt;</td>\n",
       "      <td>None</td>\n",
       "      <td>0</td>\n",
       "      <td>None</td>\n",
       "      <td>[C, N, C, C, C, C, H, H, H, H, H, H, H]</td>\n",
       "      <td>[(-1.885251124437047, 0.1257047194904601, 0.03...</td>\n",
       "      <td>None</td>\n",
       "    </tr>\n",
       "  </tbody>\n",
       "</table>\n",
       "</div>"
      ],
      "text/plain": [
       "  custom_name ligand_name  rpos constraint_atoms  cid smiles  \\\n",
       "0         mol         mol  <NA>             None    0   None   \n",
       "\n",
       "                                     atoms  \\\n",
       "0  [C, N, C, C, C, C, H, H, H, H, H, H, H]   \n",
       "\n",
       "                                     coords_embedded energy_uff  \n",
       "0  [(-1.885251124437047, 0.1257047194904601, 0.03...       None  "
      ]
     },
     "execution_count": 53,
     "metadata": {},
     "output_type": "execute_result"
    }
   ],
   "source": [
    "from frust.stepper import Stepper\n",
    "step = Stepper([smi], save_output_dir=False, n_cores=2, debug=False)\n",
    "df0 = step.build_initial_df(mols_dict_embedded)\n",
    "df0"
   ]
  },
  {
   "cell_type": "code",
   "execution_count": 57,
   "id": "cd67406d",
   "metadata": {},
   "outputs": [
    {
     "name": "stdout",
     "output_type": "stream",
     "text": [
      "2025-07-11 13:10:18 INFO  frust.stepper: [orca-HF-STO-3G] row 0 (mol)…\n"
     ]
    }
   ],
   "source": [
    "df1 = step.orca(df0, options={\"HF\": None, \"STO-3G\": None})"
   ]
  }
 ],
 "metadata": {
  "kernelspec": {
   "display_name": "FrustActivation",
   "language": "python",
   "name": "python3"
  },
  "language_info": {
   "codemirror_mode": {
    "name": "ipython",
    "version": 3
   },
   "file_extension": ".py",
   "mimetype": "text/x-python",
   "name": "python",
   "nbconvert_exporter": "python",
   "pygments_lexer": "ipython3",
   "version": "3.12.8"
  }
 },
 "nbformat": 4,
 "nbformat_minor": 5
}
