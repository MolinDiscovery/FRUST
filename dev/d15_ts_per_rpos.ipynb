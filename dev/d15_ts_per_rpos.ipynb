{
 "cells": [
  {
   "cell_type": "code",
   "execution_count": null,
   "id": "a1393f83",
   "metadata": {},
   "outputs": [],
   "source": [
    "from frust.utils.io import read_ts_type_from_xyz\n",
    "from frust.stepper import Stepper"
   ]
  },
  {
   "cell_type": "code",
   "execution_count": 5,
   "id": "92ff7e2d",
   "metadata": {},
   "outputs": [],
   "source": [
    "def run_ts(\n",
    "    ligand_smiles_list: list[str],\n",
    "    ts_guess_xyz: str,\n",
    "    *,\n",
    "    n_confs: int | None = None,\n",
    "    n_cores: int = 4,\n",
    "    debug: bool = False,\n",
    "    top_n: int = 10,\n",
    "    out_dir: str | None = None,\n",
    "    output_parquet: str | None = None,\n",
    "    save_output_dir: bool = True,\n",
    "    DFT: bool = False,\n",
    "):\n",
    "\n",
    "    ts_type = read_ts_type_from_xyz(ts_guess_xyz)\n",
    "\n",
    "    if ts_type == 'TS1':\n",
    "        from frust.transformers import transformer_ts1\n",
    "        transformer_ts = transformer_ts1\n",
    "    elif ts_type == 'TS2':\n",
    "        from frust.transformers import transformer_ts2\n",
    "        transformer_ts = transformer_ts2\n",
    "    elif ts_type == 'TS3':\n",
    "        from frust.transformers import transformer_ts3\n",
    "        transformer_ts = transformer_ts3\n",
    "    else:\n",
    "        raise ValueError(f\"Unrecognized TS type: {ts_type}\")\n",
    "\n",
    "    ts_structs = {}\n",
    "\n",
    "    for smi in ligand_smiles_list:\n",
    "        ts_mols = transformer_ts(smi, ts_guess_xyz)\n",
    "        ts_structs.update(ts_mols)\n",
    "\n",
    "    return ts_structs\n"
   ]
  },
  {
   "cell_type": "code",
   "execution_count": 6,
   "id": "bba83413",
   "metadata": {},
   "outputs": [
    {
     "data": {
      "text/plain": [
       "{'TS1(1-methylpyrrole_rpos(2))': (<rdkit.Chem.rdchem.RWMol at 0x11e9fb420>,\n",
       "  [10, 11, 39, 40, 41, 44],\n",
       "  'CN1C=CC=C1'),\n",
       " 'TS1(1-methylpyrrole_rpos(3))': (<rdkit.Chem.rdchem.RWMol at 0x10ddd5ee0>,\n",
       "  [10, 11, 39, 40, 41, 45],\n",
       "  'CN1C=CC=C1')}"
      ]
     },
     "execution_count": 6,
     "metadata": {},
     "output_type": "execute_result"
    }
   ],
   "source": [
    "run_ts([\"CN1C=CC=C1\"], \"../structures/ts1_guess.xyz\")"
   ]
  },
  {
   "cell_type": "code",
   "execution_count": null,
   "id": "9c044194",
   "metadata": {},
   "outputs": [],
   "source": []
  }
 ],
 "metadata": {
  "kernelspec": {
   "display_name": "FrustActivation",
   "language": "python",
   "name": "python3"
  },
  "language_info": {
   "codemirror_mode": {
    "name": "ipython",
    "version": 3
   },
   "file_extension": ".py",
   "mimetype": "text/x-python",
   "name": "python",
   "nbconvert_exporter": "python",
   "pygments_lexer": "ipython3",
   "version": "3.12.8"
  }
 },
 "nbformat": 4,
 "nbformat_minor": 5
}
