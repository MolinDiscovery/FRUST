{
 "cells": [
  {
   "cell_type": "markdown",
   "id": "93f10020",
   "metadata": {},
   "source": [
    "In this notebook I intend to change how directories are handled. Currently FRUST can only save a calculation directory and all files from the calculation folder. Also a scratch folder is not used, which can bslow down calculations.\n",
    "\n",
    "Intend behavioral changes\n",
    "- [x] Save only needed files\n",
    "- [ ] Use scratch for calculation directory."
   ]
  },
  {
   "cell_type": "code",
   "execution_count": 1,
   "id": "c7d74dde",
   "metadata": {},
   "outputs": [],
   "source": [
    "%load_ext autoreload\n",
    "%autoreload 2"
   ]
  },
  {
   "cell_type": "code",
   "execution_count": 4,
   "id": "e1220ee0",
   "metadata": {},
   "outputs": [],
   "source": [
    "from tooltoad.chemutils import xyz2ac\n",
    "from tooltoad.orca import orca_calculate\n",
    "\n",
    "inp = \"\"\"3\n",
    "water\n",
    "O     -5.099200    3.059520    0.000003\n",
    "H     -4.747591    3.911975   -0.228455\n",
    "H     -5.982743    3.160594    0.334122\"\"\"\n",
    "\n",
    "atoms, coords = xyz2ac(inp)\n",
    "\n",
    "result = orca_calculate(atoms, coords, options={\"HF\": None, \"STO-3G\": None, \"Opt\": None, \"Freq\": None}, save_dir=\"noob\", save_files=[\"orca.out\", \"*.xyz\"], n_cores=1)"
   ]
  },
  {
   "cell_type": "code",
   "execution_count": 3,
   "id": "bb3a928b",
   "metadata": {},
   "outputs": [],
   "source": [
    "import pandas as pd\n",
    "from frust.transformers import transformer_mols\n",
    "from frust.embedder import embed_mols\n",
    "from rdkit import Chem\n",
    "\n",
    "smi = \"CN1C=CC=C1\"\n",
    "m = Chem.MolFromSmiles(smi)\n",
    "mol_dict = {\"mol\": m}\n",
    "mols_dict_embedded = embed_mols(mol_dict, n_confs=1)"
   ]
  },
  {
   "cell_type": "code",
   "execution_count": 4,
   "id": "9ef03c04",
   "metadata": {},
   "outputs": [
    {
     "name": "stdout",
     "output_type": "stream",
     "text": [
      "2025-07-14 10:44:27 WARNING frust.stepper: \n",
      "\n",
      "warning: No calculation type identified.\n",
      "warning: This is fine if you don't calculate a transition state.\n",
      "\n"
     ]
    },
    {
     "data": {
      "application/vnd.microsoft.datawrangler.viewer.v0+json": {
       "columns": [
        {
         "name": "index",
         "rawType": "int64",
         "type": "integer"
        },
        {
         "name": "custom_name",
         "rawType": "object",
         "type": "string"
        },
        {
         "name": "ligand_name",
         "rawType": "object",
         "type": "string"
        },
        {
         "name": "rpos",
         "rawType": "object",
         "type": "unknown"
        },
        {
         "name": "constraint_atoms",
         "rawType": "object",
         "type": "unknown"
        },
        {
         "name": "cid",
         "rawType": "int64",
         "type": "integer"
        },
        {
         "name": "smiles",
         "rawType": "object",
         "type": "unknown"
        },
        {
         "name": "atoms",
         "rawType": "object",
         "type": "unknown"
        },
        {
         "name": "coords_embedded",
         "rawType": "object",
         "type": "unknown"
        },
        {
         "name": "energy_uff",
         "rawType": "object",
         "type": "unknown"
        }
       ],
       "ref": "cc9fd3b3-3895-4977-ac44-4f41c3192755",
       "rows": [
        [
         "0",
         "mol",
         "mol",
         null,
         null,
         "0",
         null,
         "['C', 'N', 'C', 'C', 'C', 'C', 'H', 'H', 'H', 'H', 'H', 'H', 'H']",
         "[(-1.885251124434566, 0.12570471949082884, 0.03938446493457884), (-0.4269204025677762, 0.013442451353632838, 0.0046884209769003605), (0.426948266890766, 1.0453296600917883, -0.11362478973392767), (1.739506090810069, 0.5862077217076501, -0.11289321486764801), (1.6258285206957952, -0.797699565012209, 0.014148180555032568), (0.2696453208679635, -1.1334201631730425, 0.08571660554945983), (-2.225699683290705, 0.8049603549393272, 0.8721683922520105), (-2.3298833432423485, -0.8605130192922417, 0.25119161658634426), (-2.294833613875411, 0.5880819419224371, -0.8887728717017601), (0.13302566900276294, 2.097974709319585, -0.19858340797910817), (2.658993589522374, 1.163999098712189, -0.19267425141270644), (2.461817960379826, -1.4993479306790076, 0.05116024909084228), (-0.15317725075874578, -2.1347199793809515, 0.18809060574998704)]",
         null
        ]
       ],
       "shape": {
        "columns": 9,
        "rows": 1
       }
      },
      "text/html": [
       "<div>\n",
       "<style scoped>\n",
       "    .dataframe tbody tr th:only-of-type {\n",
       "        vertical-align: middle;\n",
       "    }\n",
       "\n",
       "    .dataframe tbody tr th {\n",
       "        vertical-align: top;\n",
       "    }\n",
       "\n",
       "    .dataframe thead th {\n",
       "        text-align: right;\n",
       "    }\n",
       "</style>\n",
       "<table border=\"1\" class=\"dataframe\">\n",
       "  <thead>\n",
       "    <tr style=\"text-align: right;\">\n",
       "      <th></th>\n",
       "      <th>custom_name</th>\n",
       "      <th>ligand_name</th>\n",
       "      <th>rpos</th>\n",
       "      <th>constraint_atoms</th>\n",
       "      <th>cid</th>\n",
       "      <th>smiles</th>\n",
       "      <th>atoms</th>\n",
       "      <th>coords_embedded</th>\n",
       "      <th>energy_uff</th>\n",
       "    </tr>\n",
       "  </thead>\n",
       "  <tbody>\n",
       "    <tr>\n",
       "      <th>0</th>\n",
       "      <td>mol</td>\n",
       "      <td>mol</td>\n",
       "      <td>&lt;NA&gt;</td>\n",
       "      <td>None</td>\n",
       "      <td>0</td>\n",
       "      <td>None</td>\n",
       "      <td>[C, N, C, C, C, C, H, H, H, H, H, H, H]</td>\n",
       "      <td>[(-1.885251124434566, 0.12570471949082884, 0.0...</td>\n",
       "      <td>None</td>\n",
       "    </tr>\n",
       "  </tbody>\n",
       "</table>\n",
       "</div>"
      ],
      "text/plain": [
       "  custom_name ligand_name  rpos constraint_atoms  cid smiles  \\\n",
       "0         mol         mol  <NA>             None    0   None   \n",
       "\n",
       "                                     atoms  \\\n",
       "0  [C, N, C, C, C, C, H, H, H, H, H, H, H]   \n",
       "\n",
       "                                     coords_embedded energy_uff  \n",
       "0  [(-1.885251124434566, 0.12570471949082884, 0.0...       None  "
      ]
     },
     "execution_count": 4,
     "metadata": {},
     "output_type": "execute_result"
    }
   ],
   "source": [
    "from frust.stepper import Stepper\n",
    "step = Stepper([smi], save_output_dir=False, n_cores=2, memory_gb=2, debug=False)\n",
    "df0 = step.build_initial_df(mols_dict_embedded)\n",
    "df0"
   ]
  },
  {
   "cell_type": "code",
   "execution_count": 5,
   "id": "cd67406d",
   "metadata": {},
   "outputs": [
    {
     "name": "stdout",
     "output_type": "stream",
     "text": [
      "2025-07-14 10:45:19 INFO  frust.stepper: [orca-HF-STO-3G] row 0 (mol)…\n"
     ]
    }
   ],
   "source": [
    "df1 = step.orca(df0, options={\"HF\": None, \"STO-3G\": None})"
   ]
  },
  {
   "cell_type": "code",
   "execution_count": 22,
   "id": "7cdbaaa2",
   "metadata": {},
   "outputs": [
    {
     "data": {
      "text/plain": [
       "SlurmJob<job_id=53002686, task_id=0, state=\"UNKNOWN\">"
      ]
     },
     "execution_count": 22,
     "metadata": {},
     "output_type": "execute_result"
    }
   ],
   "source": [
    "import submitit\n",
    "import os\n",
    "\n",
    "DEBUG           = False\n",
    "N_CORES         = 1\n",
    "MEM_GB          = 2\n",
    "TIMEOUT_MIN     = 14400\n",
    "\n",
    "\n",
    "def orcish_warrior():\n",
    "    try:\n",
    "        scratch = os.environ[\"SCRATCH\"]\n",
    "    except:\n",
    "        scratch = \".\"\n",
    "    os.makedirs(scratch, exist_ok=True)\n",
    "\n",
    "    print(f\"[DEBUG] Using scratch dir: {scratch}\")\n",
    "\n",
    "    res = orca_calculate(\n",
    "        atoms, coords,\n",
    "        options={\"HF\": None, \"STO-3G\": None},\n",
    "        scr=scratch,\n",
    "        n_cores=1,\n",
    "        save_dir=\"noob\",\n",
    "        save_files=[\"orca.out\"]\n",
    "    )\n",
    "    return res\n",
    "\n",
    "\n",
    "executor = submitit.AutoExecutor(\"logs/test\", cluster=\"slurm\")\n",
    "executor.update_parameters(\n",
    "    slurm_partition=\"kemi1\",\n",
    "    cpus_per_task=N_CORES,\n",
    "    mem_gb=MEM_GB,\n",
    "    timeout_min=TIMEOUT_MIN,\n",
    ")\n",
    "\n",
    "executor.update_parameters(slurm_job_name=\"test_job\")\n",
    "executor.submit(orcish_warrior)"
   ]
  }
 ],
 "metadata": {
  "kernelspec": {
   "display_name": "FrustActivation",
   "language": "python",
   "name": "python3"
  },
  "language_info": {
   "codemirror_mode": {
    "name": "ipython",
    "version": 3
   },
   "file_extension": ".py",
   "mimetype": "text/x-python",
   "name": "python",
   "nbconvert_exporter": "python",
   "pygments_lexer": "ipython3",
   "version": "3.12.8"
  }
 },
 "nbformat": 4,
 "nbformat_minor": 5
}
