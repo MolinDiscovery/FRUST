{
 "cells": [
  {
   "cell_type": "code",
   "execution_count": 170,
   "id": "6304b7b1",
   "metadata": {},
   "outputs": [],
   "source": [
    "# helper imports\n",
    "from tooltoad.vis import MolTo3DGrid\n",
    "\n",
    "from copy import copy\n",
    "from rdkit import Chem\n",
    "from rdkit.Chem import rdDetermineBonds, rdMolAlign, rdmolops\n",
    "from rdkit.Chem.AllChem import ETKDGv3, EmbedMolecule, UFFGetMoleculeForceField, EmbedMultipleConfs\n",
    "from rdkit.Chem.rdchem import RWMol\n",
    "\n",
    "from frust.transformer_utils import rotated_maps\n",
    "from frust.utils import get_molecule_name\n",
    "\n",
    "# ligand_smiles=\"CC([Si](N1C=CC=C1)(C(C)C)C(C)C)C\"\n",
    "ligand_smiles=\"CCN(CC)C(=O)c1cc2ccccc2[nH]1\"\n",
    "ts_guess_struct=\"../structures/ts1_guess.xyz\"\n",
    "bonds_to_remove=[(10, 41), (10, 12), (11, 41)]\n",
    "pre_name=\"TS\"\n",
    "n_confs=10\n",
    "n_cores=10\n",
    "embed_ready=True"
   ]
  },
  {
   "cell_type": "code",
   "execution_count": 171,
   "id": "9ca4ab36",
   "metadata": {},
   "outputs": [
    {
     "data": {
      "application/3dmoljs_load.v0": "<div id=\"3dmolviewer_1748867267399168\"  style=\"position: relative; width: 300px; height: 300px;\">\n        <p id=\"3dmolwarning_1748867267399168\" style=\"background-color:#ffcccc;color:black\">3Dmol.js failed to load for some reason.  Please check your browser console for error messages.<br></p>\n        </div>\n<script>\n\nvar loadScriptAsync = function(uri){\n  return new Promise((resolve, reject) => {\n    //this is to ignore the existence of requirejs amd\n    var savedexports, savedmodule;\n    if (typeof exports !== 'undefined') savedexports = exports;\n    else exports = {}\n    if (typeof module !== 'undefined') savedmodule = module;\n    else module = {}\n\n    var tag = document.createElement('script');\n    tag.src = uri;\n    tag.async = true;\n    tag.onload = () => {\n        exports = savedexports;\n        module = savedmodule;\n        resolve();\n    };\n  var firstScriptTag = document.getElementsByTagName('script')[0];\n  firstScriptTag.parentNode.insertBefore(tag, firstScriptTag);\n});\n};\n\nif(typeof $3Dmolpromise === 'undefined') {\n$3Dmolpromise = null;\n  $3Dmolpromise = loadScriptAsync('https://cdnjs.cloudflare.com/ajax/libs/3Dmol/2.4.2/3Dmol-min.js');\n}\n\nvar viewer_1748867267399168 = null;\nvar warn = document.getElementById(\"3dmolwarning_1748867267399168\");\nif(warn) {\n    warn.parentNode.removeChild(warn);\n}\n$3Dmolpromise.then(function() {\nvar viewergrid_1748867267399168 = null;\nviewergrid_1748867267399168 = $3Dmol.createViewerGrid(document.getElementById(\"3dmolviewer_1748867267399168\"),{rows: 1, cols: 1, control_all: false},{backgroundColor:\"white\"});\nviewer_1748867267399168 = viewergrid_1748867267399168[0][0];\nviewergrid_1748867267399168[0][0].zoomTo();\tviewergrid_1748867267399168[0][0].setBackgroundColor(\"white\");\n\tviewergrid_1748867267399168[0][0].addModel(\"\\n     RDKit          3D\\n\\n 54 54  0  0  0  0  0  0  0  0999 V2000\\n   -1.3183   -2.0551    0.5371 C   0  0  0  0  0  3  0  0  0  0  0  0\\n   -0.0237   -1.6733    0.9470 C   0  0  0  0  0  3  0  0  0  0  0  0\\n    1.0005   -2.6127    0.7278 C   0  0  0  0  0  3  0  0  0  0  0  0\\n    0.7788   -3.8598    0.1562 C   0  0  0  0  0  3  0  0  0  0  0  0\\n   -0.5127   -4.2153   -0.2270 C   0  0  0  0  0  3  0  0  0  0  0  0\\n   -1.5515   -3.3125   -0.0349 C   0  0  0  0  0  3  0  0  0  0  0  0\\n    2.0115   -2.3420    1.0245 H   0  0  0  0  0  0  0  0  0  0  0  0\\n    1.6040   -4.5518    0.0112 H   0  0  0  0  0  0  0  0  0  0  0  0\\n   -0.7138   -5.1851   -0.6727 H   0  0  0  0  0  0  0  0  0  0  0  0\\n   -2.5511   -3.6026   -0.3285 H   0  0  0  0  0  0  0  0  0  0  0  0\\n   -1.5586    0.1036    1.0479 H   0  0  0  0  0 15  0  0  0  0  0  0\\n    0.3733   -0.2915    1.7000 B   0  0  0  0  0  0  0  0  0  0  0  0\\n   -2.4161   -1.1014    0.7304 N   0  0  0  0  0  0  0  0  0  0  0  0\\n   -3.2676   -1.3837    1.9702 C   0  0  0  0  0  0  0  0  0  0  0  0\\n   -3.1690   -0.6889   -0.5281 C   0  0  0  0  0  0  0  0  0  0  0  0\\n   -4.2108   -0.1888    2.2082 C   0  0  0  0  0  0  0  0  0  0  0  0\\n   -2.3508   -1.5121    3.1920 C   0  0  0  0  0  0  0  0  0  0  0  0\\n   -4.0987   -2.6822    1.9192 C   0  0  0  0  0  0  0  0  0  0  0  0\\n   -4.0333    0.5280   -0.1512 C   0  0  0  0  0  0  0  0  0  0  0  0\\n   -4.0467   -1.7694   -1.2003 C   0  0  0  0  0  0  0  0  0  0  0  0\\n   -2.1745   -0.2340   -1.6004 C   0  0  0  0  0  0  0  0  0  0  0  0\\n   -4.8796   -0.4557    3.0339 H   0  0  0  0  0  0  0  0  0  0  0  0\\n   -3.6195    0.6691    2.5441 H   0  0  0  0  0  0  0  0  0  0  0  0\\n   -5.0062    0.2314    0.9795 C   0  0  0  0  0  0  0  0  0  0  0  0\\n   -1.7116   -2.3970    3.1354 H   0  0  0  0  0  0  0  0  0  0  0  0\\n   -1.7060   -0.6458    3.3239 H   0  0  0  0  0  0  0  0  0  0  0  0\\n   -2.9768   -1.6052    4.0850 H   0  0  0  0  0  0  0  0  0  0  0  0\\n   -3.5028   -3.5427    1.6102 H   0  0  0  0  0  0  0  0  0  0  0  0\\n   -4.4571   -2.8891    2.9324 H   0  0  0  0  0  0  0  0  0  0  0  0\\n   -4.9825   -2.6152    1.2847 H   0  0  0  0  0  0  0  0  0  0  0  0\\n   -4.5608    0.8642   -1.0504 H   0  0  0  0  0  0  0  0  0  0  0  0\\n   -3.3686    1.3469    0.1549 H   0  0  0  0  0  0  0  0  0  0  0  0\\n   -4.7298   -1.2654   -1.8922 H   0  0  0  0  0  0  0  0  0  0  0  0\\n   -3.4432   -2.4555   -1.7983 H   0  0  0  0  0  0  0  0  0  0  0  0\\n   -4.6540   -2.3565   -0.5169 H   0  0  0  0  0  0  0  0  0  0  0  0\\n   -1.6997    0.7047   -1.3247 H   0  0  0  0  0  0  0  0  0  0  0  0\\n   -1.4078   -0.9869   -1.7993 H   0  0  0  0  0  0  0  0  0  0  0  0\\n   -2.7209   -0.0631   -2.5331 H   0  0  0  0  0  0  0  0  0  0  0  0\\n   -5.5990    1.1227    1.2111 H   0  0  0  0  0  0  0  0  0  0  0  0\\n   -5.7166   -0.5489    0.6807 H   0  0  0  0  0  0  0  0  0  0  0  0\\n    1.5002    0.0546    1.3787 H   0  0  0  0  0  0  0  0  0  0  0  0\\n   -0.6594    0.9864    1.3282 C   0  0  0  0  0  2  0  0  0  0  0  0\\n   -1.2743    1.8912    2.2303 C   0  0  0  0  0  3  0  0  0  0  0  0\\n   -1.3233    3.1657    1.6726 C   0  0  0  0  0  3  0  0  0  0  0  0\\n   -1.6744    1.6015    3.1930 H   0  0  0  0  0  0  0  0  0  0  0  0\\n   -1.7540    4.0617    2.0967 H   0  0  0  0  0  0  0  0  0  0  0  0\\n    0.3340   -0.4476    2.9072 H   0  0  0  0  0  0  0  0  0  0  0  0\\n   -0.6952    3.0671    0.4300 C   0  0  0  0  0  3  0  0  0  0  0  0\\n   -0.4906    3.8367   -0.3034 H   0  0  0  0  0  0  0  0  0  0  0  0\\n   -0.3104    1.8012    0.2230 N   0  0  0  0  0  0  0  0  0  0  0  0\\n    0.6042    1.4030   -0.8345 C   0  0  0  0  0  0  0  0  0  0  0  0\\n    0.3596    1.9404   -1.7536 H   0  0  0  0  0  0  0  0  0  0  0  0\\n    1.6332    1.6258   -0.5397 H   0  0  0  0  0  0  0  0  0  0  0  0\\n    0.5241    0.3313   -1.0069 H   0  0  0  0  0  0  0  0  0  0  0  0\\n  1  2  1  0\\n  1  6  1  0\\n  1 13  1  0\\n  2  3  1  0\\n  2 12  1  0\\n  3  4  1  0\\n  3  7  1  0\\n  4  5  1  0\\n  4  8  1  0\\n  5  6  1  0\\n  5  9  1  0\\n  6 10  1  0\\n 12 41  1  0\\n 12 47  1  0\\n 13 14  1  0\\n 13 15  1  0\\n 14 16  1  0\\n 14 17  1  0\\n 14 18  1  0\\n 15 19  1  0\\n 15 20  1  0\\n 15 21  1  0\\n 16 22  1  0\\n 16 23  1  0\\n 16 24  1  0\\n 17 25  1  0\\n 17 26  1  0\\n 17 27  1  0\\n 18 28  1  0\\n 18 29  1  0\\n 18 30  1  0\\n 19 24  1  0\\n 19 31  1  0\\n 19 32  1  0\\n 20 33  1  0\\n 20 34  1  0\\n 20 35  1  0\\n 21 36  1  0\\n 21 37  1  0\\n 21 38  1  0\\n 24 39  1  0\\n 24 40  1  0\\n 42 43  1  0\\n 42 50  1  0\\n 43 44  1  0\\n 43 45  1  0\\n 44 46  1  0\\n 44 48  1  0\\n 48 49  1  0\\n 48 50  1  0\\n 50 51  1  0\\n 51 52  1  0\\n 51 53  1  0\\n 51 54  1  0\\nM  END\\n\",\"mol\");\n\tviewergrid_1748867267399168[0][0].setStyle({},{\"stick\": {}, \"sphere\": {\"radius\": 0.3}});\n\tviewergrid_1748867267399168[0][0].zoomTo();\n\tviewergrid_1748867267399168[0][0].addLabel(\"Mol 1\",{\"fontColor\": \"black\", \"backgroundColor\": \"white\", \"borderColor\": \"black\", \"borderWidth\": 1, \"useScreen\": true, \"inFront\": true, \"screenOffset\": {\"x\": 10, \"y\": 0}});\n\tviewergrid_1748867267399168[0][0].setClickable({},true,\"function(atom, viewer, event, container) {\\n                    if(!viewer._picks)       viewer._picks = [];\\n                    if(!viewer._distLabels)  viewer._distLabels = {};\\n                    if(!viewer._anglePicks)  viewer._anglePicks = [];\\n                    if(!viewer._angleLabels) viewer._angleLabels = {};\\n\\n                    // Shift-click: angle\\n                    if(event.shiftKey) {\\n                        viewer._anglePicks.push(atom);\\n                        if(viewer._anglePicks.length === 3) {\\n                            var A = viewer._anglePicks[0], B = viewer._anglePicks[1], C = viewer._anglePicks[2];\\n                            var key = [A.index,B.index,C.index].join('-');\\n                            if(key in viewer._angleLabels) {\\n                                viewer.removeLabel(viewer._angleLabels[key]);\\n                                delete viewer._angleLabels[key];\\n                            } else {\\n                                function vec(u,v){return{x:u.x-v.x,y:u.y-v.y,z:u.z-v.z}};\\n                                var vBA=vec(A,B), vBC=vec(C,B);\\n                                var dot=vBA.x*vBC.x+vBA.y*vBC.y+vBA.z*vBC.z;\\n                                var magBA=Math.sqrt(vBA.x*vBA.x+vBA.y*vBA.y+vBA.z*vBA.z);\\n                                var magBC=Math.sqrt(vBC.x*vBC.x+vBC.y*vBC.y+vBC.z*vBC.z);\\n                                var angle=(Math.acos(dot/(magBA*magBC))*(180/Math.PI)).toFixed(2)+'\\u00b0';\\n                                var lbl = viewer.addLabel(angle,\\n                                    {position:{x:B.x,y:B.y,z:B.z}, backgroundColor:'blue', fontColor:'white', fontSize:12});\\n                                viewer._angleLabels[key] = lbl;\\n                            }\\n                            viewer._anglePicks = [];\\n                        }\\n                    }\\n                    // Ctrl-click: distance\\n                    else if(event.ctrlKey) {\\n                        viewer._picks.push(atom);\\n                        if(viewer._picks.length === 2) {\\n                            var a=viewer._picks[0], b=viewer._picks[1];\\n                            var key=[Math.min(a.index,b.index),Math.max(a.index,b.index)].join('-');\\n                            if(key in viewer._distLabels) {\\n                                viewer.removeLabel(viewer._distLabels[key]); delete viewer._distLabels[key];\\n                            } else {\\n                                var dx=a.x-b.x, dy=a.y-b.y, dz=a.z-b.z;\\n                                var dist=Math.sqrt(dx*dx+dy*dy+dz*dz).toFixed(3)+' \\u00c5';\\n                                var mid={x:(a.x+b.x)/2,y:(a.y+b.y)/2,z:(a.z+b.z)/2};\\n                                var lbl=viewer.addLabel(dist,{position:mid,backgroundColor:'grey',fontColor:'white',fontSize:12});\\n                                viewer._distLabels[key]=lbl;\\n                            }\\n                            viewer._picks = [];\\n                        }\\n                    }\\n                    // Click: toggle label\\n                    else {\\n                        if(atom.label) {viewer.removeLabel(atom.label); delete atom.label;} \\n                        else {atom.label = viewer.addLabel(atom.index,{position:atom, backgroundColor:'white', fontColor:'black', fontSize:12});}\\n                    }\\n                    viewer.render();\\n                }\");\nviewergrid_1748867267399168[0][0].render();\n});\n</script>",
      "text/html": [
       "<div id=\"3dmolviewer_1748867267399168\"  style=\"position: relative; width: 300px; height: 300px;\">\n",
       "        <p id=\"3dmolwarning_1748867267399168\" style=\"background-color:#ffcccc;color:black\">3Dmol.js failed to load for some reason.  Please check your browser console for error messages.<br></p>\n",
       "        </div>\n",
       "<script>\n",
       "\n",
       "var loadScriptAsync = function(uri){\n",
       "  return new Promise((resolve, reject) => {\n",
       "    //this is to ignore the existence of requirejs amd\n",
       "    var savedexports, savedmodule;\n",
       "    if (typeof exports !== 'undefined') savedexports = exports;\n",
       "    else exports = {}\n",
       "    if (typeof module !== 'undefined') savedmodule = module;\n",
       "    else module = {}\n",
       "\n",
       "    var tag = document.createElement('script');\n",
       "    tag.src = uri;\n",
       "    tag.async = true;\n",
       "    tag.onload = () => {\n",
       "        exports = savedexports;\n",
       "        module = savedmodule;\n",
       "        resolve();\n",
       "    };\n",
       "  var firstScriptTag = document.getElementsByTagName('script')[0];\n",
       "  firstScriptTag.parentNode.insertBefore(tag, firstScriptTag);\n",
       "});\n",
       "};\n",
       "\n",
       "if(typeof $3Dmolpromise === 'undefined') {\n",
       "$3Dmolpromise = null;\n",
       "  $3Dmolpromise = loadScriptAsync('https://cdnjs.cloudflare.com/ajax/libs/3Dmol/2.4.2/3Dmol-min.js');\n",
       "}\n",
       "\n",
       "var viewer_1748867267399168 = null;\n",
       "var warn = document.getElementById(\"3dmolwarning_1748867267399168\");\n",
       "if(warn) {\n",
       "    warn.parentNode.removeChild(warn);\n",
       "}\n",
       "$3Dmolpromise.then(function() {\n",
       "var viewergrid_1748867267399168 = null;\n",
       "viewergrid_1748867267399168 = $3Dmol.createViewerGrid(document.getElementById(\"3dmolviewer_1748867267399168\"),{rows: 1, cols: 1, control_all: false},{backgroundColor:\"white\"});\n",
       "viewer_1748867267399168 = viewergrid_1748867267399168[0][0];\n",
       "viewergrid_1748867267399168[0][0].zoomTo();\tviewergrid_1748867267399168[0][0].setBackgroundColor(\"white\");\n",
       "\tviewergrid_1748867267399168[0][0].addModel(\"\\n     RDKit          3D\\n\\n 54 54  0  0  0  0  0  0  0  0999 V2000\\n   -1.3183   -2.0551    0.5371 C   0  0  0  0  0  3  0  0  0  0  0  0\\n   -0.0237   -1.6733    0.9470 C   0  0  0  0  0  3  0  0  0  0  0  0\\n    1.0005   -2.6127    0.7278 C   0  0  0  0  0  3  0  0  0  0  0  0\\n    0.7788   -3.8598    0.1562 C   0  0  0  0  0  3  0  0  0  0  0  0\\n   -0.5127   -4.2153   -0.2270 C   0  0  0  0  0  3  0  0  0  0  0  0\\n   -1.5515   -3.3125   -0.0349 C   0  0  0  0  0  3  0  0  0  0  0  0\\n    2.0115   -2.3420    1.0245 H   0  0  0  0  0  0  0  0  0  0  0  0\\n    1.6040   -4.5518    0.0112 H   0  0  0  0  0  0  0  0  0  0  0  0\\n   -0.7138   -5.1851   -0.6727 H   0  0  0  0  0  0  0  0  0  0  0  0\\n   -2.5511   -3.6026   -0.3285 H   0  0  0  0  0  0  0  0  0  0  0  0\\n   -1.5586    0.1036    1.0479 H   0  0  0  0  0 15  0  0  0  0  0  0\\n    0.3733   -0.2915    1.7000 B   0  0  0  0  0  0  0  0  0  0  0  0\\n   -2.4161   -1.1014    0.7304 N   0  0  0  0  0  0  0  0  0  0  0  0\\n   -3.2676   -1.3837    1.9702 C   0  0  0  0  0  0  0  0  0  0  0  0\\n   -3.1690   -0.6889   -0.5281 C   0  0  0  0  0  0  0  0  0  0  0  0\\n   -4.2108   -0.1888    2.2082 C   0  0  0  0  0  0  0  0  0  0  0  0\\n   -2.3508   -1.5121    3.1920 C   0  0  0  0  0  0  0  0  0  0  0  0\\n   -4.0987   -2.6822    1.9192 C   0  0  0  0  0  0  0  0  0  0  0  0\\n   -4.0333    0.5280   -0.1512 C   0  0  0  0  0  0  0  0  0  0  0  0\\n   -4.0467   -1.7694   -1.2003 C   0  0  0  0  0  0  0  0  0  0  0  0\\n   -2.1745   -0.2340   -1.6004 C   0  0  0  0  0  0  0  0  0  0  0  0\\n   -4.8796   -0.4557    3.0339 H   0  0  0  0  0  0  0  0  0  0  0  0\\n   -3.6195    0.6691    2.5441 H   0  0  0  0  0  0  0  0  0  0  0  0\\n   -5.0062    0.2314    0.9795 C   0  0  0  0  0  0  0  0  0  0  0  0\\n   -1.7116   -2.3970    3.1354 H   0  0  0  0  0  0  0  0  0  0  0  0\\n   -1.7060   -0.6458    3.3239 H   0  0  0  0  0  0  0  0  0  0  0  0\\n   -2.9768   -1.6052    4.0850 H   0  0  0  0  0  0  0  0  0  0  0  0\\n   -3.5028   -3.5427    1.6102 H   0  0  0  0  0  0  0  0  0  0  0  0\\n   -4.4571   -2.8891    2.9324 H   0  0  0  0  0  0  0  0  0  0  0  0\\n   -4.9825   -2.6152    1.2847 H   0  0  0  0  0  0  0  0  0  0  0  0\\n   -4.5608    0.8642   -1.0504 H   0  0  0  0  0  0  0  0  0  0  0  0\\n   -3.3686    1.3469    0.1549 H   0  0  0  0  0  0  0  0  0  0  0  0\\n   -4.7298   -1.2654   -1.8922 H   0  0  0  0  0  0  0  0  0  0  0  0\\n   -3.4432   -2.4555   -1.7983 H   0  0  0  0  0  0  0  0  0  0  0  0\\n   -4.6540   -2.3565   -0.5169 H   0  0  0  0  0  0  0  0  0  0  0  0\\n   -1.6997    0.7047   -1.3247 H   0  0  0  0  0  0  0  0  0  0  0  0\\n   -1.4078   -0.9869   -1.7993 H   0  0  0  0  0  0  0  0  0  0  0  0\\n   -2.7209   -0.0631   -2.5331 H   0  0  0  0  0  0  0  0  0  0  0  0\\n   -5.5990    1.1227    1.2111 H   0  0  0  0  0  0  0  0  0  0  0  0\\n   -5.7166   -0.5489    0.6807 H   0  0  0  0  0  0  0  0  0  0  0  0\\n    1.5002    0.0546    1.3787 H   0  0  0  0  0  0  0  0  0  0  0  0\\n   -0.6594    0.9864    1.3282 C   0  0  0  0  0  2  0  0  0  0  0  0\\n   -1.2743    1.8912    2.2303 C   0  0  0  0  0  3  0  0  0  0  0  0\\n   -1.3233    3.1657    1.6726 C   0  0  0  0  0  3  0  0  0  0  0  0\\n   -1.6744    1.6015    3.1930 H   0  0  0  0  0  0  0  0  0  0  0  0\\n   -1.7540    4.0617    2.0967 H   0  0  0  0  0  0  0  0  0  0  0  0\\n    0.3340   -0.4476    2.9072 H   0  0  0  0  0  0  0  0  0  0  0  0\\n   -0.6952    3.0671    0.4300 C   0  0  0  0  0  3  0  0  0  0  0  0\\n   -0.4906    3.8367   -0.3034 H   0  0  0  0  0  0  0  0  0  0  0  0\\n   -0.3104    1.8012    0.2230 N   0  0  0  0  0  0  0  0  0  0  0  0\\n    0.6042    1.4030   -0.8345 C   0  0  0  0  0  0  0  0  0  0  0  0\\n    0.3596    1.9404   -1.7536 H   0  0  0  0  0  0  0  0  0  0  0  0\\n    1.6332    1.6258   -0.5397 H   0  0  0  0  0  0  0  0  0  0  0  0\\n    0.5241    0.3313   -1.0069 H   0  0  0  0  0  0  0  0  0  0  0  0\\n  1  2  1  0\\n  1  6  1  0\\n  1 13  1  0\\n  2  3  1  0\\n  2 12  1  0\\n  3  4  1  0\\n  3  7  1  0\\n  4  5  1  0\\n  4  8  1  0\\n  5  6  1  0\\n  5  9  1  0\\n  6 10  1  0\\n 12 41  1  0\\n 12 47  1  0\\n 13 14  1  0\\n 13 15  1  0\\n 14 16  1  0\\n 14 17  1  0\\n 14 18  1  0\\n 15 19  1  0\\n 15 20  1  0\\n 15 21  1  0\\n 16 22  1  0\\n 16 23  1  0\\n 16 24  1  0\\n 17 25  1  0\\n 17 26  1  0\\n 17 27  1  0\\n 18 28  1  0\\n 18 29  1  0\\n 18 30  1  0\\n 19 24  1  0\\n 19 31  1  0\\n 19 32  1  0\\n 20 33  1  0\\n 20 34  1  0\\n 20 35  1  0\\n 21 36  1  0\\n 21 37  1  0\\n 21 38  1  0\\n 24 39  1  0\\n 24 40  1  0\\n 42 43  1  0\\n 42 50  1  0\\n 43 44  1  0\\n 43 45  1  0\\n 44 46  1  0\\n 44 48  1  0\\n 48 49  1  0\\n 48 50  1  0\\n 50 51  1  0\\n 51 52  1  0\\n 51 53  1  0\\n 51 54  1  0\\nM  END\\n\",\"mol\");\n",
       "\tviewergrid_1748867267399168[0][0].setStyle({},{\"stick\": {}, \"sphere\": {\"radius\": 0.3}});\n",
       "\tviewergrid_1748867267399168[0][0].zoomTo();\n",
       "\tviewergrid_1748867267399168[0][0].addLabel(\"Mol 1\",{\"fontColor\": \"black\", \"backgroundColor\": \"white\", \"borderColor\": \"black\", \"borderWidth\": 1, \"useScreen\": true, \"inFront\": true, \"screenOffset\": {\"x\": 10, \"y\": 0}});\n",
       "\tviewergrid_1748867267399168[0][0].setClickable({},true,\"function(atom, viewer, event, container) {\\n                    if(!viewer._picks)       viewer._picks = [];\\n                    if(!viewer._distLabels)  viewer._distLabels = {};\\n                    if(!viewer._anglePicks)  viewer._anglePicks = [];\\n                    if(!viewer._angleLabels) viewer._angleLabels = {};\\n\\n                    // Shift-click: angle\\n                    if(event.shiftKey) {\\n                        viewer._anglePicks.push(atom);\\n                        if(viewer._anglePicks.length === 3) {\\n                            var A = viewer._anglePicks[0], B = viewer._anglePicks[1], C = viewer._anglePicks[2];\\n                            var key = [A.index,B.index,C.index].join('-');\\n                            if(key in viewer._angleLabels) {\\n                                viewer.removeLabel(viewer._angleLabels[key]);\\n                                delete viewer._angleLabels[key];\\n                            } else {\\n                                function vec(u,v){return{x:u.x-v.x,y:u.y-v.y,z:u.z-v.z}};\\n                                var vBA=vec(A,B), vBC=vec(C,B);\\n                                var dot=vBA.x*vBC.x+vBA.y*vBC.y+vBA.z*vBC.z;\\n                                var magBA=Math.sqrt(vBA.x*vBA.x+vBA.y*vBA.y+vBA.z*vBA.z);\\n                                var magBC=Math.sqrt(vBC.x*vBC.x+vBC.y*vBC.y+vBC.z*vBC.z);\\n                                var angle=(Math.acos(dot/(magBA*magBC))*(180/Math.PI)).toFixed(2)+'\\u00b0';\\n                                var lbl = viewer.addLabel(angle,\\n                                    {position:{x:B.x,y:B.y,z:B.z}, backgroundColor:'blue', fontColor:'white', fontSize:12});\\n                                viewer._angleLabels[key] = lbl;\\n                            }\\n                            viewer._anglePicks = [];\\n                        }\\n                    }\\n                    // Ctrl-click: distance\\n                    else if(event.ctrlKey) {\\n                        viewer._picks.push(atom);\\n                        if(viewer._picks.length === 2) {\\n                            var a=viewer._picks[0], b=viewer._picks[1];\\n                            var key=[Math.min(a.index,b.index),Math.max(a.index,b.index)].join('-');\\n                            if(key in viewer._distLabels) {\\n                                viewer.removeLabel(viewer._distLabels[key]); delete viewer._distLabels[key];\\n                            } else {\\n                                var dx=a.x-b.x, dy=a.y-b.y, dz=a.z-b.z;\\n                                var dist=Math.sqrt(dx*dx+dy*dy+dz*dz).toFixed(3)+' \\u00c5';\\n                                var mid={x:(a.x+b.x)/2,y:(a.y+b.y)/2,z:(a.z+b.z)/2};\\n                                var lbl=viewer.addLabel(dist,{position:mid,backgroundColor:'grey',fontColor:'white',fontSize:12});\\n                                viewer._distLabels[key]=lbl;\\n                            }\\n                            viewer._picks = [];\\n                        }\\n                    }\\n                    // Click: toggle label\\n                    else {\\n                        if(atom.label) {viewer.removeLabel(atom.label); delete atom.label;} \\n                        else {atom.label = viewer.addLabel(atom.index,{position:atom, backgroundColor:'white', fontColor:'black', fontSize:12});}\\n                    }\\n                    viewer.render();\\n                }\");\n",
       "viewergrid_1748867267399168[0][0].render();\n",
       "});\n",
       "</script>"
      ]
     },
     "metadata": {},
     "output_type": "display_data"
    }
   ],
   "source": [
    "# --- Read TS Guess Structure --- #\n",
    "try:\n",
    "    with open(ts_guess_struct, 'r') as file:\n",
    "        xyz_block = file.read()\n",
    "except FileNotFoundError:\n",
    "    print(f\"Error: Transition state structure file not found: {ts_guess_struct}\")\n",
    "    raise\n",
    "except PermissionError:\n",
    "    print(f\"Error: Permission denied when accessing file: {ts_guess_struct}\")\n",
    "    raise\n",
    "except IOError as e:\n",
    "    print(f\"Error: Failed to read transition state structure file {ts_guess_struct}: {e}\")\n",
    "    raise\n",
    "except Exception as e:\n",
    "    print(f\"Unexpected error loading transition state structure from {ts_guess_struct}: {e}\")\n",
    "    raise\n",
    "\n",
    "# --- Determine Connectivity --- #\n",
    "ts = Chem.MolFromXYZBlock(xyz_block)\n",
    "rdDetermineBonds.DetermineConnectivity(ts, useVdw=True)\n",
    "ts_rw = RWMol(ts)\n",
    "\n",
    "# --- Remove Bonds --- #\n",
    "bonds_to_remove = bonds_to_remove # Finding these bonds might need to be automated.\n",
    "for bond in bonds_to_remove:\n",
    "    ts_rw.RemoveBond(bond[0], bond[1])\n",
    "ts_rw_origin = copy(ts_rw)\n",
    "\n",
    "# --- Find ligand in guess ts structure --- #\n",
    "ts_ligand_pattern = Chem.MolFromSmarts(\"N1CCCC1\")\n",
    "old_ring_match    = ts_rw.GetSubstructMatch(ts_ligand_pattern)  # e.g. (5,6,7,8,9)\n",
    "\n",
    "# --- Find unique positions and check that they are valid cH --- #\n",
    "lig_mol = Chem.MolFromSmiles(ligand_smiles)\n",
    "lig_mol = Chem.AddHs(lig_mol)\n",
    "\n",
    "cH_patt = Chem.MolFromSmarts('[cH]')\n",
    "matches = lig_mol.GetSubstructMatches(cH_patt)\n",
    "cH_atoms = [ind[0] for ind in matches]\n",
    "\n",
    "atom_rank = list(Chem.CanonicalRankAtoms(lig_mol,breakTies=False))\n",
    "\n",
    "def find_unique_atoms(lst):\n",
    "    seen = set()\n",
    "    result = []\n",
    "    for i, x in enumerate(lst):\n",
    "        if x not in seen:\n",
    "            result.append(i)\n",
    "            seen.add(x)\n",
    "    return result\n",
    "\n",
    "unique_atoms = find_unique_atoms(atom_rank)\n",
    "unique_cH = set(unique_atoms).intersection(set(cH_atoms))\n",
    "unique_cH = tuple(unique_cH)\n",
    "\n",
    "MolTo3DGrid(ts_rw)"
   ]
  },
  {
   "cell_type": "code",
   "execution_count": 172,
   "id": "22ef460c",
   "metadata": {},
   "outputs": [],
   "source": [
    "# --- Read indices of the old ligand and new ligand, to get them ready for alignment --- #\n",
    "ligand_pattern = Chem.MolFromSmarts(\"[n,o,s]1cccc1\")\n",
    "params = ETKDGv3()\n",
    "params.randomSeed = 0xF00D\n",
    "EmbedMolecule(lig_mol, params)\n",
    "lig_match = lig_mol.GetSubstructMatch(ligand_pattern)\n",
    "\n",
    "# --- Create aligned maps --- #\n",
    "# maps = rotated_maps(lig_match, old_ring_match, 41, unique_cH)"
   ]
  },
  {
   "cell_type": "code",
   "execution_count": 173,
   "id": "80fb426a",
   "metadata": {},
   "outputs": [],
   "source": [
    "# print(maps[0])\n",
    "# print(maps[1])"
   ]
  },
  {
   "cell_type": "code",
   "execution_count": 174,
   "id": "8ee4f52d",
   "metadata": {},
   "outputs": [
    {
     "data": {
      "application/3dmoljs_load.v0": "<div id=\"3dmolviewer_174886726743396\"  style=\"position: relative; width: 300px; height: 300px;\">\n        <p id=\"3dmolwarning_174886726743396\" style=\"background-color:#ffcccc;color:black\">3Dmol.js failed to load for some reason.  Please check your browser console for error messages.<br></p>\n        </div>\n<script>\n\nvar loadScriptAsync = function(uri){\n  return new Promise((resolve, reject) => {\n    //this is to ignore the existence of requirejs amd\n    var savedexports, savedmodule;\n    if (typeof exports !== 'undefined') savedexports = exports;\n    else exports = {}\n    if (typeof module !== 'undefined') savedmodule = module;\n    else module = {}\n\n    var tag = document.createElement('script');\n    tag.src = uri;\n    tag.async = true;\n    tag.onload = () => {\n        exports = savedexports;\n        module = savedmodule;\n        resolve();\n    };\n  var firstScriptTag = document.getElementsByTagName('script')[0];\n  firstScriptTag.parentNode.insertBefore(tag, firstScriptTag);\n});\n};\n\nif(typeof $3Dmolpromise === 'undefined') {\n$3Dmolpromise = null;\n  $3Dmolpromise = loadScriptAsync('https://cdnjs.cloudflare.com/ajax/libs/3Dmol/2.4.2/3Dmol-min.js');\n}\n\nvar viewer_174886726743396 = null;\nvar warn = document.getElementById(\"3dmolwarning_174886726743396\");\nif(warn) {\n    warn.parentNode.removeChild(warn);\n}\n$3Dmolpromise.then(function() {\nvar viewergrid_174886726743396 = null;\nviewergrid_174886726743396 = $3Dmol.createViewerGrid(document.getElementById(\"3dmolviewer_174886726743396\"),{rows: 1, cols: 1, control_all: false},{backgroundColor:\"white\"});\nviewer_174886726743396 = viewergrid_174886726743396[0][0];\nviewergrid_174886726743396[0][0].zoomTo();\tviewergrid_174886726743396[0][0].setBackgroundColor(\"white\");\n\tviewergrid_174886726743396[0][0].addModel(\"\\n     RDKit          3D\\n\\n 32 33  0  0  0  0  0  0  0  0999 V2000\\n   -2.2487    1.7483    0.0385 C   0  0  0  0  0  0  0  0  0  0  0  0\\n   -1.9532    0.4590    0.7232 C   0  0  0  0  0  0  0  0  0  0  0  0\\n   -1.9661   -0.6805   -0.1921 N   0  0  0  0  0  0  0  0  0  0  0  0\\n   -3.2198   -1.3763   -0.3832 C   0  0  0  0  0  0  0  0  0  0  0  0\\n   -3.4195   -2.4956    0.5836 C   0  0  0  0  0  0  0  0  0  0  0  0\\n   -0.7966   -1.1098   -0.8743 C   0  0  0  0  0  0  0  0  0  0  0  0\\n   -0.8540   -2.1056   -1.6617 O   0  0  0  0  0  0  0  0  0  0  0  0\\n    0.4727   -0.4194   -0.6771 C   0  0  0  0  0  0  0  0  0  0  0  0\\n    0.8709    0.8319   -1.0919 C   0  0  0  0  0  0  0  0  0  0  0  0\\n    2.1663    0.9908   -0.6319 C   0  0  0  0  0  0  0  0  0  0  0  0\\n    3.0879    2.0194   -0.7309 C   0  0  0  0  0  0  0  0  0  0  0  0\\n    4.3561    1.8978   -0.1555 C   0  0  0  0  0  0  0  0  0  0  0  0\\n    4.7174    0.7501    0.5220 C   0  0  0  0  0  0  0  0  0  0  0  0\\n    3.8034   -0.2784    0.6252 C   0  0  0  0  0  0  0  0  0  0  0  0\\n    2.5437   -0.1528    0.0522 C   0  0  0  0  0  0  0  0  0  0  0  0\\n    1.4963   -0.9940    0.0093 N   0  0  0  0  0  0  0  0  0  0  0  0\\n   -1.3281    2.3712    0.0310 H   0  0  0  0  0  0  0  0  0  0  0  0\\n   -3.0015    2.3385    0.6273 H   0  0  0  0  0  0  0  0  0  0  0  0\\n   -2.5659    1.6355   -1.0177 H   0  0  0  0  0  0  0  0  0  0  0  0\\n   -0.9278    0.4906    1.1380 H   0  0  0  0  0  0  0  0  0  0  0  0\\n   -2.7203    0.2543    1.4966 H   0  0  0  0  0  0  0  0  0  0  0  0\\n   -4.0516   -0.6478   -0.2651 H   0  0  0  0  0  0  0  0  0  0  0  0\\n   -3.3037   -1.7671   -1.4058 H   0  0  0  0  0  0  0  0  0  0  0  0\\n   -4.4414   -2.4225    1.0055 H   0  0  0  0  0  0  0  0  0  0  0  0\\n   -3.4005   -3.5161    0.0969 H   0  0  0  0  0  0  0  0  0  0  0  0\\n   -2.7276   -2.4366    1.4418 H   0  0  0  0  0  0  0  0  0  0  0  0\\n    0.2722    1.5308   -1.6615 H   0  0  0  0  0  0  0  0  0  0  0  0\\n    2.8056    2.9354   -1.2725 H   0  0  0  0  0  0  0  0  0  0  0  0\\n    5.0848    2.6865   -0.2186 H   0  0  0  0  0  0  0  0  0  0  0  0\\n    5.6762    0.6049    0.9799 H   0  0  0  0  0  0  0  0  0  0  0  0\\n    4.0753   -1.1878    1.1587 H   0  0  0  0  0  0  0  0  0  0  0  0\\n    1.4975   -1.9547    0.4535 H   0  0  0  0  0  0  0  0  0  0  0  0\\n  1  2  1  0\\n  2  3  1  0\\n  3  4  1  0\\n  4  5  1  0\\n  3  6  1  0\\n  6  7  2  0\\n  6  8  1  0\\n  8  9  2  0\\n  9 10  1  0\\n 10 11  2  0\\n 11 12  1  0\\n 12 13  2  0\\n 13 14  1  0\\n 14 15  2  0\\n 15 16  1  0\\n 16  8  1  0\\n 15 10  1  0\\n  1 17  1  0\\n  1 18  1  0\\n  1 19  1  0\\n  2 20  1  0\\n  2 21  1  0\\n  4 22  1  0\\n  4 23  1  0\\n  5 24  1  0\\n  5 25  1  0\\n  5 26  1  0\\n  9 27  1  0\\n 11 28  1  0\\n 12 29  1  0\\n 13 30  1  0\\n 14 31  1  0\\n 16 32  1  0\\nM  END\\n\",\"mol\");\n\tviewergrid_174886726743396[0][0].setStyle({},{\"stick\": {}, \"sphere\": {\"radius\": 0.3}});\n\tviewergrid_174886726743396[0][0].zoomTo();\n\tviewergrid_174886726743396[0][0].addLabel(\"Mol 1\",{\"fontColor\": \"black\", \"backgroundColor\": \"white\", \"borderColor\": \"black\", \"borderWidth\": 1, \"useScreen\": true, \"inFront\": true, \"screenOffset\": {\"x\": 10, \"y\": 0}});\n\tviewergrid_174886726743396[0][0].setClickable({},true,\"function(atom, viewer, event, container) {\\n                    if(!viewer._picks)       viewer._picks = [];\\n                    if(!viewer._distLabels)  viewer._distLabels = {};\\n                    if(!viewer._anglePicks)  viewer._anglePicks = [];\\n                    if(!viewer._angleLabels) viewer._angleLabels = {};\\n\\n                    // Shift-click: angle\\n                    if(event.shiftKey) {\\n                        viewer._anglePicks.push(atom);\\n                        if(viewer._anglePicks.length === 3) {\\n                            var A = viewer._anglePicks[0], B = viewer._anglePicks[1], C = viewer._anglePicks[2];\\n                            var key = [A.index,B.index,C.index].join('-');\\n                            if(key in viewer._angleLabels) {\\n                                viewer.removeLabel(viewer._angleLabels[key]);\\n                                delete viewer._angleLabels[key];\\n                            } else {\\n                                function vec(u,v){return{x:u.x-v.x,y:u.y-v.y,z:u.z-v.z}};\\n                                var vBA=vec(A,B), vBC=vec(C,B);\\n                                var dot=vBA.x*vBC.x+vBA.y*vBC.y+vBA.z*vBC.z;\\n                                var magBA=Math.sqrt(vBA.x*vBA.x+vBA.y*vBA.y+vBA.z*vBA.z);\\n                                var magBC=Math.sqrt(vBC.x*vBC.x+vBC.y*vBC.y+vBC.z*vBC.z);\\n                                var angle=(Math.acos(dot/(magBA*magBC))*(180/Math.PI)).toFixed(2)+'\\u00b0';\\n                                var lbl = viewer.addLabel(angle,\\n                                    {position:{x:B.x,y:B.y,z:B.z}, backgroundColor:'blue', fontColor:'white', fontSize:12});\\n                                viewer._angleLabels[key] = lbl;\\n                            }\\n                            viewer._anglePicks = [];\\n                        }\\n                    }\\n                    // Ctrl-click: distance\\n                    else if(event.ctrlKey) {\\n                        viewer._picks.push(atom);\\n                        if(viewer._picks.length === 2) {\\n                            var a=viewer._picks[0], b=viewer._picks[1];\\n                            var key=[Math.min(a.index,b.index),Math.max(a.index,b.index)].join('-');\\n                            if(key in viewer._distLabels) {\\n                                viewer.removeLabel(viewer._distLabels[key]); delete viewer._distLabels[key];\\n                            } else {\\n                                var dx=a.x-b.x, dy=a.y-b.y, dz=a.z-b.z;\\n                                var dist=Math.sqrt(dx*dx+dy*dy+dz*dz).toFixed(3)+' \\u00c5';\\n                                var mid={x:(a.x+b.x)/2,y:(a.y+b.y)/2,z:(a.z+b.z)/2};\\n                                var lbl=viewer.addLabel(dist,{position:mid,backgroundColor:'grey',fontColor:'white',fontSize:12});\\n                                viewer._distLabels[key]=lbl;\\n                            }\\n                            viewer._picks = [];\\n                        }\\n                    }\\n                    // Click: toggle label\\n                    else {\\n                        if(atom.label) {viewer.removeLabel(atom.label); delete atom.label;} \\n                        else {atom.label = viewer.addLabel(atom.index,{position:atom, backgroundColor:'white', fontColor:'black', fontSize:12});}\\n                    }\\n                    viewer.render();\\n                }\");\nviewergrid_174886726743396[0][0].render();\n});\n</script>",
      "text/html": [
       "<div id=\"3dmolviewer_174886726743396\"  style=\"position: relative; width: 300px; height: 300px;\">\n",
       "        <p id=\"3dmolwarning_174886726743396\" style=\"background-color:#ffcccc;color:black\">3Dmol.js failed to load for some reason.  Please check your browser console for error messages.<br></p>\n",
       "        </div>\n",
       "<script>\n",
       "\n",
       "var loadScriptAsync = function(uri){\n",
       "  return new Promise((resolve, reject) => {\n",
       "    //this is to ignore the existence of requirejs amd\n",
       "    var savedexports, savedmodule;\n",
       "    if (typeof exports !== 'undefined') savedexports = exports;\n",
       "    else exports = {}\n",
       "    if (typeof module !== 'undefined') savedmodule = module;\n",
       "    else module = {}\n",
       "\n",
       "    var tag = document.createElement('script');\n",
       "    tag.src = uri;\n",
       "    tag.async = true;\n",
       "    tag.onload = () => {\n",
       "        exports = savedexports;\n",
       "        module = savedmodule;\n",
       "        resolve();\n",
       "    };\n",
       "  var firstScriptTag = document.getElementsByTagName('script')[0];\n",
       "  firstScriptTag.parentNode.insertBefore(tag, firstScriptTag);\n",
       "});\n",
       "};\n",
       "\n",
       "if(typeof $3Dmolpromise === 'undefined') {\n",
       "$3Dmolpromise = null;\n",
       "  $3Dmolpromise = loadScriptAsync('https://cdnjs.cloudflare.com/ajax/libs/3Dmol/2.4.2/3Dmol-min.js');\n",
       "}\n",
       "\n",
       "var viewer_174886726743396 = null;\n",
       "var warn = document.getElementById(\"3dmolwarning_174886726743396\");\n",
       "if(warn) {\n",
       "    warn.parentNode.removeChild(warn);\n",
       "}\n",
       "$3Dmolpromise.then(function() {\n",
       "var viewergrid_174886726743396 = null;\n",
       "viewergrid_174886726743396 = $3Dmol.createViewerGrid(document.getElementById(\"3dmolviewer_174886726743396\"),{rows: 1, cols: 1, control_all: false},{backgroundColor:\"white\"});\n",
       "viewer_174886726743396 = viewergrid_174886726743396[0][0];\n",
       "viewergrid_174886726743396[0][0].zoomTo();\tviewergrid_174886726743396[0][0].setBackgroundColor(\"white\");\n",
       "\tviewergrid_174886726743396[0][0].addModel(\"\\n     RDKit          3D\\n\\n 32 33  0  0  0  0  0  0  0  0999 V2000\\n   -2.2487    1.7483    0.0385 C   0  0  0  0  0  0  0  0  0  0  0  0\\n   -1.9532    0.4590    0.7232 C   0  0  0  0  0  0  0  0  0  0  0  0\\n   -1.9661   -0.6805   -0.1921 N   0  0  0  0  0  0  0  0  0  0  0  0\\n   -3.2198   -1.3763   -0.3832 C   0  0  0  0  0  0  0  0  0  0  0  0\\n   -3.4195   -2.4956    0.5836 C   0  0  0  0  0  0  0  0  0  0  0  0\\n   -0.7966   -1.1098   -0.8743 C   0  0  0  0  0  0  0  0  0  0  0  0\\n   -0.8540   -2.1056   -1.6617 O   0  0  0  0  0  0  0  0  0  0  0  0\\n    0.4727   -0.4194   -0.6771 C   0  0  0  0  0  0  0  0  0  0  0  0\\n    0.8709    0.8319   -1.0919 C   0  0  0  0  0  0  0  0  0  0  0  0\\n    2.1663    0.9908   -0.6319 C   0  0  0  0  0  0  0  0  0  0  0  0\\n    3.0879    2.0194   -0.7309 C   0  0  0  0  0  0  0  0  0  0  0  0\\n    4.3561    1.8978   -0.1555 C   0  0  0  0  0  0  0  0  0  0  0  0\\n    4.7174    0.7501    0.5220 C   0  0  0  0  0  0  0  0  0  0  0  0\\n    3.8034   -0.2784    0.6252 C   0  0  0  0  0  0  0  0  0  0  0  0\\n    2.5437   -0.1528    0.0522 C   0  0  0  0  0  0  0  0  0  0  0  0\\n    1.4963   -0.9940    0.0093 N   0  0  0  0  0  0  0  0  0  0  0  0\\n   -1.3281    2.3712    0.0310 H   0  0  0  0  0  0  0  0  0  0  0  0\\n   -3.0015    2.3385    0.6273 H   0  0  0  0  0  0  0  0  0  0  0  0\\n   -2.5659    1.6355   -1.0177 H   0  0  0  0  0  0  0  0  0  0  0  0\\n   -0.9278    0.4906    1.1380 H   0  0  0  0  0  0  0  0  0  0  0  0\\n   -2.7203    0.2543    1.4966 H   0  0  0  0  0  0  0  0  0  0  0  0\\n   -4.0516   -0.6478   -0.2651 H   0  0  0  0  0  0  0  0  0  0  0  0\\n   -3.3037   -1.7671   -1.4058 H   0  0  0  0  0  0  0  0  0  0  0  0\\n   -4.4414   -2.4225    1.0055 H   0  0  0  0  0  0  0  0  0  0  0  0\\n   -3.4005   -3.5161    0.0969 H   0  0  0  0  0  0  0  0  0  0  0  0\\n   -2.7276   -2.4366    1.4418 H   0  0  0  0  0  0  0  0  0  0  0  0\\n    0.2722    1.5308   -1.6615 H   0  0  0  0  0  0  0  0  0  0  0  0\\n    2.8056    2.9354   -1.2725 H   0  0  0  0  0  0  0  0  0  0  0  0\\n    5.0848    2.6865   -0.2186 H   0  0  0  0  0  0  0  0  0  0  0  0\\n    5.6762    0.6049    0.9799 H   0  0  0  0  0  0  0  0  0  0  0  0\\n    4.0753   -1.1878    1.1587 H   0  0  0  0  0  0  0  0  0  0  0  0\\n    1.4975   -1.9547    0.4535 H   0  0  0  0  0  0  0  0  0  0  0  0\\n  1  2  1  0\\n  2  3  1  0\\n  3  4  1  0\\n  4  5  1  0\\n  3  6  1  0\\n  6  7  2  0\\n  6  8  1  0\\n  8  9  2  0\\n  9 10  1  0\\n 10 11  2  0\\n 11 12  1  0\\n 12 13  2  0\\n 13 14  1  0\\n 14 15  2  0\\n 15 16  1  0\\n 16  8  1  0\\n 15 10  1  0\\n  1 17  1  0\\n  1 18  1  0\\n  1 19  1  0\\n  2 20  1  0\\n  2 21  1  0\\n  4 22  1  0\\n  4 23  1  0\\n  5 24  1  0\\n  5 25  1  0\\n  5 26  1  0\\n  9 27  1  0\\n 11 28  1  0\\n 12 29  1  0\\n 13 30  1  0\\n 14 31  1  0\\n 16 32  1  0\\nM  END\\n\",\"mol\");\n",
       "\tviewergrid_174886726743396[0][0].setStyle({},{\"stick\": {}, \"sphere\": {\"radius\": 0.3}});\n",
       "\tviewergrid_174886726743396[0][0].zoomTo();\n",
       "\tviewergrid_174886726743396[0][0].addLabel(\"Mol 1\",{\"fontColor\": \"black\", \"backgroundColor\": \"white\", \"borderColor\": \"black\", \"borderWidth\": 1, \"useScreen\": true, \"inFront\": true, \"screenOffset\": {\"x\": 10, \"y\": 0}});\n",
       "\tviewergrid_174886726743396[0][0].setClickable({},true,\"function(atom, viewer, event, container) {\\n                    if(!viewer._picks)       viewer._picks = [];\\n                    if(!viewer._distLabels)  viewer._distLabels = {};\\n                    if(!viewer._anglePicks)  viewer._anglePicks = [];\\n                    if(!viewer._angleLabels) viewer._angleLabels = {};\\n\\n                    // Shift-click: angle\\n                    if(event.shiftKey) {\\n                        viewer._anglePicks.push(atom);\\n                        if(viewer._anglePicks.length === 3) {\\n                            var A = viewer._anglePicks[0], B = viewer._anglePicks[1], C = viewer._anglePicks[2];\\n                            var key = [A.index,B.index,C.index].join('-');\\n                            if(key in viewer._angleLabels) {\\n                                viewer.removeLabel(viewer._angleLabels[key]);\\n                                delete viewer._angleLabels[key];\\n                            } else {\\n                                function vec(u,v){return{x:u.x-v.x,y:u.y-v.y,z:u.z-v.z}};\\n                                var vBA=vec(A,B), vBC=vec(C,B);\\n                                var dot=vBA.x*vBC.x+vBA.y*vBC.y+vBA.z*vBC.z;\\n                                var magBA=Math.sqrt(vBA.x*vBA.x+vBA.y*vBA.y+vBA.z*vBA.z);\\n                                var magBC=Math.sqrt(vBC.x*vBC.x+vBC.y*vBC.y+vBC.z*vBC.z);\\n                                var angle=(Math.acos(dot/(magBA*magBC))*(180/Math.PI)).toFixed(2)+'\\u00b0';\\n                                var lbl = viewer.addLabel(angle,\\n                                    {position:{x:B.x,y:B.y,z:B.z}, backgroundColor:'blue', fontColor:'white', fontSize:12});\\n                                viewer._angleLabels[key] = lbl;\\n                            }\\n                            viewer._anglePicks = [];\\n                        }\\n                    }\\n                    // Ctrl-click: distance\\n                    else if(event.ctrlKey) {\\n                        viewer._picks.push(atom);\\n                        if(viewer._picks.length === 2) {\\n                            var a=viewer._picks[0], b=viewer._picks[1];\\n                            var key=[Math.min(a.index,b.index),Math.max(a.index,b.index)].join('-');\\n                            if(key in viewer._distLabels) {\\n                                viewer.removeLabel(viewer._distLabels[key]); delete viewer._distLabels[key];\\n                            } else {\\n                                var dx=a.x-b.x, dy=a.y-b.y, dz=a.z-b.z;\\n                                var dist=Math.sqrt(dx*dx+dy*dy+dz*dz).toFixed(3)+' \\u00c5';\\n                                var mid={x:(a.x+b.x)/2,y:(a.y+b.y)/2,z:(a.z+b.z)/2};\\n                                var lbl=viewer.addLabel(dist,{position:mid,backgroundColor:'grey',fontColor:'white',fontSize:12});\\n                                viewer._distLabels[key]=lbl;\\n                            }\\n                            viewer._picks = [];\\n                        }\\n                    }\\n                    // Click: toggle label\\n                    else {\\n                        if(atom.label) {viewer.removeLabel(atom.label); delete atom.label;} \\n                        else {atom.label = viewer.addLabel(atom.index,{position:atom, backgroundColor:'white', fontColor:'black', fontSize:12});}\\n                    }\\n                    viewer.render();\\n                }\");\n",
       "viewergrid_174886726743396[0][0].render();\n",
       "});\n",
       "</script>"
      ]
     },
     "metadata": {},
     "output_type": "display_data"
    }
   ],
   "source": [
    "MolTo3DGrid(lig_mol)"
   ]
  },
  {
   "cell_type": "code",
   "execution_count": 175,
   "id": "7646a0b0",
   "metadata": {},
   "outputs": [],
   "source": [
    "old_active_site = old_ring_match[0:3]\n",
    "old_active_site\n",
    "\n",
    "maps = []\n",
    "for a in unique_cH:\n",
    "    C_pos = lig_mol.GetAtomWithIdx(a)\n",
    "    nbs = []\n",
    "    for nb in C_pos.GetNeighbors():\n",
    "        if nb.GetAtomicNum() == 1:\n",
    "            pass # hydrogen\n",
    "        else:\n",
    "            nbs.append(nb.GetIdx())\n",
    "    \n",
    "    nbs.insert(1, C_pos.GetIdx())\n",
    "    \n",
    "    map = []\n",
    "    for nb, aa in zip(nbs, old_active_site):\n",
    "        map.append((nb, aa))\n",
    "    maps.append(map)"
   ]
  },
  {
   "cell_type": "code",
   "execution_count": 176,
   "id": "3ad71bbd",
   "metadata": {},
   "outputs": [
    {
     "data": {
      "text/plain": [
       "[[(7, 49), (8, 41), (9, 42)],\n",
       " [(9, 49), (10, 41), (11, 42)],\n",
       " [(10, 49), (11, 41), (12, 42)],\n",
       " [(11, 49), (12, 41), (13, 42)],\n",
       " [(12, 49), (13, 41), (14, 42)]]"
      ]
     },
     "execution_count": 176,
     "metadata": {},
     "output_type": "execute_result"
    }
   ],
   "source": [
    "maps"
   ]
  },
  {
   "cell_type": "code",
   "execution_count": 177,
   "id": "28a59bbd",
   "metadata": {},
   "outputs": [
    {
     "name": "stdout",
     "output_type": "stream",
     "text": [
      "Chosen C 8\n",
      "Atom no. 6 Atom id. 7\n",
      "Atom no. 6 Atom id. 9\n",
      "Atom no. 1 Atom id. 26\n"
     ]
    }
   ],
   "source": [
    "chosen_C = lig_mol.GetAtomWithIdx(list(unique_cH)[0])\n",
    "\n",
    "print(\"Chosen C\", chosen_C.GetIdx())\n",
    "\n",
    "for nb in chosen_C.GetNeighbors():\n",
    "    print(\"Atom no.\", nb.GetAtomicNum(), end=\" \")\n",
    "    print(\"Atom id.\", nb.GetIdx())"
   ]
  },
  {
   "cell_type": "code",
   "execution_count": 178,
   "id": "9109f8ef",
   "metadata": {},
   "outputs": [
    {
     "data": {
      "text/plain": [
       "0.10205132086408637"
      ]
     },
     "execution_count": 178,
     "metadata": {},
     "output_type": "execute_result"
    }
   ],
   "source": [
    "tm = 3\n",
    "\n",
    "rpos = maps[tm][1][0]\n",
    "EmbedMolecule(lig_mol, params)\n",
    "ts_rw = Chem.RWMol(ts_rw_origin)\n",
    "rdMolAlign.AlignMol(lig_mol, ts_rw, atomMap=maps[tm])"
   ]
  },
  {
   "cell_type": "code",
   "execution_count": 179,
   "id": "69b09148",
   "metadata": {},
   "outputs": [],
   "source": [
    "#MolTo3DGrid(lig_mol)"
   ]
  },
  {
   "cell_type": "code",
   "execution_count": 180,
   "id": "64f55f7a",
   "metadata": {},
   "outputs": [],
   "source": [
    "# --- remove hydrogen from the reacting carbon --- #\n",
    "reactive_old_C = old_ring_match[1]\n",
    "reactive_atom_pos = old_ring_match.index(reactive_old_C)\n",
    "chosen_carbon = lig_mol.GetAtomWithIdx(rpos)\n",
    "\n",
    "for nb in chosen_carbon.GetNeighbors():\n",
    "    if nb.GetAtomicNum() == 1:  # hydrogen\n",
    "        lig_mol_rw = RWMol(lig_mol)\n",
    "        lig_mol_rw.RemoveAtom(nb.GetIdx())\n",
    "        lig_mol = lig_mol_rw.GetMol()\n",
    "        break\n",
    "\n",
    "#MolTo3DGrid(lig_mol, kekulize=False)"
   ]
  },
  {
   "cell_type": "code",
   "execution_count": 181,
   "id": "e270870c",
   "metadata": {},
   "outputs": [],
   "source": [
    "# --- Remove old ligand and determine bond order (to get aromaticity correct for the catalyst) --- #\n",
    "n_pattern_full = Chem.MolFromSmiles(\"CN1CCCC1\")\n",
    "n_old_indices = ts_rw.GetSubstructMatch(n_pattern_full)\n",
    "\n",
    "atoms_to_remove = set()\n",
    "for idx in n_old_indices:\n",
    "    atom = ts_rw.GetAtomWithIdx(idx)\n",
    "    atoms_to_remove.add(idx)\n",
    "    for neighbor in atom.GetNeighbors():\n",
    "        if neighbor.GetAtomicNum() == 1:  # Check if hydrogen\n",
    "            atoms_to_remove.add(neighbor.GetIdx())\n",
    "\n",
    "for idx in sorted(atoms_to_remove, reverse=True):\n",
    "    ts_rw.RemoveAtom(idx)\n",
    "\n",
    "atom_idx_to_remove = 10\n",
    "atom_to_remove = ts_rw.GetAtomWithIdx(atom_idx_to_remove)\n",
    "atom_symbol = atom_to_remove.GetSymbol()\n",
    "atom_coords = ts_rw.GetConformer().GetAtomPosition(atom_idx_to_remove)\n",
    "\n",
    "ts_rw.RemoveAtom(atom_idx_to_remove)\n",
    "\n",
    "rdDetermineBonds.DetermineBonds(ts_rw)\n",
    "\n",
    "#MolTo3DGrid(ts_rw)"
   ]
  },
  {
   "cell_type": "code",
   "execution_count": 182,
   "id": "f4e990ed",
   "metadata": {},
   "outputs": [
    {
     "data": {
      "application/3dmoljs_load.v0": "<div id=\"3dmolviewer_1748867268296323\"  style=\"position: relative; width: 600px; height: 600px;\">\n        <p id=\"3dmolwarning_1748867268296323\" style=\"background-color:#ffcccc;color:black\">3Dmol.js failed to load for some reason.  Please check your browser console for error messages.<br></p>\n        </div>\n<script>\n\nvar loadScriptAsync = function(uri){\n  return new Promise((resolve, reject) => {\n    //this is to ignore the existence of requirejs amd\n    var savedexports, savedmodule;\n    if (typeof exports !== 'undefined') savedexports = exports;\n    else exports = {}\n    if (typeof module !== 'undefined') savedmodule = module;\n    else module = {}\n\n    var tag = document.createElement('script');\n    tag.src = uri;\n    tag.async = true;\n    tag.onload = () => {\n        exports = savedexports;\n        module = savedmodule;\n        resolve();\n    };\n  var firstScriptTag = document.getElementsByTagName('script')[0];\n  firstScriptTag.parentNode.insertBefore(tag, firstScriptTag);\n});\n};\n\nif(typeof $3Dmolpromise === 'undefined') {\n$3Dmolpromise = null;\n  $3Dmolpromise = loadScriptAsync('https://cdnjs.cloudflare.com/ajax/libs/3Dmol/2.4.2/3Dmol-min.js');\n}\n\nvar viewer_1748867268296323 = null;\nvar warn = document.getElementById(\"3dmolwarning_1748867268296323\");\nif(warn) {\n    warn.parentNode.removeChild(warn);\n}\n$3Dmolpromise.then(function() {\nvar viewergrid_1748867268296323 = null;\nviewergrid_1748867268296323 = $3Dmol.createViewerGrid(document.getElementById(\"3dmolviewer_1748867268296323\"),{rows: 1, cols: 1, control_all: false},{backgroundColor:\"white\"});\nviewer_1748867268296323 = viewergrid_1748867268296323[0][0];\nviewergrid_1748867268296323[0][0].zoomTo();\tviewergrid_1748867268296323[0][0].setBackgroundColor(\"white\");\n\tviewergrid_1748867268296323[0][0].addModel(\"\\n     RDKit          3D\\n\\n 73 76  0  3  0  0  0  0  0  0999 V2000\\n   -1.3183   -2.0551    0.5371 C   0  0  0  0  0  0  0  0  0  0  0  0\\n   -0.0237   -1.6733    0.9470 C   0  0  0  0  0  0  0  0  0  0  0  0\\n    1.0005   -2.6127    0.7278 C   0  0  0  0  0  0  0  0  0  0  0  0\\n    0.7788   -3.8598    0.1562 C   0  0  0  0  0  0  0  0  0  0  0  0\\n   -0.5127   -4.2153   -0.2270 C   0  0  0  0  0  0  0  0  0  0  0  0\\n   -1.5515   -3.3125   -0.0349 C   0  0  0  0  0  0  0  0  0  0  0  0\\n    2.0115   -2.3420    1.0245 H   0  0  0  0  0  0  0  0  0  0  0  0\\n    1.6040   -4.5518    0.0112 H   0  0  0  0  0  0  0  0  0  0  0  0\\n   -0.7138   -5.1851   -0.6727 H   0  0  0  0  0  0  0  0  0  0  0  0\\n   -2.5511   -3.6026   -0.3285 H   0  0  0  0  0  0  0  0  0  0  0  0\\n    0.3733   -0.2915    1.7000 B   0  0  0  0  0  4  0  0  0  0  0  0\\n   -2.4161   -1.1014    0.7304 N   0  0  0  0  0  0  0  0  0  0  0  0\\n   -3.2676   -1.3837    1.9702 C   0  0  0  0  0  0  0  0  0  0  0  0\\n   -3.1690   -0.6889   -0.5281 C   0  0  0  0  0  0  0  0  0  0  0  0\\n   -4.2108   -0.1888    2.2082 C   0  0  0  0  0  0  0  0  0  0  0  0\\n   -2.3508   -1.5121    3.1920 C   0  0  0  0  0  0  0  0  0  0  0  0\\n   -4.0987   -2.6822    1.9192 C   0  0  0  0  0  0  0  0  0  0  0  0\\n   -4.0333    0.5280   -0.1512 C   0  0  0  0  0  0  0  0  0  0  0  0\\n   -4.0467   -1.7694   -1.2003 C   0  0  0  0  0  0  0  0  0  0  0  0\\n   -2.1745   -0.2340   -1.6004 C   0  0  0  0  0  0  0  0  0  0  0  0\\n   -4.8796   -0.4557    3.0339 H   0  0  0  0  0  0  0  0  0  0  0  0\\n   -3.6195    0.6691    2.5441 H   0  0  0  0  0  0  0  0  0  0  0  0\\n   -5.0062    0.2314    0.9795 C   0  0  0  0  0  0  0  0  0  0  0  0\\n   -1.7116   -2.3970    3.1354 H   0  0  0  0  0  0  0  0  0  0  0  0\\n   -1.7060   -0.6458    3.3239 H   0  0  0  0  0  0  0  0  0  0  0  0\\n   -2.9768   -1.6052    4.0850 H   0  0  0  0  0  0  0  0  0  0  0  0\\n   -3.5028   -3.5427    1.6102 H   0  0  0  0  0  0  0  0  0  0  0  0\\n   -4.4571   -2.8891    2.9324 H   0  0  0  0  0  0  0  0  0  0  0  0\\n   -4.9825   -2.6152    1.2847 H   0  0  0  0  0  0  0  0  0  0  0  0\\n   -4.5608    0.8642   -1.0504 H   0  0  0  0  0  0  0  0  0  0  0  0\\n   -3.3686    1.3469    0.1549 H   0  0  0  0  0  0  0  0  0  0  0  0\\n   -4.7298   -1.2654   -1.8922 H   0  0  0  0  0  0  0  0  0  0  0  0\\n   -3.4432   -2.4555   -1.7983 H   0  0  0  0  0  0  0  0  0  0  0  0\\n   -4.6540   -2.3565   -0.5169 H   0  0  0  0  0  0  0  0  0  0  0  0\\n   -1.6997    0.7047   -1.3247 H   0  0  0  0  0  0  0  0  0  0  0  0\\n   -1.4078   -0.9869   -1.7993 H   0  0  0  0  0  0  0  0  0  0  0  0\\n   -2.7209   -0.0631   -2.5331 H   0  0  0  0  0  0  0  0  0  0  0  0\\n   -5.5990    1.1227    1.2111 H   0  0  0  0  0  0  0  0  0  0  0  0\\n   -5.7166   -0.5489    0.6807 H   0  0  0  0  0  0  0  0  0  0  0  0\\n    1.5002    0.0546    1.3787 H   0  0  0  0  0  0  0  0  0  0  0  0\\n    0.3340   -0.4476    2.9072 H   0  0  0  0  0  0  0  0  0  0  0  0\\n   -1.5586    0.1036    1.0479 H   0  0  0  0  0  0  0  0  0  0  0  0\\n    0.2136    8.0601    2.0401 C   0  0  0  0  0  0  0  0  0  0  0  0\\n   -0.2886    7.4640    3.3093 C   0  0  0  0  0  0  0  0  0  0  0  0\\n   -1.7423    7.5500    3.4352 N   0  0  0  0  0  0  0  0  0  0  0  0\\n   -2.2940    8.7219    4.0792 C   0  0  0  0  0  0  0  0  0  0  0  0\\n   -2.4461    8.5598    5.5550 C   0  0  0  0  0  0  0  0  0  0  0  0\\n   -2.6003    6.5251    2.9547 C   0  0  0  0  0  0  0  0  0  0  0  0\\n   -3.8590    6.6420    3.0850 O   0  0  0  0  0  0  0  0  0  0  0  0\\n   -2.0495    5.3361    2.3148 C   0  0  0  0  0  0  0  0  0  0  0  0\\n   -1.4409    5.1957    1.0875 C   0  0  0  0  0  0  0  0  0  0  0  0\\n   -1.1036    3.8579    0.9809 C   0  0  0  0  0  0  0  0  0  0  0  0\\n   -0.4810    3.1130   -0.0063 C   0  0  0  0  0  0  0  0  0  0  0  0\\n   -0.2694    1.7415    0.1625 C   0  0  0  0  0  0  0  0  0  0  0  0\\n   -0.6773    1.1004    1.3154 C   0  0  0  0  0  0  0  0  0  0  0  0\\n   -1.2974    1.8370    2.3037 C   0  0  0  0  0  0  0  0  0  0  0  0\\n   -1.5052    3.2002    2.1318 C   0  0  0  0  0  0  0  0  0  0  0  0\\n   -2.0776    4.1215    2.9255 N   0  0  0  0  0  0  0  0  0  0  0  0\\n    0.6008    7.2468    1.3888 H   0  0  0  0  0  0  0  0  0  0  0  0\\n    1.0972    8.7230    2.2440 H   0  0  0  0  0  0  0  0  0  0  0  0\\n   -0.5617    8.5949    1.4555 H   0  0  0  0  0  0  0  0  0  0  0  0\\n   -0.0564    6.3822    3.3235 H   0  0  0  0  0  0  0  0  0  0  0  0\\n    0.1383    8.0036    4.1783 H   0  0  0  0  0  0  0  0  0  0  0  0\\n   -1.6221    9.5854    3.8807 H   0  0  0  0  0  0  0  0  0  0  0  0\\n   -3.2666    8.9904    3.6463 H   0  0  0  0  0  0  0  0  0  0  0  0\\n   -2.0357    9.4593    6.0553 H   0  0  0  0  0  0  0  0  0  0  0  0\\n   -3.5248    8.5311    5.8933 H   0  0  0  0  0  0  0  0  0  0  0  0\\n   -1.8704    7.7020    5.9440 H   0  0  0  0  0  0  0  0  0  0  0  0\\n   -1.2723    5.9880    0.3697 H   0  0  0  0  0  0  0  0  0  0  0  0\\n   -0.1565    3.6190   -0.9287 H   0  0  0  0  0  0  0  0  0  0  0  0\\n    0.2151    1.1461   -0.5911 H   0  0  0  0  0  0  0  0  0  0  0  0\\n   -1.6219    1.3436    3.2185 H   0  0  0  0  0  0  0  0  0  0  0  0\\n   -2.4812    3.9040    3.8795 H   0  0  0  0  0  0  0  0  0  0  0  0\\n  2  1  2  0\\n  3  2  1  0\\n  4  3  2  0\\n  5  4  1  0\\n  6  5  2  0\\n  6  1  1  0\\n  7  3  1  0\\n  8  4  1  0\\n  9  5  1  0\\n 10  6  1  0\\n 11  2  1  0\\n 12  1  1  0\\n 13 12  1  0\\n 14 12  1  0\\n 15 13  1  0\\n 16 13  1  0\\n 17 13  1  0\\n 18 14  1  0\\n 19 14  1  0\\n 20 14  1  0\\n 21 15  1  0\\n 22 15  1  0\\n 23 18  1  0\\n 23 15  1  0\\n 24 16  1  0\\n 25 16  1  0\\n 26 16  1  0\\n 27 17  1  0\\n 28 17  1  0\\n 29 17  1  0\\n 30 18  1  0\\n 31 18  1  0\\n 32 19  1  0\\n 33 19  1  0\\n 34 19  1  0\\n 35 20  1  0\\n 36 20  1  0\\n 37 20  1  0\\n 38 23  1  0\\n 39 23  1  0\\n 40 11  1  0\\n 41 11  1  0\\n 43 44  1  0\\n 44 45  1  0\\n 45 46  1  0\\n 46 47  1  0\\n 45 48  1  0\\n 48 49  2  0\\n 48 50  1  0\\n 50 51  2  0\\n 51 52  1  0\\n 52 53  2  0\\n 53 54  1  0\\n 54 55  2  0\\n 55 56  1  0\\n 56 57  2  0\\n 57 58  1  0\\n 58 50  1  0\\n 57 52  1  0\\n 43 59  1  0\\n 43 60  1  0\\n 43 61  1  0\\n 44 62  1  0\\n 44 63  1  0\\n 46 64  1  0\\n 46 65  1  0\\n 47 66  1  0\\n 47 67  1  0\\n 47 68  1  0\\n 51 69  1  0\\n 53 70  1  0\\n 54 71  1  0\\n 56 72  1  0\\n 58 73  1  0\\n 11 55  1  0\\n 11 42  1  0\\nM  CHG  2  11   2  55  -1\\nM  ZBO  1  75   0\\nM  HYD  2  11   0  55   0\\nM  ZCH  2  11   2  55  -1\\nM  STY  3   1 DAT   2 DAT   3 DAT\\nM  SAL   1  2  11  55\\nM  SBL   1  1  75\\nM  SDT   1 ZBO                            T\\nM  SAL   2  2  11  55\\nM  SDT   2 HYD                            T\\nM  SED   2 0;0\\nM  SAL   3  2  11  55\\nM  SDT   3 ZCH                            T\\nM  SED   3 2;-1\\nM  END\\n\",\"mol\");\n\tviewergrid_1748867268296323[0][0].setStyle({},{\"stick\": {}, \"sphere\": {\"radius\": 0.3}});\n\tviewergrid_1748867268296323[0][0].zoomTo();\n\tviewergrid_1748867268296323[0][0].addLabel(\"Mol 1\",{\"fontColor\": \"black\", \"backgroundColor\": \"white\", \"borderColor\": \"black\", \"borderWidth\": 1, \"useScreen\": true, \"inFront\": true, \"screenOffset\": {\"x\": 10, \"y\": 0}});\n\tviewergrid_1748867268296323[0][0].setClickable({},true,\"function(atom, viewer, event, container) {\\n                    if(!viewer._picks)       viewer._picks = [];\\n                    if(!viewer._distLabels)  viewer._distLabels = {};\\n                    if(!viewer._anglePicks)  viewer._anglePicks = [];\\n                    if(!viewer._angleLabels) viewer._angleLabels = {};\\n\\n                    // Shift-click: angle\\n                    if(event.shiftKey) {\\n                        viewer._anglePicks.push(atom);\\n                        if(viewer._anglePicks.length === 3) {\\n                            var A = viewer._anglePicks[0], B = viewer._anglePicks[1], C = viewer._anglePicks[2];\\n                            var key = [A.index,B.index,C.index].join('-');\\n                            if(key in viewer._angleLabels) {\\n                                viewer.removeLabel(viewer._angleLabels[key]);\\n                                delete viewer._angleLabels[key];\\n                            } else {\\n                                function vec(u,v){return{x:u.x-v.x,y:u.y-v.y,z:u.z-v.z}};\\n                                var vBA=vec(A,B), vBC=vec(C,B);\\n                                var dot=vBA.x*vBC.x+vBA.y*vBC.y+vBA.z*vBC.z;\\n                                var magBA=Math.sqrt(vBA.x*vBA.x+vBA.y*vBA.y+vBA.z*vBA.z);\\n                                var magBC=Math.sqrt(vBC.x*vBC.x+vBC.y*vBC.y+vBC.z*vBC.z);\\n                                var angle=(Math.acos(dot/(magBA*magBC))*(180/Math.PI)).toFixed(2)+'\\u00b0';\\n                                var lbl = viewer.addLabel(angle,\\n                                    {position:{x:B.x,y:B.y,z:B.z}, backgroundColor:'blue', fontColor:'white', fontSize:12});\\n                                viewer._angleLabels[key] = lbl;\\n                            }\\n                            viewer._anglePicks = [];\\n                        }\\n                    }\\n                    // Ctrl-click: distance\\n                    else if(event.ctrlKey) {\\n                        viewer._picks.push(atom);\\n                        if(viewer._picks.length === 2) {\\n                            var a=viewer._picks[0], b=viewer._picks[1];\\n                            var key=[Math.min(a.index,b.index),Math.max(a.index,b.index)].join('-');\\n                            if(key in viewer._distLabels) {\\n                                viewer.removeLabel(viewer._distLabels[key]); delete viewer._distLabels[key];\\n                            } else {\\n                                var dx=a.x-b.x, dy=a.y-b.y, dz=a.z-b.z;\\n                                var dist=Math.sqrt(dx*dx+dy*dy+dz*dz).toFixed(3)+' \\u00c5';\\n                                var mid={x:(a.x+b.x)/2,y:(a.y+b.y)/2,z:(a.z+b.z)/2};\\n                                var lbl=viewer.addLabel(dist,{position:mid,backgroundColor:'grey',fontColor:'white',fontSize:12});\\n                                viewer._distLabels[key]=lbl;\\n                            }\\n                            viewer._picks = [];\\n                        }\\n                    }\\n                    // Click: toggle label\\n                    else {\\n                        if(atom.label) {viewer.removeLabel(atom.label); delete atom.label;} \\n                        else {atom.label = viewer.addLabel(atom.index,{position:atom, backgroundColor:'white', fontColor:'black', fontSize:12});}\\n                    }\\n                    viewer.render();\\n                }\");\nviewergrid_1748867268296323[0][0].render();\n});\n</script>",
      "text/html": [
       "<div id=\"3dmolviewer_1748867268296323\"  style=\"position: relative; width: 600px; height: 600px;\">\n",
       "        <p id=\"3dmolwarning_1748867268296323\" style=\"background-color:#ffcccc;color:black\">3Dmol.js failed to load for some reason.  Please check your browser console for error messages.<br></p>\n",
       "        </div>\n",
       "<script>\n",
       "\n",
       "var loadScriptAsync = function(uri){\n",
       "  return new Promise((resolve, reject) => {\n",
       "    //this is to ignore the existence of requirejs amd\n",
       "    var savedexports, savedmodule;\n",
       "    if (typeof exports !== 'undefined') savedexports = exports;\n",
       "    else exports = {}\n",
       "    if (typeof module !== 'undefined') savedmodule = module;\n",
       "    else module = {}\n",
       "\n",
       "    var tag = document.createElement('script');\n",
       "    tag.src = uri;\n",
       "    tag.async = true;\n",
       "    tag.onload = () => {\n",
       "        exports = savedexports;\n",
       "        module = savedmodule;\n",
       "        resolve();\n",
       "    };\n",
       "  var firstScriptTag = document.getElementsByTagName('script')[0];\n",
       "  firstScriptTag.parentNode.insertBefore(tag, firstScriptTag);\n",
       "});\n",
       "};\n",
       "\n",
       "if(typeof $3Dmolpromise === 'undefined') {\n",
       "$3Dmolpromise = null;\n",
       "  $3Dmolpromise = loadScriptAsync('https://cdnjs.cloudflare.com/ajax/libs/3Dmol/2.4.2/3Dmol-min.js');\n",
       "}\n",
       "\n",
       "var viewer_1748867268296323 = null;\n",
       "var warn = document.getElementById(\"3dmolwarning_1748867268296323\");\n",
       "if(warn) {\n",
       "    warn.parentNode.removeChild(warn);\n",
       "}\n",
       "$3Dmolpromise.then(function() {\n",
       "var viewergrid_1748867268296323 = null;\n",
       "viewergrid_1748867268296323 = $3Dmol.createViewerGrid(document.getElementById(\"3dmolviewer_1748867268296323\"),{rows: 1, cols: 1, control_all: false},{backgroundColor:\"white\"});\n",
       "viewer_1748867268296323 = viewergrid_1748867268296323[0][0];\n",
       "viewergrid_1748867268296323[0][0].zoomTo();\tviewergrid_1748867268296323[0][0].setBackgroundColor(\"white\");\n",
       "\tviewergrid_1748867268296323[0][0].addModel(\"\\n     RDKit          3D\\n\\n 73 76  0  3  0  0  0  0  0  0999 V2000\\n   -1.3183   -2.0551    0.5371 C   0  0  0  0  0  0  0  0  0  0  0  0\\n   -0.0237   -1.6733    0.9470 C   0  0  0  0  0  0  0  0  0  0  0  0\\n    1.0005   -2.6127    0.7278 C   0  0  0  0  0  0  0  0  0  0  0  0\\n    0.7788   -3.8598    0.1562 C   0  0  0  0  0  0  0  0  0  0  0  0\\n   -0.5127   -4.2153   -0.2270 C   0  0  0  0  0  0  0  0  0  0  0  0\\n   -1.5515   -3.3125   -0.0349 C   0  0  0  0  0  0  0  0  0  0  0  0\\n    2.0115   -2.3420    1.0245 H   0  0  0  0  0  0  0  0  0  0  0  0\\n    1.6040   -4.5518    0.0112 H   0  0  0  0  0  0  0  0  0  0  0  0\\n   -0.7138   -5.1851   -0.6727 H   0  0  0  0  0  0  0  0  0  0  0  0\\n   -2.5511   -3.6026   -0.3285 H   0  0  0  0  0  0  0  0  0  0  0  0\\n    0.3733   -0.2915    1.7000 B   0  0  0  0  0  4  0  0  0  0  0  0\\n   -2.4161   -1.1014    0.7304 N   0  0  0  0  0  0  0  0  0  0  0  0\\n   -3.2676   -1.3837    1.9702 C   0  0  0  0  0  0  0  0  0  0  0  0\\n   -3.1690   -0.6889   -0.5281 C   0  0  0  0  0  0  0  0  0  0  0  0\\n   -4.2108   -0.1888    2.2082 C   0  0  0  0  0  0  0  0  0  0  0  0\\n   -2.3508   -1.5121    3.1920 C   0  0  0  0  0  0  0  0  0  0  0  0\\n   -4.0987   -2.6822    1.9192 C   0  0  0  0  0  0  0  0  0  0  0  0\\n   -4.0333    0.5280   -0.1512 C   0  0  0  0  0  0  0  0  0  0  0  0\\n   -4.0467   -1.7694   -1.2003 C   0  0  0  0  0  0  0  0  0  0  0  0\\n   -2.1745   -0.2340   -1.6004 C   0  0  0  0  0  0  0  0  0  0  0  0\\n   -4.8796   -0.4557    3.0339 H   0  0  0  0  0  0  0  0  0  0  0  0\\n   -3.6195    0.6691    2.5441 H   0  0  0  0  0  0  0  0  0  0  0  0\\n   -5.0062    0.2314    0.9795 C   0  0  0  0  0  0  0  0  0  0  0  0\\n   -1.7116   -2.3970    3.1354 H   0  0  0  0  0  0  0  0  0  0  0  0\\n   -1.7060   -0.6458    3.3239 H   0  0  0  0  0  0  0  0  0  0  0  0\\n   -2.9768   -1.6052    4.0850 H   0  0  0  0  0  0  0  0  0  0  0  0\\n   -3.5028   -3.5427    1.6102 H   0  0  0  0  0  0  0  0  0  0  0  0\\n   -4.4571   -2.8891    2.9324 H   0  0  0  0  0  0  0  0  0  0  0  0\\n   -4.9825   -2.6152    1.2847 H   0  0  0  0  0  0  0  0  0  0  0  0\\n   -4.5608    0.8642   -1.0504 H   0  0  0  0  0  0  0  0  0  0  0  0\\n   -3.3686    1.3469    0.1549 H   0  0  0  0  0  0  0  0  0  0  0  0\\n   -4.7298   -1.2654   -1.8922 H   0  0  0  0  0  0  0  0  0  0  0  0\\n   -3.4432   -2.4555   -1.7983 H   0  0  0  0  0  0  0  0  0  0  0  0\\n   -4.6540   -2.3565   -0.5169 H   0  0  0  0  0  0  0  0  0  0  0  0\\n   -1.6997    0.7047   -1.3247 H   0  0  0  0  0  0  0  0  0  0  0  0\\n   -1.4078   -0.9869   -1.7993 H   0  0  0  0  0  0  0  0  0  0  0  0\\n   -2.7209   -0.0631   -2.5331 H   0  0  0  0  0  0  0  0  0  0  0  0\\n   -5.5990    1.1227    1.2111 H   0  0  0  0  0  0  0  0  0  0  0  0\\n   -5.7166   -0.5489    0.6807 H   0  0  0  0  0  0  0  0  0  0  0  0\\n    1.5002    0.0546    1.3787 H   0  0  0  0  0  0  0  0  0  0  0  0\\n    0.3340   -0.4476    2.9072 H   0  0  0  0  0  0  0  0  0  0  0  0\\n   -1.5586    0.1036    1.0479 H   0  0  0  0  0  0  0  0  0  0  0  0\\n    0.2136    8.0601    2.0401 C   0  0  0  0  0  0  0  0  0  0  0  0\\n   -0.2886    7.4640    3.3093 C   0  0  0  0  0  0  0  0  0  0  0  0\\n   -1.7423    7.5500    3.4352 N   0  0  0  0  0  0  0  0  0  0  0  0\\n   -2.2940    8.7219    4.0792 C   0  0  0  0  0  0  0  0  0  0  0  0\\n   -2.4461    8.5598    5.5550 C   0  0  0  0  0  0  0  0  0  0  0  0\\n   -2.6003    6.5251    2.9547 C   0  0  0  0  0  0  0  0  0  0  0  0\\n   -3.8590    6.6420    3.0850 O   0  0  0  0  0  0  0  0  0  0  0  0\\n   -2.0495    5.3361    2.3148 C   0  0  0  0  0  0  0  0  0  0  0  0\\n   -1.4409    5.1957    1.0875 C   0  0  0  0  0  0  0  0  0  0  0  0\\n   -1.1036    3.8579    0.9809 C   0  0  0  0  0  0  0  0  0  0  0  0\\n   -0.4810    3.1130   -0.0063 C   0  0  0  0  0  0  0  0  0  0  0  0\\n   -0.2694    1.7415    0.1625 C   0  0  0  0  0  0  0  0  0  0  0  0\\n   -0.6773    1.1004    1.3154 C   0  0  0  0  0  0  0  0  0  0  0  0\\n   -1.2974    1.8370    2.3037 C   0  0  0  0  0  0  0  0  0  0  0  0\\n   -1.5052    3.2002    2.1318 C   0  0  0  0  0  0  0  0  0  0  0  0\\n   -2.0776    4.1215    2.9255 N   0  0  0  0  0  0  0  0  0  0  0  0\\n    0.6008    7.2468    1.3888 H   0  0  0  0  0  0  0  0  0  0  0  0\\n    1.0972    8.7230    2.2440 H   0  0  0  0  0  0  0  0  0  0  0  0\\n   -0.5617    8.5949    1.4555 H   0  0  0  0  0  0  0  0  0  0  0  0\\n   -0.0564    6.3822    3.3235 H   0  0  0  0  0  0  0  0  0  0  0  0\\n    0.1383    8.0036    4.1783 H   0  0  0  0  0  0  0  0  0  0  0  0\\n   -1.6221    9.5854    3.8807 H   0  0  0  0  0  0  0  0  0  0  0  0\\n   -3.2666    8.9904    3.6463 H   0  0  0  0  0  0  0  0  0  0  0  0\\n   -2.0357    9.4593    6.0553 H   0  0  0  0  0  0  0  0  0  0  0  0\\n   -3.5248    8.5311    5.8933 H   0  0  0  0  0  0  0  0  0  0  0  0\\n   -1.8704    7.7020    5.9440 H   0  0  0  0  0  0  0  0  0  0  0  0\\n   -1.2723    5.9880    0.3697 H   0  0  0  0  0  0  0  0  0  0  0  0\\n   -0.1565    3.6190   -0.9287 H   0  0  0  0  0  0  0  0  0  0  0  0\\n    0.2151    1.1461   -0.5911 H   0  0  0  0  0  0  0  0  0  0  0  0\\n   -1.6219    1.3436    3.2185 H   0  0  0  0  0  0  0  0  0  0  0  0\\n   -2.4812    3.9040    3.8795 H   0  0  0  0  0  0  0  0  0  0  0  0\\n  2  1  2  0\\n  3  2  1  0\\n  4  3  2  0\\n  5  4  1  0\\n  6  5  2  0\\n  6  1  1  0\\n  7  3  1  0\\n  8  4  1  0\\n  9  5  1  0\\n 10  6  1  0\\n 11  2  1  0\\n 12  1  1  0\\n 13 12  1  0\\n 14 12  1  0\\n 15 13  1  0\\n 16 13  1  0\\n 17 13  1  0\\n 18 14  1  0\\n 19 14  1  0\\n 20 14  1  0\\n 21 15  1  0\\n 22 15  1  0\\n 23 18  1  0\\n 23 15  1  0\\n 24 16  1  0\\n 25 16  1  0\\n 26 16  1  0\\n 27 17  1  0\\n 28 17  1  0\\n 29 17  1  0\\n 30 18  1  0\\n 31 18  1  0\\n 32 19  1  0\\n 33 19  1  0\\n 34 19  1  0\\n 35 20  1  0\\n 36 20  1  0\\n 37 20  1  0\\n 38 23  1  0\\n 39 23  1  0\\n 40 11  1  0\\n 41 11  1  0\\n 43 44  1  0\\n 44 45  1  0\\n 45 46  1  0\\n 46 47  1  0\\n 45 48  1  0\\n 48 49  2  0\\n 48 50  1  0\\n 50 51  2  0\\n 51 52  1  0\\n 52 53  2  0\\n 53 54  1  0\\n 54 55  2  0\\n 55 56  1  0\\n 56 57  2  0\\n 57 58  1  0\\n 58 50  1  0\\n 57 52  1  0\\n 43 59  1  0\\n 43 60  1  0\\n 43 61  1  0\\n 44 62  1  0\\n 44 63  1  0\\n 46 64  1  0\\n 46 65  1  0\\n 47 66  1  0\\n 47 67  1  0\\n 47 68  1  0\\n 51 69  1  0\\n 53 70  1  0\\n 54 71  1  0\\n 56 72  1  0\\n 58 73  1  0\\n 11 55  1  0\\n 11 42  1  0\\nM  CHG  2  11   2  55  -1\\nM  ZBO  1  75   0\\nM  HYD  2  11   0  55   0\\nM  ZCH  2  11   2  55  -1\\nM  STY  3   1 DAT   2 DAT   3 DAT\\nM  SAL   1  2  11  55\\nM  SBL   1  1  75\\nM  SDT   1 ZBO                            T\\nM  SAL   2  2  11  55\\nM  SDT   2 HYD                            T\\nM  SED   2 0;0\\nM  SAL   3  2  11  55\\nM  SDT   3 ZCH                            T\\nM  SED   3 2;-1\\nM  END\\n\",\"mol\");\n",
       "\tviewergrid_1748867268296323[0][0].setStyle({},{\"stick\": {}, \"sphere\": {\"radius\": 0.3}});\n",
       "\tviewergrid_1748867268296323[0][0].zoomTo();\n",
       "\tviewergrid_1748867268296323[0][0].addLabel(\"Mol 1\",{\"fontColor\": \"black\", \"backgroundColor\": \"white\", \"borderColor\": \"black\", \"borderWidth\": 1, \"useScreen\": true, \"inFront\": true, \"screenOffset\": {\"x\": 10, \"y\": 0}});\n",
       "\tviewergrid_1748867268296323[0][0].setClickable({},true,\"function(atom, viewer, event, container) {\\n                    if(!viewer._picks)       viewer._picks = [];\\n                    if(!viewer._distLabels)  viewer._distLabels = {};\\n                    if(!viewer._anglePicks)  viewer._anglePicks = [];\\n                    if(!viewer._angleLabels) viewer._angleLabels = {};\\n\\n                    // Shift-click: angle\\n                    if(event.shiftKey) {\\n                        viewer._anglePicks.push(atom);\\n                        if(viewer._anglePicks.length === 3) {\\n                            var A = viewer._anglePicks[0], B = viewer._anglePicks[1], C = viewer._anglePicks[2];\\n                            var key = [A.index,B.index,C.index].join('-');\\n                            if(key in viewer._angleLabels) {\\n                                viewer.removeLabel(viewer._angleLabels[key]);\\n                                delete viewer._angleLabels[key];\\n                            } else {\\n                                function vec(u,v){return{x:u.x-v.x,y:u.y-v.y,z:u.z-v.z}};\\n                                var vBA=vec(A,B), vBC=vec(C,B);\\n                                var dot=vBA.x*vBC.x+vBA.y*vBC.y+vBA.z*vBC.z;\\n                                var magBA=Math.sqrt(vBA.x*vBA.x+vBA.y*vBA.y+vBA.z*vBA.z);\\n                                var magBC=Math.sqrt(vBC.x*vBC.x+vBC.y*vBC.y+vBC.z*vBC.z);\\n                                var angle=(Math.acos(dot/(magBA*magBC))*(180/Math.PI)).toFixed(2)+'\\u00b0';\\n                                var lbl = viewer.addLabel(angle,\\n                                    {position:{x:B.x,y:B.y,z:B.z}, backgroundColor:'blue', fontColor:'white', fontSize:12});\\n                                viewer._angleLabels[key] = lbl;\\n                            }\\n                            viewer._anglePicks = [];\\n                        }\\n                    }\\n                    // Ctrl-click: distance\\n                    else if(event.ctrlKey) {\\n                        viewer._picks.push(atom);\\n                        if(viewer._picks.length === 2) {\\n                            var a=viewer._picks[0], b=viewer._picks[1];\\n                            var key=[Math.min(a.index,b.index),Math.max(a.index,b.index)].join('-');\\n                            if(key in viewer._distLabels) {\\n                                viewer.removeLabel(viewer._distLabels[key]); delete viewer._distLabels[key];\\n                            } else {\\n                                var dx=a.x-b.x, dy=a.y-b.y, dz=a.z-b.z;\\n                                var dist=Math.sqrt(dx*dx+dy*dy+dz*dz).toFixed(3)+' \\u00c5';\\n                                var mid={x:(a.x+b.x)/2,y:(a.y+b.y)/2,z:(a.z+b.z)/2};\\n                                var lbl=viewer.addLabel(dist,{position:mid,backgroundColor:'grey',fontColor:'white',fontSize:12});\\n                                viewer._distLabels[key]=lbl;\\n                            }\\n                            viewer._picks = [];\\n                        }\\n                    }\\n                    // Click: toggle label\\n                    else {\\n                        if(atom.label) {viewer.removeLabel(atom.label); delete atom.label;} \\n                        else {atom.label = viewer.addLabel(atom.index,{position:atom, backgroundColor:'white', fontColor:'black', fontSize:12});}\\n                    }\\n                    viewer.render();\\n                }\");\n",
       "viewergrid_1748867268296323[0][0].render();\n",
       "});\n",
       "</script>"
      ]
     },
     "metadata": {},
     "output_type": "display_data"
    }
   ],
   "source": [
    "#  --- Add reactive H back --- #\n",
    "new_atom_idx = ts_rw.AddAtom(Chem.Atom(atom_symbol))\n",
    "ts_rw.GetConformer().SetAtomPosition(new_atom_idx, atom_coords)          \n",
    "\n",
    "# --- Combine ligand and catalyst, add temporary bonds, and set temporary formal charges ---\n",
    "ts_combined = Chem.CombineMols(ts_rw, lig_mol)\n",
    "ts_rw_combined = RWMol(ts_combined)\n",
    "\n",
    "offset = ts_rw.GetNumAtoms()\n",
    "reactive_H = offset - 1 # the reactive H is the offset - 1, because it was the last atom added to the mol.\n",
    "reactive_C = rpos + offset\n",
    "# atom_indices_to_keep = [10, 11, 39, 40, 41, reactive_C]\n",
    "atom_indices_to_keep = [10, 11, 39, 40, reactive_H, reactive_C]\n",
    "\n",
    "embed_ready = True\n",
    "if embed_ready:\n",
    "    ts_rw_combined.AddBond(10, reactive_C, Chem.BondType.ZERO)\n",
    "    ts_rw_combined.AddBond(10, reactive_H, Chem.BondType.SINGLE)\n",
    "    b_atom = ts_rw_combined.GetAtomWithIdx(10)\n",
    "    b_atom.SetFormalCharge(2)\n",
    "    c_atom = ts_rw_combined.GetAtomWithIdx(reactive_C)\n",
    "    c_atom.SetFormalCharge(-1)\n",
    "\n",
    "#rpos = lig_match.index(rpos) # reset the index for rpos.\n",
    "mol_name = get_molecule_name(ligand_smiles)        \n",
    "\n",
    "MolTo3DGrid(ts_rw_combined, cell_size=(600,600))"
   ]
  }
 ],
 "metadata": {
  "kernelspec": {
   "display_name": "FrustActivation",
   "language": "python",
   "name": "python3"
  },
  "language_info": {
   "codemirror_mode": {
    "name": "ipython",
    "version": 3
   },
   "file_extension": ".py",
   "mimetype": "text/x-python",
   "name": "python",
   "nbconvert_exporter": "python",
   "pygments_lexer": "ipython3",
   "version": "3.12.8"
  }
 },
 "nbformat": 4,
 "nbformat_minor": 5
}
