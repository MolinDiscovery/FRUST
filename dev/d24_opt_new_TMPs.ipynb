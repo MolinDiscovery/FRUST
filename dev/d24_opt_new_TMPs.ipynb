{
 "cells": [
  {
   "cell_type": "code",
   "execution_count": 1,
   "id": "a700b6d2",
   "metadata": {},
   "outputs": [],
   "source": [
    "from pathlib import Path\n",
    "from frust.stepper import Stepper\n",
    "from tooltoad.chemutils import xyz2ac, ac2xyz\n",
    "import tooltoad.chemutils as cu"
   ]
  },
  {
   "cell_type": "code",
   "execution_count": 2,
   "id": "e9099059",
   "metadata": {},
   "outputs": [],
   "source": [
    "path = Path(\"../structures/misc/TMPs/\")\n",
    "\n",
    "mols = {}\n",
    "for file in path.rglob(\"*.xyz\"):\n",
    "    with open(file, \"r\") as f:\n",
    "        xyzblock = f.read()\n",
    "        atoms, coords = xyz2ac(xyzblock)\n",
    "        mols[file.stem] = ((atoms, coords))"
   ]
  },
  {
   "cell_type": "code",
   "execution_count": 3,
   "id": "74f32b16",
   "metadata": {},
   "outputs": [],
   "source": [
    "# import textwrap\n",
    "# from tooltoad.xtb import xtb_calculate\n",
    "# from tooltoad.vis import MolTo3DGrid\n",
    "# from tooltoad.chemutils import ac2mol\n",
    "\n",
    "# atoms, coords = mols.get(\"ts3_TMP\")\n",
    "# m_before = ac2mol(atoms, coords)\n",
    "\n",
    "# block = textwrap.dedent(f\"\"\"\n",
    "# $constrain\n",
    "#     force constant=6\n",
    "#     distance: 12, 11, 1.376\n",
    "#     distance: 12, 21, 1.264\n",
    "#     distance: 12, 13, 2.477\n",
    "#     distance: 13, 11, 1.616\n",
    "#     distance: 13, 21, 2.180\n",
    "#     distance: 11, 21, 2.007\n",
    "#     angle: 11, 12, 21, 98.89\n",
    "#     angle: 11, 13, 21, 61.75\n",
    "# $end\n",
    "# \"\"\").strip()\n",
    "\n",
    "# results = xtb_calculate(atoms, coords, options={\"gfn\": 2, \"opt\": None}, detailed_input_str=block, calc_dir=\"noob\")\n",
    "\n",
    "# atoms = results[\"atoms\"]\n",
    "# coords = results[\"opt_coords\"]\n",
    "# m_after = ac2mol(atoms, coords)\n",
    "\n",
    "# MolTo3DGrid([m_before, m_after], legends=[\"Before\", \"After\"])"
   ]
  },
  {
   "cell_type": "code",
   "execution_count": 4,
   "id": "b5eb83a0",
   "metadata": {},
   "outputs": [],
   "source": [
    "# ac2xyz(atoms, coords)\n",
    "\n",
    "# with open(\"../structures/misc/TMPs/ts4_TMP_gfn1\", \"w\") as f:\n",
    "#     f.write(ac2xyz(atoms, coords, \"ts4 TMP gfn1\"))"
   ]
  },
  {
   "cell_type": "code",
   "execution_count": 5,
   "id": "496d778c",
   "metadata": {},
   "outputs": [],
   "source": [
    "#MolTo3DGrid(cu.read_xyz(\"../structures/misc/TMPs/int3_TMP.xyz\"))"
   ]
  },
  {
   "cell_type": "markdown",
   "id": "d78aae08",
   "metadata": {},
   "source": [
    "# Check if the new TS3 TMP structure is correctly transformed."
   ]
  },
  {
   "cell_type": "code",
   "execution_count": 6,
   "id": "dd662465",
   "metadata": {},
   "outputs": [],
   "source": [
    "from frust.transformers import transformer_ts3\n",
    "\n",
    "ts3s = transformer_ts3(\"C1=CC=CO1\", ts_guess_struct=\"../structures/ts3_TMP.xyz\", embed_ready=True)"
   ]
  },
  {
   "cell_type": "code",
   "execution_count": 7,
   "id": "0a0f7c59",
   "metadata": {},
   "outputs": [],
   "source": [
    "m_b = cu.read_xyz_file(\"../structures/ts3_TMP.xyz\")"
   ]
  },
  {
   "cell_type": "code",
   "execution_count": 8,
   "id": "6829194c",
   "metadata": {},
   "outputs": [
    {
     "ename": "NameError",
     "evalue": "name 'MolTo3DGrid' is not defined",
     "output_type": "error",
     "traceback": [
      "\u001b[0;31m---------------------------------------------------------------------------\u001b[0m",
      "\u001b[0;31mNameError\u001b[0m                                 Traceback (most recent call last)",
      "Cell \u001b[0;32mIn[8], line 2\u001b[0m\n\u001b[1;32m      1\u001b[0m m_a \u001b[38;5;241m=\u001b[39m \u001b[38;5;28mlist\u001b[39m(ts3s\u001b[38;5;241m.\u001b[39mvalues())[\u001b[38;5;241m1\u001b[39m][\u001b[38;5;241m0\u001b[39m]\n\u001b[0;32m----> 2\u001b[0m \u001b[43mMolTo3DGrid\u001b[49m([m_b, m_a], legends\u001b[38;5;241m=\u001b[39m[\u001b[38;5;124m\"\u001b[39m\u001b[38;5;124mb\u001b[39m\u001b[38;5;124m\"\u001b[39m, \u001b[38;5;124m\"\u001b[39m\u001b[38;5;124ma\u001b[39m\u001b[38;5;124m\"\u001b[39m], show_charges\u001b[38;5;241m=\u001b[39m\u001b[38;5;28;01mFalse\u001b[39;00m)\n",
      "\u001b[0;31mNameError\u001b[0m: name 'MolTo3DGrid' is not defined"
     ]
    }
   ],
   "source": [
    "m_a = list(ts3s.values())[1][0]\n",
    "MolTo3DGrid([m_b, m_a], legends=[\"b\", \"a\"], show_charges=False)"
   ]
  }
 ],
 "metadata": {
  "kernelspec": {
   "display_name": "FrustActivation",
   "language": "python",
   "name": "python3"
  },
  "language_info": {
   "codemirror_mode": {
    "name": "ipython",
    "version": 3
   },
   "file_extension": ".py",
   "mimetype": "text/x-python",
   "name": "python",
   "nbconvert_exporter": "python",
   "pygments_lexer": "ipython3",
   "version": "3.12.8"
  }
 },
 "nbformat": 4,
 "nbformat_minor": 5
}
