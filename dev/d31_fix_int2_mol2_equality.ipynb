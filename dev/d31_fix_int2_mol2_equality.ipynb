{
 "cells": [
  {
   "cell_type": "code",
   "execution_count": 46,
   "id": "1924bd75",
   "metadata": {},
   "outputs": [],
   "source": [
    "from frust.transformers import transformer_mols\n",
    "from frust.vis import MolTo3DGrid"
   ]
  },
  {
   "cell_type": "code",
   "execution_count": 52,
   "id": "be040f48",
   "metadata": {},
   "outputs": [],
   "source": [
    "ts_mols = transformer_mols(\"C1=CC=CS1\", select=[\"int2\", \"mol2\"])"
   ]
  },
  {
   "cell_type": "code",
   "execution_count": 53,
   "id": "dbf49805",
   "metadata": {},
   "outputs": [
    {
     "name": "stdout",
     "output_type": "stream",
     "text": [
      "dict_keys(['C1=CC=CS1_int2_rpos(17)', 'C1=CC=CS1_int2_rpos(18)', 'C1=CC=CS1_mol2_rpos(17)', 'C1=CC=CS1_mol2_rpos(18)'])\n"
     ]
    },
    {
     "name": "stderr",
     "output_type": "stream",
     "text": [
      "[15:44:59] Molecule does not have explicit Hs. Consider calling AddHs()\n"
     ]
    },
    {
     "data": {
      "application/3dmoljs_load.v0": "<div id=\"3dmolviewer_1759153499051712\"  style=\"position: relative; width: 400px; height: 400px;\">\n        <p id=\"3dmolwarning_1759153499051712\" style=\"background-color:#ffcccc;color:black\">3Dmol.js failed to load for some reason.  Please check your browser console for error messages.<br></p>\n        </div>\n<script>\n\nvar loadScriptAsync = function(uri){\n  return new Promise((resolve, reject) => {\n    //this is to ignore the existence of requirejs amd\n    var savedexports, savedmodule;\n    if (typeof exports !== 'undefined') savedexports = exports;\n    else exports = {}\n    if (typeof module !== 'undefined') savedmodule = module;\n    else module = {}\n\n    var tag = document.createElement('script');\n    tag.src = uri;\n    tag.async = true;\n    tag.onload = () => {\n        exports = savedexports;\n        module = savedmodule;\n        resolve();\n    };\n  var firstScriptTag = document.getElementsByTagName('script')[0];\n  firstScriptTag.parentNode.insertBefore(tag, firstScriptTag);\n});\n};\n\nif(typeof $3Dmolpromise === 'undefined') {\n$3Dmolpromise = null;\n  $3Dmolpromise = loadScriptAsync('https://cdnjs.cloudflare.com/ajax/libs/3Dmol/2.4.2/3Dmol-min.js');\n}\n\nvar viewer_1759153499051712 = null;\nvar warn = document.getElementById(\"3dmolwarning_1759153499051712\");\nif(warn) {\n    warn.parentNode.removeChild(warn);\n}\n$3Dmolpromise.then(function() {\nvar viewergrid_1759153499051712 = null;\nviewergrid_1759153499051712 = $3Dmol.createViewerGrid(document.getElementById(\"3dmolviewer_1759153499051712\"),{rows: 1, cols: 1, control_all: false},{backgroundColor:\"white\"});\nviewer_1759153499051712 = viewergrid_1759153499051712[0][0];\nviewergrid_1759153499051712[0][0].zoomTo();\tviewergrid_1759153499051712[0][0].setBackgroundColor(\"white\");\n\tviewergrid_1759153499051712[0][0].addModel(\"\\n     RDKit          3D\\n\\n 22 24  0  0  0  0  0  0  0  0999 V2000\\n   -1.0159    1.8317   -1.6509 C   0  0  0  0  0  0  0  0  0  0  0  0\\n   -1.6107    1.4314   -0.3404 C   0  0  0  0  0  0  0  0  0  0  0  0\\n   -3.1298    1.4034   -0.5301 C   0  0  0  0  0  0  0  0  0  0  0  0\\n   -1.3707    2.4722    0.7606 C   0  0  0  0  0  0  0  0  0  0  0  0\\n   -1.9117    1.8331    2.0291 C   0  0  0  0  0  0  0  0  0  0  0  0\\n   -2.8643    0.6940    1.7394 C   0  0  0  0  0  0  0  0  0  0  0  0\\n   -2.2426   -0.4076    0.9190 C   0  0  0  0  0  0  0  0  0  0  0  0\\n   -3.3135   -0.9259   -0.0489 C   0  0  0  0  0  0  0  0  0  0  0  0\\n   -1.7892   -1.5922    1.7153 C   0  0  0  0  0  0  0  0  0  0  0  0\\n   -1.1327    0.1889    0.1922 N   0  0  0  0  0  0  0  0  0  0  0  0\\n   -0.5592   -0.6903   -0.7374 C   0  0  0  0  0  0  0  0  0  0  0  0\\n   -1.2344   -1.7797   -1.2529 C   0  0  0  0  0  0  0  0  0  0  0  0\\n   -0.6367   -2.6359   -2.1761 C   0  0  0  0  0  0  0  0  0  0  0  0\\n    0.6394   -2.4168   -2.5961 C   0  0  0  0  0  0  0  0  0  0  0  0\\n    1.3321   -1.3376   -2.0964 C   0  0  0  0  0  0  0  0  0  0  0  0\\n    0.7333   -0.4940   -1.1822 C   0  0  0  0  0  0  0  0  0  0  0  0\\n    1.5520    0.7069   -0.6481 B   0  0  0  0  0  0  0  0  0  0  0  0\\n    2.6647    0.5070    0.2645 C   0  0  0  0  0  0  0  0  0  0  0  0\\n    3.8946   -0.1929    0.1389 C   0  0  0  0  0  0  0  0  0  0  0  0\\n    4.6941   -0.1813    1.1621 C   0  0  0  0  0  0  0  0  0  0  0  0\\n    4.5044    0.4018    2.3067 C   0  0  0  0  0  0  0  0  0  0  0  0\\n    2.7970    1.1837    2.0316 S   0  0  0  0  0  0  0  0  0  0  0  0\\n  1  2  1  0\\n  2  3  1  0\\n  2  4  1  0\\n  4  5  1  0\\n  5  6  1  0\\n  6  7  1  0\\n  7  8  1  0\\n  7  9  1  0\\n  7 10  1  0\\n 10 11  1  0\\n 11 12  2  0\\n 12 13  1  0\\n 13 14  2  0\\n 14 15  1  0\\n 15 16  2  0\\n 16 17  1  0\\n 10  2  1  0\\n 16 11  1  0\\n 18 19  2  0\\n 19 20  1  0\\n 20 21  2  0\\n 21 22  1  0\\n 22 18  1  0\\n 17 18  1  0\\nM  CHG  2  10   1  17  -1\\nM  END\\n\",\"mol\");\n\tviewergrid_1759153499051712[0][0].setStyle({},{\"stick\": {}, \"sphere\": {\"radius\": 0.3}});\n\tviewergrid_1759153499051712[0][0].zoomTo();\n\tviewergrid_1759153499051712[0][0].addLabel(\"Mol 1\",{\"fontColor\": \"black\", \"backgroundColor\": \"white\", \"borderColor\": \"black\", \"borderWidth\": 1, \"useScreen\": true, \"inFront\": true, \"screenOffset\": {\"x\": 10, \"y\": 0}});\n\tviewergrid_1759153499051712[0][0].addCylinder({\"start\": {\"x\": -1.1327368476332458, \"y\": 0.18889561464258725, \"z\": 0.19219806936252926}, \"end\": {\"x\": -1.1327368476332458, \"y\": 0.18889561464258725, \"z\": 0.19219806936252926}, \"radius\": 0.05, \"color\": \"red\", \"fromCap\": false, \"toCap\": false});\n\tviewergrid_1759153499051712[0][0].addLabel(\"1+\",{\"position\": {\"x\": -1.1327368476332458, \"y\": 0.18889561464258725, \"z\": 0.19219806936252926}, \"inFront\": true, \"fontSize\": 16, \"fontColor\": \"red\", \"fontWeight\": \"bold\", \"backgroundColor\": \"rgba(255,255,255,0)\", \"backgroundOpacity\": 0.6});\n\tviewergrid_1759153499051712[0][0].addCylinder({\"start\": {\"x\": 1.5519752647066667, \"y\": 0.7068858143768556, \"z\": -0.6481461696804718}, \"end\": {\"x\": 1.5519752647066667, \"y\": 0.7068858143768556, \"z\": -0.6481461696804718}, \"radius\": 0.05, \"color\": \"blue\", \"fromCap\": false, \"toCap\": false});\n\tviewergrid_1759153499051712[0][0].addLabel(\"1-\",{\"position\": {\"x\": 1.5519752647066667, \"y\": 0.7068858143768556, \"z\": -0.6481461696804718}, \"inFront\": true, \"fontSize\": 16, \"fontColor\": \"blue\", \"fontWeight\": \"bold\", \"backgroundColor\": \"rgba(255,255,255,0)\", \"backgroundOpacity\": 0.6});\n\tviewergrid_1759153499051712[0][0].setClickable({},true,\"function(atom, viewer, event, container) {\\n                    if(!viewer._picks)       viewer._picks = [];\\n                    if(!viewer._distLabels)  viewer._distLabels = {};\\n                    if(!viewer._anglePicks)  viewer._anglePicks = [];\\n                    if(!viewer._angleLabels) viewer._angleLabels = {};\\n\\n                    // Shift-click: angle\\n                    if(event.shiftKey) {\\n                        viewer._anglePicks.push(atom);\\n                        if(viewer._anglePicks.length === 3) {\\n                            var A = viewer._anglePicks[0], B = viewer._anglePicks[1], C = viewer._anglePicks[2];\\n                            var key = [A.index,B.index,C.index].join('-');\\n                            if(key in viewer._angleLabels) {\\n                                viewer.removeLabel(viewer._angleLabels[key]);\\n                                delete viewer._angleLabels[key];\\n                            } else {\\n                                function vec(u,v){return{x:u.x-v.x,y:u.y-v.y,z:u.z-v.z}};\\n                                var vBA=vec(A,B), vBC=vec(C,B);\\n                                var dot=vBA.x*vBC.x+vBA.y*vBC.y+vBA.z*vBC.z;\\n                                var magBA=Math.sqrt(vBA.x*vBA.x+vBA.y*vBA.y+vBA.z*vBA.z);\\n                                var magBC=Math.sqrt(vBC.x*vBC.x+vBC.y*vBC.y+vBC.z*vBC.z);\\n                                var angle=(Math.acos(dot/(magBA*magBC))*(180/Math.PI)).toFixed(2)+'\\u00b0';\\n                                var lbl = viewer.addLabel(angle,\\n                                    {position:{x:B.x,y:B.y,z:B.z}, backgroundColor:'blue', fontColor:'white', fontSize:12});\\n                                viewer._angleLabels[key] = lbl;\\n                            }\\n                            viewer._anglePicks = [];\\n                        }\\n                    }\\n                    // Ctrl-click: distance\\n                    else if(event.ctrlKey) {\\n                        viewer._picks.push(atom);\\n                        if(viewer._picks.length === 2) {\\n                            var a=viewer._picks[0], b=viewer._picks[1];\\n                            var key=[Math.min(a.index,b.index),Math.max(a.index,b.index)].join('-');\\n                            if(key in viewer._distLabels) {\\n                                viewer.removeLabel(viewer._distLabels[key]); delete viewer._distLabels[key];\\n                            } else {\\n                                var dx=a.x-b.x, dy=a.y-b.y, dz=a.z-b.z;\\n                                var dist=Math.sqrt(dx*dx+dy*dy+dz*dz).toFixed(3)+' \\u00c5';\\n                                var mid={x:(a.x+b.x)/2,y:(a.y+b.y)/2,z:(a.z+b.z)/2};\\n                                var lbl=viewer.addLabel(dist,{position:mid,backgroundColor:'grey',fontColor:'white',fontSize:12});\\n                                viewer._distLabels[key]=lbl;\\n                            }\\n                            viewer._picks = [];\\n                        }\\n                    }\\n                    // Click: toggle label\\n                    else {\\n                        if(atom.label) {viewer.removeLabel(atom.label); delete atom.label;} \\n                        else {atom.label = viewer.addLabel(atom.index,{position:atom, backgroundColor:'white', fontColor:'black', fontSize:12});}\\n                    }\\n                    viewer.render();\\n                }\");\nviewergrid_1759153499051712[0][0].render();\n});\n</script>",
      "text/html": [
       "<div id=\"3dmolviewer_1759153499051712\"  style=\"position: relative; width: 400px; height: 400px;\">\n",
       "        <p id=\"3dmolwarning_1759153499051712\" style=\"background-color:#ffcccc;color:black\">3Dmol.js failed to load for some reason.  Please check your browser console for error messages.<br></p>\n",
       "        </div>\n",
       "<script>\n",
       "\n",
       "var loadScriptAsync = function(uri){\n",
       "  return new Promise((resolve, reject) => {\n",
       "    //this is to ignore the existence of requirejs amd\n",
       "    var savedexports, savedmodule;\n",
       "    if (typeof exports !== 'undefined') savedexports = exports;\n",
       "    else exports = {}\n",
       "    if (typeof module !== 'undefined') savedmodule = module;\n",
       "    else module = {}\n",
       "\n",
       "    var tag = document.createElement('script');\n",
       "    tag.src = uri;\n",
       "    tag.async = true;\n",
       "    tag.onload = () => {\n",
       "        exports = savedexports;\n",
       "        module = savedmodule;\n",
       "        resolve();\n",
       "    };\n",
       "  var firstScriptTag = document.getElementsByTagName('script')[0];\n",
       "  firstScriptTag.parentNode.insertBefore(tag, firstScriptTag);\n",
       "});\n",
       "};\n",
       "\n",
       "if(typeof $3Dmolpromise === 'undefined') {\n",
       "$3Dmolpromise = null;\n",
       "  $3Dmolpromise = loadScriptAsync('https://cdnjs.cloudflare.com/ajax/libs/3Dmol/2.4.2/3Dmol-min.js');\n",
       "}\n",
       "\n",
       "var viewer_1759153499051712 = null;\n",
       "var warn = document.getElementById(\"3dmolwarning_1759153499051712\");\n",
       "if(warn) {\n",
       "    warn.parentNode.removeChild(warn);\n",
       "}\n",
       "$3Dmolpromise.then(function() {\n",
       "var viewergrid_1759153499051712 = null;\n",
       "viewergrid_1759153499051712 = $3Dmol.createViewerGrid(document.getElementById(\"3dmolviewer_1759153499051712\"),{rows: 1, cols: 1, control_all: false},{backgroundColor:\"white\"});\n",
       "viewer_1759153499051712 = viewergrid_1759153499051712[0][0];\n",
       "viewergrid_1759153499051712[0][0].zoomTo();\tviewergrid_1759153499051712[0][0].setBackgroundColor(\"white\");\n",
       "\tviewergrid_1759153499051712[0][0].addModel(\"\\n     RDKit          3D\\n\\n 22 24  0  0  0  0  0  0  0  0999 V2000\\n   -1.0159    1.8317   -1.6509 C   0  0  0  0  0  0  0  0  0  0  0  0\\n   -1.6107    1.4314   -0.3404 C   0  0  0  0  0  0  0  0  0  0  0  0\\n   -3.1298    1.4034   -0.5301 C   0  0  0  0  0  0  0  0  0  0  0  0\\n   -1.3707    2.4722    0.7606 C   0  0  0  0  0  0  0  0  0  0  0  0\\n   -1.9117    1.8331    2.0291 C   0  0  0  0  0  0  0  0  0  0  0  0\\n   -2.8643    0.6940    1.7394 C   0  0  0  0  0  0  0  0  0  0  0  0\\n   -2.2426   -0.4076    0.9190 C   0  0  0  0  0  0  0  0  0  0  0  0\\n   -3.3135   -0.9259   -0.0489 C   0  0  0  0  0  0  0  0  0  0  0  0\\n   -1.7892   -1.5922    1.7153 C   0  0  0  0  0  0  0  0  0  0  0  0\\n   -1.1327    0.1889    0.1922 N   0  0  0  0  0  0  0  0  0  0  0  0\\n   -0.5592   -0.6903   -0.7374 C   0  0  0  0  0  0  0  0  0  0  0  0\\n   -1.2344   -1.7797   -1.2529 C   0  0  0  0  0  0  0  0  0  0  0  0\\n   -0.6367   -2.6359   -2.1761 C   0  0  0  0  0  0  0  0  0  0  0  0\\n    0.6394   -2.4168   -2.5961 C   0  0  0  0  0  0  0  0  0  0  0  0\\n    1.3321   -1.3376   -2.0964 C   0  0  0  0  0  0  0  0  0  0  0  0\\n    0.7333   -0.4940   -1.1822 C   0  0  0  0  0  0  0  0  0  0  0  0\\n    1.5520    0.7069   -0.6481 B   0  0  0  0  0  0  0  0  0  0  0  0\\n    2.6647    0.5070    0.2645 C   0  0  0  0  0  0  0  0  0  0  0  0\\n    3.8946   -0.1929    0.1389 C   0  0  0  0  0  0  0  0  0  0  0  0\\n    4.6941   -0.1813    1.1621 C   0  0  0  0  0  0  0  0  0  0  0  0\\n    4.5044    0.4018    2.3067 C   0  0  0  0  0  0  0  0  0  0  0  0\\n    2.7970    1.1837    2.0316 S   0  0  0  0  0  0  0  0  0  0  0  0\\n  1  2  1  0\\n  2  3  1  0\\n  2  4  1  0\\n  4  5  1  0\\n  5  6  1  0\\n  6  7  1  0\\n  7  8  1  0\\n  7  9  1  0\\n  7 10  1  0\\n 10 11  1  0\\n 11 12  2  0\\n 12 13  1  0\\n 13 14  2  0\\n 14 15  1  0\\n 15 16  2  0\\n 16 17  1  0\\n 10  2  1  0\\n 16 11  1  0\\n 18 19  2  0\\n 19 20  1  0\\n 20 21  2  0\\n 21 22  1  0\\n 22 18  1  0\\n 17 18  1  0\\nM  CHG  2  10   1  17  -1\\nM  END\\n\",\"mol\");\n",
       "\tviewergrid_1759153499051712[0][0].setStyle({},{\"stick\": {}, \"sphere\": {\"radius\": 0.3}});\n",
       "\tviewergrid_1759153499051712[0][0].zoomTo();\n",
       "\tviewergrid_1759153499051712[0][0].addLabel(\"Mol 1\",{\"fontColor\": \"black\", \"backgroundColor\": \"white\", \"borderColor\": \"black\", \"borderWidth\": 1, \"useScreen\": true, \"inFront\": true, \"screenOffset\": {\"x\": 10, \"y\": 0}});\n",
       "\tviewergrid_1759153499051712[0][0].addCylinder({\"start\": {\"x\": -1.1327368476332458, \"y\": 0.18889561464258725, \"z\": 0.19219806936252926}, \"end\": {\"x\": -1.1327368476332458, \"y\": 0.18889561464258725, \"z\": 0.19219806936252926}, \"radius\": 0.05, \"color\": \"red\", \"fromCap\": false, \"toCap\": false});\n",
       "\tviewergrid_1759153499051712[0][0].addLabel(\"1+\",{\"position\": {\"x\": -1.1327368476332458, \"y\": 0.18889561464258725, \"z\": 0.19219806936252926}, \"inFront\": true, \"fontSize\": 16, \"fontColor\": \"red\", \"fontWeight\": \"bold\", \"backgroundColor\": \"rgba(255,255,255,0)\", \"backgroundOpacity\": 0.6});\n",
       "\tviewergrid_1759153499051712[0][0].addCylinder({\"start\": {\"x\": 1.5519752647066667, \"y\": 0.7068858143768556, \"z\": -0.6481461696804718}, \"end\": {\"x\": 1.5519752647066667, \"y\": 0.7068858143768556, \"z\": -0.6481461696804718}, \"radius\": 0.05, \"color\": \"blue\", \"fromCap\": false, \"toCap\": false});\n",
       "\tviewergrid_1759153499051712[0][0].addLabel(\"1-\",{\"position\": {\"x\": 1.5519752647066667, \"y\": 0.7068858143768556, \"z\": -0.6481461696804718}, \"inFront\": true, \"fontSize\": 16, \"fontColor\": \"blue\", \"fontWeight\": \"bold\", \"backgroundColor\": \"rgba(255,255,255,0)\", \"backgroundOpacity\": 0.6});\n",
       "\tviewergrid_1759153499051712[0][0].setClickable({},true,\"function(atom, viewer, event, container) {\\n                    if(!viewer._picks)       viewer._picks = [];\\n                    if(!viewer._distLabels)  viewer._distLabels = {};\\n                    if(!viewer._anglePicks)  viewer._anglePicks = [];\\n                    if(!viewer._angleLabels) viewer._angleLabels = {};\\n\\n                    // Shift-click: angle\\n                    if(event.shiftKey) {\\n                        viewer._anglePicks.push(atom);\\n                        if(viewer._anglePicks.length === 3) {\\n                            var A = viewer._anglePicks[0], B = viewer._anglePicks[1], C = viewer._anglePicks[2];\\n                            var key = [A.index,B.index,C.index].join('-');\\n                            if(key in viewer._angleLabels) {\\n                                viewer.removeLabel(viewer._angleLabels[key]);\\n                                delete viewer._angleLabels[key];\\n                            } else {\\n                                function vec(u,v){return{x:u.x-v.x,y:u.y-v.y,z:u.z-v.z}};\\n                                var vBA=vec(A,B), vBC=vec(C,B);\\n                                var dot=vBA.x*vBC.x+vBA.y*vBC.y+vBA.z*vBC.z;\\n                                var magBA=Math.sqrt(vBA.x*vBA.x+vBA.y*vBA.y+vBA.z*vBA.z);\\n                                var magBC=Math.sqrt(vBC.x*vBC.x+vBC.y*vBC.y+vBC.z*vBC.z);\\n                                var angle=(Math.acos(dot/(magBA*magBC))*(180/Math.PI)).toFixed(2)+'\\u00b0';\\n                                var lbl = viewer.addLabel(angle,\\n                                    {position:{x:B.x,y:B.y,z:B.z}, backgroundColor:'blue', fontColor:'white', fontSize:12});\\n                                viewer._angleLabels[key] = lbl;\\n                            }\\n                            viewer._anglePicks = [];\\n                        }\\n                    }\\n                    // Ctrl-click: distance\\n                    else if(event.ctrlKey) {\\n                        viewer._picks.push(atom);\\n                        if(viewer._picks.length === 2) {\\n                            var a=viewer._picks[0], b=viewer._picks[1];\\n                            var key=[Math.min(a.index,b.index),Math.max(a.index,b.index)].join('-');\\n                            if(key in viewer._distLabels) {\\n                                viewer.removeLabel(viewer._distLabels[key]); delete viewer._distLabels[key];\\n                            } else {\\n                                var dx=a.x-b.x, dy=a.y-b.y, dz=a.z-b.z;\\n                                var dist=Math.sqrt(dx*dx+dy*dy+dz*dz).toFixed(3)+' \\u00c5';\\n                                var mid={x:(a.x+b.x)/2,y:(a.y+b.y)/2,z:(a.z+b.z)/2};\\n                                var lbl=viewer.addLabel(dist,{position:mid,backgroundColor:'grey',fontColor:'white',fontSize:12});\\n                                viewer._distLabels[key]=lbl;\\n                            }\\n                            viewer._picks = [];\\n                        }\\n                    }\\n                    // Click: toggle label\\n                    else {\\n                        if(atom.label) {viewer.removeLabel(atom.label); delete atom.label;} \\n                        else {atom.label = viewer.addLabel(atom.index,{position:atom, backgroundColor:'white', fontColor:'black', fontSize:12});}\\n                    }\\n                    viewer.render();\\n                }\");\n",
       "viewergrid_1759153499051712[0][0].render();\n",
       "});\n",
       "</script>"
      ]
     },
     "metadata": {},
     "output_type": "display_data"
    }
   ],
   "source": [
    "print(ts_mols.keys())\n",
    "mols = list(ts_mols.values())\n",
    "MolTo3DGrid(mols[0])"
   ]
  }
 ],
 "metadata": {
  "kernelspec": {
   "display_name": "UMA",
   "language": "python",
   "name": "python3"
  },
  "language_info": {
   "codemirror_mode": {
    "name": "ipython",
    "version": 3
   },
   "file_extension": ".py",
   "mimetype": "text/x-python",
   "name": "python",
   "nbconvert_exporter": "python",
   "pygments_lexer": "ipython3",
   "version": "3.12.8"
  }
 },
 "nbformat": 4,
 "nbformat_minor": 5
}
