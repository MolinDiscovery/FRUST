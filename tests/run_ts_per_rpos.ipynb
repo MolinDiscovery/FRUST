{
 "cells": [
  {
   "cell_type": "code",
   "execution_count": 1,
   "id": "6e22d537",
   "metadata": {},
   "outputs": [],
   "source": [
    "import pandas as pd\n",
    "from frust.pipes import create_ts_per_rpos, run_ts_per_rpos\n",
    "import os"
   ]
  },
  {
   "cell_type": "code",
   "execution_count": null,
   "id": "88d191e7",
   "metadata": {},
   "outputs": [],
   "source": [
    "CSV_PATH = \"../datasets/1m.csv\"\n",
    "TS_XYZ         = \"../structures/ts1.xyz\"\n",
    "df       = pd.read_csv(CSV_PATH)\n",
    "smi_list = list(dict.fromkeys(df[\"smiles\"]))\n",
    "job_inputs = create_ts_per_rpos(smi_list, TS_XYZ)"
   ]
  },
  {
   "cell_type": "code",
   "execution_count": null,
   "id": "bd3c31d7",
   "metadata": {},
   "outputs": [
    {
     "name": "stdout",
     "output_type": "stream",
     "text": [
      "Embedded 1 conformers on atom 44\n",
      "2025-10-16 09:46:14 INFO  frust.stepper: Working dir: noob\n",
      "2025-10-16 09:46:14 INFO  frust.stepper: [xtb-gfnff-opt] row 0 (TS1(1-methylpyrrole_rpos(2)))…\n",
      "2025-10-16 09:46:15 INFO  frust.stepper: [xtb-gfn] row 0 (TS1(1-methylpyrrole_rpos(2)))…\n",
      "2025-10-16 09:46:15 INFO  frust.stepper: [xtb-gfn-opt] row 0 (TS1(1-methylpyrrole_rpos(2)))…\n",
      "2025-10-16 09:46:35 INFO  frust.stepper: [DFT-pre-SP-wB97X-D3-6-31G**-NoSym] row 0 (TS1(1-methylpyrrole_rpos(2)))…\n",
      "2025-10-16 09:47:36 INFO  frust.stepper: [DFT-pre-Opt-wB97X-D3-6-31G**-NoSym] row 0 (TS1(1-methylpyrrole_rpos(2)))…\n"
     ]
    }
   ],
   "source": [
    "n = 0\n",
    "out_dir = f\"test{n}\"\n",
    "\n",
    "job = job_inputs[n]\n",
    "tag = list(job.keys())[0]\n",
    "\n",
    "df = run_ts_per_rpos(\n",
    "    job,\n",
    "    n_confs=1,\n",
    "    n_cores=10,\n",
    "    mem_gb=30,\n",
    "    debug=False,\n",
    "    DFT=True,\n",
    "    out_dir=out_dir,\n",
    "    output_parquet=os.path.join(out_dir, f\"{tag}.parquet\"),\n",
    "    save_output_dir=True,\n",
    "    work_dir=\"noob\",\n",
    ")"
   ]
  }
 ],
 "metadata": {
  "kernelspec": {
   "display_name": "UMA",
   "language": "python",
   "name": "python3"
  },
  "language_info": {
   "codemirror_mode": {
    "name": "ipython",
    "version": 3
   },
   "file_extension": ".py",
   "mimetype": "text/x-python",
   "name": "python",
   "nbconvert_exporter": "python",
   "pygments_lexer": "ipython3",
   "version": "3.12.8"
  }
 },
 "nbformat": 4,
 "nbformat_minor": 5
}
