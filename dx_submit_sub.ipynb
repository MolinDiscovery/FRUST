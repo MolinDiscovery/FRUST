{
 "cells": [
  {
   "cell_type": "code",
   "execution_count": 4,
   "id": "09403e86",
   "metadata": {},
   "outputs": [
    {
     "name": "stdout",
     "output_type": "stream",
     "text": [
      "The autoreload extension is already loaded. To reload it, use:\n",
      "  %reload_ext autoreload\n"
     ]
    }
   ],
   "source": [
    "%load_ext autoreload\n",
    "%autoreload 2"
   ]
  },
  {
   "cell_type": "code",
   "execution_count": null,
   "id": "e53cd03f",
   "metadata": {},
   "outputs": [],
   "source": [
    "import submitit\n",
    "import pandas as pd"
   ]
  },
  {
   "cell_type": "code",
   "execution_count": 6,
   "id": "87c23a6b",
   "metadata": {},
   "outputs": [],
   "source": [
    "def primary_function():\n",
    "    print(\"Primary function was executed.\")\n",
    "\n",
    "    executor = submitit.SlurmExecutor(\"slurm_subjob\")\n",
    "    executor.update_parameters(\n",
    "        partition = \"kemi1\",\n",
    "    )\n",
    "\n",
    "    executor.submit(secondary_function)\n",
    "\n",
    "def secondary_function():\n",
    "    print(\"Secondary function was executed.\")"
   ]
  },
  {
   "cell_type": "code",
   "execution_count": 7,
   "id": "4d1872fb",
   "metadata": {},
   "outputs": [
    {
     "data": {
      "text/plain": [
       "SlurmJob<job_id=52638683, task_id=0, state=\"UNKNOWN\">"
      ]
     },
     "execution_count": 7,
     "metadata": {},
     "output_type": "execute_result"
    }
   ],
   "source": [
    "executor = submitit.SlurmExecutor(\"slurm_job\")\n",
    "executor.update_parameters(\n",
    "    partition = \"kemi1\",\n",
    ")\n",
    "\n",
    "executor.submit(primary_function)"
   ]
  },
  {
   "cell_type": "code",
   "execution_count": null,
   "id": "32b84da8",
   "metadata": {},
   "outputs": [],
   "source": []
  }
 ],
 "metadata": {
  "kernelspec": {
   "display_name": "FrustActivation",
   "language": "python",
   "name": "python3"
  },
  "language_info": {
   "codemirror_mode": {
    "name": "ipython",
    "version": 3
   },
   "file_extension": ".py",
   "mimetype": "text/x-python",
   "name": "python",
   "nbconvert_exporter": "python",
   "pygments_lexer": "ipython3",
   "version": "3.12.8"
  }
 },
 "nbformat": 4,
 "nbformat_minor": 5
}
