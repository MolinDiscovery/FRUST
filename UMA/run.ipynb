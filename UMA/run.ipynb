{
 "cells": [
  {
   "cell_type": "code",
   "execution_count": 12,
   "id": "1065aef0",
   "metadata": {},
   "outputs": [],
   "source": [
    "import submitit\n",
    "from frust.pipes import run_mols_UMA\n",
    "import nuse\n",
    "import pandas as pd\n",
    "\n",
    "df = pd.read_csv(\"../datasets/font_smiles.csv\", index_col=0)\n",
    "\n",
    "def run(results_dir, debug, n_cores, mem_gb):\n",
    "    nuse.start_monitoring(filter_cgroup=True)\n",
    "    \n",
    "    run_mols_UMA(\n",
    "        df[\"smiles\"].to_list(),\n",
    "        output_parquet=\"results.parquet\",\n",
    "        n_confs=100,\n",
    "        debug=debug,\n",
    "        mem_gb=mem_gb,\n",
    "        n_cores=n_cores,\n",
    "        out_dir=results_dir,\n",
    "        select_mols=\"ligand\",\n",
    "    )"
   ]
  },
  {
   "cell_type": "code",
   "execution_count": null,
   "id": "abf2f4f5",
   "metadata": {},
   "outputs": [
    {
     "name": "stdout",
     "output_type": "stream",
     "text": [
      "Submitted: uma_mols\n"
     ]
    }
   ],
   "source": [
    "DEBUG           = False\n",
    "N_CORES         = 96\n",
    "MEM_GB          = 250\n",
    "TIMEOUT_MIN     = 14400\n",
    "RESULTS_DIR     = \"UMA_ligands\"\n",
    "\n",
    "executor = submitit.AutoExecutor(f\"logs/{RESULTS_DIR}\")\n",
    "executor.update_parameters(\n",
    "    slurm_partition=\"kemi1\",\n",
    "    cpus_per_task=N_CORES,\n",
    "    mem_gb=MEM_GB,\n",
    "    timeout_min=TIMEOUT_MIN,\n",
    ")\n",
    "\n",
    "executor.update_parameters(slurm_job_name=RESULTS_DIR)\n",
    "executor.submit(run, RESULTS_DIR, DEBUG, N_CORES, MEM_GB)\n",
    "print(f\"Submitted: {RESULTS_DIR}\")"
   ]
  }
 ],
 "metadata": {
  "kernelspec": {
   "display_name": "UMA",
   "language": "python",
   "name": "python3"
  },
  "language_info": {
   "codemirror_mode": {
    "name": "ipython",
    "version": 3
   },
   "file_extension": ".py",
   "mimetype": "text/x-python",
   "name": "python",
   "nbconvert_exporter": "python",
   "pygments_lexer": "ipython3",
   "version": "3.12.8"
  }
 },
 "nbformat": 4,
 "nbformat_minor": 5
}
