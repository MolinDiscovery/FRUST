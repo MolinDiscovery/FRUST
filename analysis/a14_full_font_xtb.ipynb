{
 "cells": [
  {
   "cell_type": "code",
   "execution_count": 1,
   "id": "f82a102e",
   "metadata": {},
   "outputs": [],
   "source": [
    "import pandas as pd"
   ]
  },
  {
   "cell_type": "code",
   "execution_count": 2,
   "id": "4edf574f",
   "metadata": {},
   "outputs": [],
   "source": [
    "conversion_factor       =  627.509474\n",
    "\n",
    "df_generics = pd.read_parquet(\"output_files/full_font_xtb/generics.parquet\")\n",
    "df_uniques = pd.read_parquet(\"output_files/full_font_xtb/uniques.parquet\")"
   ]
  },
  {
   "cell_type": "code",
   "execution_count": 3,
   "id": "d45868f1",
   "metadata": {},
   "outputs": [],
   "source": [
    "df_uniques = df_uniques.sort_values(by=[\"ligand_name\", \"rpos\", \"DFT-pre-SP-wB97X-D3-6-31G**-NoSym-electronic_energy\"]).groupby([\"ligand_name\", \"rpos\"]).head(1)\n",
    "df_generics = df_generics.sort_values(by=[\"ligand_name\", \"DFT-pre-SP-wB97X-D3-6-31G**-NoSym-electronic_energy\"]).groupby([\"ligand_name\"]).head(1)\n",
    "\n",
    "df_generics = df_generics[[\"ligand_name\", \"rpos\", \"atoms\", \"xtb-gfn-opt-opt_coords\", \"DFT-pre-SP-wB97X-D3-6-31G**-NoSym-electronic_energy\"]].rename(columns={\"DFT-pre-SP-wB97X-D3-6-31G**-NoSym-electronic_energy\": \"E_gen\"})"
   ]
  },
  {
   "cell_type": "code",
   "execution_count": 4,
   "id": "93124d2f",
   "metadata": {},
   "outputs": [
    {
     "name": "stdout",
     "output_type": "stream",
     "text": [
      "-258394.18701306346 -736.0347599326439 -417604.98467544967 -835242.3030976757\n"
     ]
    }
   ],
   "source": [
    "df_generics[\"E_gen\"] *= conversion_factor\n",
    "dimer_dft = df_generics.iloc[0, 4]\n",
    "H2_dft = df_generics.iloc[1, 4]\n",
    "cat_dft    = df_generics.iloc[2, 4]\n",
    "HBpinmol_dift = df_generics.iloc[3, 4]\n",
    "print(dimer_dft, H2_dft, cat_dft, HBpinmol_dift)"
   ]
  }
 ],
 "metadata": {
  "kernelspec": {
   "display_name": "UMA",
   "language": "python",
   "name": "python3"
  },
  "language_info": {
   "codemirror_mode": {
    "name": "ipython",
    "version": 3
   },
   "file_extension": ".py",
   "mimetype": "text/x-python",
   "name": "python",
   "nbconvert_exporter": "python",
   "pygments_lexer": "ipython3",
   "version": "3.12.8"
  }
 },
 "nbformat": 4,
 "nbformat_minor": 5
}
