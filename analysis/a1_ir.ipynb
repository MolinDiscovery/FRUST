{
 "cells": [
  {
   "cell_type": "code",
   "execution_count": 15,
   "id": "1a4dcea6",
   "metadata": {},
   "outputs": [],
   "source": [
    "import pandas as pd\n",
    "from rdkit import Chem\n",
    "from rdkit.Chem import Draw, rdDepictor\n",
    "from rdkit.Chem.Draw import rdMolDraw2D\n",
    "from IPython.display import display, HTML\n",
    "\n",
    "opts = rdMolDraw2D.MolDrawOptions()\n",
    "#opts.legendFontSize     = 10\n",
    "opts.annotationFontScale = 1\n",
    "\n",
    "def annotate_ligand_grid(\n",
    "    df,\n",
    "    ligand_col: str = \"ligand_name\",\n",
    "    smiles_col: str = \"smiles\",\n",
    "    rpos_col: str = \"rpos\",\n",
    "    energy_col: str = \"dE\",\n",
    "    cols: int = 3,\n",
    "    subImgSize: tuple = (300, 300)\n",
    "):\n",
    "    \"\"\"\n",
    "    Group df by ligand_col, annotate each ligand at all its rpos with energy_col,\n",
    "    and draw them in a grid.\n",
    "\n",
    "    Returns an RDKit PIL image.\n",
    "    \"\"\"\n",
    "    mols = []\n",
    "    legends = []\n",
    "    highlights = []\n",
    "\n",
    "    for ligand, grp in df.groupby(ligand_col):\n",
    "        smi       = grp[smiles_col].iloc[0]\n",
    "        pos_list  = grp[rpos_col].tolist()\n",
    "        e_list    = grp[energy_col].tolist()\n",
    "\n",
    "        mol = Chem.MolFromSmiles(smi)\n",
    "        if mol is None:\n",
    "            raise ValueError(f\"Invalid SMILES for {ligand}: {smi}\")\n",
    "\n",
    "        for pos, e in zip(pos_list, e_list):\n",
    "            mol.GetAtomWithIdx(pos).SetProp(\"atomNote\", f\"{e:.2f}\")\n",
    "\n",
    "        mols.append(mol)\n",
    "        legends.append(f\"{ligand}: \" + \", \".join(f\"{p}={e:.2f}\" for p, e in zip(pos_list, e_list)))\n",
    "        highlights.append(pos_list)\n",
    "\n",
    "    grid = Draw.MolsToGridImage(\n",
    "        mols,\n",
    "        legends=legends,\n",
    "        highlightAtomLists=highlights,\n",
    "        molsPerRow=cols,\n",
    "        subImgSize=subImgSize,\n",
    "        maxMols=len(mols),\n",
    "        returnPNG=False,\n",
    "        drawOptions=opts\n",
    "    )\n",
    "    return grid\n",
    "\n",
    "\n",
    "def _svg_annotated_smi(\n",
    "        smi, pos_list, dE_list,\n",
    "        size=(250, 250), highlight_color=(1, 0, 0)):\n",
    "    \"\"\"Return an SVG string of the molecule with per-atom ΔE labels.\"\"\"\n",
    "\n",
    "    mol = Chem.MolFromSmiles(smi)\n",
    "    rdDepictor.Compute2DCoords(mol)\n",
    "\n",
    "    for p, e in zip(pos_list, dE_list):\n",
    "        mol.GetAtomWithIdx(int(p)).SetProp(\"atomNote\", f\"{e:.2f}\")\n",
    "\n",
    "    drawer = rdMolDraw2D.MolDraw2DSVG(*size)\n",
    "    opts = drawer.drawOptions()\n",
    "    opts.drawAtomNotes       = True\n",
    "    opts.annotationFontScale = 0.9 \n",
    "\n",
    "    drawer.DrawMolecule(\n",
    "        mol,\n",
    "        #highlightAtoms      =[int(p) for p in pos_list],\n",
    "        #highlightAtomColors ={int(p): highlight_color for p in pos_list},\n",
    "    )\n",
    "    drawer.FinishDrawing()\n",
    "    return drawer.GetDrawingText()\n",
    "\n",
    "def build_annotated_frame(df,\n",
    "                          ligand_col=\"ligand_name\",\n",
    "                          smi_col=\"smiles\",\n",
    "                          pos_col=\"rpos\",\n",
    "                          energy_col=\"dE\"):\n",
    "    \"\"\"One row per ligand + an SVG column with all ΔE annotations.\"\"\"\n",
    "    rows = []\n",
    "    for lig, grp in df.groupby(ligand_col):\n",
    "        smi  = grp[smi_col].iloc[0]\n",
    "        pos  = grp[pos_col].astype(int).tolist()\n",
    "        dE   = grp[energy_col].tolist()\n",
    "        svg  = _svg_annotated_smi(smi, pos, dE)\n",
    "        rows.append({ligand_col: lig, smi_col: smi, \"annotated_svg\": svg})\n",
    "    return pd.DataFrame(rows)"
   ]
  },
  {
   "cell_type": "code",
   "execution_count": 16,
   "id": "1733b377",
   "metadata": {},
   "outputs": [
    {
     "name": "stdout",
     "output_type": "stream",
     "text": [
      "-60900.1443953815\n"
     ]
    }
   ],
   "source": [
    "conversion_factor = 627.509474\n",
    "dimer = -97.050557670754 * conversion_factor\n",
    "print(dimer)"
   ]
  },
  {
   "cell_type": "code",
   "execution_count": 17,
   "id": "8a146364",
   "metadata": {},
   "outputs": [],
   "source": [
    "df_ir_lig = pd.read_parquet(\"output_files/ir_ligs_v01.parquet\", columns=[\"ligand_name\", \"xtb-gfn-opt-electronic_energy\"])\n",
    "df_ir_ts  = pd.read_parquet(\"output_files/ir_ts_v01.parquet\", columns=[\"ligand_name\", \"rpos\", \"smiles\", \"xtb-gfn-opt-electronic_energy\"])"
   ]
  },
  {
   "cell_type": "code",
   "execution_count": 18,
   "id": "7aa9adaf",
   "metadata": {},
   "outputs": [
    {
     "data": {
      "application/vnd.microsoft.datawrangler.viewer.v0+json": {
       "columns": [
        {
         "name": "index",
         "rawType": "int64",
         "type": "integer"
        },
        {
         "name": "ligand_name",
         "rawType": "object",
         "type": "string"
        },
        {
         "name": "rpos",
         "rawType": "int64",
         "type": "integer"
        },
        {
         "name": "smiles",
         "rawType": "object",
         "type": "string"
        },
        {
         "name": "xtb-gfn-opt-electronic_energy",
         "rawType": "float64",
         "type": "float"
        }
       ],
       "ref": "f58da765-4867-4c6f-9d6d-14015f6aac54",
       "rows": [
        [
         "0",
         "1-fluoro-3-(trifluoromethyl)benzene",
         "2",
         "Fc1cccc(C(F)(F)F)c1",
         "-84.46217451995"
        ],
        [
         "1",
         "1-fluoro-3-(trifluoromethyl)benzene",
         "3",
         "Fc1cccc(C(F)(F)F)c1",
         "-84.461392584564"
        ],
        [
         "2",
         "1-fluoro-3-(trifluoromethyl)benzene",
         "4",
         "Fc1cccc(C(F)(F)F)c1",
         "-84.454075952412"
        ],
        [
         "3",
         "1-fluoro-3-(trifluoromethyl)benzene",
         "10",
         "Fc1cccc(C(F)(F)F)c1",
         "-84.45420750716"
        ],
        [
         "4",
         "1-fluoro-3-methoxybenzene",
         "3",
         "COc1cccc(F)c1",
         "-75.847383366571"
        ],
        [
         "5",
         "1-fluoro-3-methoxybenzene",
         "4",
         "COc1cccc(F)c1",
         "-75.844031271845"
        ],
        [
         "6",
         "1-fluoro-3-methoxybenzene",
         "5",
         "COc1cccc(F)c1",
         "-75.847619020275"
        ],
        [
         "7",
         "1-fluoro-3-methoxybenzene",
         "8",
         "COc1cccc(F)c1",
         "-75.846882793551"
        ],
        [
         "8",
         "2-phenyl-1H-indole",
         "0",
         "c1ccc(-c2cc3ccccc3[nH]2)cc1",
         "-87.010387124573"
        ],
        [
         "9",
         "2-phenyl-1H-indole",
         "1",
         "c1ccc(-c2cc3ccccc3[nH]2)cc1",
         "-87.009067722543"
        ],
        [
         "10",
         "2-phenyl-1H-indole",
         "2",
         "c1ccc(-c2cc3ccccc3[nH]2)cc1",
         "-87.013314103082"
        ],
        [
         "11",
         "2-phenyl-1H-indole",
         "5",
         "c1ccc(-c2cc3ccccc3[nH]2)cc1",
         "-87.020535294539"
        ],
        [
         "12",
         "2-phenyl-1H-indole",
         "7",
         "c1ccc(-c2cc3ccccc3[nH]2)cc1",
         "-87.012107459926"
        ],
        [
         "13",
         "2-phenyl-1H-indole",
         "8",
         "c1ccc(-c2cc3ccccc3[nH]2)cc1",
         "-87.010013192522"
        ],
        [
         "14",
         "2-phenyl-1H-indole",
         "9",
         "c1ccc(-c2cc3ccccc3[nH]2)cc1",
         "-87.010792217313"
        ],
        [
         "15",
         "2-phenyl-1H-indole",
         "10",
         "c1ccc(-c2cc3ccccc3[nH]2)cc1",
         "-87.01713860009"
        ],
        [
         "16",
         "3-fluoro-N,N-dimethylbenzenesulfonamide",
         "7",
         "CN(C)S(=O)(=O)c1cccc(F)c1",
         "-89.750897995357"
        ],
        [
         "17",
         "3-fluoro-N,N-dimethylbenzenesulfonamide",
         "8",
         "CN(C)S(=O)(=O)c1cccc(F)c1",
         "-89.756130516694"
        ],
        [
         "18",
         "3-fluoro-N,N-dimethylbenzenesulfonamide",
         "9",
         "CN(C)S(=O)(=O)c1cccc(F)c1",
         "-89.755176809671"
        ],
        [
         "19",
         "3-fluoro-N,N-dimethylbenzenesulfonamide",
         "12",
         "CN(C)S(=O)(=O)c1cccc(F)c1",
         "-89.750674278261"
        ],
        [
         "20",
         "N,N-diethyl-3-fluorobenzamide",
         "8",
         "CCN(CC)C(=O)c1cccc(F)c1",
         "-90.931541846624"
        ],
        [
         "21",
         "N,N-diethyl-3-fluorobenzamide",
         "9",
         "CCN(CC)C(=O)c1cccc(F)c1",
         "-90.933815126653"
        ],
        [
         "22",
         "N,N-diethyl-3-fluorobenzamide",
         "10",
         "CCN(CC)C(=O)c1cccc(F)c1",
         "-90.933503470387"
        ],
        [
         "23",
         "N,N-diethyl-3-fluorobenzamide",
         "13",
         "CCN(CC)C(=O)c1cccc(F)c1",
         "-90.931865630199"
        ],
        [
         "24",
         "ethyl_2-methyl-1H-indole-3-carboxylate",
         "10",
         "CCOC(=O)c1c(C)[nH]c2ccccc12",
         "-91.926414701889"
        ],
        [
         "25",
         "ethyl_2-methyl-1H-indole-3-carboxylate",
         "11",
         "CCOC(=O)c1c(C)[nH]c2ccccc12",
         "-91.920506228539"
        ],
        [
         "26",
         "ethyl_2-methyl-1H-indole-3-carboxylate",
         "12",
         "CCOC(=O)c1c(C)[nH]c2ccccc12",
         "-91.920437146255"
        ],
        [
         "27",
         "ethyl_2-methyl-1H-indole-3-carboxylate",
         "13",
         "CCOC(=O)c1c(C)[nH]c2ccccc12",
         "-91.912473635264"
        ],
        [
         "28",
         "ethyl_3-fluorobenzoate",
         "6",
         "CCOC(=O)c1cccc(F)c1",
         "-85.227365830967"
        ],
        [
         "29",
         "ethyl_3-fluorobenzoate",
         "7",
         "CCOC(=O)c1cccc(F)c1",
         "-85.232159197176"
        ],
        [
         "30",
         "ethyl_3-fluorobenzoate",
         "8",
         "CCOC(=O)c1cccc(F)c1",
         "-85.233343261444"
        ],
        [
         "31",
         "ethyl_3-fluorobenzoate",
         "11",
         "CCOC(=O)c1cccc(F)c1",
         "-85.227398145303"
        ],
        [
         "32",
         "methyl_2-(3-fluorophenyl)propanoate",
         "7",
         "COC(=O)C(C)c1cccc(F)c1",
         "-88.393882469276"
        ],
        [
         "33",
         "methyl_2-(3-fluorophenyl)propanoate",
         "8",
         "COC(=O)C(C)c1cccc(F)c1",
         "-88.396979175296"
        ],
        [
         "34",
         "methyl_2-(3-fluorophenyl)propanoate",
         "9",
         "COC(=O)C(C)c1cccc(F)c1",
         "-88.397538901639"
        ],
        [
         "35",
         "methyl_2-(3-fluorophenyl)propanoate",
         "12",
         "COC(=O)C(C)c1cccc(F)c1",
         "-88.393451940956"
        ],
        [
         "36",
         "2,4-dimethyl-1,3-benzoxazole",
         "6",
         "Cc1nc2c(C)cccc2o1",
         "-79.372125594988"
        ],
        [
         "37",
         "2,4-dimethyl-1,3-benzoxazole",
         "7",
         "Cc1nc2c(C)cccc2o1",
         "-79.375339550051"
        ],
        [
         "38",
         "2,4-dimethyl-1,3-benzoxazole",
         "8",
         "Cc1nc2c(C)cccc2o1",
         "-79.379857649341"
        ],
        [
         "39",
         "2-(4-methoxyphenyl)-1,3-benzoxazole",
         "3",
         "COc1ccc(-c2nc3ccccc3o2)cc1",
         "-95.158418882126"
        ],
        [
         "40",
         "2-(4-methoxyphenyl)-1,3-benzoxazole",
         "4",
         "COc1ccc(-c2nc3ccccc3o2)cc1",
         "-95.154381019367"
        ],
        [
         "41",
         "2-(4-methoxyphenyl)-1,3-benzoxazole",
         "9",
         "COc1ccc(-c2nc3ccccc3o2)cc1",
         "-95.161439410706"
        ],
        [
         "42",
         "2-(4-methoxyphenyl)-1,3-benzoxazole",
         "10",
         "COc1ccc(-c2nc3ccccc3o2)cc1",
         "-95.155689653284"
        ],
        [
         "43",
         "2-(4-methoxyphenyl)-1,3-benzoxazole",
         "11",
         "COc1ccc(-c2nc3ccccc3o2)cc1",
         "-95.156813693466"
        ],
        [
         "44",
         "2-(4-methoxyphenyl)-1,3-benzoxazole",
         "12",
         "COc1ccc(-c2nc3ccccc3o2)cc1",
         "-95.160980902465"
        ],
        [
         "45",
         "2-(4-methylphenyl)-1,3-benzoxazole",
         "2",
         "Cc1ccc(-c2nc3ccccc3o2)cc1",
         "-91.090278711335"
        ],
        [
         "46",
         "2-(4-methylphenyl)-1,3-benzoxazole",
         "3",
         "Cc1ccc(-c2nc3ccccc3o2)cc1",
         "-91.091238802018"
        ],
        [
         "47",
         "2-(4-methylphenyl)-1,3-benzoxazole",
         "8",
         "Cc1ccc(-c2nc3ccccc3o2)cc1",
         "-91.098149251041"
        ],
        [
         "48",
         "2-(4-methylphenyl)-1,3-benzoxazole",
         "9",
         "Cc1ccc(-c2nc3ccccc3o2)cc1",
         "-91.09249591039"
        ],
        [
         "49",
         "2-(4-methylphenyl)-1,3-benzoxazole",
         "10",
         "Cc1ccc(-c2nc3ccccc3o2)cc1",
         "-91.093595777409"
        ]
       ],
       "shape": {
        "columns": 4,
        "rows": 329
       }
      },
      "text/html": [
       "<div>\n",
       "<style scoped>\n",
       "    .dataframe tbody tr th:only-of-type {\n",
       "        vertical-align: middle;\n",
       "    }\n",
       "\n",
       "    .dataframe tbody tr th {\n",
       "        vertical-align: top;\n",
       "    }\n",
       "\n",
       "    .dataframe thead th {\n",
       "        text-align: right;\n",
       "    }\n",
       "</style>\n",
       "<table border=\"1\" class=\"dataframe\">\n",
       "  <thead>\n",
       "    <tr style=\"text-align: right;\">\n",
       "      <th></th>\n",
       "      <th>ligand_name</th>\n",
       "      <th>rpos</th>\n",
       "      <th>smiles</th>\n",
       "      <th>xtb-gfn-opt-electronic_energy</th>\n",
       "    </tr>\n",
       "  </thead>\n",
       "  <tbody>\n",
       "    <tr>\n",
       "      <th>0</th>\n",
       "      <td>1-fluoro-3-(trifluoromethyl)benzene</td>\n",
       "      <td>2</td>\n",
       "      <td>Fc1cccc(C(F)(F)F)c1</td>\n",
       "      <td>-84.462175</td>\n",
       "    </tr>\n",
       "    <tr>\n",
       "      <th>1</th>\n",
       "      <td>1-fluoro-3-(trifluoromethyl)benzene</td>\n",
       "      <td>3</td>\n",
       "      <td>Fc1cccc(C(F)(F)F)c1</td>\n",
       "      <td>-84.461393</td>\n",
       "    </tr>\n",
       "    <tr>\n",
       "      <th>2</th>\n",
       "      <td>1-fluoro-3-(trifluoromethyl)benzene</td>\n",
       "      <td>4</td>\n",
       "      <td>Fc1cccc(C(F)(F)F)c1</td>\n",
       "      <td>-84.454076</td>\n",
       "    </tr>\n",
       "    <tr>\n",
       "      <th>3</th>\n",
       "      <td>1-fluoro-3-(trifluoromethyl)benzene</td>\n",
       "      <td>10</td>\n",
       "      <td>Fc1cccc(C(F)(F)F)c1</td>\n",
       "      <td>-84.454208</td>\n",
       "    </tr>\n",
       "    <tr>\n",
       "      <th>4</th>\n",
       "      <td>1-fluoro-3-methoxybenzene</td>\n",
       "      <td>3</td>\n",
       "      <td>COc1cccc(F)c1</td>\n",
       "      <td>-75.847383</td>\n",
       "    </tr>\n",
       "    <tr>\n",
       "      <th>...</th>\n",
       "      <td>...</td>\n",
       "      <td>...</td>\n",
       "      <td>...</td>\n",
       "      <td>...</td>\n",
       "    </tr>\n",
       "    <tr>\n",
       "      <th>324</th>\n",
       "      <td>ethyl_5-methoxy-1H-indole-2-carboxylate</td>\n",
       "      <td>13</td>\n",
       "      <td>CCOC(=O)c1cc2cc(OC)ccc2[nH]1</td>\n",
       "      <td>-95.983645</td>\n",
       "    </tr>\n",
       "    <tr>\n",
       "      <th>325</th>\n",
       "      <td>methyl_4-methoxy-1H-indole-2-carboxylate</td>\n",
       "      <td>5</td>\n",
       "      <td>COC(=O)c1cc2c(OC)cccc2[nH]1</td>\n",
       "      <td>-92.817163</td>\n",
       "    </tr>\n",
       "    <tr>\n",
       "      <th>326</th>\n",
       "      <td>methyl_4-methoxy-1H-indole-2-carboxylate</td>\n",
       "      <td>10</td>\n",
       "      <td>COC(=O)c1cc2c(OC)cccc2[nH]1</td>\n",
       "      <td>-92.810875</td>\n",
       "    </tr>\n",
       "    <tr>\n",
       "      <th>327</th>\n",
       "      <td>methyl_4-methoxy-1H-indole-2-carboxylate</td>\n",
       "      <td>11</td>\n",
       "      <td>COC(=O)c1cc2c(OC)cccc2[nH]1</td>\n",
       "      <td>-92.811576</td>\n",
       "    </tr>\n",
       "    <tr>\n",
       "      <th>328</th>\n",
       "      <td>methyl_4-methoxy-1H-indole-2-carboxylate</td>\n",
       "      <td>12</td>\n",
       "      <td>COC(=O)c1cc2c(OC)cccc2[nH]1</td>\n",
       "      <td>-92.818696</td>\n",
       "    </tr>\n",
       "  </tbody>\n",
       "</table>\n",
       "<p>329 rows × 4 columns</p>\n",
       "</div>"
      ],
      "text/plain": [
       "                                  ligand_name  rpos  \\\n",
       "0         1-fluoro-3-(trifluoromethyl)benzene     2   \n",
       "1         1-fluoro-3-(trifluoromethyl)benzene     3   \n",
       "2         1-fluoro-3-(trifluoromethyl)benzene     4   \n",
       "3         1-fluoro-3-(trifluoromethyl)benzene    10   \n",
       "4                   1-fluoro-3-methoxybenzene     3   \n",
       "..                                        ...   ...   \n",
       "324   ethyl_5-methoxy-1H-indole-2-carboxylate    13   \n",
       "325  methyl_4-methoxy-1H-indole-2-carboxylate     5   \n",
       "326  methyl_4-methoxy-1H-indole-2-carboxylate    10   \n",
       "327  methyl_4-methoxy-1H-indole-2-carboxylate    11   \n",
       "328  methyl_4-methoxy-1H-indole-2-carboxylate    12   \n",
       "\n",
       "                           smiles  xtb-gfn-opt-electronic_energy  \n",
       "0             Fc1cccc(C(F)(F)F)c1                     -84.462175  \n",
       "1             Fc1cccc(C(F)(F)F)c1                     -84.461393  \n",
       "2             Fc1cccc(C(F)(F)F)c1                     -84.454076  \n",
       "3             Fc1cccc(C(F)(F)F)c1                     -84.454208  \n",
       "4                   COc1cccc(F)c1                     -75.847383  \n",
       "..                            ...                            ...  \n",
       "324  CCOC(=O)c1cc2cc(OC)ccc2[nH]1                     -95.983645  \n",
       "325   COC(=O)c1cc2c(OC)cccc2[nH]1                     -92.817163  \n",
       "326   COC(=O)c1cc2c(OC)cccc2[nH]1                     -92.810875  \n",
       "327   COC(=O)c1cc2c(OC)cccc2[nH]1                     -92.811576  \n",
       "328   COC(=O)c1cc2c(OC)cccc2[nH]1                     -92.818696  \n",
       "\n",
       "[329 rows x 4 columns]"
      ]
     },
     "execution_count": 18,
     "metadata": {},
     "output_type": "execute_result"
    }
   ],
   "source": [
    "df_ir_ts"
   ]
  },
  {
   "cell_type": "code",
   "execution_count": 19,
   "id": "78cd9575",
   "metadata": {},
   "outputs": [],
   "source": [
    "df_ir = df_ir_ts.merge(df_ir_lig, on='ligand_name', how='left', suffixes=('_ts', '_lig'))"
   ]
  },
  {
   "cell_type": "code",
   "execution_count": 20,
   "id": "6ef129e0",
   "metadata": {},
   "outputs": [],
   "source": [
    "energy_cols = [col for col in df_ir.columns if 'energy' in col]\n",
    "df_ir[energy_cols] = df_ir[energy_cols] * conversion_factor"
   ]
  },
  {
   "cell_type": "code",
   "execution_count": 21,
   "id": "77b438f6",
   "metadata": {},
   "outputs": [],
   "source": [
    "df_ir[\"dE\"] = (2 * (df_ir[\"xtb-gfn-opt-electronic_energy_ts\"] - df_ir[\"xtb-gfn-opt-electronic_energy_lig\"]) - dimer) / 2\n",
    "df_ir[\"dE\"] = 1.213 * df_ir[\"dE\"] + 12.480"
   ]
  },
  {
   "cell_type": "code",
   "execution_count": 22,
   "id": "d067df2a",
   "metadata": {},
   "outputs": [
    {
     "data": {
      "application/vnd.microsoft.datawrangler.viewer.v0+json": {
       "columns": [
        {
         "name": "index",
         "rawType": "int64",
         "type": "integer"
        },
        {
         "name": "ligand_name",
         "rawType": "object",
         "type": "string"
        },
        {
         "name": "rpos",
         "rawType": "int64",
         "type": "integer"
        },
        {
         "name": "smiles",
         "rawType": "object",
         "type": "string"
        },
        {
         "name": "xtb-gfn-opt-electronic_energy_ts",
         "rawType": "float64",
         "type": "float"
        },
        {
         "name": "xtb-gfn-opt-electronic_energy_lig",
         "rawType": "float64",
         "type": "float"
        },
        {
         "name": "dE",
         "rawType": "float64",
         "type": "float"
        }
       ],
       "ref": "da278d79-b51b-4a65-b64f-ab1c50ee8991",
       "rows": [
        [
         "0",
         "1-fluoro-3-(trifluoromethyl)benzene",
         "2",
         "Fc1cccc(C(F)(F)F)c1",
         "-53000.81470591002",
         "-22564.37706520611",
         "29.018717625035727"
        ],
        [
         "1",
         "1-fluoro-3-(trifluoromethyl)benzene",
         "3",
         "Fc1cccc(C(F)(F)F)c1",
         "-53000.32403404725",
         "-22564.37706520611",
         "29.613902594582218"
        ],
        [
         "2",
         "1-fluoro-3-(trifluoromethyl)benzene",
         "4",
         "Fc1cccc(C(F)(F)F)c1",
         "-52995.732778054095",
         "-22564.37706520611",
         "35.183096114276836"
        ],
        [
         "3",
         "1-fluoro-3-(trifluoromethyl)benzene",
         "10",
         "Fc1cccc(C(F)(F)F)c1",
         "-52995.81532990482",
         "-22564.37706520611",
         "35.082960719345834"
        ],
        [
         "4",
         "1-fluoro-3-methoxybenzene",
         "3",
         "COc1cccc(F)c1",
         "-47594.95164063331",
         "-17158.4643275583",
         "28.958465038891045"
        ],
        [
         "5",
         "1-fluoro-3-methoxybenzene",
         "4",
         "COc1cccc(F)c1",
         "-47592.848169435005",
         "-17158.4643275583",
         "31.509975602439134"
        ],
        [
         "6",
         "1-fluoro-3-methoxybenzene",
         "5",
         "COc1cccc(F)c1",
         "-47595.09951556516",
         "-17158.4643275583",
         "28.779092746558828"
        ],
        [
         "7",
         "1-fluoro-3-methoxybenzene",
         "8",
         "COc1cccc(F)c1",
         "-47594.63752632084",
         "-17158.4643275583",
         "29.33948569992198"
        ],
        [
         "8",
         "2-phenyl-1H-indole",
         "0",
         "c1ccc(-c2cc3ccccc3[nH]2)cc1",
         "-54599.84225707717",
         "-24163.678569595588",
         "29.351022883719217"
        ],
        [
         "9",
         "2-phenyl-1H-indole",
         "1",
         "c1ccc(-c2cc3ccccc3[nH]2)cc1",
         "-54599.014319803326",
         "-24163.678569595588",
         "30.355310796895694"
        ],
        [
         "10",
         "2-phenyl-1H-indole",
         "2",
         "c1ccc(-c2cc3ccccc3[nH]2)cc1",
         "-54601.67896382176",
         "-24163.678569595588",
         "27.123097602535196"
        ],
        [
         "11",
         "2-phenyl-1H-indole",
         "5",
         "c1ccc(-c2cc3ccccc3[nH]2)cc1",
         "-54606.2103298746",
         "-24163.678569595588",
         "21.626550580439194"
        ],
        [
         "12",
         "2-phenyl-1H-indole",
         "7",
         "c1ccc(-c2cc3ccccc3[nH]2)cc1",
         "-54600.92178380964",
         "-24163.678569595588",
         "28.0415569572395"
        ],
        [
         "13",
         "2-phenyl-1H-indole",
         "8",
         "c1ccc(-c2cc3ccccc3[nH]2)cc1",
         "-54599.607611172534",
         "-24163.678569595588",
         "29.635648366045665"
        ],
        [
         "14",
         "2-phenyl-1H-indole",
         "9",
         "c1ccc(-c2cc3ccccc3[nH]2)cc1",
         "-54600.09645660937",
         "-24163.678569595588",
         "29.042678851166265"
        ],
        [
         "15",
         "2-phenyl-1H-indole",
         "10",
         "c1ccc(-c2cc3ccccc3[nH]2)cc1",
         "-54604.078871927566",
         "-24163.678569595588",
         "24.212009070192046"
        ],
        [
         "16",
         "3-fluoro-N,N-dimethylbenzenesulfonamide",
         "7",
         "CN(C)S(=O)(=O)c1cccc(F)c1",
         "-56319.538792094114",
         "-25884.371468374102",
         "30.559612126507105"
        ],
        [
         "17",
         "3-fluoro-N,N-dimethylbenzenesulfonamide",
         "8",
         "CN(C)S(=O)(=O)c1cccc(F)c1",
         "-56322.822248806",
         "-25884.371468374102",
         "26.57677913499138"
        ],
        [
         "18",
         "3-fluoro-N,N-dimethylbenzenesulfonamide",
         "9",
         "CN(C)S(=O)(=O)c1cccc(F)c1",
         "-56322.22378861364",
         "-25884.371468374102",
         "27.302711348318674"
        ],
        [
         "19",
         "3-fluoro-N,N-dimethylbenzenesulfonamide",
         "12",
         "CN(C)S(=O)(=O)c1cccc(F)c1",
         "-56319.39840749689",
         "-25884.371468374102",
         "30.729898642939332"
        ],
        [
         "20",
         "N,N-diethyl-3-fluorobenzamide",
         "8",
         "CCN(CC)C(=O)c1cccc(F)c1",
         "-57060.40399418401",
         "-26624.921407184804",
         "30.17719776884544"
        ],
        [
         "21",
         "N,N-diethyl-3-fluorobenzamide",
         "9",
         "CCN(CC)C(=O)c1cccc(F)c1",
         "-57061.83049893926",
         "-26624.921407184804",
         "28.446847500721816"
        ],
        [
         "22",
         "N,N-diethyl-3-fluorobenzamide",
         "10",
         "CCN(CC)C(=O)c1cccc(F)c1",
         "-57061.63493167971",
         "-26624.921407184804",
         "28.684070586556505"
        ],
        [
         "23",
         "N,N-diethyl-3-fluorobenzamide",
         "13",
         "CCN(CC)C(=O)c1cccc(F)c1",
         "-57060.60717144485",
         "-26624.921407184804",
         "29.930743751447903"
        ],
        [
         "24",
         "ethyl_2-methyl-1H-indole-3-carboxylate",
         "10",
         "CCOC(=O)c1c(C)[nH]c2ccccc12",
         "-57684.69613628823",
         "-27244.946719423842",
         "25.001533142381337"
        ],
        [
         "25",
         "ethyl_2-methyl-1H-indole-3-carboxylate",
         "11",
         "CCOC(=O)c1c(C)[nH]c2ccccc12",
         "-57680.988513284225",
         "-27244.946719423842",
         "29.49887984623799"
        ],
        [
         "26",
         "ethyl_2-methyl-1H-indole-3-carboxylate",
         "12",
         "CCOC(=O)c1c(C)[nH]c2ccccc12",
         "-57680.94516349653",
         "-27244.946719423842",
         "29.551463138711725"
        ],
        [
         "27",
         "ethyl_2-methyl-1H-indole-3-carboxylate",
         "13",
         "CCOC(=O)c1c(C)[nH]c2ccccc12",
         "-57675.94798490338",
         "-27244.946719423842",
         "35.61304077220076"
        ],
        [
         "28",
         "ethyl_3-fluorobenzoate",
         "6",
         "CCOC(=O)c1cccc(F)c1",
         "-53480.97950299567",
         "-23048.53705902036",
         "33.86489125682716"
        ],
        [
         "29",
         "ethyl_3-fluorobenzoate",
         "7",
         "CCOC(=O)c1cccc(F)c1",
         "-53483.987385704175",
         "-23048.53705902036",
         "30.21632953141458"
        ],
        [
         "30",
         "ethyl_3-fluorobenzoate",
         "8",
         "CCOC(=O)c1cccc(F)c1",
         "-53484.73039725017",
         "-23048.53705902036",
         "29.315056526124106"
        ],
        [
         "31",
         "ethyl_3-fluorobenzoate",
         "11",
         "CCOC(=O)c1cccc(F)c1",
         "-53480.99978054766",
         "-23048.53705902036",
         "33.84029458626752"
        ],
        [
         "32",
         "methyl_2-(3-fluorophenyl)propanoate",
         "7",
         "COC(=O)C(C)c1cccc(F)c1",
         "-55467.99869311319",
         "-25033.857007518396",
         "31.8037111723926"
        ],
        [
         "33",
         "methyl_2-(3-fluorophenyl)propanoate",
         "8",
         "COC(=O)C(C)c1cccc(F)c1",
         "-55469.94190547894",
         "-25033.857007518396",
         "29.446594572742523"
        ],
        [
         "34",
         "methyl_2-(3-fluorophenyl)propanoate",
         "9",
         "COC(=O)C(C)c1cccc(F)c1",
         "-55470.29313906202",
         "-25033.857007518396",
         "29.02054823646415"
        ],
        [
         "35",
         "methyl_2-(3-fluorophenyl)propanoate",
         "12",
         "COC(=O)C(C)c1cccc(F)c1",
         "-55467.728532513574",
         "-25033.857007518396",
         "32.13141597973042"
        ],
        [
         "36",
         "2,4-dimethyl-1,3-benzoxazole",
         "6",
         "Cc1nc2c(C)cccc2o1",
         "-49806.760782372854",
         "-19373.353553284698",
         "32.694606914948665"
        ],
        [
         "37",
         "2,4-dimethyl-1,3-benzoxazole",
         "7",
         "Cc1nc2c(C)cccc2o1",
         "-49808.77756962389",
         "-19373.353553284698",
         "30.24824397944252"
        ],
        [
         "38",
         "2,4-dimethyl-1,3-benzoxazole",
         "8",
         "Cc1nc2c(C)cccc2o1",
         "-49811.612719732846",
         "-19373.353553284698",
         "26.809206897278358"
        ],
        [
         "39",
         "2-(4-methoxyphenyl)-1,3-benzoxazole",
         "3",
         "COc1ccc(-c2nc3ccccc3o2)cc1",
         "-59712.80937939455",
         "-29276.18417612643",
         "28.791204234649413"
        ],
        [
         "40",
         "2-(4-methoxyphenyl)-1,3-benzoxazole",
         "4",
         "COc1ccc(-c2nc3ccccc3o2)cc1",
         "-59710.27558225856",
         "-29276.18417612643",
         "31.864700160606905"
        ],
        [
         "41",
         "2-(4-methoxyphenyl)-1,3-benzoxazole",
         "9",
         "COc1ccc(-c2nc3ccccc3o2)cc1",
         "-59714.70478969499",
         "-29276.18417612643",
         "26.49207154022031"
        ],
        [
         "42",
         "2-(4-methoxyphenyl)-1,3-benzoxazole",
         "10",
         "COc1ccc(-c2nc3ccccc3o2)cc1",
         "-59711.09676243948",
         "-29276.18417612643",
         "30.868608601147347"
        ],
        [
         "43",
         "2-(4-methoxyphenyl)-1,3-benzoxazole",
         "11",
         "COc1ccc(-c2nc3ccccc3o2)cc1",
         "-59711.80210830284",
         "-29276.18417612643",
         "30.013024068891692"
        ],
        [
         "44",
         "2-(4-methoxyphenyl)-1,3-benzoxazole",
         "12",
         "COc1ccc(-c2nc3ccccc3o2)cc1",
         "-59714.41707142985",
         "-29276.18417612643",
         "26.841073795829644"
        ],
        [
         "45",
         "2-(4-methylphenyl)-1,3-benzoxazole",
         "2",
         "Cc1ccc(-c2nc3ccccc3o2)cc1",
         "-57160.01288066322",
         "-26726.513347182314",
         "32.58264168654228"
        ],
        [
         "46",
         "2-(4-methylphenyl)-1,3-benzoxazole",
         "3",
         "Cc1ccc(-c2nc3ccccc3o2)cc1",
         "-57160.6153466627",
         "-26726.513347182314",
         "31.851850429172988"
        ],
        [
         "47",
         "2-(4-methylphenyl)-1,3-benzoxazole",
         "8",
         "Cc1ccc(-c2nc3ccccc3o2)cc1",
         "-57164.951718894226",
         "-26726.513347182314",
         "26.591830912331723"
        ],
        [
         "48",
         "2-(4-methylphenyl)-1,3-benzoxazole",
         "9",
         "Cc1ccc(-c2nc3ccccc3o2)cc1",
         "-57161.40419407598",
         "-26726.513347182314",
         "30.89497851686697"
        ],
        [
         "49",
         "2-(4-methylphenyl)-1,3-benzoxazole",
         "10",
         "Cc1ccc(-c2nc3ccccc3o2)cc1",
         "-57162.094371050545",
         "-26726.513347182314",
         "30.057793846716844"
        ]
       ],
       "shape": {
        "columns": 6,
        "rows": 329
       }
      },
      "text/html": [
       "<div>\n",
       "<style scoped>\n",
       "    .dataframe tbody tr th:only-of-type {\n",
       "        vertical-align: middle;\n",
       "    }\n",
       "\n",
       "    .dataframe tbody tr th {\n",
       "        vertical-align: top;\n",
       "    }\n",
       "\n",
       "    .dataframe thead th {\n",
       "        text-align: right;\n",
       "    }\n",
       "</style>\n",
       "<table border=\"1\" class=\"dataframe\">\n",
       "  <thead>\n",
       "    <tr style=\"text-align: right;\">\n",
       "      <th></th>\n",
       "      <th>ligand_name</th>\n",
       "      <th>rpos</th>\n",
       "      <th>smiles</th>\n",
       "      <th>xtb-gfn-opt-electronic_energy_ts</th>\n",
       "      <th>xtb-gfn-opt-electronic_energy_lig</th>\n",
       "      <th>dE</th>\n",
       "    </tr>\n",
       "  </thead>\n",
       "  <tbody>\n",
       "    <tr>\n",
       "      <th>0</th>\n",
       "      <td>1-fluoro-3-(trifluoromethyl)benzene</td>\n",
       "      <td>2</td>\n",
       "      <td>Fc1cccc(C(F)(F)F)c1</td>\n",
       "      <td>-53000.814706</td>\n",
       "      <td>-22564.377065</td>\n",
       "      <td>29.018718</td>\n",
       "    </tr>\n",
       "    <tr>\n",
       "      <th>1</th>\n",
       "      <td>1-fluoro-3-(trifluoromethyl)benzene</td>\n",
       "      <td>3</td>\n",
       "      <td>Fc1cccc(C(F)(F)F)c1</td>\n",
       "      <td>-53000.324034</td>\n",
       "      <td>-22564.377065</td>\n",
       "      <td>29.613903</td>\n",
       "    </tr>\n",
       "    <tr>\n",
       "      <th>2</th>\n",
       "      <td>1-fluoro-3-(trifluoromethyl)benzene</td>\n",
       "      <td>4</td>\n",
       "      <td>Fc1cccc(C(F)(F)F)c1</td>\n",
       "      <td>-52995.732778</td>\n",
       "      <td>-22564.377065</td>\n",
       "      <td>35.183096</td>\n",
       "    </tr>\n",
       "    <tr>\n",
       "      <th>3</th>\n",
       "      <td>1-fluoro-3-(trifluoromethyl)benzene</td>\n",
       "      <td>10</td>\n",
       "      <td>Fc1cccc(C(F)(F)F)c1</td>\n",
       "      <td>-52995.815330</td>\n",
       "      <td>-22564.377065</td>\n",
       "      <td>35.082961</td>\n",
       "    </tr>\n",
       "    <tr>\n",
       "      <th>4</th>\n",
       "      <td>1-fluoro-3-methoxybenzene</td>\n",
       "      <td>3</td>\n",
       "      <td>COc1cccc(F)c1</td>\n",
       "      <td>-47594.951641</td>\n",
       "      <td>-17158.464328</td>\n",
       "      <td>28.958465</td>\n",
       "    </tr>\n",
       "    <tr>\n",
       "      <th>...</th>\n",
       "      <td>...</td>\n",
       "      <td>...</td>\n",
       "      <td>...</td>\n",
       "      <td>...</td>\n",
       "      <td>...</td>\n",
       "      <td>...</td>\n",
       "    </tr>\n",
       "    <tr>\n",
       "      <th>324</th>\n",
       "      <td>ethyl_5-methoxy-1H-indole-2-carboxylate</td>\n",
       "      <td>13</td>\n",
       "      <td>CCOC(=O)c1cc2cc(OC)ccc2[nH]1</td>\n",
       "      <td>-60230.646397</td>\n",
       "      <td>-29791.658125</td>\n",
       "      <td>25.924802</td>\n",
       "    </tr>\n",
       "    <tr>\n",
       "      <th>325</th>\n",
       "      <td>methyl_4-methoxy-1H-indole-2-carboxylate</td>\n",
       "      <td>5</td>\n",
       "      <td>COC(=O)c1cc2c(OC)cccc2[nH]1</td>\n",
       "      <td>-58243.649431</td>\n",
       "      <td>-27804.172595</td>\n",
       "      <td>25.332173</td>\n",
       "    </tr>\n",
       "    <tr>\n",
       "      <th>326</th>\n",
       "      <td>methyl_4-methoxy-1H-indole-2-carboxylate</td>\n",
       "      <td>10</td>\n",
       "      <td>COC(=O)c1cc2c(OC)cccc2[nH]1</td>\n",
       "      <td>-58239.703297</td>\n",
       "      <td>-27804.172595</td>\n",
       "      <td>30.118834</td>\n",
       "    </tr>\n",
       "    <tr>\n",
       "      <th>327</th>\n",
       "      <td>methyl_4-methoxy-1H-indole-2-carboxylate</td>\n",
       "      <td>11</td>\n",
       "      <td>COC(=O)c1cc2c(OC)cccc2[nH]1</td>\n",
       "      <td>-58240.143113</td>\n",
       "      <td>-27804.172595</td>\n",
       "      <td>29.585337</td>\n",
       "    </tr>\n",
       "    <tr>\n",
       "      <th>328</th>\n",
       "      <td>methyl_4-methoxy-1H-indole-2-carboxylate</td>\n",
       "      <td>12</td>\n",
       "      <td>COC(=O)c1cc2c(OC)cccc2[nH]1</td>\n",
       "      <td>-58244.611080</td>\n",
       "      <td>-27804.172595</td>\n",
       "      <td>24.165693</td>\n",
       "    </tr>\n",
       "  </tbody>\n",
       "</table>\n",
       "<p>329 rows × 6 columns</p>\n",
       "</div>"
      ],
      "text/plain": [
       "                                  ligand_name  rpos  \\\n",
       "0         1-fluoro-3-(trifluoromethyl)benzene     2   \n",
       "1         1-fluoro-3-(trifluoromethyl)benzene     3   \n",
       "2         1-fluoro-3-(trifluoromethyl)benzene     4   \n",
       "3         1-fluoro-3-(trifluoromethyl)benzene    10   \n",
       "4                   1-fluoro-3-methoxybenzene     3   \n",
       "..                                        ...   ...   \n",
       "324   ethyl_5-methoxy-1H-indole-2-carboxylate    13   \n",
       "325  methyl_4-methoxy-1H-indole-2-carboxylate     5   \n",
       "326  methyl_4-methoxy-1H-indole-2-carboxylate    10   \n",
       "327  methyl_4-methoxy-1H-indole-2-carboxylate    11   \n",
       "328  methyl_4-methoxy-1H-indole-2-carboxylate    12   \n",
       "\n",
       "                           smiles  xtb-gfn-opt-electronic_energy_ts  \\\n",
       "0             Fc1cccc(C(F)(F)F)c1                     -53000.814706   \n",
       "1             Fc1cccc(C(F)(F)F)c1                     -53000.324034   \n",
       "2             Fc1cccc(C(F)(F)F)c1                     -52995.732778   \n",
       "3             Fc1cccc(C(F)(F)F)c1                     -52995.815330   \n",
       "4                   COc1cccc(F)c1                     -47594.951641   \n",
       "..                            ...                               ...   \n",
       "324  CCOC(=O)c1cc2cc(OC)ccc2[nH]1                     -60230.646397   \n",
       "325   COC(=O)c1cc2c(OC)cccc2[nH]1                     -58243.649431   \n",
       "326   COC(=O)c1cc2c(OC)cccc2[nH]1                     -58239.703297   \n",
       "327   COC(=O)c1cc2c(OC)cccc2[nH]1                     -58240.143113   \n",
       "328   COC(=O)c1cc2c(OC)cccc2[nH]1                     -58244.611080   \n",
       "\n",
       "     xtb-gfn-opt-electronic_energy_lig         dE  \n",
       "0                        -22564.377065  29.018718  \n",
       "1                        -22564.377065  29.613903  \n",
       "2                        -22564.377065  35.183096  \n",
       "3                        -22564.377065  35.082961  \n",
       "4                        -17158.464328  28.958465  \n",
       "..                                 ...        ...  \n",
       "324                      -29791.658125  25.924802  \n",
       "325                      -27804.172595  25.332173  \n",
       "326                      -27804.172595  30.118834  \n",
       "327                      -27804.172595  29.585337  \n",
       "328                      -27804.172595  24.165693  \n",
       "\n",
       "[329 rows x 6 columns]"
      ]
     },
     "execution_count": 22,
     "metadata": {},
     "output_type": "execute_result"
    }
   ],
   "source": [
    "df_ir"
   ]
  },
  {
   "cell_type": "code",
   "execution_count": 23,
   "id": "f6ee9e2e",
   "metadata": {},
   "outputs": [],
   "source": [
    "# img = annotate_ligand_grid(\n",
    "#     df_ir,\n",
    "#     ligand_col=\"ligand_name\",\n",
    "#     smiles_col=\"smiles\",\n",
    "#     rpos_col=\"rpos\",\n",
    "#     energy_col=\"dE\",\n",
    "#     cols=2,\n",
    "#     subImgSize=(400,400)\n",
    "# )\n",
    "# display(img)"
   ]
  },
  {
   "cell_type": "code",
   "execution_count": null,
   "id": "96635379",
   "metadata": {},
   "outputs": [],
   "source": [
    "annotated_df = build_annotated_frame(df_ir)\n",
    "\n",
    "html = annotated_df.to_html(\n",
    "    escape=False,\n",
    "    formatters={\"annotated_svg\": lambda x: x},\n",
    "    index=False\n",
    ")\n",
    "HTML(html)\n",
    "\n",
    "annotated_df.to_html(\"/Users/jacobmolinnielsen/Developer/FrustActivationProject/Presentations/01 Preliminary TS/assets/ts_an_tab.html\", escape=False, formatters={\"annotated_svg\": lambda x: x}, index=False)"
   ]
  }
 ],
 "metadata": {
  "kernelspec": {
   "display_name": "FrustActivation",
   "language": "python",
   "name": "python3"
  },
  "language_info": {
   "codemirror_mode": {
    "name": "ipython",
    "version": 3
   },
   "file_extension": ".py",
   "mimetype": "text/x-python",
   "name": "python",
   "nbconvert_exporter": "python",
   "pygments_lexer": "ipython3",
   "version": "3.12.8"
  }
 },
 "nbformat": 4,
 "nbformat_minor": 5
}
