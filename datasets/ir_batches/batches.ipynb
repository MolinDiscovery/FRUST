{
 "cells": [
  {
   "cell_type": "code",
   "execution_count": 24,
   "id": "9e93bf0c",
   "metadata": {},
   "outputs": [],
   "source": [
    "import pandas as pd\n",
    "\n",
    "dfir = pd.read_csv(\"datasets/ir_borylation.csv\", index_col=0)\n",
    "dfir = dfir.reset_index(drop=True)\n",
    "\n",
    "\n",
    "batches = []\n",
    "for i in range(len(dfir)):\n",
    "    if i % 10 == 0 and i != 0:\n",
    "        batches.append(dfir.iloc[i-10: i])\n",
    "\n",
    "batches.append(dfir.iloc[90:])\n",
    "\n",
    "\n",
    "for i, batch in enumerate(batches):\n",
    "    batch.to_csv(f\"datasets/ir_batches/ir_batch{i}.csv\")"
   ]
  }
 ],
 "metadata": {
  "kernelspec": {
   "display_name": "UMA",
   "language": "python",
   "name": "python3"
  },
  "language_info": {
   "codemirror_mode": {
    "name": "ipython",
    "version": 3
   },
   "file_extension": ".py",
   "mimetype": "text/x-python",
   "name": "python",
   "nbconvert_exporter": "python",
   "pygments_lexer": "ipython3",
   "version": "3.12.8"
  }
 },
 "nbformat": 4,
 "nbformat_minor": 5
}
