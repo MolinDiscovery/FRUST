{
 "cells": [
  {
   "cell_type": "code",
   "execution_count": 6,
   "id": "44feafc0",
   "metadata": {},
   "outputs": [],
   "source": [
    "import tooltoad.chemutils as cu\n",
    "from tooltoad.orca import orca_calculate\n",
    "from pathlib import Path"
   ]
  },
  {
   "cell_type": "code",
   "execution_count": 10,
   "id": "4d97992c",
   "metadata": {},
   "outputs": [
    {
     "name": "stderr",
     "output_type": "stream",
     "text": [
      "Orca calculation did not terminate normally.\n"
     ]
    },
    {
     "data": {
      "text/plain": [
       "{'normal_termination': False,\n",
       " 'log': '',\n",
       " 'calc_dir': '/lustre/hpc/kemi/jmni/dev/FRUST/orca_test',\n",
       " 'time': '2025-09-12 22:43:57',\n",
       " 'timestamp': 1757709837.503527,\n",
       " 'atoms': ['H', 'H'],\n",
       " 'coords': [[-3.9213066101, 2.4630429745, 0.0],\n",
       "  [-4.4449432933, 2.826294127, -0.0587639847]],\n",
       " 'charge': 0,\n",
       " 'multiplicity': 1,\n",
       " 'options': {'XTB2': None}}"
      ]
     },
     "execution_count": 10,
     "metadata": {},
     "output_type": "execute_result"
    }
   ],
   "source": [
    "f = Path(\"structures/misc/HH.xyz\")\n",
    "mols = {}\n",
    "with open(f, \"r\") as file:\n",
    "    xyz_block = file.read()\n",
    "    atoms, coords = cu.xyz2ac(xyz_block)\n",
    "\n",
    "orca_calculate(atoms, coords, options={\"XTB2\": None}, calc_dir=\"orca_test\")"
   ]
  },
  {
   "cell_type": "code",
   "execution_count": null,
   "id": "9f9fc845",
   "metadata": {},
   "outputs": [],
   "source": [
    "! /groups/kemi/jmni/software/orca_6_1_0/orca -version"
   ]
  }
 ],
 "metadata": {
  "kernelspec": {
   "display_name": "UMA",
   "language": "python",
   "name": "python3"
  },
  "language_info": {
   "codemirror_mode": {
    "name": "ipython",
    "version": 3
   },
   "file_extension": ".py",
   "mimetype": "text/x-python",
   "name": "python",
   "nbconvert_exporter": "python",
   "pygments_lexer": "ipython3",
   "version": "3.12.8"
  }
 },
 "nbformat": 4,
 "nbformat_minor": 5
}
