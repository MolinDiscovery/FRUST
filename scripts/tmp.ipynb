{
 "cells": [
  {
   "cell_type": "code",
   "execution_count": 2,
   "id": "19a2b070",
   "metadata": {},
   "outputs": [],
   "source": [
    "import pandas as pd\n",
    "from rdkit.Chem import PandasTools\n",
    "from IPython.display import HTML, display"
   ]
  },
  {
   "cell_type": "code",
   "execution_count": 4,
   "id": "8f2aaea4",
   "metadata": {},
   "outputs": [],
   "source": [
    "df = pd.read_parquet(\"test.parquet\").sort_values(by=\"ligand_name\")"
   ]
  }
 ],
 "metadata": {
  "kernelspec": {
   "display_name": "FrustActivation",
   "language": "python",
   "name": "python3"
  },
  "language_info": {
   "codemirror_mode": {
    "name": "ipython",
    "version": 3
   },
   "file_extension": ".py",
   "mimetype": "text/x-python",
   "name": "python",
   "nbconvert_exporter": "python",
   "pygments_lexer": "ipython3",
   "version": "3.12.8"
  }
 },
 "nbformat": 4,
 "nbformat_minor": 5
}
