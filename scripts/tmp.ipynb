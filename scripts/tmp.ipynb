{
 "cells": [
  {
   "cell_type": "code",
   "execution_count": 17,
   "id": "19a2b070",
   "metadata": {},
   "outputs": [],
   "source": [
    "import pandas as pd\n",
    "from rdkit.Chem import PandasTools\n",
    "from IPython.display import HTML, display\n",
    "import pyarrow.parquet as pp\n",
    "from pathlib import Path"
   ]
  },
  {
   "cell_type": "code",
   "execution_count": 22,
   "id": "673abd18",
   "metadata": {},
   "outputs": [
    {
     "data": {
      "text/plain": [
       "['custom_name',\n",
       " 'ligand_name',\n",
       " 'rpos',\n",
       " 'constraint_atoms',\n",
       " 'cid',\n",
       " 'smiles',\n",
       " 'atoms',\n",
       " 'coords_embedded',\n",
       " 'energy_uff',\n",
       " 'xtb-gfnff-opt-electronic_energy',\n",
       " 'xtb-gfnff-opt-normal_termination',\n",
       " 'xtb-gfnff-opt-opt_coords',\n",
       " 'xtb-gfn-electronic_energy',\n",
       " 'xtb-gfn-normal_termination',\n",
       " 'xtb-gfn-opt-electronic_energy',\n",
       " 'xtb-gfn-opt-normal_termination',\n",
       " 'xtb-gfn-opt-opt_coords',\n",
       " 'DFT-pre-SP-wB97X-D3-6-31+G**-NoSym-electronic_energy',\n",
       " 'DFT-pre-SP-wB97X-D3-6-31+G**-NoSym-normal_termination',\n",
       " 'DFT-wB97X-D3-6-31G**-OptTS-electronic_energy',\n",
       " 'DFT-wB97X-D3-6-31G**-OptTS-gibbs_energy',\n",
       " 'DFT-wB97X-D3-6-31G**-OptTS-normal_termination',\n",
       " 'DFT-wB97X-D3-6-31G**-OptTS-opt_coords',\n",
       " 'DFT-SP-wB97X-D3-6-31+G**-NoSym-electronic_energy']"
      ]
     },
     "execution_count": 22,
     "metadata": {},
     "output_type": "execute_result"
    }
   ],
   "source": [
    "schema = pp.read_schema(\"font_ts3_v2.parquet\")\n",
    "schema.names\n",
    "\n",
    "cols = [c for c in schema.names if \"vibs\" not in c]\n",
    "cols.pop(len(cols)-1)\n",
    "cols"
   ]
  },
  {
   "cell_type": "code",
   "execution_count": 21,
   "id": "4a2805f8",
   "metadata": {},
   "outputs": [
    {
     "name": "stdout",
     "output_type": "stream",
     "text": [
      "['custom_name', 'ligand_name', 'rpos', 'constraint_atoms', 'cid', 'smiles', 'atoms', 'coords_embedded', 'energy_uff', 'xtb-gfnff-opt-electronic_energy', 'xtb-gfnff-opt-normal_termination', 'xtb-gfnff-opt-opt_coords', 'xtb-gfn-electronic_energy', 'xtb-gfn-normal_termination', 'xtb-gfn-opt-electronic_energy', 'xtb-gfn-opt-normal_termination', 'xtb-gfn-opt-opt_coords', 'DFT-pre-SP-wB97X-D3-6-31+G**-NoSym-electronic_energy', 'DFT-pre-SP-wB97X-D3-6-31+G**-NoSym-normal_termination', 'DFT-wB97X-D3-6-31G**-OptTS-electronic_energy', 'DFT-wB97X-D3-6-31G**-OptTS-gibbs_energy', 'DFT-wB97X-D3-6-31G**-OptTS-normal_termination', 'DFT-wB97X-D3-6-31G**-OptTS-opt_coords', 'DFT-wB97X-D3-6-31G**-OptTS-vibs', 'DFT-SP-wB97X-D3-6-31+G**-NoSym-electronic_energy', 'DFT-SP-wB97X-D3-6-31+G**-NoSym-normal_termination', '__index_level_0__']\n",
      "['custom_name', 'ligand_name', 'rpos', 'constraint_atoms', 'cid', 'smiles', 'atoms', 'coords_embedded', 'energy_uff', 'xtb-gfnff-opt-electronic_energy', 'xtb-gfnff-opt-normal_termination', 'xtb-gfnff-opt-opt_coords', 'xtb-gfn-electronic_energy', 'xtb-gfn-normal_termination', 'xtb-gfn-opt-electronic_energy', 'xtb-gfn-opt-normal_termination', 'xtb-gfn-opt-opt_coords', 'DFT-pre-SP-wB97X-D3-6-31+G**-NoSym-electronic_energy', 'DFT-pre-SP-wB97X-D3-6-31+G**-NoSym-normal_termination', 'DFT-wB97X-D3-6-31G**-OptTS-electronic_energy', 'DFT-wB97X-D3-6-31G**-OptTS-gibbs_energy', 'DFT-wB97X-D3-6-31G**-OptTS-normal_termination', 'DFT-wB97X-D3-6-31G**-OptTS-opt_coords', 'DFT-wB97X-D3-6-31G**-OptTS-vibs', 'DFT-SP-wB97X-D3-6-31+G**-NoSym-electronic_energy', 'DFT-SP-wB97X-D3-6-31+G**-NoSym-normal_termination', '__index_level_0__']\n",
      "['custom_name', 'ligand_name', 'rpos', 'constraint_atoms', 'cid', 'smiles', 'atoms', 'coords_embedded', 'energy_uff', 'xtb-gfnff-opt-electronic_energy', 'xtb-gfnff-opt-normal_termination', 'xtb-gfnff-opt-opt_coords', 'xtb-gfn-electronic_energy', 'xtb-gfn-normal_termination', 'xtb-gfn-opt-electronic_energy', 'xtb-gfn-opt-normal_termination', 'xtb-gfn-opt-opt_coords', 'DFT-pre-SP-wB97X-D3-6-31+G**-NoSym-electronic_energy', 'DFT-pre-SP-wB97X-D3-6-31+G**-NoSym-normal_termination', 'DFT-wB97X-D3-6-31G**-OptTS-electronic_energy', 'DFT-wB97X-D3-6-31G**-OptTS-gibbs_energy', 'DFT-wB97X-D3-6-31G**-OptTS-normal_termination', 'DFT-wB97X-D3-6-31G**-OptTS-opt_coords', 'DFT-wB97X-D3-6-31G**-OptTS-vibs', 'DFT-SP-wB97X-D3-6-31+G**-NoSym-electronic_energy', 'DFT-SP-wB97X-D3-6-31+G**-NoSym-normal_termination', '__index_level_0__']\n",
      "['custom_name', 'ligand_name', 'rpos', 'constraint_atoms', 'cid', 'smiles', 'atoms', 'coords_embedded', 'energy_uff', 'xtb-gfnff-opt-electronic_energy', 'xtb-gfnff-opt-normal_termination', 'xtb-gfnff-opt-opt_coords', 'xtb-gfn-electronic_energy', 'xtb-gfn-normal_termination', 'xtb-gfn-opt-electronic_energy', 'xtb-gfn-opt-normal_termination', 'xtb-gfn-opt-opt_coords', 'DFT-pre-SP-wB97X-D3-6-31+G**-NoSym-electronic_energy', 'DFT-pre-SP-wB97X-D3-6-31+G**-NoSym-normal_termination', 'DFT-wB97X-D3-6-31G**-OptTS-electronic_energy', 'DFT-wB97X-D3-6-31G**-OptTS-gibbs_energy', 'DFT-wB97X-D3-6-31G**-OptTS-normal_termination', 'DFT-wB97X-D3-6-31G**-OptTS-opt_coords', 'DFT-wB97X-D3-6-31G**-OptTS-vibs', 'DFT-SP-wB97X-D3-6-31+G**-NoSym-electronic_energy', 'DFT-SP-wB97X-D3-6-31+G**-NoSym-normal_termination', '__index_level_0__']\n",
      "['custom_name', 'ligand_name', 'rpos', 'constraint_atoms', 'cid', 'smiles', 'atoms', 'coords_embedded', 'energy_uff', 'xtb-gfnff-opt-electronic_energy', 'xtb-gfnff-opt-normal_termination', 'xtb-gfnff-opt-opt_coords', 'xtb-gfn-electronic_energy', 'xtb-gfn-normal_termination', 'xtb-gfn-opt-electronic_energy', 'xtb-gfn-opt-normal_termination', 'xtb-gfn-opt-opt_coords', 'DFT-pre-SP-wB97X-D3-6-31+G**-NoSym-electronic_energy', 'DFT-pre-SP-wB97X-D3-6-31+G**-NoSym-normal_termination', 'DFT-wB97X-D3-6-31G**-OptTS-electronic_energy', 'DFT-wB97X-D3-6-31G**-OptTS-gibbs_energy', 'DFT-wB97X-D3-6-31G**-OptTS-normal_termination', 'DFT-wB97X-D3-6-31G**-OptTS-opt_coords', 'DFT-wB97X-D3-6-31G**-OptTS-vibs', 'DFT-SP-wB97X-D3-6-31+G**-NoSym-electronic_energy', 'DFT-SP-wB97X-D3-6-31+G**-NoSym-normal_termination', '__index_level_0__']\n",
      "['custom_name', 'ligand_name', 'rpos', 'constraint_atoms', 'cid', 'smiles', 'atoms', 'coords_embedded', 'energy_uff', 'xtb-gfnff-opt-electronic_energy', 'xtb-gfnff-opt-normal_termination', 'xtb-gfnff-opt-opt_coords', 'xtb-gfn-electronic_energy', 'xtb-gfn-normal_termination', 'xtb-gfn-opt-electronic_energy', 'xtb-gfn-opt-normal_termination', 'xtb-gfn-opt-opt_coords', 'DFT-pre-SP-wB97X-D3-6-31+G**-NoSym-electronic_energy', 'DFT-pre-SP-wB97X-D3-6-31+G**-NoSym-normal_termination', 'DFT-wB97X-D3-6-31G**-OptTS-electronic_energy', 'DFT-wB97X-D3-6-31G**-OptTS-gibbs_energy', 'DFT-wB97X-D3-6-31G**-OptTS-normal_termination', 'DFT-wB97X-D3-6-31G**-OptTS-opt_coords', 'DFT-wB97X-D3-6-31G**-OptTS-vibs', 'DFT-SP-wB97X-D3-6-31+G**-NoSym-electronic_energy', 'DFT-SP-wB97X-D3-6-31+G**-NoSym-normal_termination', '__index_level_0__']\n",
      "['custom_name', 'ligand_name', 'rpos', 'constraint_atoms', 'cid', 'smiles', 'atoms', 'coords_embedded', 'energy_uff', 'xtb-gfnff-opt-electronic_energy', 'xtb-gfnff-opt-normal_termination', 'xtb-gfnff-opt-opt_coords', 'xtb-gfn-electronic_energy', 'xtb-gfn-normal_termination', 'xtb-gfn-opt-electronic_energy', 'xtb-gfn-opt-normal_termination', 'xtb-gfn-opt-opt_coords', 'DFT-pre-SP-wB97X-D3-6-31+G**-NoSym-electronic_energy', 'DFT-pre-SP-wB97X-D3-6-31+G**-NoSym-normal_termination', 'DFT-wB97X-D3-6-31G**-OptTS-electronic_energy', 'DFT-wB97X-D3-6-31G**-OptTS-gibbs_energy', 'DFT-wB97X-D3-6-31G**-OptTS-normal_termination', 'DFT-wB97X-D3-6-31G**-OptTS-opt_coords', 'DFT-wB97X-D3-6-31G**-OptTS-vibs', 'DFT-SP-wB97X-D3-6-31+G**-NoSym-electronic_energy', 'DFT-SP-wB97X-D3-6-31+G**-NoSym-normal_termination', '__index_level_0__']\n",
      "['custom_name', 'ligand_name', 'rpos', 'constraint_atoms', 'cid', 'smiles', 'atoms', 'coords_embedded', 'energy_uff', 'xtb-gfnff-opt-electronic_energy', 'xtb-gfnff-opt-normal_termination', 'xtb-gfnff-opt-opt_coords', 'xtb-gfn-electronic_energy', 'xtb-gfn-normal_termination', 'xtb-gfn-opt-electronic_energy', 'xtb-gfn-opt-normal_termination', 'xtb-gfn-opt-opt_coords', 'DFT-pre-SP-wB97X-D3-6-31+G**-NoSym-electronic_energy', 'DFT-pre-SP-wB97X-D3-6-31+G**-NoSym-normal_termination', 'DFT-wB97X-D3-6-31G**-OptTS-electronic_energy', 'DFT-wB97X-D3-6-31G**-OptTS-gibbs_energy', 'DFT-wB97X-D3-6-31G**-OptTS-normal_termination', 'DFT-wB97X-D3-6-31G**-OptTS-opt_coords', 'DFT-wB97X-D3-6-31G**-OptTS-vibs', 'DFT-SP-wB97X-D3-6-31+G**-NoSym-electronic_energy', 'DFT-SP-wB97X-D3-6-31+G**-NoSym-normal_termination', '__index_level_0__']\n",
      "['custom_name', 'ligand_name', 'rpos', 'constraint_atoms', 'cid', 'smiles', 'atoms', 'coords_embedded', 'energy_uff', 'xtb-gfnff-opt-electronic_energy', 'xtb-gfnff-opt-normal_termination', 'xtb-gfnff-opt-opt_coords', 'xtb-gfn-electronic_energy', 'xtb-gfn-normal_termination', 'xtb-gfn-opt-electronic_energy', 'xtb-gfn-opt-normal_termination', 'xtb-gfn-opt-opt_coords', 'DFT-pre-SP-wB97X-D3-6-31+G**-NoSym-electronic_energy', 'DFT-pre-SP-wB97X-D3-6-31+G**-NoSym-normal_termination', 'DFT-wB97X-D3-6-31G**-OptTS-electronic_energy', 'DFT-wB97X-D3-6-31G**-OptTS-gibbs_energy', 'DFT-wB97X-D3-6-31G**-OptTS-normal_termination', 'DFT-wB97X-D3-6-31G**-OptTS-opt_coords', 'DFT-wB97X-D3-6-31G**-OptTS-vibs', 'DFT-SP-wB97X-D3-6-31+G**-NoSym-electronic_energy', 'DFT-SP-wB97X-D3-6-31+G**-NoSym-normal_termination', '__index_level_0__']\n",
      "['custom_name', 'ligand_name', 'rpos', 'constraint_atoms', 'cid', 'smiles', 'atoms', 'coords_embedded', 'energy_uff', 'xtb-gfnff-opt-electronic_energy', 'xtb-gfnff-opt-normal_termination', 'xtb-gfnff-opt-opt_coords', 'xtb-gfn-electronic_energy', 'xtb-gfn-normal_termination', 'xtb-gfn-opt-electronic_energy', 'xtb-gfn-opt-normal_termination', 'xtb-gfn-opt-opt_coords', 'DFT-pre-SP-wB97X-D3-6-31+G**-NoSym-electronic_energy', 'DFT-pre-SP-wB97X-D3-6-31+G**-NoSym-normal_termination', 'DFT-wB97X-D3-6-31G**-OptTS-electronic_energy', 'DFT-wB97X-D3-6-31G**-OptTS-gibbs_energy', 'DFT-wB97X-D3-6-31G**-OptTS-normal_termination', 'DFT-wB97X-D3-6-31G**-OptTS-opt_coords', 'DFT-wB97X-D3-6-31G**-OptTS-vibs', 'DFT-SP-wB97X-D3-6-31+G**-NoSym-electronic_energy', 'DFT-SP-wB97X-D3-6-31+G**-NoSym-normal_termination', '__index_level_0__']\n",
      "['custom_name', 'ligand_name', 'rpos', 'constraint_atoms', 'cid', 'smiles', 'atoms', 'coords_embedded', 'energy_uff', 'xtb-gfnff-opt-electronic_energy', 'xtb-gfnff-opt-normal_termination', 'xtb-gfnff-opt-opt_coords', 'xtb-gfn-electronic_energy', 'xtb-gfn-normal_termination', 'xtb-gfn-opt-electronic_energy', 'xtb-gfn-opt-normal_termination', 'xtb-gfn-opt-opt_coords', 'DFT-pre-SP-wB97X-D3-6-31+G**-NoSym-electronic_energy', 'DFT-pre-SP-wB97X-D3-6-31+G**-NoSym-normal_termination', 'DFT-wB97X-D3-6-31G**-OptTS-electronic_energy', 'DFT-wB97X-D3-6-31G**-OptTS-gibbs_energy', 'DFT-wB97X-D3-6-31G**-OptTS-normal_termination', 'DFT-wB97X-D3-6-31G**-OptTS-opt_coords', 'DFT-wB97X-D3-6-31G**-OptTS-vibs', 'DFT-SP-wB97X-D3-6-31+G**-NoSym-electronic_energy', 'DFT-SP-wB97X-D3-6-31+G**-NoSym-normal_termination', '__index_level_0__']\n",
      "['custom_name', 'ligand_name', 'rpos', 'constraint_atoms', 'cid', 'smiles', 'atoms', 'coords_embedded', 'energy_uff', 'xtb-gfnff-opt-electronic_energy', 'xtb-gfnff-opt-normal_termination', 'xtb-gfnff-opt-opt_coords', 'xtb-gfn-electronic_energy', 'xtb-gfn-normal_termination', 'xtb-gfn-opt-electronic_energy', 'xtb-gfn-opt-normal_termination', 'xtb-gfn-opt-opt_coords', 'DFT-pre-SP-wB97X-D3-6-31+G**-NoSym-electronic_energy', 'DFT-pre-SP-wB97X-D3-6-31+G**-NoSym-normal_termination', 'DFT-wB97X-D3-6-31G**-OptTS-electronic_energy', 'DFT-wB97X-D3-6-31G**-OptTS-gibbs_energy', 'DFT-wB97X-D3-6-31G**-OptTS-normal_termination', 'DFT-wB97X-D3-6-31G**-OptTS-opt_coords', 'DFT-wB97X-D3-6-31G**-OptTS-vibs', 'DFT-SP-wB97X-D3-6-31+G**-NoSym-electronic_energy', 'DFT-SP-wB97X-D3-6-31+G**-NoSym-normal_termination', '__index_level_0__']\n",
      "['custom_name', 'ligand_name', 'rpos', 'constraint_atoms', 'cid', 'smiles', 'atoms', 'coords_embedded', 'energy_uff', 'xtb-gfnff-opt-electronic_energy', 'xtb-gfnff-opt-normal_termination', 'xtb-gfnff-opt-opt_coords', 'xtb-gfn-electronic_energy', 'xtb-gfn-normal_termination', 'xtb-gfn-opt-electronic_energy', 'xtb-gfn-opt-normal_termination', 'xtb-gfn-opt-opt_coords', 'DFT-pre-SP-wB97X-D3-6-31+G**-NoSym-electronic_energy', 'DFT-pre-SP-wB97X-D3-6-31+G**-NoSym-normal_termination', 'DFT-wB97X-D3-6-31G**-OptTS-electronic_energy', 'DFT-wB97X-D3-6-31G**-OptTS-gibbs_energy', 'DFT-wB97X-D3-6-31G**-OptTS-normal_termination', 'DFT-wB97X-D3-6-31G**-OptTS-opt_coords', 'DFT-wB97X-D3-6-31G**-OptTS-vibs', 'DFT-SP-wB97X-D3-6-31+G**-NoSym-electronic_energy', 'DFT-SP-wB97X-D3-6-31+G**-NoSym-normal_termination', '__index_level_0__']\n",
      "['custom_name', 'ligand_name', 'rpos', 'constraint_atoms', 'cid', 'smiles', 'atoms', 'coords_embedded', 'energy_uff', 'xtb-gfnff-opt-electronic_energy', 'xtb-gfnff-opt-normal_termination', 'xtb-gfnff-opt-opt_coords', 'xtb-gfn-electronic_energy', 'xtb-gfn-normal_termination', 'xtb-gfn-opt-electronic_energy', 'xtb-gfn-opt-normal_termination', 'xtb-gfn-opt-opt_coords', 'DFT-pre-SP-wB97X-D3-6-31+G**-NoSym-electronic_energy', 'DFT-pre-SP-wB97X-D3-6-31+G**-NoSym-normal_termination', 'DFT-wB97X-D3-6-31G**-OptTS-electronic_energy', 'DFT-wB97X-D3-6-31G**-OptTS-gibbs_energy', 'DFT-wB97X-D3-6-31G**-OptTS-normal_termination', 'DFT-wB97X-D3-6-31G**-OptTS-opt_coords', 'DFT-wB97X-D3-6-31G**-OptTS-vibs', 'DFT-SP-wB97X-D3-6-31+G**-NoSym-electronic_energy', 'DFT-SP-wB97X-D3-6-31+G**-NoSym-normal_termination', '__index_level_0__']\n",
      "['custom_name', 'ligand_name', 'rpos', 'constraint_atoms', 'cid', 'smiles', 'atoms', 'coords_embedded', 'energy_uff', 'xtb-gfnff-opt-electronic_energy', 'xtb-gfnff-opt-normal_termination', 'xtb-gfnff-opt-opt_coords', 'xtb-gfn-electronic_energy', 'xtb-gfn-normal_termination', 'xtb-gfn-opt-electronic_energy', 'xtb-gfn-opt-normal_termination', 'xtb-gfn-opt-opt_coords', 'DFT-pre-SP-wB97X-D3-6-31+G**-NoSym-electronic_energy', 'DFT-pre-SP-wB97X-D3-6-31+G**-NoSym-normal_termination', 'DFT-wB97X-D3-6-31G**-OptTS-electronic_energy', 'DFT-wB97X-D3-6-31G**-OptTS-gibbs_energy', 'DFT-wB97X-D3-6-31G**-OptTS-normal_termination', 'DFT-wB97X-D3-6-31G**-OptTS-opt_coords', 'DFT-wB97X-D3-6-31G**-OptTS-vibs', 'DFT-SP-wB97X-D3-6-31+G**-NoSym-electronic_energy', 'DFT-SP-wB97X-D3-6-31+G**-NoSym-normal_termination', '__index_level_0__']\n",
      "['custom_name', 'ligand_name', 'rpos', 'constraint_atoms', 'cid', 'smiles', 'atoms', 'coords_embedded', 'energy_uff', 'xtb-gfnff-opt-electronic_energy', 'xtb-gfnff-opt-normal_termination', 'xtb-gfnff-opt-opt_coords', 'xtb-gfn-electronic_energy', 'xtb-gfn-normal_termination', 'xtb-gfn-opt-electronic_energy', 'xtb-gfn-opt-normal_termination', 'xtb-gfn-opt-opt_coords', 'DFT-pre-SP-wB97X-D3-6-31+G**-NoSym-electronic_energy', 'DFT-pre-SP-wB97X-D3-6-31+G**-NoSym-normal_termination', 'DFT-wB97X-D3-6-31G**-OptTS-electronic_energy', 'DFT-wB97X-D3-6-31G**-OptTS-gibbs_energy', 'DFT-wB97X-D3-6-31G**-OptTS-normal_termination', 'DFT-wB97X-D3-6-31G**-OptTS-opt_coords', 'DFT-wB97X-D3-6-31G**-OptTS-vibs', 'DFT-SP-wB97X-D3-6-31+G**-NoSym-electronic_energy', 'DFT-SP-wB97X-D3-6-31+G**-NoSym-normal_termination', '__index_level_0__']\n",
      "['custom_name', 'ligand_name', 'rpos', 'constraint_atoms', 'cid', 'smiles', 'atoms', 'coords_embedded', 'energy_uff', 'xtb-gfnff-opt-electronic_energy', 'xtb-gfnff-opt-normal_termination', 'xtb-gfnff-opt-opt_coords', 'xtb-gfn-electronic_energy', 'xtb-gfn-normal_termination', 'xtb-gfn-opt-electronic_energy', 'xtb-gfn-opt-normal_termination', 'xtb-gfn-opt-opt_coords', 'DFT-pre-SP-wB97X-D3-6-31+G**-NoSym-electronic_energy', 'DFT-pre-SP-wB97X-D3-6-31+G**-NoSym-normal_termination', 'DFT-wB97X-D3-6-31G**-OptTS-electronic_energy', 'DFT-wB97X-D3-6-31G**-OptTS-gibbs_energy', 'DFT-wB97X-D3-6-31G**-OptTS-normal_termination', 'DFT-wB97X-D3-6-31G**-OptTS-opt_coords', 'DFT-wB97X-D3-6-31G**-OptTS-vibs', 'DFT-SP-wB97X-D3-6-31+G**-NoSym-electronic_energy', 'DFT-SP-wB97X-D3-6-31+G**-NoSym-normal_termination', '__index_level_0__']\n",
      "['custom_name', 'ligand_name', 'rpos', 'constraint_atoms', 'cid', 'smiles', 'atoms', 'coords_embedded', 'energy_uff', 'xtb-gfnff-opt-electronic_energy', 'xtb-gfnff-opt-normal_termination', 'xtb-gfnff-opt-opt_coords', 'xtb-gfn-electronic_energy', 'xtb-gfn-normal_termination', 'xtb-gfn-opt-electronic_energy', 'xtb-gfn-opt-normal_termination', 'xtb-gfn-opt-opt_coords', 'DFT-pre-SP-wB97X-D3-6-31+G**-NoSym-electronic_energy', 'DFT-pre-SP-wB97X-D3-6-31+G**-NoSym-normal_termination', 'DFT-wB97X-D3-6-31G**-OptTS-electronic_energy', 'DFT-wB97X-D3-6-31G**-OptTS-gibbs_energy', 'DFT-wB97X-D3-6-31G**-OptTS-normal_termination', 'DFT-wB97X-D3-6-31G**-OptTS-opt_coords', 'DFT-wB97X-D3-6-31G**-OptTS-vibs', 'DFT-SP-wB97X-D3-6-31+G**-NoSym-electronic_energy', 'DFT-SP-wB97X-D3-6-31+G**-NoSym-normal_termination', '__index_level_0__']\n",
      "['custom_name', 'ligand_name', 'rpos', 'constraint_atoms', 'cid', 'smiles', 'atoms', 'coords_embedded', 'energy_uff', 'xtb-gfnff-opt-electronic_energy', 'xtb-gfnff-opt-normal_termination', 'xtb-gfnff-opt-opt_coords', 'xtb-gfn-electronic_energy', 'xtb-gfn-normal_termination', 'xtb-gfn-opt-electronic_energy', 'xtb-gfn-opt-normal_termination', 'xtb-gfn-opt-opt_coords', 'DFT-pre-SP-wB97X-D3-6-31+G**-NoSym-electronic_energy', 'DFT-pre-SP-wB97X-D3-6-31+G**-NoSym-normal_termination', 'DFT-wB97X-D3-6-31G**-OptTS-electronic_energy', 'DFT-wB97X-D3-6-31G**-OptTS-gibbs_energy', 'DFT-wB97X-D3-6-31G**-OptTS-normal_termination', 'DFT-wB97X-D3-6-31G**-OptTS-opt_coords', 'DFT-wB97X-D3-6-31G**-OptTS-vibs', 'DFT-SP-wB97X-D3-6-31+G**-NoSym-electronic_energy', 'DFT-SP-wB97X-D3-6-31+G**-NoSym-normal_termination', '__index_level_0__']\n",
      "['custom_name', 'ligand_name', 'rpos', 'constraint_atoms', 'cid', 'smiles', 'atoms', 'coords_embedded', 'energy_uff', 'xtb-gfnff-opt-electronic_energy', 'xtb-gfnff-opt-normal_termination', 'xtb-gfnff-opt-opt_coords', 'xtb-gfn-electronic_energy', 'xtb-gfn-normal_termination', 'xtb-gfn-opt-electronic_energy', 'xtb-gfn-opt-normal_termination', 'xtb-gfn-opt-opt_coords', 'DFT-pre-SP-wB97X-D3-6-31+G**-NoSym-electronic_energy', 'DFT-pre-SP-wB97X-D3-6-31+G**-NoSym-normal_termination', 'DFT-wB97X-D3-6-31G**-OptTS-electronic_energy', 'DFT-wB97X-D3-6-31G**-OptTS-gibbs_energy', 'DFT-wB97X-D3-6-31G**-OptTS-normal_termination', 'DFT-wB97X-D3-6-31G**-OptTS-opt_coords', 'DFT-wB97X-D3-6-31G**-OptTS-vibs', 'DFT-SP-wB97X-D3-6-31+G**-NoSym-electronic_energy', 'DFT-SP-wB97X-D3-6-31+G**-NoSym-normal_termination', '__index_level_0__']\n",
      "['custom_name', 'ligand_name', 'rpos', 'constraint_atoms', 'cid', 'smiles', 'atoms', 'coords_embedded', 'energy_uff', 'xtb-gfnff-opt-electronic_energy', 'xtb-gfnff-opt-normal_termination', 'xtb-gfnff-opt-opt_coords', 'xtb-gfn-electronic_energy', 'xtb-gfn-normal_termination', 'xtb-gfn-opt-electronic_energy', 'xtb-gfn-opt-normal_termination', 'xtb-gfn-opt-opt_coords', 'DFT-pre-SP-wB97X-D3-6-31+G**-NoSym-electronic_energy', 'DFT-pre-SP-wB97X-D3-6-31+G**-NoSym-normal_termination', 'DFT-wB97X-D3-6-31G**-OptTS-electronic_energy', 'DFT-wB97X-D3-6-31G**-OptTS-gibbs_energy', 'DFT-wB97X-D3-6-31G**-OptTS-normal_termination', 'DFT-wB97X-D3-6-31G**-OptTS-opt_coords', 'DFT-wB97X-D3-6-31G**-OptTS-vibs', 'DFT-SP-wB97X-D3-6-31+G**-NoSym-electronic_energy', 'DFT-SP-wB97X-D3-6-31+G**-NoSym-normal_termination', '__index_level_0__']\n"
     ]
    }
   ],
   "source": [
    "path = Path(\"results_font_ts3_preSP\")\n",
    "\n",
    "for f in path.glob(\"*.parquet\"):\n",
    "    schema = pp.read_schema(f)\n",
    "    print(schema.names)"
   ]
  },
  {
   "cell_type": "code",
   "execution_count": 15,
   "id": "8f2aaea4",
   "metadata": {},
   "outputs": [],
   "source": [
    "df = pd.read_parquet(\"results_font_ts3_preSP/run_ts_per_rpos_TS3(1-methylindole_rpos(4)).parquet\", columns=cols).sort_values(by=\"ligand_name\")"
   ]
  },
  {
   "cell_type": "code",
   "execution_count": 16,
   "id": "3995a9de",
   "metadata": {},
   "outputs": [
    {
     "data": {
      "application/vnd.microsoft.datawrangler.viewer.v0+json": {
       "columns": [
        {
         "name": "index",
         "rawType": "int64",
         "type": "integer"
        },
        {
         "name": "custom_name",
         "rawType": "object",
         "type": "string"
        },
        {
         "name": "ligand_name",
         "rawType": "object",
         "type": "string"
        },
        {
         "name": "rpos",
         "rawType": "int64",
         "type": "integer"
        },
        {
         "name": "constraint_atoms",
         "rawType": "object",
         "type": "unknown"
        },
        {
         "name": "cid",
         "rawType": "int64",
         "type": "integer"
        },
        {
         "name": "smiles",
         "rawType": "object",
         "type": "string"
        },
        {
         "name": "atoms",
         "rawType": "object",
         "type": "unknown"
        },
        {
         "name": "coords_embedded",
         "rawType": "object",
         "type": "unknown"
        },
        {
         "name": "energy_uff",
         "rawType": "float64",
         "type": "float"
        },
        {
         "name": "xtb-gfnff-opt-electronic_energy",
         "rawType": "float64",
         "type": "float"
        },
        {
         "name": "xtb-gfnff-opt-normal_termination",
         "rawType": "bool",
         "type": "boolean"
        },
        {
         "name": "xtb-gfnff-opt-opt_coords",
         "rawType": "object",
         "type": "unknown"
        },
        {
         "name": "xtb-gfn-electronic_energy",
         "rawType": "float64",
         "type": "float"
        },
        {
         "name": "xtb-gfn-normal_termination",
         "rawType": "bool",
         "type": "boolean"
        },
        {
         "name": "xtb-gfn-opt-electronic_energy",
         "rawType": "float64",
         "type": "float"
        },
        {
         "name": "xtb-gfn-opt-normal_termination",
         "rawType": "bool",
         "type": "boolean"
        },
        {
         "name": "xtb-gfn-opt-opt_coords",
         "rawType": "object",
         "type": "unknown"
        },
        {
         "name": "DFT-pre-SP-wB97X-D3-6-31+G**-NoSym-electronic_energy",
         "rawType": "float64",
         "type": "float"
        },
        {
         "name": "DFT-pre-SP-wB97X-D3-6-31+G**-NoSym-normal_termination",
         "rawType": "bool",
         "type": "boolean"
        },
        {
         "name": "DFT-wB97X-D3-6-31G**-OptTS-electronic_energy",
         "rawType": "float64",
         "type": "float"
        },
        {
         "name": "DFT-wB97X-D3-6-31G**-OptTS-gibbs_energy",
         "rawType": "float64",
         "type": "float"
        },
        {
         "name": "DFT-wB97X-D3-6-31G**-OptTS-normal_termination",
         "rawType": "bool",
         "type": "boolean"
        },
        {
         "name": "DFT-wB97X-D3-6-31G**-OptTS-opt_coords",
         "rawType": "object",
         "type": "unknown"
        },
        {
         "name": "DFT-SP-wB97X-D3-6-31+G**-NoSym-electronic_energy",
         "rawType": "float64",
         "type": "float"
        },
        {
         "name": "DFT-SP-wB97X-D3-6-31+G**-NoSym-normal_termination",
         "rawType": "bool",
         "type": "boolean"
        }
       ],
       "ref": "b464a7d7-8170-453a-b85e-6daf12f4d0ca",
       "rows": [
        [
         "24",
         "TS3(1-methylindole_rpos(4))",
         "1-methylindole",
         "4",
         "[10 17 39 41 40 46]",
         "24",
         "CN1C2=C(C=CC=C2)C=C1",
         "['H' 'C' 'C' 'C' 'C' 'H' 'C' 'H' 'C' 'H' 'B' 'H' 'H' 'H' 'H' 'H' 'H' 'N'\n 'C' 'H' 'H' 'H' 'C' 'C' 'C' 'C' 'C' 'C' 'H' 'H' 'H' 'C' 'H' 'H' 'H' 'C'\n 'H' 'H' 'H' 'H' 'H' 'H' 'C' 'N' 'C' 'C' 'C' 'C' 'C' 'C' 'C' 'C' 'H' 'H'\n 'H' 'H' 'H' 'H' 'H' 'H']",
         "[array([1.31054336, 4.05640784, 2.72461995])\n array([0.66820651, 3.3461425 , 2.22025952])\n array([1.20179419, 2.47872466, 1.26815867])\n array([-0.69102162,  3.30428816,  2.51931577])\n array([0.38174127, 1.55064617, 0.60544453])\n array([2.26125177, 2.53741154, 1.04599332])\n array([-1.52372155,  2.39139679,  1.87213646])\n array([-1.10223616,  3.98135782,  3.25691133])\n array([-1.01258665,  1.49818913,  0.91198461])\n array([-2.57343717,  2.38383515,  2.12794667])\n array([ 1.07251408,  0.62299134, -0.49248135])\n array([-3.25208305, -2.6497992 ,  0.72003975])\n array([-2.00308265, -2.25405076, -0.48898144])\n array([-2.48038909, -0.64439075, -2.30733945])\n array([-4.07173078,  0.1520591 , -2.42119932])\n array([-4.77213986, -0.91166744, -0.2625112 ])\n array([-4.2397508 , -2.11570926, -1.47148656])\n array([-1.91111506,  0.53261861,  0.28153992])\n array([-3.27337346, -0.42347213,  2.19052031])\n array([-3.52779465, -1.36085786,  2.73138613])\n array([-2.8514939 ,  0.2695108 ,  2.94494449])\n array([-4.22416079, -0.01111161,  1.82038562])\n array([-1.00043975, -1.31383527,  1.75042093])\n array([-2.25538977, -0.71439091,  1.05907905])\n array([-2.74840139,  1.00664058, -0.88027224])\n array([-2.82181363, -1.81463184,  0.12426095])\n array([-3.29661733, -0.19112546, -1.70063178])\n array([-3.8898896 , -1.28396375, -0.82228623])\n array([-0.22503046, -1.61062804,  1.0179845 ])\n array([-0.55474732, -0.59740833,  2.47227225])\n array([-1.26955075, -2.22971787,  2.32040957])\n array([-1.91463196,  1.87511534, -1.86092333])\n array([-1.48510697,  2.76566054, -1.35530865])\n array([-2.55265807,  2.2446215 , -2.69339662])\n array([-1.09427977,  1.29597763, -2.32642972])\n array([-3.92656203,  1.89511799, -0.40923782])\n array([-4.62245532,  1.36781565,  0.26106408])\n array([-3.56226918,  2.8105333 ,  0.09775905])\n array([-4.52902797,  2.23270889, -1.28033231])\n array([ 1.13501474,  1.15685821, -1.58213417])\n array([-0.49985254, -0.31358198, -0.79735496])\n array([ 0.10924798, -0.5555554 , -1.15321811])\n array([ 6.09626984, -2.97294943, -1.76586559])\n array([ 4.92249396, -2.1060899 , -1.72891101])\n array([ 4.23857545, -1.70605322, -0.63979023])\n array([ 3.18911389, -0.89613831, -1.00052962])\n array([ 2.31940237, -0.34590411, -0.04955562])\n array([ 2.55746007, -0.66207292,  1.30612811])\n array([ 3.6349114 , -1.49528988,  1.67297747])\n array([ 4.49120744, -2.02690679,  0.69512634])\n array([ 3.21542179, -0.78825001, -2.38019322])\n array([ 4.30150564, -1.54992406, -2.79449901])\n array([ 6.44842281, -3.10893914, -2.81064133])\n array([ 6.91553215, -2.51868401, -1.16981618])\n array([ 5.84034739, -3.96673894, -1.34227504])\n array([ 1.9170441 , -0.26751452,  2.0837516 ])\n array([ 3.80361787, -1.72651177,  2.71671112])\n array([ 5.31827026, -2.66627485,  0.97486476])\n array([ 2.53611775, -0.23428815, -3.0137639 ])\n array([ 4.61330004, -1.68646414, -3.82210391])]",
         "829.9352371545612",
         "-10.519215768487",
         "True",
         "[array([1.33994616, 4.05828865, 2.66623718])\n array([0.70075409, 3.34022122, 2.1788464 ])\n array([1.20970549, 2.50386845, 1.22657427])\n array([-0.65180226,  3.26704248,  2.52171459])\n array([0.39796446, 1.5659632 , 0.58529401])\n array([2.25080536, 2.55411162, 0.95680127])\n array([-1.47049578,  2.3624847 ,  1.91272061])\n array([-1.04783911,  3.93222891,  3.27170963])\n array([-0.98612554,  1.47155046,  0.92238142])\n array([-2.51144648,  2.32056156,  2.1782832 ])\n array([ 1.12506085,  0.69167247, -0.44600685])\n array([-3.04882639, -2.71334745,  0.65701278])\n array([-1.76398422, -2.24956657, -0.4255216 ])\n array([-2.25817726, -0.53195952, -2.34016835])\n array([-3.86400364,  0.12723793, -2.50198452])\n array([-4.60599885, -1.1017418 , -0.45421166])\n array([-3.95532595, -2.21671238, -1.62348489])\n array([-1.85698528,  0.53443248,  0.30828409])\n array([-3.33884459, -0.47703961,  2.08809983])\n array([-3.54427003, -1.37354903,  2.67317886])\n array([-3.05172048,  0.3084538 ,  2.78452405])\n array([-4.26905366, -0.18487589,  1.60989992])\n array([-0.98666053, -1.22479461,  1.83845566])\n array([-2.22643077, -0.74203219,  1.07015486])\n array([-2.72164676,  0.99705334, -0.8678411 ])\n array([-2.6540674 , -1.86519113,  0.08414872])\n array([-3.12923063, -0.20873007, -1.75996669])\n array([-3.67389041, -1.39066005, -0.95403329])\n array([-0.15919648, -1.42741462,  1.16102602])\n array([-0.65772319, -0.47252145,  2.55422557])\n array([-1.20004685, -2.14094949,  2.38866342])\n array([-1.89842248,  1.9712847 , -1.72453987])\n array([-1.59509743,  2.83968769, -1.14102323])\n array([-2.47658256,  2.32528831, -2.5778104 ])\n array([-0.99829297,  1.49371964, -2.10675742])\n array([-3.96484706,  1.74032274, -0.3719167 ])\n array([-4.63988096,  1.08786063,  0.17405635])\n array([-3.6885784 ,  2.56751967,  0.27960541])\n array([-4.52460437,  2.15449016, -1.21056432])\n array([ 1.31310761,  1.21021654, -1.4844729 ])\n array([-0.52322786, -0.36594587, -0.81249044])\n array([ 0.18727782, -0.49665685, -1.11757121])\n array([ 5.92076404, -3.03996184, -1.80591164])\n array([ 4.77348719, -2.13894631, -1.76717123])\n array([ 4.13765286, -1.7003296 , -0.60007501])\n array([ 3.08866083, -0.84292859, -0.99474355])\n array([ 2.26563916, -0.24002542, -0.01865614])\n array([ 2.52072303, -0.52253612,  1.31144727])\n array([ 3.55529126, -1.37230465,  1.6897313 ])\n array([ 4.37050367, -1.9663758 ,  0.7490451 ])\n array([ 3.10528806, -0.78186126, -2.40776024])\n array([ 4.13501501, -1.5736887 , -2.84855547])\n array([ 6.23672188, -3.20711565, -2.83408598])\n array([ 6.75173607, -2.60869369, -1.2505357 ])\n array([ 5.65757312, -3.99759063, -1.3603477 ])\n array([ 1.90224679, -0.06482919,  2.06336466])\n array([ 3.72301595, -1.56825727,  2.73622197])\n array([ 5.17255102, -2.62324483,  1.03503853])\n array([ 2.42610556, -0.21620003, -3.02290423])\n array([ 4.41621681, -1.74124679, -3.87470711])]",
         "-75.265161145147",
         "True",
         "-75.284551451362",
         "True",
         "[array([1.19490531, 4.07953472, 2.67437106])\n array([0.57829525, 3.34657473, 2.17389193])\n array([1.11367281, 2.54187403, 1.18775892])\n array([-0.75405845,  3.20339246,  2.5139287 ])\n array([0.36343053, 1.57726174, 0.50962206])\n array([2.15604324, 2.65578113, 0.92381582])\n array([-1.52399677,  2.26079601,  1.85882031])\n array([-1.19635874,  3.82211044,  3.28222997])\n array([-0.98761586,  1.44738426,  0.86299822])\n array([-2.56303292,  2.16644504,  2.1322178 ])\n array([ 1.16735656,  0.78261958, -0.58705104])\n array([-3.04409649, -2.64254265,  0.63089437])\n array([-1.84370227, -2.16512049, -0.5675234 ])\n array([-2.41295349, -0.47939903, -2.3226323 ])\n array([-4.01355474,  0.25767688, -2.36537791])\n array([-4.65245754, -1.00178833, -0.32019708])\n array([-4.08129822, -2.10228296, -1.56767342])\n array([-1.79748965,  0.47664162,  0.18921746])\n array([-3.20121009, -0.48774805,  2.11111805])\n array([-3.38489983, -1.44011059,  2.60480597])\n array([-2.81956568,  0.20121357,  2.85829597])\n array([-4.1516329 , -0.11696774,  1.74446224])\n array([-0.89853819, -1.23350537,  1.67923122])\n array([-2.16623732, -0.70504711,  0.98779164])\n array([-2.73323524,  1.02267158, -0.80848654])\n array([-2.67881561, -1.8024727 ,  0.0377473 ])\n array([-3.23882276, -0.12621183, -1.69947104])\n array([-3.77367152, -1.30032663, -0.89240283])\n array([-0.09589285, -1.40043888,  0.9683516 ])\n array([-0.54873791, -0.52825599,  2.42827441])\n array([-1.1235457 , -2.17486474,  2.17547746])\n array([-1.96591287,  2.00842253, -1.70525843])\n array([-1.64731526,  2.87886452, -1.13804967])\n array([-2.61472464,  2.34183219, -2.51201428])\n array([-1.08634513,  1.54352198, -2.13658471])\n array([-3.94050656,  1.80661475, -0.25482495])\n array([-4.59530904,  1.19601471,  0.35677198])\n array([-3.60778487,  2.66007737,  0.32804885])\n array([-4.52597782,  2.18449693, -1.09070787])\n array([ 1.33264731,  1.34452072, -1.61203983])\n array([-0.57342518, -0.42848149, -1.04684864])\n array([ 0.27014208, -0.41491469, -1.29644725])\n array([ 5.90278636, -3.17366095, -1.62348488])\n array([ 4.79267005, -2.26744808, -1.65708509])\n array([ 4.16354174, -1.73872485, -0.56334602])\n array([ 3.12613231, -0.88595775, -1.01575409])\n array([ 2.3026963 , -0.19660948, -0.10188789])\n array([ 2.57625887, -0.42435862,  1.24164508])\n array([ 3.60025136, -1.26372438,  1.6801292 ])\n array([ 4.41081184, -1.93528631,  0.78927068])\n array([ 3.16583355, -0.9398479 , -2.43646909])\n array([ 4.18337525, -1.77825969, -2.77726378])\n array([ 6.19813178, -3.42145161, -2.6418233 ])\n array([ 6.75558837, -2.72088279, -1.10996307])\n array([ 5.63396477, -4.09577426, -1.10033482])\n array([1.97973143, 0.08310004, 1.98612395])\n array([ 3.75930077, -1.38923307,  2.74188134])\n array([ 5.20357102, -2.58518864,  1.13048227])\n array([ 2.52422602, -0.41540475, -3.11588076])\n array([ 4.5278449 , -2.07141438, -3.75186475])]",
         "-1068.529215247578",
         "True",
         "-1068.521894524168",
         "-1068.04813492",
         "True",
         "[array([1.178902, 4.128782, 2.723851])\n array([0.560954, 3.39371 , 2.216102])\n array([1.118676, 2.555753, 1.258257])\n array([-0.789369,  3.275794,  2.518936])\n array([0.365093, 1.589202, 0.57213 ])\n array([2.179973, 2.650222, 1.035998])\n array([-1.556261,  2.323603,  1.858395])\n array([-1.248027,  3.918546,  3.264886])\n array([-1.004438,  1.476926,  0.887934])\n array([-2.609311,  2.235672,  2.099478])\n array([ 1.214677,  0.791861, -0.507501])\n array([-3.048653, -2.648059,  0.673092])\n array([-1.824364, -2.169696, -0.497938])\n array([-2.347958, -0.512978, -2.297847])\n array([-3.948087,  0.20962 , -2.422039])\n array([-4.664476, -1.030428, -0.362248])\n array([-4.045104, -2.142979, -1.568795])\n array([-1.815522,  0.491728,  0.216937])\n array([-3.27123 , -0.452728,  2.118672])\n array([-3.458788, -1.387361,  2.65752 ])\n array([-2.930152,  0.279636,  2.853852])\n array([-4.225632, -0.112543,  1.713881])\n array([-0.950524, -1.228729,  1.755202])\n array([-2.199863, -0.699734,  1.033593])\n array([-2.737121,  1.020605, -0.833354])\n array([-2.685975, -1.803878,  0.075509])\n array([-3.203162, -0.159018, -1.707379])\n array([-3.754336, -1.326214, -0.899026])\n array([-0.131671, -1.427005,  1.059243])\n array([-0.590562, -0.524585,  2.510119])\n array([-1.197052, -2.166587,  2.262741])\n array([-1.953207,  1.986184, -1.735841])\n array([-1.649534,  2.888366, -1.198814])\n array([-2.587163,  2.290457, -2.574721])\n array([-1.054444,  1.516281, -2.143071])\n array([-3.967332,  1.794691, -0.31152 ])\n array([-4.634305,  1.182652,  0.297818])\n array([-3.668108,  2.665745,  0.27604 ])\n array([-4.549136,  2.162791, -1.163142])\n array([ 1.282138,  1.269056, -1.611094])\n array([-0.337327, -0.299791, -0.907882])\n array([ 0.272421, -0.567909, -1.296465])\n array([ 5.896102, -3.19136 , -1.714029])\n array([ 4.796614, -2.257217, -1.718461])\n array([ 4.179414, -1.747742, -0.597672])\n array([ 3.167504, -0.853867, -1.018306])\n array([ 2.356758, -0.194959, -0.062585])\n array([ 2.621818, -0.47325 ,  1.277928])\n array([ 3.640593, -1.353724,  1.6826  ])\n array([ 4.43174 , -2.005793,  0.752574])\n array([ 3.202229, -0.84813 , -2.453829])\n array([ 4.197421, -1.703994, -2.828089])\n array([ 6.146256, -3.45268 , -2.743443])\n array([ 6.782656, -2.755983, -1.240738])\n array([ 5.626198, -4.108421, -1.180223])\n array([2.023784, 0.014625, 2.043445])\n array([ 3.806088, -1.528235,  2.741809])\n array([ 5.215517, -2.691061,  1.063749])\n array([ 2.573269, -0.273564, -3.118209])\n array([ 4.541887, -1.976571, -3.817105])]",
         "-1068.571701194844",
         "True"
        ]
       ],
       "shape": {
        "columns": 25,
        "rows": 1
       }
      },
      "text/html": [
       "<div>\n",
       "<style scoped>\n",
       "    .dataframe tbody tr th:only-of-type {\n",
       "        vertical-align: middle;\n",
       "    }\n",
       "\n",
       "    .dataframe tbody tr th {\n",
       "        vertical-align: top;\n",
       "    }\n",
       "\n",
       "    .dataframe thead th {\n",
       "        text-align: right;\n",
       "    }\n",
       "</style>\n",
       "<table border=\"1\" class=\"dataframe\">\n",
       "  <thead>\n",
       "    <tr style=\"text-align: right;\">\n",
       "      <th></th>\n",
       "      <th>custom_name</th>\n",
       "      <th>ligand_name</th>\n",
       "      <th>rpos</th>\n",
       "      <th>constraint_atoms</th>\n",
       "      <th>cid</th>\n",
       "      <th>smiles</th>\n",
       "      <th>atoms</th>\n",
       "      <th>coords_embedded</th>\n",
       "      <th>energy_uff</th>\n",
       "      <th>xtb-gfnff-opt-electronic_energy</th>\n",
       "      <th>...</th>\n",
       "      <th>xtb-gfn-opt-normal_termination</th>\n",
       "      <th>xtb-gfn-opt-opt_coords</th>\n",
       "      <th>DFT-pre-SP-wB97X-D3-6-31+G**-NoSym-electronic_energy</th>\n",
       "      <th>DFT-pre-SP-wB97X-D3-6-31+G**-NoSym-normal_termination</th>\n",
       "      <th>DFT-wB97X-D3-6-31G**-OptTS-electronic_energy</th>\n",
       "      <th>DFT-wB97X-D3-6-31G**-OptTS-gibbs_energy</th>\n",
       "      <th>DFT-wB97X-D3-6-31G**-OptTS-normal_termination</th>\n",
       "      <th>DFT-wB97X-D3-6-31G**-OptTS-opt_coords</th>\n",
       "      <th>DFT-SP-wB97X-D3-6-31+G**-NoSym-electronic_energy</th>\n",
       "      <th>DFT-SP-wB97X-D3-6-31+G**-NoSym-normal_termination</th>\n",
       "    </tr>\n",
       "  </thead>\n",
       "  <tbody>\n",
       "    <tr>\n",
       "      <th>24</th>\n",
       "      <td>TS3(1-methylindole_rpos(4))</td>\n",
       "      <td>1-methylindole</td>\n",
       "      <td>4</td>\n",
       "      <td>[10, 17, 39, 41, 40, 46]</td>\n",
       "      <td>24</td>\n",
       "      <td>CN1C2=C(C=CC=C2)C=C1</td>\n",
       "      <td>[H, C, C, C, C, H, C, H, C, H, B, H, H, H, H, ...</td>\n",
       "      <td>[[1.310543358114106, 4.05640784300338, 2.72461...</td>\n",
       "      <td>829.935237</td>\n",
       "      <td>-10.519216</td>\n",
       "      <td>...</td>\n",
       "      <td>True</td>\n",
       "      <td>[[1.19490531295644, 4.07953472444953, 2.674371...</td>\n",
       "      <td>-1068.529215</td>\n",
       "      <td>True</td>\n",
       "      <td>-1068.521895</td>\n",
       "      <td>-1068.048135</td>\n",
       "      <td>True</td>\n",
       "      <td>[[1.178902, 4.128782, 2.723851], [0.560954, 3....</td>\n",
       "      <td>-1068.571701</td>\n",
       "      <td>True</td>\n",
       "    </tr>\n",
       "  </tbody>\n",
       "</table>\n",
       "<p>1 rows × 25 columns</p>\n",
       "</div>"
      ],
      "text/plain": [
       "                    custom_name     ligand_name  rpos  \\\n",
       "24  TS3(1-methylindole_rpos(4))  1-methylindole     4   \n",
       "\n",
       "            constraint_atoms  cid                smiles  \\\n",
       "24  [10, 17, 39, 41, 40, 46]   24  CN1C2=C(C=CC=C2)C=C1   \n",
       "\n",
       "                                                atoms  \\\n",
       "24  [H, C, C, C, C, H, C, H, C, H, B, H, H, H, H, ...   \n",
       "\n",
       "                                      coords_embedded  energy_uff  \\\n",
       "24  [[1.310543358114106, 4.05640784300338, 2.72461...  829.935237   \n",
       "\n",
       "    xtb-gfnff-opt-electronic_energy  ...  xtb-gfn-opt-normal_termination  \\\n",
       "24                       -10.519216  ...                            True   \n",
       "\n",
       "                               xtb-gfn-opt-opt_coords  \\\n",
       "24  [[1.19490531295644, 4.07953472444953, 2.674371...   \n",
       "\n",
       "    DFT-pre-SP-wB97X-D3-6-31+G**-NoSym-electronic_energy  \\\n",
       "24                                       -1068.529215      \n",
       "\n",
       "    DFT-pre-SP-wB97X-D3-6-31+G**-NoSym-normal_termination  \\\n",
       "24                                               True       \n",
       "\n",
       "    DFT-wB97X-D3-6-31G**-OptTS-electronic_energy  \\\n",
       "24                                  -1068.521895   \n",
       "\n",
       "    DFT-wB97X-D3-6-31G**-OptTS-gibbs_energy  \\\n",
       "24                             -1068.048135   \n",
       "\n",
       "   DFT-wB97X-D3-6-31G**-OptTS-normal_termination  \\\n",
       "24                                          True   \n",
       "\n",
       "                DFT-wB97X-D3-6-31G**-OptTS-opt_coords  \\\n",
       "24  [[1.178902, 4.128782, 2.723851], [0.560954, 3....   \n",
       "\n",
       "    DFT-SP-wB97X-D3-6-31+G**-NoSym-electronic_energy  \\\n",
       "24                                      -1068.571701   \n",
       "\n",
       "    DFT-SP-wB97X-D3-6-31+G**-NoSym-normal_termination  \n",
       "24                                               True  \n",
       "\n",
       "[1 rows x 25 columns]"
      ]
     },
     "execution_count": 16,
     "metadata": {},
     "output_type": "execute_result"
    }
   ],
   "source": [
    "df"
   ]
  },
  {
   "cell_type": "code",
   "execution_count": null,
   "id": "99c9dcf3",
   "metadata": {},
   "outputs": [],
   "source": [
    "df"
   ]
  },
  {
   "cell_type": "code",
   "execution_count": 24,
   "id": "5af311b4",
   "metadata": {},
   "outputs": [
    {
     "data": {
      "text/plain": [
       "[-88.17,\n",
       " 25.29,\n",
       " 30.91,\n",
       " 34.11,\n",
       " 41.51,\n",
       " 52.38,\n",
       " 67.57,\n",
       " 77.67,\n",
       " 87.03,\n",
       " 93.53,\n",
       " 103.87,\n",
       " 116.07,\n",
       " 126.76,\n",
       " 146.2,\n",
       " 169.27,\n",
       " 176.58,\n",
       " 208.08,\n",
       " 211.83,\n",
       " 216.54,\n",
       " 221.39,\n",
       " 233.44,\n",
       " 238.66,\n",
       " 250.98,\n",
       " 261.14,\n",
       " 283.11,\n",
       " 287.38,\n",
       " 292.85,\n",
       " 300.01,\n",
       " 306.07,\n",
       " 312.7,\n",
       " 313.39,\n",
       " 322.48,\n",
       " 326.76,\n",
       " 331.33,\n",
       " 342.81,\n",
       " 352.12,\n",
       " 360.47,\n",
       " 364.89,\n",
       " 367.7,\n",
       " 394.54,\n",
       " 398.74,\n",
       " 409.58,\n",
       " 414.14,\n",
       " 424.89,\n",
       " 443.84,\n",
       " 473.26,\n",
       " 477.31,\n",
       " 485.37,\n",
       " 497.8,\n",
       " 521.85,\n",
       " 531.82,\n",
       " 558.87,\n",
       " 569.46,\n",
       " 582.71,\n",
       " 588.02,\n",
       " 589.99,\n",
       " 593.63,\n",
       " 616.17,\n",
       " 633.52,\n",
       " 654.2,\n",
       " 677.77,\n",
       " 680.3,\n",
       " 685.94,\n",
       " 714.39,\n",
       " 770.2,\n",
       " 775.24,\n",
       " 788.03,\n",
       " 791.91,\n",
       " 804.85,\n",
       " 824.63,\n",
       " 829.26,\n",
       " 838.62,\n",
       " 879.99,\n",
       " 889.65,\n",
       " 897.28,\n",
       " 907.87,\n",
       " 931.62,\n",
       " 934.14,\n",
       " 937.05,\n",
       " 937.95,\n",
       " 945.15,\n",
       " 948.92,\n",
       " 949.89,\n",
       " 954.28,\n",
       " 962.67,\n",
       " 978.02,\n",
       " 989.47,\n",
       " 999.28,\n",
       " 999.77,\n",
       " 1005.56,\n",
       " 1007.67,\n",
       " 1017.02,\n",
       " 1018.04,\n",
       " 1020.26,\n",
       " 1022.22,\n",
       " 1029.25,\n",
       " 1030.41,\n",
       " 1038.13,\n",
       " 1055.95,\n",
       " 1063.43,\n",
       " 1076.89,\n",
       " 1089.11,\n",
       " 1091.08,\n",
       " 1099.12,\n",
       " 1116.14,\n",
       " 1118.39,\n",
       " 1138.93,\n",
       " 1145.62,\n",
       " 1155.92,\n",
       " 1170.93,\n",
       " 1193.47,\n",
       " 1195.06,\n",
       " 1206.18,\n",
       " 1220.26,\n",
       " 1225.21,\n",
       " 1229.81,\n",
       " 1241.45,\n",
       " 1246.2,\n",
       " 1250.2,\n",
       " 1269.55,\n",
       " 1270.37,\n",
       " 1273.76,\n",
       " 1287.61,\n",
       " 1290.61,\n",
       " 1308.76,\n",
       " 1309.99,\n",
       " 1323.78,\n",
       " 1332.43,\n",
       " 1337.31,\n",
       " 1343.92,\n",
       " 1345.48,\n",
       " 1385.08,\n",
       " 1405.1,\n",
       " 1406.76,\n",
       " 1412.99,\n",
       " 1418.83,\n",
       " 1420.67,\n",
       " 1421.08,\n",
       " 1423.01,\n",
       " 1428.88,\n",
       " 1430.61,\n",
       " 1435.81,\n",
       " 1436.19,\n",
       " 1439.34,\n",
       " 1484.57,\n",
       " 1488.04,\n",
       " 1492.35,\n",
       " 1492.73,\n",
       " 1494.1,\n",
       " 1495.09,\n",
       " 1495.13,\n",
       " 1498.33,\n",
       " 1499.94,\n",
       " 1500.79,\n",
       " 1502.01,\n",
       " 1505.38,\n",
       " 1510.93,\n",
       " 1514.97,\n",
       " 1517.4,\n",
       " 1518.17,\n",
       " 1521.12,\n",
       " 1521.91,\n",
       " 1523.49,\n",
       " 1529.9,\n",
       " 1534.52,\n",
       " 1536.7,\n",
       " 1547.22,\n",
       " 1552.16,\n",
       " 1629.51,\n",
       " 1656.17,\n",
       " 1686.46,\n",
       " 1755.1,\n",
       " 2117.64,\n",
       " 2664.36,\n",
       " 3060.45,\n",
       " 3063.77,\n",
       " 3071.05,\n",
       " 3076.03,\n",
       " 3077.64,\n",
       " 3077.86,\n",
       " 3079.33,\n",
       " 3081.79,\n",
       " 3083.32,\n",
       " 3084.03,\n",
       " 3085.74,\n",
       " 3090.09,\n",
       " 3111.32,\n",
       " 3114.13,\n",
       " 3122.77,\n",
       " 3154.23,\n",
       " 3156.96,\n",
       " 3160.69,\n",
       " 3161.44,\n",
       " 3162.48,\n",
       " 3163.06,\n",
       " 3164.39,\n",
       " 3167.41,\n",
       " 3167.74,\n",
       " 3170.54,\n",
       " 3171.06,\n",
       " 3181.24,\n",
       " 3185.01,\n",
       " 3187.12,\n",
       " 3189.11,\n",
       " 3194.07,\n",
       " 3195.14,\n",
       " 3199.8,\n",
       " 3202.03,\n",
       " 3212.57,\n",
       " 3226.76,\n",
       " 3247.5,\n",
       " 3292.85,\n",
       " 3307.38]"
      ]
     },
     "execution_count": 24,
     "metadata": {},
     "output_type": "execute_result"
    }
   ],
   "source": [
    "my_list = list(df[\"DFT-wB97X-D3-6-31G**-OptTS-vibs\"].iloc[2])\n",
    "\n",
    "freqs = []\n",
    "for i in my_list:\n",
    "    f = i.get('frequency')\n",
    "    freqs.append(f)\n",
    "\n",
    "freqs"
   ]
  },
  {
   "cell_type": "code",
   "execution_count": 1,
   "id": "02427385",
   "metadata": {},
   "outputs": [
    {
     "data": {
      "text/plain": [
       "'ethanol'"
      ]
     },
     "execution_count": 1,
     "metadata": {},
     "output_type": "execute_result"
    }
   ],
   "source": [
    "from frust.utils.mols import get_molecule_name\n",
    "\n",
    "get_molecule_name(\"CCO\")"
   ]
  }
 ],
 "metadata": {
  "kernelspec": {
   "display_name": "FrustActivation",
   "language": "python",
   "name": "python3"
  },
  "language_info": {
   "codemirror_mode": {
    "name": "ipython",
    "version": 3
   },
   "file_extension": ".py",
   "mimetype": "text/x-python",
   "name": "python",
   "nbconvert_exporter": "python",
   "pygments_lexer": "ipython3",
   "version": "3.12.8"
  }
 },
 "nbformat": 4,
 "nbformat_minor": 5
}
