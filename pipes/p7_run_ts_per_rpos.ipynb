{
 "cells": [
  {
   "cell_type": "code",
   "execution_count": 1,
   "id": "50017b26",
   "metadata": {},
   "outputs": [],
   "source": [
    "from frust.pipes import create_ts_per_rpos, run_ts_per_rpos\n",
    "import pandas as pd\n",
    "import os"
   ]
  },
  {
   "cell_type": "code",
   "execution_count": 2,
   "id": "4334ffbc",
   "metadata": {},
   "outputs": [],
   "source": [
    "CSV_PATH = \"../datasets/1m.csv\"\n",
    "TS_XYZ         = \"../structures/ts4_TMP.xyz\"\n",
    "df       = pd.read_csv(CSV_PATH)\n",
    "smi_list = list(dict.fromkeys(df[\"smiles\"]))\n",
    "job_inputs = create_ts_per_rpos(smi_list, TS_XYZ)"
   ]
  },
  {
   "cell_type": "code",
   "execution_count": null,
   "id": "ccfb4fe6",
   "metadata": {},
   "outputs": [
    {
     "name": "stdout",
     "output_type": "stream",
     "text": [
      "Embedded 1 conformers on atom 62\n",
      "2025-09-27 15:00:19 INFO  frust.stepper: Working dir: .\n",
      "2025-09-27 15:00:19 INFO  frust.stepper: [xtb-gfnff-opt] row 0 (TS4(furan_rpos(0)))…\n",
      "2025-09-27 15:00:19 INFO  frust.stepper: [DFT-pre-SP-wB97X-D3-6-31G**-NoSym] row 0 (TS4(furan_rpos(0)))…\n"
     ]
    }
   ],
   "source": [
    "out_dir = \"ts1_full_test\"\n",
    "\n",
    "for job in job_inputs:\n",
    "    tag = list(job.keys())[0]\n",
    "    df = run_ts_per_rpos(\n",
    "        job,\n",
    "        n_confs=None,\n",
    "        n_cores=10,\n",
    "        mem_gb=40,\n",
    "        debug=False,\n",
    "        DFT=True,\n",
    "        out_dir=out_dir,\n",
    "        output_parquet=os.path.join(out_dir, f\"{tag}.parquet\"),\n",
    "        save_output_dir=True,\n",
    "    )"
   ]
  }
 ],
 "metadata": {
  "kernelspec": {
   "display_name": "UMA",
   "language": "python",
   "name": "python3"
  },
  "language_info": {
   "codemirror_mode": {
    "name": "ipython",
    "version": 3
   },
   "file_extension": ".py",
   "mimetype": "text/x-python",
   "name": "python",
   "nbconvert_exporter": "python",
   "pygments_lexer": "ipython3",
   "version": "3.12.8"
  }
 },
 "nbformat": 4,
 "nbformat_minor": 5
}
