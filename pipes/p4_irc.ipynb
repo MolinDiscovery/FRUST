{
 "cells": [
  {
   "cell_type": "code",
   "execution_count": 1,
   "id": "daa4bd5a",
   "metadata": {},
   "outputs": [],
   "source": [
    "from frust.stepper import Stepper\n",
    "from pathlib import Path\n",
    "from tooltoad.chemutils import xyz2mol\n",
    "import pandas as pd"
   ]
  },
  {
   "cell_type": "code",
   "execution_count": 2,
   "id": "899856d5",
   "metadata": {},
   "outputs": [],
   "source": [
    "structures_path = Path(\"../structures/test2_structs\")\n",
    "\n",
    "mols = {}\n",
    "\n",
    "for f in structures_path.rglob(\"*.xyz\"):\n",
    "    with open(f, \"r\") as file:\n",
    "        xyz_block = file.read()\n",
    "        mol = xyz2mol(xyz_block)\n",
    "        mols[f.stem] = (mol, [0])"
   ]
  },
  {
   "cell_type": "code",
   "execution_count": 3,
   "id": "4b817a3e",
   "metadata": {},
   "outputs": [
    {
     "data": {
      "text/plain": [
       "{'ts3_my_opt': (<rdkit.Chem.rdchem.Mol at 0x7fb9c72a2490>, [0])}"
      ]
     },
     "execution_count": 3,
     "metadata": {},
     "output_type": "execute_result"
    }
   ],
   "source": [
    "mols"
   ]
  },
  {
   "cell_type": "code",
   "execution_count": 4,
   "id": "5aef4f77",
   "metadata": {},
   "outputs": [
    {
     "data": {
      "text/plain": [
       "['ts3_my_opt']"
      ]
     },
     "execution_count": 4,
     "metadata": {},
     "output_type": "execute_result"
    }
   ],
   "source": [
    "list(mols.keys())"
   ]
  },
  {
   "cell_type": "code",
   "execution_count": 6,
   "id": "9517dc2f",
   "metadata": {},
   "outputs": [],
   "source": [
    "step = Stepper(list(mols.keys()), step_type=\"IRC\", save_output_dir=False)"
   ]
  },
  {
   "cell_type": "code",
   "execution_count": 7,
   "id": "ccc6abe0",
   "metadata": {},
   "outputs": [],
   "source": [
    "df0 = step.build_initial_df(mols)"
   ]
  },
  {
   "cell_type": "code",
   "execution_count": 8,
   "id": "25c14cc0",
   "metadata": {},
   "outputs": [
    {
     "data": {
      "application/vnd.microsoft.datawrangler.viewer.v0+json": {
       "columns": [
        {
         "name": "index",
         "rawType": "int64",
         "type": "integer"
        },
        {
         "name": "custom_name",
         "rawType": "object",
         "type": "string"
        },
        {
         "name": "ligand_name",
         "rawType": "object",
         "type": "string"
        },
        {
         "name": "rpos",
         "rawType": "object",
         "type": "unknown"
        },
        {
         "name": "constraint_atoms",
         "rawType": "object",
         "type": "unknown"
        },
        {
         "name": "cid",
         "rawType": "int64",
         "type": "integer"
        },
        {
         "name": "smiles",
         "rawType": "object",
         "type": "unknown"
        },
        {
         "name": "atoms",
         "rawType": "object",
         "type": "unknown"
        },
        {
         "name": "coords_embedded",
         "rawType": "object",
         "type": "unknown"
        },
        {
         "name": "energy_uff",
         "rawType": "object",
         "type": "unknown"
        }
       ],
       "ref": "0fa3d4dc-0d94-4f80-88bb-0cd6283638d0",
       "rows": [
        [
         "0",
         "ts3_my_opt",
         "my_opt",
         null,
         null,
         "0",
         null,
         "['H', 'C', 'C', 'C', 'C', 'H', 'C', 'H', 'C', 'H', 'B', 'H', 'H', 'H', 'H', 'H', 'H', 'N', 'C', 'H', 'H', 'H', 'C', 'C', 'C', 'C', 'C', 'C', 'H', 'H', 'H', 'C', 'H', 'H', 'H', 'C', 'H', 'H', 'H', 'H', 'H', 'H', 'C', 'N', 'C', 'C', 'C', 'C', 'H', 'H', 'H', 'H', 'H', 'H']",
         "[(1.11908789810475, -4.6601126513316, 1.57567101397251), (0.65541845428742, -3.70759857914316, 1.33529412224542), (1.44536955668274, -2.59824282860689, 1.0595698185664), (-0.72788453351868, -3.58718427041981, 1.29363803542159), (0.89719542362911, -1.34509376897924, 0.74579185253457), (2.5275613228653, -2.70502210655486, 1.07926469746555), (-1.29748520507197, -2.36026846499867, 0.97527987625585), (-1.36508632428747, -4.44109395671443, 1.50503020914741), (-0.50771580345717, -1.23660178952037, 0.70144308332749), (-2.37723165774715, -2.27338674558918, 0.939529631108), (1.97613666543721, -0.19659391432771, 0.51159616148626), (-0.92242033475218, 2.72401151242702, 0.93970032042598), (-2.42914286458723, 2.79308706885903, 1.8467998454734), (-2.42046446702095, 1.67799215611423, -2.31462982508417), (-0.91631321538049, 2.06599910951092, -1.4870266218219), (-2.74422066902401, 3.43326360930387, -0.55624856930652), (-3.68310140678367, 2.00255234828323, -0.17455744965132), (-1.1064329033241, 0.03142628098955, 0.35883469954856), (-0.707996635037, 0.80071973692263, 2.66632209097274), (-0.5737123485868, -0.19669936017826, 3.09224394415687), (0.27228035156217, 1.17172281539211, 2.35676360816275), (-1.08480303196896, 1.45808120327641, 3.45604046601961), (-3.03460356885826, 0.23262472532282, 2.04594151651352), (-1.70586484969887, 0.79421825694461, 1.4975228200369), (-1.70921947096163, 0.11837634889501, -1.00887665779398), (-1.90860256818866, 2.25301694351603, 1.04758785413871), (-1.90479831785032, 1.60789178262436, -1.3502005442924), (-2.65717471823732, 2.37859235807838, -0.27303311060398), (-2.91923851911641, -0.79852448740691, 2.38710019072539), (-3.84933353947774, 0.26705170021566, 1.32117589625927), (-3.34415720773753, 0.82709048205145, 2.91190049121376), (-3.04201194790926, -0.63601305868146, -1.20232761944756), (-3.37818425584573, -0.50783452072503, -2.23643215867403), (-2.91772937728789, -1.70816367940877, -1.03521068362448), (-3.84197148379407, -0.27846111871185, -0.55258261554164), (-0.71581231627961, -0.46788593981645, -2.02476628716436), (0.27152288901889, -0.00391167554941, -1.95399479674418), (-1.09616667162648, -0.29805910956171, -3.03682790166072), (-0.5909412073801, -1.54559992934998, -1.89095103889685), (2.35123259239842, 0.4072273165423, 1.48659776440368), (0.54274913542157, 0.90856621575067, 0.08562837112415), (1.25149648854894, 1.23542353139142, -0.01389725309402), (4.46560521001543, 1.5724638580173, -0.07841258701293), (4.06072144282774, 0.45655408274316, -0.9066941230473), (2.95025232206461, -0.34606244948849, -0.69103883808112), (2.93055014868169, -1.26335243252885, -1.73507336732697), (4.03253168763728, -1.01300836051459, -2.58074707478915), (4.70572831028263, 0.06060274680622, -2.03832731718487), (3.71301621535009, 2.36700972817239, -0.08980892687632), (5.4026542464329, 1.97758118237395, -0.46432000718047), (4.61990566778184, 1.25394623816533, 0.95511540093553), (2.18720674135656, -2.04161338106725, -1.85095712735924), (4.31094765918614, -1.55011331484342, -3.47665201736347), (5.5993266512243, 0.5708780753283, -2.37248622201789)]",
         null
        ]
       ],
       "shape": {
        "columns": 9,
        "rows": 1
       }
      },
      "text/html": [
       "<div>\n",
       "<style scoped>\n",
       "    .dataframe tbody tr th:only-of-type {\n",
       "        vertical-align: middle;\n",
       "    }\n",
       "\n",
       "    .dataframe tbody tr th {\n",
       "        vertical-align: top;\n",
       "    }\n",
       "\n",
       "    .dataframe thead th {\n",
       "        text-align: right;\n",
       "    }\n",
       "</style>\n",
       "<table border=\"1\" class=\"dataframe\">\n",
       "  <thead>\n",
       "    <tr style=\"text-align: right;\">\n",
       "      <th></th>\n",
       "      <th>custom_name</th>\n",
       "      <th>ligand_name</th>\n",
       "      <th>rpos</th>\n",
       "      <th>constraint_atoms</th>\n",
       "      <th>cid</th>\n",
       "      <th>smiles</th>\n",
       "      <th>atoms</th>\n",
       "      <th>coords_embedded</th>\n",
       "      <th>energy_uff</th>\n",
       "    </tr>\n",
       "  </thead>\n",
       "  <tbody>\n",
       "    <tr>\n",
       "      <th>0</th>\n",
       "      <td>ts3_my_opt</td>\n",
       "      <td>my_opt</td>\n",
       "      <td>&lt;NA&gt;</td>\n",
       "      <td>None</td>\n",
       "      <td>0</td>\n",
       "      <td>None</td>\n",
       "      <td>[H, C, C, C, C, H, C, H, C, H, B, H, H, H, H, ...</td>\n",
       "      <td>[(1.11908789810475, -4.6601126513316, 1.575671...</td>\n",
       "      <td>None</td>\n",
       "    </tr>\n",
       "  </tbody>\n",
       "</table>\n",
       "</div>"
      ],
      "text/plain": [
       "  custom_name ligand_name  rpos constraint_atoms  cid smiles  \\\n",
       "0  ts3_my_opt      my_opt  <NA>             None    0   None   \n",
       "\n",
       "                                               atoms  \\\n",
       "0  [H, C, C, C, C, H, C, H, C, H, B, H, H, H, H, ...   \n",
       "\n",
       "                                     coords_embedded energy_uff  \n",
       "0  [(1.11908789810475, -4.6601126513316, 1.575671...       None  "
      ]
     },
     "execution_count": 8,
     "metadata": {},
     "output_type": "execute_result"
    }
   ],
   "source": [
    "df0"
   ]
  },
  {
   "cell_type": "code",
   "execution_count": 9,
   "id": "7f6d6731",
   "metadata": {},
   "outputs": [],
   "source": [
    "dfs = []\n",
    "for i in range(len(df0)):\n",
    "    df_tmp = df0.iloc[[i]]\n",
    "    dfs.append(df_tmp)\n",
    "\n",
    "def run_irc(df, debug=False, n_cores=12, mem_gb=30):\n",
    "    from pathlib import Path\n",
    "    name = df[\"custom_name\"].iloc[0]\n",
    "\n",
    "    step = Stepper([name],\n",
    "                step_type=\"IRC\",\n",
    "                debug=debug,\n",
    "                save_output_dir=False,\n",
    "                n_cores=n_cores,\n",
    "                memory_gb=mem_gb)\n",
    "    \n",
    "    detailed_inp = \"\"\"%IRC\n",
    "    MAXITER 40\n",
    "    END\n",
    "    \"\"\"\n",
    "    options = {\n",
    "        \"wB97X-D3\" : None,\n",
    "        \"6-31G**\"  : None,\n",
    "        \"TightSCF\" : None,\n",
    "        \"Freq\"     : None,\n",
    "        \"NoSym\"    : None,\n",
    "        \"IRC\"      : None,\n",
    "    }\n",
    "\n",
    "    df1 = step.orca(df, \"DFT-IRC-my-opt\", options, detailed_inp, save_step=True)\n",
    "    results_dir = Path(\"results_irc\")\n",
    "    results_dir.mkdir(exist_ok=True)\n",
    "    df1.to_parquet(f\"{results_dir}/df_irc_{name}.parquet\")"
   ]
  },
  {
   "cell_type": "code",
   "execution_count": 10,
   "id": "7be962ac",
   "metadata": {},
   "outputs": [
    {
     "name": "stdout",
     "output_type": "stream",
     "text": [
      "Submitted: IRC_ts3_my_opt\n"
     ]
    }
   ],
   "source": [
    "import submitit\n",
    "\n",
    "DEBUG           = False\n",
    "N_CORES         = 24\n",
    "MEM_GB          = 60\n",
    "TIMEOUT_MIN     = 14400\n",
    "\n",
    "\n",
    "executor = submitit.AutoExecutor(\"logs/irc\")\n",
    "executor.update_parameters(\n",
    "    slurm_partition=\"kemi1\",\n",
    "    cpus_per_task=N_CORES,\n",
    "    mem_gb=MEM_GB,\n",
    "    timeout_min=TIMEOUT_MIN,\n",
    ")\n",
    "\n",
    "for dfi in dfs:\n",
    "    name = \"IRC_\" + dfi[\"custom_name\"].iloc[0] \n",
    "    executor.update_parameters(slurm_job_name=name)\n",
    "    executor.submit(run_irc, dfi, DEBUG, N_CORES, MEM_GB)\n",
    "    print(f\"Submitted: {name}\")"
   ]
  }
 ],
 "metadata": {
  "kernelspec": {
   "display_name": "FrustActivation",
   "language": "python",
   "name": "python3"
  },
  "language_info": {
   "codemirror_mode": {
    "name": "ipython",
    "version": 3
   },
   "file_extension": ".py",
   "mimetype": "text/x-python",
   "name": "python",
   "nbconvert_exporter": "python",
   "pygments_lexer": "ipython3",
   "version": "3.12.8"
  }
 },
 "nbformat": 4,
 "nbformat_minor": 5
}
