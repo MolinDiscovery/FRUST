{
 "cells": [
  {
   "cell_type": "code",
   "execution_count": 38,
   "id": "daa4bd5a",
   "metadata": {},
   "outputs": [],
   "source": [
    "from frust.stepper import Stepper\n",
    "from pathlib import Path\n",
    "from tooltoad.chemutils import xyz2mol"
   ]
  },
  {
   "cell_type": "code",
   "execution_count": 39,
   "id": "899856d5",
   "metadata": {},
   "outputs": [
    {
     "data": {
      "text/plain": [
       "{'ts3': (<rdkit.Chem.rdchem.Mol at 0x7f36713d1bd0>, [0]),\n",
       " 'ts4': (<rdkit.Chem.rdchem.Mol at 0x7f36713d3c30>, [0])}"
      ]
     },
     "execution_count": 39,
     "metadata": {},
     "output_type": "execute_result"
    }
   ],
   "source": [
    "structures_path = Path(\"../structures/irc_tests/irc_new_ts/\")\n",
    "\n",
    "mols = {}\n",
    "\n",
    "for f in structures_path.rglob(\"*.xyz\"):\n",
    "    with open(f, \"r\") as file:\n",
    "        xyz_block = file.read()\n",
    "        mol = xyz2mol(xyz_block)\n",
    "        mols[f.stem] = (mol, [0])\n",
    "mols        "
   ]
  },
  {
   "cell_type": "code",
   "execution_count": 40,
   "id": "9517dc2f",
   "metadata": {},
   "outputs": [
    {
     "name": "stdout",
     "output_type": "stream",
     "text": [
      "2025-07-15 15:23:59 INFO  frust.stepper: Working dir: .\n"
     ]
    },
    {
     "data": {
      "application/vnd.microsoft.datawrangler.viewer.v0+json": {
       "columns": [
        {
         "name": "index",
         "rawType": "int64",
         "type": "integer"
        },
        {
         "name": "custom_name",
         "rawType": "object",
         "type": "string"
        },
        {
         "name": "ligand_name",
         "rawType": "object",
         "type": "string"
        },
        {
         "name": "rpos",
         "rawType": "object",
         "type": "unknown"
        },
        {
         "name": "constraint_atoms",
         "rawType": "object",
         "type": "unknown"
        },
        {
         "name": "cid",
         "rawType": "int64",
         "type": "integer"
        },
        {
         "name": "smiles",
         "rawType": "object",
         "type": "unknown"
        },
        {
         "name": "atoms",
         "rawType": "object",
         "type": "unknown"
        },
        {
         "name": "coords_embedded",
         "rawType": "object",
         "type": "unknown"
        },
        {
         "name": "energy_uff",
         "rawType": "object",
         "type": "unknown"
        }
       ],
       "ref": "4b7c6d8d-c58c-43b8-a42c-63986eda0eca",
       "rows": [
        [
         "0",
         "ts3",
         "ts3",
         null,
         null,
         "0",
         null,
         "['C', 'C', 'C', 'C', 'C', 'C', 'H', 'H', 'H', 'H', 'B', 'H', 'C', 'C', 'C', 'H', 'C', 'H', 'H', 'H', 'B', 'O', 'O', 'C', 'C', 'C', 'H', 'H', 'H', 'C', 'H', 'H', 'H', 'C', 'H', 'H', 'H', 'C', 'H', 'H', 'H', 'N', 'C', 'H', 'H', 'H', 'C', 'H', 'H', 'H', 'S']",
         "[(-2.056478, -2.08167, 0.887745), (-0.715417, -1.709099, 0.934651), (-0.284165, -0.421332, 0.595017), (-1.26942, 0.524243, 0.22842), (-2.61511, 0.14482, 0.174022), (-3.007069, -1.15097, 0.492634), (-2.349159, -3.09576, 1.142025), (0.021924, -2.454716, 1.218853), (-3.368782, 0.870221, -0.113266), (-4.057303, -1.422678, 0.440337), (1.264499, -0.025461, 0.553238), (1.776714, -1.140408, -0.069332), (1.998461, 0.254564, 1.965324), (1.621544, -0.155756, 3.22695), (2.294771, 0.510506, 4.281869), (0.876722, -0.929622, 3.371969), (3.181175, 1.444858, 3.815836), (2.126599, 0.31592, 5.333816), (3.814946, 2.098679, 4.399298), (1.621311, 0.737527, -0.300163), (2.598436, -1.501112, 0.821017), (3.914588, -1.366729, 0.485733), (2.306589, -2.625459, 1.549843), (4.633138, -2.301589, 1.325789), (3.535971, -3.383852, 1.638305), (5.830747, -2.82008, 0.543781), (6.535107, -2.003567, 0.367664), (6.347852, -3.600565, 1.110853), (5.533796, -3.227544, -0.423572), (5.10362, -1.543186, 2.566759), (5.698628, -0.684253, 2.248648), (4.263676, -1.171244, 3.158626), (5.724359, -2.180253, 3.20292), (3.628596, -3.997032, 3.027582), (2.835373, -4.737627, 3.15694), (4.591015, -4.500975, 3.160186), (3.518015, -3.238958, 3.804361), (3.445801, -4.478594, 0.575597), (4.30831, -5.14956, 0.614216), (2.541189, -5.065163, 0.752359), (3.380265, -4.048424, -0.427326), (-0.869591, 1.849047, -0.096222), (-1.728904, 2.591137, -0.993173), (-2.654144, 2.965782, -0.5179), (-1.180245, 3.461961, -1.366381), (-2.005239, 1.969249, -1.847925), (-0.459235, 2.660577, 1.039505), (0.132459, 3.513279, 0.690105), (-1.325686, 3.047602, 1.605159), (0.156353, 2.078495, 1.724986), (3.195248, 1.510436, 2.104254)]",
         null
        ],
        [
         "1",
         "ts4",
         "ts4",
         null,
         null,
         "0",
         null,
         "['C', 'C', 'C', 'C', 'C', 'C', 'H', 'H', 'H', 'H', 'N', 'B', 'H', 'H', 'H', 'C', 'H', 'H', 'H', 'C', 'H', 'H', 'H', 'C', 'C', 'C', 'H', 'H', 'C', 'C', 'O', 'O', 'B', 'C', 'H', 'H', 'H', 'C', 'H', 'C', 'H', 'H', 'S', 'C', 'H', 'H', 'H', 'C', 'H', 'H', 'H']",
         "[(-2.234946, -1.448244, 0.976903), (-1.070948, -0.725406, 0.63015), (-0.026692, -1.433207, 0.027579), (-0.099269, -2.802464, -0.224443), (-1.245583, -3.496252, 0.134503), (-2.309625, -2.820068, 0.728928), (0.886741, -0.896805, -0.215508), (0.737931, -3.320128, -0.682456), (-1.323658, -4.564127, -0.047878), (-3.204881, -3.372294, 0.996363), (-3.300288, -0.756407, 1.629352), (-0.87051, 0.81403, 0.960924), (1.942021, 3.878215, -0.004848), (3.520117, 3.086849, -0.186515), (2.02499, 2.133467, -0.273887), (4.10277, 0.760915, 1.236602), (4.99242, 1.39511, 1.168248), (4.409625, -0.21763, 1.614727), (3.690042, 0.623487, 0.236073), (3.600509, 1.35136, 3.617346), (3.759869, 0.311966, 3.914585), (4.548483, 1.888254, 3.712056), (2.875515, 1.794308, 4.305796), (-0.56853, 0.984636, 2.876017), (-0.697817, -0.223871, 3.564539), (-1.632492, -0.207039, 4.607134), (-1.748069, 1.612817, 0.808879), (0.176205, 1.243518, 0.515343), (2.548721, 2.788371, 1.741578), (3.077982, 1.374882, 2.17971), (1.185451, 2.762715, 2.21329), (1.884961, 0.567137, 2.156758), (0.818695, 1.437717, 2.258107), (3.260511, 3.964386, 2.395045), (2.832798, 4.901009, 2.028622), (3.150863, 3.942766, 3.480305), (4.326658, 3.955105, 2.147024), (2.512638, 2.974983, 0.223992), (-0.116807, -1.092274, 3.277555), (-2.221532, 1.032105, 4.736112), (-1.87656, -1.056775, 5.231144), (-2.984931, 1.316225, 5.448738), (-1.640655, 2.157738, 3.60861), (-4.127989, 0.041059, 0.735401), (-4.790993, -0.587094, 0.114354), (-4.75157, 0.720972, 1.325541), (-3.50137, 0.639966, 0.075999), (-4.11474, -1.542068, 2.532424), (-4.695439, -0.862556, 3.165778), (-4.831799, -2.211883, 2.023766), (-3.475654, -2.148426, 3.179182)]",
         null
        ]
       ],
       "shape": {
        "columns": 9,
        "rows": 2
       }
      },
      "text/html": [
       "<div>\n",
       "<style scoped>\n",
       "    .dataframe tbody tr th:only-of-type {\n",
       "        vertical-align: middle;\n",
       "    }\n",
       "\n",
       "    .dataframe tbody tr th {\n",
       "        vertical-align: top;\n",
       "    }\n",
       "\n",
       "    .dataframe thead th {\n",
       "        text-align: right;\n",
       "    }\n",
       "</style>\n",
       "<table border=\"1\" class=\"dataframe\">\n",
       "  <thead>\n",
       "    <tr style=\"text-align: right;\">\n",
       "      <th></th>\n",
       "      <th>custom_name</th>\n",
       "      <th>ligand_name</th>\n",
       "      <th>rpos</th>\n",
       "      <th>constraint_atoms</th>\n",
       "      <th>cid</th>\n",
       "      <th>smiles</th>\n",
       "      <th>atoms</th>\n",
       "      <th>coords_embedded</th>\n",
       "      <th>energy_uff</th>\n",
       "    </tr>\n",
       "  </thead>\n",
       "  <tbody>\n",
       "    <tr>\n",
       "      <th>0</th>\n",
       "      <td>ts3</td>\n",
       "      <td>ts3</td>\n",
       "      <td>&lt;NA&gt;</td>\n",
       "      <td>None</td>\n",
       "      <td>0</td>\n",
       "      <td>None</td>\n",
       "      <td>[C, C, C, C, C, C, H, H, H, H, B, H, C, C, C, ...</td>\n",
       "      <td>[(-2.056478, -2.08167, 0.887745), (-0.715417, ...</td>\n",
       "      <td>None</td>\n",
       "    </tr>\n",
       "    <tr>\n",
       "      <th>1</th>\n",
       "      <td>ts4</td>\n",
       "      <td>ts4</td>\n",
       "      <td>&lt;NA&gt;</td>\n",
       "      <td>None</td>\n",
       "      <td>0</td>\n",
       "      <td>None</td>\n",
       "      <td>[C, C, C, C, C, C, H, H, H, H, N, B, H, H, H, ...</td>\n",
       "      <td>[(-2.234946, -1.448244, 0.976903), (-1.070948,...</td>\n",
       "      <td>None</td>\n",
       "    </tr>\n",
       "  </tbody>\n",
       "</table>\n",
       "</div>"
      ],
      "text/plain": [
       "  custom_name ligand_name  rpos constraint_atoms  cid smiles  \\\n",
       "0         ts3         ts3  <NA>             None    0   None   \n",
       "1         ts4         ts4  <NA>             None    0   None   \n",
       "\n",
       "                                               atoms  \\\n",
       "0  [C, C, C, C, C, C, H, H, H, H, B, H, C, C, C, ...   \n",
       "1  [C, C, C, C, C, C, H, H, H, H, N, B, H, H, H, ...   \n",
       "\n",
       "                                     coords_embedded energy_uff  \n",
       "0  [(-2.056478, -2.08167, 0.887745), (-0.715417, ...       None  \n",
       "1  [(-2.234946, -1.448244, 0.976903), (-1.070948,...       None  "
      ]
     },
     "execution_count": 40,
     "metadata": {},
     "output_type": "execute_result"
    }
   ],
   "source": [
    "step = Stepper(list(mols.keys()), step_type=\"IRC\", save_output_dir=False)\n",
    "df0 = step.build_initial_df(mols)\n",
    "df0"
   ]
  },
  {
   "cell_type": "code",
   "execution_count": 41,
   "id": "7f6d6731",
   "metadata": {},
   "outputs": [],
   "source": [
    "dfs = []\n",
    "for i in range(len(df0)):\n",
    "    df_tmp = df0.iloc[[i]]\n",
    "    dfs.append(df_tmp)\n",
    "\n",
    "def run_irc(df, debug=False, n_cores=12, mem_gb=30):\n",
    "    from pathlib import Path\n",
    "    name = df[\"custom_name\"].iloc[0]\n",
    "\n",
    "    results_dir = Path(\"results_irc\")\n",
    "    results_dir.mkdir(exist_ok=True)\n",
    "\n",
    "    step = Stepper([name],\n",
    "                step_type=\"IRC\",\n",
    "                debug=debug,\n",
    "                save_output_dir=False,\n",
    "                output_base=str(results_dir),\n",
    "                n_cores=n_cores,\n",
    "                memory_gb=mem_gb)\n",
    "    \n",
    "    detailed_inp = \"\"\"%IRC\n",
    "    MAXITER 100\n",
    "    END\n",
    "    \"\"\"\n",
    "    options = {\n",
    "        \"wB97X-D3\" : None,\n",
    "        \"6-31G**\"  : None,\n",
    "        \"TightSCF\" : None,\n",
    "        \"Freq\"     : None,\n",
    "        \"NoSym\"    : None,\n",
    "        \"IRC\"      : None,\n",
    "    }\n",
    "\n",
    "    df1 = step.orca(df, f\"DFT-IRC\", options, detailed_inp, save_files=[\"orca.out\", \"*.xyz\"])\n",
    "    df1.to_parquet(f\"{results_dir}/df_irc_{name}.parquet\")"
   ]
  },
  {
   "cell_type": "code",
   "execution_count": 42,
   "id": "7be962ac",
   "metadata": {},
   "outputs": [
    {
     "name": "stdout",
     "output_type": "stream",
     "text": [
      "Submitted: IRC_ts3\n",
      "Submitted: IRC_ts4\n"
     ]
    }
   ],
   "source": [
    "import submitit\n",
    "\n",
    "DEBUG           = False\n",
    "N_CORES         = 8\n",
    "MEM_GB          = 30\n",
    "TIMEOUT_MIN     = 14400\n",
    "\n",
    "\n",
    "executor = submitit.AutoExecutor(\"logs/irc\")\n",
    "executor.update_parameters(\n",
    "    slurm_partition=\"kemi1\",\n",
    "    cpus_per_task=N_CORES,\n",
    "    mem_gb=MEM_GB,\n",
    "    timeout_min=TIMEOUT_MIN,\n",
    ")\n",
    "\n",
    "for dfi in dfs:\n",
    "    name = \"IRC_\" + dfi[\"custom_name\"].iloc[0] \n",
    "    executor.update_parameters(slurm_job_name=name)\n",
    "    executor.submit(run_irc, dfi, DEBUG, N_CORES, MEM_GB)\n",
    "    print(f\"Submitted: {name}\")"
   ]
  }
 ],
 "metadata": {
  "kernelspec": {
   "display_name": "FrustActivation",
   "language": "python",
   "name": "python3"
  },
  "language_info": {
   "codemirror_mode": {
    "name": "ipython",
    "version": 3
   },
   "file_extension": ".py",
   "mimetype": "text/x-python",
   "name": "python",
   "nbconvert_exporter": "python",
   "pygments_lexer": "ipython3",
   "version": "3.12.8"
  }
 },
 "nbformat": 4,
 "nbformat_minor": 5
}
