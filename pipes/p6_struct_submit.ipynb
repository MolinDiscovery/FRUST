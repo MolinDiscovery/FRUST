{
 "cells": [
  {
   "cell_type": "code",
   "execution_count": 20,
   "id": "7d77e31d",
   "metadata": {},
   "outputs": [],
   "source": [
    "import submitit\n",
    "from frust.stepper import Stepper\n",
    "import frust.vis as vis\n",
    "from pathlib import Path\n",
    "from tooltoad.chemutils import xyz2mol"
   ]
  },
  {
   "cell_type": "markdown",
   "id": "8476ab6b",
   "metadata": {},
   "source": [
    "# Run single structure"
   ]
  },
  {
   "cell_type": "code",
   "execution_count": 21,
   "id": "bfa8bf6c",
   "metadata": {},
   "outputs": [
    {
     "name": "stdout",
     "output_type": "stream",
     "text": [
      "2025-10-28 09:21:12 INFO  frust.stepper: Working dir: .\n"
     ]
    },
    {
     "name": "stderr",
     "output_type": "stream",
     "text": [
      "[09:21:12] Explicit valence for atom # 10 H, 2, is greater than permitted\n"
     ]
    },
    {
     "data": {
      "application/3dmoljs_load.v0": "<div id=\"3dmolviewer_1761639672539988\"  style=\"position: relative; width: 400px; height: 400px;\">\n        <p id=\"3dmolwarning_1761639672539988\" style=\"background-color:#ffcccc;color:black\">3Dmol.js failed to load for some reason.  Please check your browser console for error messages.<br></p>\n        </div>\n<script>\n\nvar loadScriptAsync = function(uri){\n  return new Promise((resolve, reject) => {\n    //this is to ignore the existence of requirejs amd\n    var savedexports, savedmodule;\n    if (typeof exports !== 'undefined') savedexports = exports;\n    else exports = {}\n    if (typeof module !== 'undefined') savedmodule = module;\n    else module = {}\n\n    var tag = document.createElement('script');\n    tag.src = uri;\n    tag.async = true;\n    tag.onload = () => {\n        exports = savedexports;\n        module = savedmodule;\n        resolve();\n    };\n  var firstScriptTag = document.getElementsByTagName('script')[0];\n  firstScriptTag.parentNode.insertBefore(tag, firstScriptTag);\n});\n};\n\nif(typeof $3Dmolpromise === 'undefined') {\n$3Dmolpromise = null;\n  $3Dmolpromise = loadScriptAsync('https://cdnjs.cloudflare.com/ajax/libs/3Dmol/2.4.2/3Dmol-min.js');\n}\n\nvar viewer_1761639672539988 = null;\nvar warn = document.getElementById(\"3dmolwarning_1761639672539988\");\nif(warn) {\n    warn.parentNode.removeChild(warn);\n}\n$3Dmolpromise.then(function() {\nvar viewergrid_1761639672539988 = null;\nviewergrid_1761639672539988 = $3Dmol.createViewerGrid(document.getElementById(\"3dmolviewer_1761639672539988\"),{rows: 1, cols: 1, control_all: false},{backgroundColor:\"white\"});\nviewer_1761639672539988 = viewergrid_1761639672539988[0][0];\nviewergrid_1761639672539988[0][0].zoomTo();\tviewergrid_1761639672539988[0][0].setBackgroundColor(\"white\");\n\tviewergrid_1761639672539988[0][0].addModel(\"\\n     RDKit          3D\\n\\n 54 57  0  0  0  0  0  0  0  0999 V2000\\n   -1.3183   -2.0551    0.5371 C   0  0  0  0  0  3  0  0  0  0  0  0\\n   -0.0237   -1.6733    0.9470 C   0  0  0  0  0  3  0  0  0  0  0  0\\n    1.0005   -2.6127    0.7278 C   0  0  0  0  0  3  0  0  0  0  0  0\\n    0.7788   -3.8598    0.1562 C   0  0  0  0  0  3  0  0  0  0  0  0\\n   -0.5127   -4.2153   -0.2270 C   0  0  0  0  0  3  0  0  0  0  0  0\\n   -1.5515   -3.3125   -0.0349 C   0  0  0  0  0  3  0  0  0  0  0  0\\n    2.0115   -2.3420    1.0245 H   0  0  0  0  0  0  0  0  0  0  0  0\\n    1.6040   -4.5518    0.0112 H   0  0  0  0  0  0  0  0  0  0  0  0\\n   -0.7138   -5.1851   -0.6727 H   0  0  0  0  0  0  0  0  0  0  0  0\\n   -2.5511   -3.6026   -0.3285 H   0  0  0  0  0  0  0  0  0  0  0  0\\n   -1.5586    0.1036    1.0479 H   0  0  0  0  0  2  0  0  0  0  0  0\\n    0.3733   -0.2915    1.7000 B   0  0  0  0  0  4  0  0  0  0  0  0\\n   -2.4161   -1.1014    0.7304 N   0  0  0  0  0  4  0  0  0  0  0  0\\n   -3.2676   -1.3837    1.9702 C   0  0  0  0  0  0  0  0  0  0  0  0\\n   -3.1690   -0.6889   -0.5281 C   0  0  0  0  0  0  0  0  0  0  0  0\\n   -4.2108   -0.1888    2.2082 C   0  0  0  0  0  0  0  0  0  0  0  0\\n   -2.3508   -1.5121    3.1920 C   0  0  0  0  0  0  0  0  0  0  0  0\\n   -4.0987   -2.6822    1.9192 C   0  0  0  0  0  0  0  0  0  0  0  0\\n   -4.0333    0.5280   -0.1512 C   0  0  0  0  0  0  0  0  0  0  0  0\\n   -4.0467   -1.7694   -1.2003 C   0  0  0  0  0  0  0  0  0  0  0  0\\n   -2.1745   -0.2340   -1.6004 C   0  0  0  0  0  0  0  0  0  0  0  0\\n   -4.8796   -0.4557    3.0339 H   0  0  0  0  0  0  0  0  0  0  0  0\\n   -3.6195    0.6691    2.5441 H   0  0  0  0  0  0  0  0  0  0  0  0\\n   -5.0062    0.2314    0.9795 C   0  0  0  0  0  0  0  0  0  0  0  0\\n   -1.7116   -2.3970    3.1354 H   0  0  0  0  0  0  0  0  0  0  0  0\\n   -1.7060   -0.6458    3.3239 H   0  0  0  0  0  0  0  0  0  0  0  0\\n   -2.9768   -1.6052    4.0850 H   0  0  0  0  0  0  0  0  0  0  0  0\\n   -3.5028   -3.5427    1.6102 H   0  0  0  0  0  0  0  0  0  0  0  0\\n   -4.4571   -2.8891    2.9324 H   0  0  0  0  0  0  0  0  0  0  0  0\\n   -4.9825   -2.6152    1.2847 H   0  0  0  0  0  0  0  0  0  0  0  0\\n   -4.5608    0.8642   -1.0504 H   0  0  0  0  0  0  0  0  0  0  0  0\\n   -3.3686    1.3469    0.1549 H   0  0  0  0  0  0  0  0  0  0  0  0\\n   -4.7298   -1.2654   -1.8922 H   0  0  0  0  0  0  0  0  0  0  0  0\\n   -3.4432   -2.4555   -1.7983 H   0  0  0  0  0  0  0  0  0  0  0  0\\n   -4.6540   -2.3565   -0.5169 H   0  0  0  0  0  0  0  0  0  0  0  0\\n   -1.6997    0.7047   -1.3247 H   0  0  0  0  0  0  0  0  0  0  0  0\\n   -1.4078   -0.9869   -1.7993 H   0  0  0  0  0  0  0  0  0  0  0  0\\n   -2.7209   -0.0631   -2.5331 H   0  0  0  0  0  0  0  0  0  0  0  0\\n   -5.5990    1.1227    1.2111 H   0  0  0  0  0  0  0  0  0  0  0  0\\n   -5.7166   -0.5489    0.6807 H   0  0  0  0  0  0  0  0  0  0  0  0\\n    1.5002    0.0546    1.3787 H   0  0  0  0  0  0  0  0  0  0  0  0\\n   -0.6594    0.9864    1.3282 C   0  0  0  0  0  0  0  0  0  0  0  0\\n   -1.2743    1.8912    2.2303 C   0  0  0  0  0  3  0  0  0  0  0  0\\n   -1.3233    3.1657    1.6726 C   0  0  0  0  0  3  0  0  0  0  0  0\\n   -1.6744    1.6015    3.1930 H   0  0  0  0  0  0  0  0  0  0  0  0\\n   -1.7540    4.0617    2.0967 H   0  0  0  0  0  0  0  0  0  0  0  0\\n    0.3340   -0.4476    2.9072 H   0  0  0  0  0  0  0  0  0  0  0  0\\n   -0.6952    3.0671    0.4300 C   0  0  0  0  0  3  0  0  0  0  0  0\\n   -0.4906    3.8367   -0.3034 H   0  0  0  0  0  0  0  0  0  0  0  0\\n   -0.3104    1.8012    0.2230 N   0  0  0  0  0  0  0  0  0  0  0  0\\n    0.6042    1.4030   -0.8345 C   0  0  0  0  0  0  0  0  0  0  0  0\\n    0.3596    1.9404   -1.7536 H   0  0  0  0  0  0  0  0  0  0  0  0\\n    1.6332    1.6258   -0.5397 H   0  0  0  0  0  0  0  0  0  0  0  0\\n    0.5241    0.3313   -1.0069 H   0  0  0  0  0  0  0  0  0  0  0  0\\n  2  1  1  0\\n  3  2  1  0\\n  4  3  1  0\\n  5  4  1  0\\n  6  1  1  0\\n  6  5  1  0\\n  7  3  1  0\\n  8  4  1  0\\n  9  5  1  0\\n 10  6  1  0\\n 12  2  1  0\\n 13  1  1  0\\n 13 11  1  0\\n 14 13  1  0\\n 15 13  1  0\\n 16 14  1  0\\n 17 14  1  0\\n 18 14  1  0\\n 19 15  1  0\\n 20 15  1  0\\n 21 15  1  0\\n 22 16  1  0\\n 23 16  1  0\\n 24 16  1  0\\n 24 19  1  0\\n 25 17  1  0\\n 26 17  1  0\\n 27 17  1  0\\n 28 18  1  0\\n 29 18  1  0\\n 30 18  1  0\\n 31 19  1  0\\n 32 19  1  0\\n 33 20  1  0\\n 34 20  1  0\\n 35 20  1  0\\n 36 21  1  0\\n 37 21  1  0\\n 38 21  1  0\\n 39 24  1  0\\n 40 24  1  0\\n 41 12  1  0\\n 42 11  1  0\\n 42 12  1  0\\n 43 42  1  0\\n 44 43  1  0\\n 45 43  1  0\\n 46 44  1  0\\n 47 12  1  0\\n 48 44  1  0\\n 49 48  1  0\\n 50 42  1  0\\n 50 48  1  0\\n 51 50  1  0\\n 52 51  1  0\\n 53 51  1  0\\n 54 51  1  0\\nM  END\\n\",\"mol\");\n\tviewergrid_1761639672539988[0][0].setStyle({},{\"stick\": {}, \"sphere\": {\"radius\": 0.3}});\n\tviewergrid_1761639672539988[0][0].zoomTo();\n\tviewergrid_1761639672539988[0][0].addLabel(\"Mol 1\",{\"fontColor\": \"black\", \"backgroundColor\": \"white\", \"borderColor\": \"black\", \"borderWidth\": 1, \"useScreen\": true, \"inFront\": true, \"screenOffset\": {\"x\": 10, \"y\": 0}});\n\tviewergrid_1761639672539988[0][0].setClickable({},true,\"function(atom, viewer, event, container) {\\n                if(!viewer._picks)       viewer._picks = [];\\n                if(!viewer._distLabels)  viewer._distLabels = {};\\n                if(!viewer._anglePicks)  viewer._anglePicks = [];\\n                if(!viewer._angleLabels) viewer._angleLabels = {};\\n\\n                // Shift-click: angle\\n                if(event.shiftKey) {\\n                    viewer._anglePicks.push(atom);\\n                    if(viewer._anglePicks.length === 3) {\\n                        var A = viewer._anglePicks[0],\\n                            B = viewer._anglePicks[1],\\n                            C = viewer._anglePicks[2];\\n                        var key = [A.index,B.index,C.index].join('-');\\n                        if(key in viewer._angleLabels) {\\n                            viewer.removeLabel(viewer._angleLabels[key]);\\n                            delete viewer._angleLabels[key];\\n                        } else {\\n                            function vec(u,v){return{x:u.x-v.x,y:u.y-v.y,z:u.z-v.z}};\\n                            var vBA=vec(A,B), vBC=vec(C,B);\\n                            var dot=vBA.x*vBC.x+vBA.y*vBC.y+vBA.z*vBC.z;\\n                            var magBA=Math.sqrt(vBA.x*vBA.x+vBA.y*vBA.y+vBA.z*vBA.z);\\n                            var magBC=Math.sqrt(vBC.x*vBC.x+vBC.y*vBC.y+vBC.z*vBC.z);\\n                            var angle=(Math.acos(dot/(magBA*magBC))*(180/Math.PI))\\n                                      .toFixed(2)+'\\u00b0';\\n                            var lbl = viewer.addLabel(angle,\\n                                {position:{x:B.x,y:B.y,z:B.z},\\n                                 backgroundColor:'blue', fontColor:'white',\\n                                 fontSize:12});\\n                            viewer._angleLabels[key] = lbl;\\n                        }\\n                        viewer._anglePicks = [];\\n                    }\\n                }\\n                // Ctrl-click: distance\\n                else if(event.ctrlKey) {\\n                    viewer._picks.push(atom);\\n                    if(viewer._picks.length === 2) {\\n                        var a=viewer._picks[0], b=viewer._picks[1];\\n                        var key=[Math.min(a.index,b.index),\\n                                 Math.max(a.index,b.index)].join('-');\\n                        if(key in viewer._distLabels) {\\n                            viewer.removeLabel(viewer._distLabels[key]);\\n                            delete viewer._distLabels[key];\\n                        } else {\\n                            var dx=a.x-b.x, dy=a.y-b.y, dz=a.z-b.z;\\n                            var dist=Math.sqrt(dx*dx+dy*dy+dz*dz)\\n                                      .toFixed(3)+' \\u00c5';\\n                            var mid={x:(a.x+b.x)/2,y:(a.y+b.y)/2,z:(a.z+b.z)/2};\\n                            var lbl=viewer.addLabel(dist,\\n                                {position:mid,backgroundColor:'grey',\\n                                 fontColor:'white',fontSize:12});\\n                            viewer._distLabels[key]=lbl;\\n                        }\\n                        viewer._picks = [];\\n                    }\\n                }\\n                // Click: toggle label\\n                else {\\n                    if(atom.label) {\\n                        viewer.removeLabel(atom.label); delete atom.label;\\n                    } else {\\n                        atom.label = viewer.addLabel(\\n                            atom.index,\\n                            {position:atom, backgroundColor:'white',\\n                             fontColor:'black', fontSize:12}\\n                        );\\n                    }\\n                }\\n                viewer.render();\\n            }\");\nviewergrid_1761639672539988[0][0].render();\n});\n</script>",
      "text/html": [
       "<div id=\"3dmolviewer_1761639672539988\"  style=\"position: relative; width: 400px; height: 400px;\">\n",
       "        <p id=\"3dmolwarning_1761639672539988\" style=\"background-color:#ffcccc;color:black\">3Dmol.js failed to load for some reason.  Please check your browser console for error messages.<br></p>\n",
       "        </div>\n",
       "<script>\n",
       "\n",
       "var loadScriptAsync = function(uri){\n",
       "  return new Promise((resolve, reject) => {\n",
       "    //this is to ignore the existence of requirejs amd\n",
       "    var savedexports, savedmodule;\n",
       "    if (typeof exports !== 'undefined') savedexports = exports;\n",
       "    else exports = {}\n",
       "    if (typeof module !== 'undefined') savedmodule = module;\n",
       "    else module = {}\n",
       "\n",
       "    var tag = document.createElement('script');\n",
       "    tag.src = uri;\n",
       "    tag.async = true;\n",
       "    tag.onload = () => {\n",
       "        exports = savedexports;\n",
       "        module = savedmodule;\n",
       "        resolve();\n",
       "    };\n",
       "  var firstScriptTag = document.getElementsByTagName('script')[0];\n",
       "  firstScriptTag.parentNode.insertBefore(tag, firstScriptTag);\n",
       "});\n",
       "};\n",
       "\n",
       "if(typeof $3Dmolpromise === 'undefined') {\n",
       "$3Dmolpromise = null;\n",
       "  $3Dmolpromise = loadScriptAsync('https://cdnjs.cloudflare.com/ajax/libs/3Dmol/2.4.2/3Dmol-min.js');\n",
       "}\n",
       "\n",
       "var viewer_1761639672539988 = null;\n",
       "var warn = document.getElementById(\"3dmolwarning_1761639672539988\");\n",
       "if(warn) {\n",
       "    warn.parentNode.removeChild(warn);\n",
       "}\n",
       "$3Dmolpromise.then(function() {\n",
       "var viewergrid_1761639672539988 = null;\n",
       "viewergrid_1761639672539988 = $3Dmol.createViewerGrid(document.getElementById(\"3dmolviewer_1761639672539988\"),{rows: 1, cols: 1, control_all: false},{backgroundColor:\"white\"});\n",
       "viewer_1761639672539988 = viewergrid_1761639672539988[0][0];\n",
       "viewergrid_1761639672539988[0][0].zoomTo();\tviewergrid_1761639672539988[0][0].setBackgroundColor(\"white\");\n",
       "\tviewergrid_1761639672539988[0][0].addModel(\"\\n     RDKit          3D\\n\\n 54 57  0  0  0  0  0  0  0  0999 V2000\\n   -1.3183   -2.0551    0.5371 C   0  0  0  0  0  3  0  0  0  0  0  0\\n   -0.0237   -1.6733    0.9470 C   0  0  0  0  0  3  0  0  0  0  0  0\\n    1.0005   -2.6127    0.7278 C   0  0  0  0  0  3  0  0  0  0  0  0\\n    0.7788   -3.8598    0.1562 C   0  0  0  0  0  3  0  0  0  0  0  0\\n   -0.5127   -4.2153   -0.2270 C   0  0  0  0  0  3  0  0  0  0  0  0\\n   -1.5515   -3.3125   -0.0349 C   0  0  0  0  0  3  0  0  0  0  0  0\\n    2.0115   -2.3420    1.0245 H   0  0  0  0  0  0  0  0  0  0  0  0\\n    1.6040   -4.5518    0.0112 H   0  0  0  0  0  0  0  0  0  0  0  0\\n   -0.7138   -5.1851   -0.6727 H   0  0  0  0  0  0  0  0  0  0  0  0\\n   -2.5511   -3.6026   -0.3285 H   0  0  0  0  0  0  0  0  0  0  0  0\\n   -1.5586    0.1036    1.0479 H   0  0  0  0  0  2  0  0  0  0  0  0\\n    0.3733   -0.2915    1.7000 B   0  0  0  0  0  4  0  0  0  0  0  0\\n   -2.4161   -1.1014    0.7304 N   0  0  0  0  0  4  0  0  0  0  0  0\\n   -3.2676   -1.3837    1.9702 C   0  0  0  0  0  0  0  0  0  0  0  0\\n   -3.1690   -0.6889   -0.5281 C   0  0  0  0  0  0  0  0  0  0  0  0\\n   -4.2108   -0.1888    2.2082 C   0  0  0  0  0  0  0  0  0  0  0  0\\n   -2.3508   -1.5121    3.1920 C   0  0  0  0  0  0  0  0  0  0  0  0\\n   -4.0987   -2.6822    1.9192 C   0  0  0  0  0  0  0  0  0  0  0  0\\n   -4.0333    0.5280   -0.1512 C   0  0  0  0  0  0  0  0  0  0  0  0\\n   -4.0467   -1.7694   -1.2003 C   0  0  0  0  0  0  0  0  0  0  0  0\\n   -2.1745   -0.2340   -1.6004 C   0  0  0  0  0  0  0  0  0  0  0  0\\n   -4.8796   -0.4557    3.0339 H   0  0  0  0  0  0  0  0  0  0  0  0\\n   -3.6195    0.6691    2.5441 H   0  0  0  0  0  0  0  0  0  0  0  0\\n   -5.0062    0.2314    0.9795 C   0  0  0  0  0  0  0  0  0  0  0  0\\n   -1.7116   -2.3970    3.1354 H   0  0  0  0  0  0  0  0  0  0  0  0\\n   -1.7060   -0.6458    3.3239 H   0  0  0  0  0  0  0  0  0  0  0  0\\n   -2.9768   -1.6052    4.0850 H   0  0  0  0  0  0  0  0  0  0  0  0\\n   -3.5028   -3.5427    1.6102 H   0  0  0  0  0  0  0  0  0  0  0  0\\n   -4.4571   -2.8891    2.9324 H   0  0  0  0  0  0  0  0  0  0  0  0\\n   -4.9825   -2.6152    1.2847 H   0  0  0  0  0  0  0  0  0  0  0  0\\n   -4.5608    0.8642   -1.0504 H   0  0  0  0  0  0  0  0  0  0  0  0\\n   -3.3686    1.3469    0.1549 H   0  0  0  0  0  0  0  0  0  0  0  0\\n   -4.7298   -1.2654   -1.8922 H   0  0  0  0  0  0  0  0  0  0  0  0\\n   -3.4432   -2.4555   -1.7983 H   0  0  0  0  0  0  0  0  0  0  0  0\\n   -4.6540   -2.3565   -0.5169 H   0  0  0  0  0  0  0  0  0  0  0  0\\n   -1.6997    0.7047   -1.3247 H   0  0  0  0  0  0  0  0  0  0  0  0\\n   -1.4078   -0.9869   -1.7993 H   0  0  0  0  0  0  0  0  0  0  0  0\\n   -2.7209   -0.0631   -2.5331 H   0  0  0  0  0  0  0  0  0  0  0  0\\n   -5.5990    1.1227    1.2111 H   0  0  0  0  0  0  0  0  0  0  0  0\\n   -5.7166   -0.5489    0.6807 H   0  0  0  0  0  0  0  0  0  0  0  0\\n    1.5002    0.0546    1.3787 H   0  0  0  0  0  0  0  0  0  0  0  0\\n   -0.6594    0.9864    1.3282 C   0  0  0  0  0  0  0  0  0  0  0  0\\n   -1.2743    1.8912    2.2303 C   0  0  0  0  0  3  0  0  0  0  0  0\\n   -1.3233    3.1657    1.6726 C   0  0  0  0  0  3  0  0  0  0  0  0\\n   -1.6744    1.6015    3.1930 H   0  0  0  0  0  0  0  0  0  0  0  0\\n   -1.7540    4.0617    2.0967 H   0  0  0  0  0  0  0  0  0  0  0  0\\n    0.3340   -0.4476    2.9072 H   0  0  0  0  0  0  0  0  0  0  0  0\\n   -0.6952    3.0671    0.4300 C   0  0  0  0  0  3  0  0  0  0  0  0\\n   -0.4906    3.8367   -0.3034 H   0  0  0  0  0  0  0  0  0  0  0  0\\n   -0.3104    1.8012    0.2230 N   0  0  0  0  0  0  0  0  0  0  0  0\\n    0.6042    1.4030   -0.8345 C   0  0  0  0  0  0  0  0  0  0  0  0\\n    0.3596    1.9404   -1.7536 H   0  0  0  0  0  0  0  0  0  0  0  0\\n    1.6332    1.6258   -0.5397 H   0  0  0  0  0  0  0  0  0  0  0  0\\n    0.5241    0.3313   -1.0069 H   0  0  0  0  0  0  0  0  0  0  0  0\\n  2  1  1  0\\n  3  2  1  0\\n  4  3  1  0\\n  5  4  1  0\\n  6  1  1  0\\n  6  5  1  0\\n  7  3  1  0\\n  8  4  1  0\\n  9  5  1  0\\n 10  6  1  0\\n 12  2  1  0\\n 13  1  1  0\\n 13 11  1  0\\n 14 13  1  0\\n 15 13  1  0\\n 16 14  1  0\\n 17 14  1  0\\n 18 14  1  0\\n 19 15  1  0\\n 20 15  1  0\\n 21 15  1  0\\n 22 16  1  0\\n 23 16  1  0\\n 24 16  1  0\\n 24 19  1  0\\n 25 17  1  0\\n 26 17  1  0\\n 27 17  1  0\\n 28 18  1  0\\n 29 18  1  0\\n 30 18  1  0\\n 31 19  1  0\\n 32 19  1  0\\n 33 20  1  0\\n 34 20  1  0\\n 35 20  1  0\\n 36 21  1  0\\n 37 21  1  0\\n 38 21  1  0\\n 39 24  1  0\\n 40 24  1  0\\n 41 12  1  0\\n 42 11  1  0\\n 42 12  1  0\\n 43 42  1  0\\n 44 43  1  0\\n 45 43  1  0\\n 46 44  1  0\\n 47 12  1  0\\n 48 44  1  0\\n 49 48  1  0\\n 50 42  1  0\\n 50 48  1  0\\n 51 50  1  0\\n 52 51  1  0\\n 53 51  1  0\\n 54 51  1  0\\nM  END\\n\",\"mol\");\n",
       "\tviewergrid_1761639672539988[0][0].setStyle({},{\"stick\": {}, \"sphere\": {\"radius\": 0.3}});\n",
       "\tviewergrid_1761639672539988[0][0].zoomTo();\n",
       "\tviewergrid_1761639672539988[0][0].addLabel(\"Mol 1\",{\"fontColor\": \"black\", \"backgroundColor\": \"white\", \"borderColor\": \"black\", \"borderWidth\": 1, \"useScreen\": true, \"inFront\": true, \"screenOffset\": {\"x\": 10, \"y\": 0}});\n",
       "\tviewergrid_1761639672539988[0][0].setClickable({},true,\"function(atom, viewer, event, container) {\\n                if(!viewer._picks)       viewer._picks = [];\\n                if(!viewer._distLabels)  viewer._distLabels = {};\\n                if(!viewer._anglePicks)  viewer._anglePicks = [];\\n                if(!viewer._angleLabels) viewer._angleLabels = {};\\n\\n                // Shift-click: angle\\n                if(event.shiftKey) {\\n                    viewer._anglePicks.push(atom);\\n                    if(viewer._anglePicks.length === 3) {\\n                        var A = viewer._anglePicks[0],\\n                            B = viewer._anglePicks[1],\\n                            C = viewer._anglePicks[2];\\n                        var key = [A.index,B.index,C.index].join('-');\\n                        if(key in viewer._angleLabels) {\\n                            viewer.removeLabel(viewer._angleLabels[key]);\\n                            delete viewer._angleLabels[key];\\n                        } else {\\n                            function vec(u,v){return{x:u.x-v.x,y:u.y-v.y,z:u.z-v.z}};\\n                            var vBA=vec(A,B), vBC=vec(C,B);\\n                            var dot=vBA.x*vBC.x+vBA.y*vBC.y+vBA.z*vBC.z;\\n                            var magBA=Math.sqrt(vBA.x*vBA.x+vBA.y*vBA.y+vBA.z*vBA.z);\\n                            var magBC=Math.sqrt(vBC.x*vBC.x+vBC.y*vBC.y+vBC.z*vBC.z);\\n                            var angle=(Math.acos(dot/(magBA*magBC))*(180/Math.PI))\\n                                      .toFixed(2)+'\\u00b0';\\n                            var lbl = viewer.addLabel(angle,\\n                                {position:{x:B.x,y:B.y,z:B.z},\\n                                 backgroundColor:'blue', fontColor:'white',\\n                                 fontSize:12});\\n                            viewer._angleLabels[key] = lbl;\\n                        }\\n                        viewer._anglePicks = [];\\n                    }\\n                }\\n                // Ctrl-click: distance\\n                else if(event.ctrlKey) {\\n                    viewer._picks.push(atom);\\n                    if(viewer._picks.length === 2) {\\n                        var a=viewer._picks[0], b=viewer._picks[1];\\n                        var key=[Math.min(a.index,b.index),\\n                                 Math.max(a.index,b.index)].join('-');\\n                        if(key in viewer._distLabels) {\\n                            viewer.removeLabel(viewer._distLabels[key]);\\n                            delete viewer._distLabels[key];\\n                        } else {\\n                            var dx=a.x-b.x, dy=a.y-b.y, dz=a.z-b.z;\\n                            var dist=Math.sqrt(dx*dx+dy*dy+dz*dz)\\n                                      .toFixed(3)+' \\u00c5';\\n                            var mid={x:(a.x+b.x)/2,y:(a.y+b.y)/2,z:(a.z+b.z)/2};\\n                            var lbl=viewer.addLabel(dist,\\n                                {position:mid,backgroundColor:'grey',\\n                                 fontColor:'white',fontSize:12});\\n                            viewer._distLabels[key]=lbl;\\n                        }\\n                        viewer._picks = [];\\n                    }\\n                }\\n                // Click: toggle label\\n                else {\\n                    if(atom.label) {\\n                        viewer.removeLabel(atom.label); delete atom.label;\\n                    } else {\\n                        atom.label = viewer.addLabel(\\n                            atom.index,\\n                            {position:atom, backgroundColor:'white',\\n                             fontColor:'black', fontSize:12}\\n                        );\\n                    }\\n                }\\n                viewer.render();\\n            }\");\n",
       "viewergrid_1761639672539988[0][0].render();\n",
       "});\n",
       "</script>"
      ]
     },
     "metadata": {},
     "output_type": "display_data"
    }
   ],
   "source": [
    "f = Path(\"../structures/ts1.xyz\")\n",
    "mols = {}\n",
    "with open(f, \"r\") as file:\n",
    "    xyz_block = file.read()\n",
    "    mol = xyz2mol(xyz_block)\n",
    "    mols[f.stem] = (mol, [0])\n",
    "\n",
    "step = Stepper(list(mols.keys()), step_type=\"mol\", save_output_dir=False)\n",
    "df0 = step.build_initial_df(mols)\n",
    "\n",
    "vis.MolTo3DGrid(f)"
   ]
  },
  {
   "cell_type": "code",
   "execution_count": 25,
   "id": "de5c07d2",
   "metadata": {},
   "outputs": [],
   "source": [
    "def run_orca_calc(\n",
    "    df,\n",
    "    results_dir,\n",
    "    debug=False,\n",
    "    n_cores=1,\n",
    "    mem_gb=5,\n",
    "):\n",
    "    from pathlib import Path\n",
    "    from nuse import start_monitoring\n",
    "    start_monitoring(filter_cgroup=True)\n",
    "    \n",
    "    name = df[\"custom_name\"].iloc[0]\n",
    "\n",
    "    results_dir = Path(results_dir)\n",
    "    results_dir.mkdir(exist_ok=True)\n",
    "\n",
    "    step = Stepper([name],\n",
    "                step_type=\"none\",\n",
    "                debug=debug,\n",
    "                save_output_dir=True,\n",
    "                output_base=str(results_dir),\n",
    "                n_cores=n_cores,\n",
    "                memory_gb=mem_gb,\n",
    "                work_dir=\"noob\")\n",
    "\n",
    "    df = step.orca(df0, \"DFT\", {\n",
    "        \"wB97X-D3\"  : None,\n",
    "        \"6-31G**\"   : None,\n",
    "        \"TightSCF\"  : None,\n",
    "        \"SlowConv\"  : None,\n",
    "        \"OptTS\"     : None,\n",
    "        #\"Freq\"      : None,\n",
    "        \"NoSym\"     : None,\n",
    "    })\n",
    "    \n",
    "    df = step.orca(df, name=\"DFT-SP\", options={\n",
    "        \"wB97X-D3\"      : None,\n",
    "        \"6-31+G**\"      : None,\n",
    "        \"TightSCF\"      : None,\n",
    "        \"SP\"            : None,\n",
    "        \"NoSym\"         : None,\n",
    "    }, xtra_inp_str=\"\"\"%CPCM\\nSMD TRUE\\nSMDSOLVENT \"chloroform\"\\nend\"\"\")\n",
    "\n",
    "    df.to_parquet(f\"{results_dir}/results_{name}.parquet\")"
   ]
  },
  {
   "cell_type": "code",
   "execution_count": 26,
   "id": "3994f844",
   "metadata": {},
   "outputs": [
    {
     "name": "stdout",
     "output_type": "stream",
     "text": [
      "Submitted: ts1\n"
     ]
    }
   ],
   "source": [
    "DEBUG           = False\n",
    "N_CORES         = 64\n",
    "MEM_GB          = 128\n",
    "TIMEOUT_MIN     = 1440 \n",
    "RESULTS_DIR     = \"test2\"\n",
    "\n",
    "executor = submitit.AutoExecutor(f\"logs/{RESULTS_DIR}\")\n",
    "executor.update_parameters(\n",
    "    slurm_partition=\"kemi1\",\n",
    "    cpus_per_task=N_CORES,\n",
    "    mem_gb=MEM_GB,\n",
    "    timeout_min=TIMEOUT_MIN,\n",
    ")\n",
    "\n",
    "name = df0[\"custom_name\"].iloc[0]\n",
    "executor.update_parameters(slurm_job_name=name)\n",
    "executor.submit(run_orca_calc, df0, RESULTS_DIR, DEBUG, N_CORES, MEM_GB)\n",
    "print(f\"Submitted: {name}\")"
   ]
  }
 ],
 "metadata": {
  "kernelspec": {
   "display_name": "UMA",
   "language": "python",
   "name": "python3"
  },
  "language_info": {
   "codemirror_mode": {
    "name": "ipython",
    "version": 3
   },
   "file_extension": ".py",
   "mimetype": "text/x-python",
   "name": "python",
   "nbconvert_exporter": "python",
   "pygments_lexer": "ipython3",
   "version": "3.12.8"
  }
 },
 "nbformat": 4,
 "nbformat_minor": 5
}
