{
 "cells": [
  {
   "cell_type": "code",
   "execution_count": 4,
   "id": "7d77e31d",
   "metadata": {},
   "outputs": [],
   "source": [
    "import submitit\n",
    "from frust.stepper import Stepper\n",
    "import frust.vis as vis\n",
    "from pathlib import Path\n",
    "from tooltoad.chemutils import xyz2mol"
   ]
  },
  {
   "cell_type": "markdown",
   "id": "8476ab6b",
   "metadata": {},
   "source": [
    "# Run single structure"
   ]
  },
  {
   "cell_type": "code",
   "execution_count": 5,
   "id": "bfa8bf6c",
   "metadata": {},
   "outputs": [
    {
     "name": "stdout",
     "output_type": "stream",
     "text": [
      "2025-10-06 12:37:47 INFO  frust.stepper: Working dir: .\n"
     ]
    },
    {
     "name": "stderr",
     "output_type": "stream",
     "text": [
      "[12:37:47] Explicit valence for atom # 0 B, 5, is greater than permitted\n"
     ]
    },
    {
     "data": {
      "application/3dmoljs_load.v0": "<div id=\"3dmolviewer_17597470678621461\"  style=\"position: relative; width: 400px; height: 400px;\">\n        <p id=\"3dmolwarning_17597470678621461\" style=\"background-color:#ffcccc;color:black\">3Dmol.js failed to load for some reason.  Please check your browser console for error messages.<br></p>\n        </div>\n<script>\n\nvar loadScriptAsync = function(uri){\n  return new Promise((resolve, reject) => {\n    //this is to ignore the existence of requirejs amd\n    var savedexports, savedmodule;\n    if (typeof exports !== 'undefined') savedexports = exports;\n    else exports = {}\n    if (typeof module !== 'undefined') savedmodule = module;\n    else module = {}\n\n    var tag = document.createElement('script');\n    tag.src = uri;\n    tag.async = true;\n    tag.onload = () => {\n        exports = savedexports;\n        module = savedmodule;\n        resolve();\n    };\n  var firstScriptTag = document.getElementsByTagName('script')[0];\n  firstScriptTag.parentNode.insertBefore(tag, firstScriptTag);\n});\n};\n\nif(typeof $3Dmolpromise === 'undefined') {\n$3Dmolpromise = null;\n  $3Dmolpromise = loadScriptAsync('https://cdnjs.cloudflare.com/ajax/libs/3Dmol/2.4.2/3Dmol-min.js');\n}\n\nvar viewer_17597470678621461 = null;\nvar warn = document.getElementById(\"3dmolwarning_17597470678621461\");\nif(warn) {\n    warn.parentNode.removeChild(warn);\n}\n$3Dmolpromise.then(function() {\nvar viewergrid_17597470678621461 = null;\nviewergrid_17597470678621461 = $3Dmol.createViewerGrid(document.getElementById(\"3dmolviewer_17597470678621461\"),{rows: 1, cols: 1, control_all: false},{backgroundColor:\"white\"});\nviewer_17597470678621461 = viewergrid_17597470678621461[0][0];\nviewergrid_17597470678621461[0][0].zoomTo();\tviewergrid_17597470678621461[0][0].setBackgroundColor(\"white\");\n\tviewergrid_17597470678621461[0][0].addModel(\"\\n     RDKit          3D\\n\\n 82 87  0  0  0  0  0  0  0  0999 V2000\\n    0.8228    0.2188    0.2700 B   0  0  0  0  0  5  0  0  0  0  0  0\\n   -0.1656    0.9179   -0.2779 H   0  0  0  0  0  2  0  0  0  0  0  0\\n    0.9256    0.5897    1.3980 H   0  0  0  0  0  0  0  0  0  0  0  0\\n    2.0593    0.1336   -0.7055 C   0  0  0  0  0  3  0  0  0  0  0  0\\n    2.0789   -0.7874   -1.7619 C   0  0  0  0  0  3  0  0  0  0  0  0\\n    1.2322   -1.4553   -1.8974 H   0  0  0  0  0  0  0  0  0  0  0  0\\n    3.1504   -0.8768   -2.6420 C   0  0  0  0  0  3  0  0  0  0  0  0\\n    3.1373   -1.6046   -3.4471 H   0  0  0  0  0  0  0  0  0  0  0  0\\n    4.2351   -0.0234   -2.4813 C   0  0  0  0  0  3  0  0  0  0  0  0\\n    5.0787   -0.0726   -3.1632 H   0  0  0  0  0  0  0  0  0  0  0  0\\n    4.2409    0.8980   -1.4397 C   0  0  0  0  0  3  0  0  0  0  0  0\\n    5.0885    1.5628   -1.3223 H   0  0  0  0  0  0  0  0  0  0  0  0\\n    3.1720    0.9865   -0.5399 C   0  0  0  0  0  3  0  0  0  0  0  0\\n    3.1862    1.9200    0.5469 N   0  0  0  0  0  0  0  0  0  0  0  0\\n    4.0854    1.5835    1.6823 C   0  0  0  0  0  0  0  0  0  0  0  0\\n    3.6255    2.3816    2.9156 C   0  0  0  0  0  0  0  0  0  0  0  0\\n    2.6520    1.9868    3.2327 H   0  0  0  0  0  0  0  0  0  0  0  0\\n    4.3313    2.2009    3.7341 H   0  0  0  0  0  0  0  0  0  0  0  0\\n    3.4800    3.8720    2.6407 C   0  0  0  0  0  0  0  0  0  0  0  0\\n    3.1350    4.3902    3.5416 H   0  0  0  0  0  0  0  0  0  0  0  0\\n    4.4490    4.3156    2.3816 H   0  0  0  0  0  0  0  0  0  0  0  0\\n    2.4784    4.0666    1.5114 C   0  0  0  0  0  0  0  0  0  0  0  0\\n    2.3432    5.1299    1.2838 H   0  0  0  0  0  0  0  0  0  0  0  0\\n    1.5059    3.6800    1.8425 H   0  0  0  0  0  0  0  0  0  0  0  0\\n    2.8658    3.3306    0.2151 C   0  0  0  0  0  0  0  0  0  0  0  0\\n    3.9942    4.0987   -0.5103 C   0  0  0  0  0  0  0  0  0  0  0  0\\n    4.2620    3.6028   -1.4466 H   0  0  0  0  0  0  0  0  0  0  0  0\\n    4.8963    4.1966    0.0951 H   0  0  0  0  0  0  0  0  0  0  0  0\\n    3.6546    5.1093   -0.7600 H   0  0  0  0  0  0  0  0  0  0  0  0\\n    1.6362    3.3698   -0.7052 C   0  0  0  0  0  0  0  0  0  0  0  0\\n    1.8223    2.8826   -1.6655 H   0  0  0  0  0  0  0  0  0  0  0  0\\n    1.3642    4.4113   -0.9011 H   0  0  0  0  0  0  0  0  0  0  0  0\\n    0.7801    2.8864   -0.2272 H   0  0  0  0  0  0  0  0  0  0  0  0\\n    5.5912    1.8357    1.4361 C   0  0  0  0  0  0  0  0  0  0  0  0\\n    5.8237    2.8834    1.2412 H   0  0  0  0  0  0  0  0  0  0  0  0\\n    5.9570    1.2414    0.5958 H   0  0  0  0  0  0  0  0  0  0  0  0\\n    6.1613    1.5323    2.3205 H   0  0  0  0  0  0  0  0  0  0  0  0\\n    3.9335    0.0915    2.0187 C   0  0  0  0  0  0  0  0  0  0  0  0\\n    4.3123   -0.5481    1.2174 H   0  0  0  0  0  0  0  0  0  0  0  0\\n    2.8874   -0.1646    2.1989 H   0  0  0  0  0  0  0  0  0  0  0  0\\n    4.5040   -0.1319    2.9255 H   0  0  0  0  0  0  0  0  0  0  0  0\\n   -0.8228   -0.2188   -0.2700 B   0  0  0  0  0  5  0  0  0  0  0  0\\n    0.1656   -0.9179    0.2779 H   0  0  0  0  0  2  0  0  0  0  0  0\\n   -0.9256   -0.5897   -1.3980 H   0  0  0  0  0  0  0  0  0  0  0  0\\n   -2.0593   -0.1336    0.7055 C   0  0  0  0  0  3  0  0  0  0  0  0\\n   -2.0789    0.7874    1.7619 C   0  0  0  0  0  3  0  0  0  0  0  0\\n   -1.2322    1.4553    1.8974 H   0  0  0  0  0  0  0  0  0  0  0  0\\n   -3.1504    0.8768    2.6420 C   0  0  0  0  0  3  0  0  0  0  0  0\\n   -3.1373    1.6046    3.4471 H   0  0  0  0  0  0  0  0  0  0  0  0\\n   -4.2351    0.0234    2.4813 C   0  0  0  0  0  3  0  0  0  0  0  0\\n   -5.0787    0.0726    3.1632 H   0  0  0  0  0  0  0  0  0  0  0  0\\n   -4.2409   -0.8980    1.4397 C   0  0  0  0  0  3  0  0  0  0  0  0\\n   -5.0885   -1.5628    1.3223 H   0  0  0  0  0  0  0  0  0  0  0  0\\n   -3.1720   -0.9865    0.5399 C   0  0  0  0  0  3  0  0  0  0  0  0\\n   -3.1862   -1.9200   -0.5469 N   0  0  0  0  0  0  0  0  0  0  0  0\\n   -4.0854   -1.5835   -1.6823 C   0  0  0  0  0  0  0  0  0  0  0  0\\n   -3.6255   -2.3816   -2.9156 C   0  0  0  0  0  0  0  0  0  0  0  0\\n   -2.6520   -1.9868   -3.2327 H   0  0  0  0  0  0  0  0  0  0  0  0\\n   -4.3313   -2.2009   -3.7341 H   0  0  0  0  0  0  0  0  0  0  0  0\\n   -3.4800   -3.8720   -2.6407 C   0  0  0  0  0  0  0  0  0  0  0  0\\n   -3.1350   -4.3902   -3.5416 H   0  0  0  0  0  0  0  0  0  0  0  0\\n   -4.4490   -4.3156   -2.3816 H   0  0  0  0  0  0  0  0  0  0  0  0\\n   -2.4784   -4.0666   -1.5114 C   0  0  0  0  0  0  0  0  0  0  0  0\\n   -2.3432   -5.1299   -1.2838 H   0  0  0  0  0  0  0  0  0  0  0  0\\n   -1.5059   -3.6800   -1.8425 H   0  0  0  0  0  0  0  0  0  0  0  0\\n   -2.8658   -3.3306   -0.2151 C   0  0  0  0  0  0  0  0  0  0  0  0\\n   -3.9942   -4.0987    0.5103 C   0  0  0  0  0  0  0  0  0  0  0  0\\n   -4.2620   -3.6028    1.4466 H   0  0  0  0  0  0  0  0  0  0  0  0\\n   -4.8963   -4.1966   -0.0951 H   0  0  0  0  0  0  0  0  0  0  0  0\\n   -3.6546   -5.1093    0.7600 H   0  0  0  0  0  0  0  0  0  0  0  0\\n   -1.6362   -3.3698    0.7052 C   0  0  0  0  0  0  0  0  0  0  0  0\\n   -1.8223   -2.8826    1.6655 H   0  0  0  0  0  0  0  0  0  0  0  0\\n   -1.3642   -4.4113    0.9011 H   0  0  0  0  0  0  0  0  0  0  0  0\\n   -0.7801   -2.8864    0.2272 H   0  0  0  0  0  0  0  0  0  0  0  0\\n   -5.5912   -1.8357   -1.4361 C   0  0  0  0  0  0  0  0  0  0  0  0\\n   -5.8237   -2.8834   -1.2412 H   0  0  0  0  0  0  0  0  0  0  0  0\\n   -5.9570   -1.2414   -0.5958 H   0  0  0  0  0  0  0  0  0  0  0  0\\n   -6.1613   -1.5323   -2.3205 H   0  0  0  0  0  0  0  0  0  0  0  0\\n   -3.9335   -0.0915   -2.0187 C   0  0  0  0  0  0  0  0  0  0  0  0\\n   -4.3123    0.5481   -1.2174 H   0  0  0  0  0  0  0  0  0  0  0  0\\n   -2.8874    0.1646   -2.1989 H   0  0  0  0  0  0  0  0  0  0  0  0\\n   -4.5040    0.1319   -2.9255 H   0  0  0  0  0  0  0  0  0  0  0  0\\n  2  1  1  0\\n  3  1  1  0\\n  4  1  1  0\\n  5  4  1  0\\n  6  5  1  0\\n  7  5  1  0\\n  8  7  1  0\\n  9  7  1  0\\n 10  9  1  0\\n 11  9  1  0\\n 12 11  1  0\\n 13  4  1  0\\n 13 11  1  0\\n 14 13  1  0\\n 15 14  1  0\\n 16 15  1  0\\n 17 16  1  0\\n 18 16  1  0\\n 19 16  1  0\\n 20 19  1  0\\n 21 19  1  0\\n 22 19  1  0\\n 23 22  1  0\\n 24 22  1  0\\n 25 14  1  0\\n 25 22  1  0\\n 26 25  1  0\\n 27 26  1  0\\n 28 26  1  0\\n 29 26  1  0\\n 30 25  1  0\\n 31 30  1  0\\n 32 30  1  0\\n 33 30  1  0\\n 34 15  1  0\\n 35 34  1  0\\n 36 34  1  0\\n 37 34  1  0\\n 38 15  1  0\\n 39 38  1  0\\n 40 38  1  0\\n 41 38  1  0\\n 42  1  1  0\\n 42  2  1  0\\n 43  1  1  0\\n 43 42  1  0\\n 44 42  1  0\\n 45 42  1  0\\n 46 45  1  0\\n 47 46  1  0\\n 48 46  1  0\\n 49 48  1  0\\n 50 48  1  0\\n 51 50  1  0\\n 52 50  1  0\\n 53 52  1  0\\n 54 45  1  0\\n 54 52  1  0\\n 55 54  1  0\\n 56 55  1  0\\n 57 56  1  0\\n 58 57  1  0\\n 59 57  1  0\\n 60 57  1  0\\n 61 60  1  0\\n 62 60  1  0\\n 63 60  1  0\\n 64 63  1  0\\n 65 63  1  0\\n 66 55  1  0\\n 66 63  1  0\\n 67 66  1  0\\n 68 67  1  0\\n 69 67  1  0\\n 70 67  1  0\\n 71 66  1  0\\n 72 71  1  0\\n 73 71  1  0\\n 74 71  1  0\\n 75 56  1  0\\n 76 75  1  0\\n 77 75  1  0\\n 78 75  1  0\\n 79 56  1  0\\n 80 79  1  0\\n 81 79  1  0\\n 82 79  1  0\\nM  END\\n\",\"mol\");\n\tviewergrid_17597470678621461[0][0].setStyle({},{\"stick\": {}, \"sphere\": {\"radius\": 0.3}});\n\tviewergrid_17597470678621461[0][0].zoomTo();\n\tviewergrid_17597470678621461[0][0].addLabel(\"Mol 1\",{\"fontColor\": \"black\", \"backgroundColor\": \"white\", \"borderColor\": \"black\", \"borderWidth\": 1, \"useScreen\": true, \"inFront\": true, \"screenOffset\": {\"x\": 10, \"y\": 0}});\n\tviewergrid_17597470678621461[0][0].setClickable({},true,\"function(atom, viewer, event, container) {\\n                if(!viewer._picks)       viewer._picks = [];\\n                if(!viewer._distLabels)  viewer._distLabels = {};\\n                if(!viewer._anglePicks)  viewer._anglePicks = [];\\n                if(!viewer._angleLabels) viewer._angleLabels = {};\\n\\n                // Shift-click: angle\\n                if(event.shiftKey) {\\n                    viewer._anglePicks.push(atom);\\n                    if(viewer._anglePicks.length === 3) {\\n                        var A = viewer._anglePicks[0],\\n                            B = viewer._anglePicks[1],\\n                            C = viewer._anglePicks[2];\\n                        var key = [A.index,B.index,C.index].join('-');\\n                        if(key in viewer._angleLabels) {\\n                            viewer.removeLabel(viewer._angleLabels[key]);\\n                            delete viewer._angleLabels[key];\\n                        } else {\\n                            function vec(u,v){return{x:u.x-v.x,y:u.y-v.y,z:u.z-v.z}};\\n                            var vBA=vec(A,B), vBC=vec(C,B);\\n                            var dot=vBA.x*vBC.x+vBA.y*vBC.y+vBA.z*vBC.z;\\n                            var magBA=Math.sqrt(vBA.x*vBA.x+vBA.y*vBA.y+vBA.z*vBA.z);\\n                            var magBC=Math.sqrt(vBC.x*vBC.x+vBC.y*vBC.y+vBC.z*vBC.z);\\n                            var angle=(Math.acos(dot/(magBA*magBC))*(180/Math.PI))\\n                                      .toFixed(2)+'\\u00b0';\\n                            var lbl = viewer.addLabel(angle,\\n                                {position:{x:B.x,y:B.y,z:B.z},\\n                                 backgroundColor:'blue', fontColor:'white',\\n                                 fontSize:12});\\n                            viewer._angleLabels[key] = lbl;\\n                        }\\n                        viewer._anglePicks = [];\\n                    }\\n                }\\n                // Ctrl-click: distance\\n                else if(event.ctrlKey) {\\n                    viewer._picks.push(atom);\\n                    if(viewer._picks.length === 2) {\\n                        var a=viewer._picks[0], b=viewer._picks[1];\\n                        var key=[Math.min(a.index,b.index),\\n                                 Math.max(a.index,b.index)].join('-');\\n                        if(key in viewer._distLabels) {\\n                            viewer.removeLabel(viewer._distLabels[key]);\\n                            delete viewer._distLabels[key];\\n                        } else {\\n                            var dx=a.x-b.x, dy=a.y-b.y, dz=a.z-b.z;\\n                            var dist=Math.sqrt(dx*dx+dy*dy+dz*dz)\\n                                      .toFixed(3)+' \\u00c5';\\n                            var mid={x:(a.x+b.x)/2,y:(a.y+b.y)/2,z:(a.z+b.z)/2};\\n                            var lbl=viewer.addLabel(dist,\\n                                {position:mid,backgroundColor:'grey',\\n                                 fontColor:'white',fontSize:12});\\n                            viewer._distLabels[key]=lbl;\\n                        }\\n                        viewer._picks = [];\\n                    }\\n                }\\n                // Click: toggle label\\n                else {\\n                    if(atom.label) {\\n                        viewer.removeLabel(atom.label); delete atom.label;\\n                    } else {\\n                        atom.label = viewer.addLabel(\\n                            atom.index,\\n                            {position:atom, backgroundColor:'white',\\n                             fontColor:'black', fontSize:12}\\n                        );\\n                    }\\n                }\\n                viewer.render();\\n            }\");\nviewergrid_17597470678621461[0][0].render();\n});\n</script>",
      "text/html": [
       "<div id=\"3dmolviewer_17597470678621461\"  style=\"position: relative; width: 400px; height: 400px;\">\n",
       "        <p id=\"3dmolwarning_17597470678621461\" style=\"background-color:#ffcccc;color:black\">3Dmol.js failed to load for some reason.  Please check your browser console for error messages.<br></p>\n",
       "        </div>\n",
       "<script>\n",
       "\n",
       "var loadScriptAsync = function(uri){\n",
       "  return new Promise((resolve, reject) => {\n",
       "    //this is to ignore the existence of requirejs amd\n",
       "    var savedexports, savedmodule;\n",
       "    if (typeof exports !== 'undefined') savedexports = exports;\n",
       "    else exports = {}\n",
       "    if (typeof module !== 'undefined') savedmodule = module;\n",
       "    else module = {}\n",
       "\n",
       "    var tag = document.createElement('script');\n",
       "    tag.src = uri;\n",
       "    tag.async = true;\n",
       "    tag.onload = () => {\n",
       "        exports = savedexports;\n",
       "        module = savedmodule;\n",
       "        resolve();\n",
       "    };\n",
       "  var firstScriptTag = document.getElementsByTagName('script')[0];\n",
       "  firstScriptTag.parentNode.insertBefore(tag, firstScriptTag);\n",
       "});\n",
       "};\n",
       "\n",
       "if(typeof $3Dmolpromise === 'undefined') {\n",
       "$3Dmolpromise = null;\n",
       "  $3Dmolpromise = loadScriptAsync('https://cdnjs.cloudflare.com/ajax/libs/3Dmol/2.4.2/3Dmol-min.js');\n",
       "}\n",
       "\n",
       "var viewer_17597470678621461 = null;\n",
       "var warn = document.getElementById(\"3dmolwarning_17597470678621461\");\n",
       "if(warn) {\n",
       "    warn.parentNode.removeChild(warn);\n",
       "}\n",
       "$3Dmolpromise.then(function() {\n",
       "var viewergrid_17597470678621461 = null;\n",
       "viewergrid_17597470678621461 = $3Dmol.createViewerGrid(document.getElementById(\"3dmolviewer_17597470678621461\"),{rows: 1, cols: 1, control_all: false},{backgroundColor:\"white\"});\n",
       "viewer_17597470678621461 = viewergrid_17597470678621461[0][0];\n",
       "viewergrid_17597470678621461[0][0].zoomTo();\tviewergrid_17597470678621461[0][0].setBackgroundColor(\"white\");\n",
       "\tviewergrid_17597470678621461[0][0].addModel(\"\\n     RDKit          3D\\n\\n 82 87  0  0  0  0  0  0  0  0999 V2000\\n    0.8228    0.2188    0.2700 B   0  0  0  0  0  5  0  0  0  0  0  0\\n   -0.1656    0.9179   -0.2779 H   0  0  0  0  0  2  0  0  0  0  0  0\\n    0.9256    0.5897    1.3980 H   0  0  0  0  0  0  0  0  0  0  0  0\\n    2.0593    0.1336   -0.7055 C   0  0  0  0  0  3  0  0  0  0  0  0\\n    2.0789   -0.7874   -1.7619 C   0  0  0  0  0  3  0  0  0  0  0  0\\n    1.2322   -1.4553   -1.8974 H   0  0  0  0  0  0  0  0  0  0  0  0\\n    3.1504   -0.8768   -2.6420 C   0  0  0  0  0  3  0  0  0  0  0  0\\n    3.1373   -1.6046   -3.4471 H   0  0  0  0  0  0  0  0  0  0  0  0\\n    4.2351   -0.0234   -2.4813 C   0  0  0  0  0  3  0  0  0  0  0  0\\n    5.0787   -0.0726   -3.1632 H   0  0  0  0  0  0  0  0  0  0  0  0\\n    4.2409    0.8980   -1.4397 C   0  0  0  0  0  3  0  0  0  0  0  0\\n    5.0885    1.5628   -1.3223 H   0  0  0  0  0  0  0  0  0  0  0  0\\n    3.1720    0.9865   -0.5399 C   0  0  0  0  0  3  0  0  0  0  0  0\\n    3.1862    1.9200    0.5469 N   0  0  0  0  0  0  0  0  0  0  0  0\\n    4.0854    1.5835    1.6823 C   0  0  0  0  0  0  0  0  0  0  0  0\\n    3.6255    2.3816    2.9156 C   0  0  0  0  0  0  0  0  0  0  0  0\\n    2.6520    1.9868    3.2327 H   0  0  0  0  0  0  0  0  0  0  0  0\\n    4.3313    2.2009    3.7341 H   0  0  0  0  0  0  0  0  0  0  0  0\\n    3.4800    3.8720    2.6407 C   0  0  0  0  0  0  0  0  0  0  0  0\\n    3.1350    4.3902    3.5416 H   0  0  0  0  0  0  0  0  0  0  0  0\\n    4.4490    4.3156    2.3816 H   0  0  0  0  0  0  0  0  0  0  0  0\\n    2.4784    4.0666    1.5114 C   0  0  0  0  0  0  0  0  0  0  0  0\\n    2.3432    5.1299    1.2838 H   0  0  0  0  0  0  0  0  0  0  0  0\\n    1.5059    3.6800    1.8425 H   0  0  0  0  0  0  0  0  0  0  0  0\\n    2.8658    3.3306    0.2151 C   0  0  0  0  0  0  0  0  0  0  0  0\\n    3.9942    4.0987   -0.5103 C   0  0  0  0  0  0  0  0  0  0  0  0\\n    4.2620    3.6028   -1.4466 H   0  0  0  0  0  0  0  0  0  0  0  0\\n    4.8963    4.1966    0.0951 H   0  0  0  0  0  0  0  0  0  0  0  0\\n    3.6546    5.1093   -0.7600 H   0  0  0  0  0  0  0  0  0  0  0  0\\n    1.6362    3.3698   -0.7052 C   0  0  0  0  0  0  0  0  0  0  0  0\\n    1.8223    2.8826   -1.6655 H   0  0  0  0  0  0  0  0  0  0  0  0\\n    1.3642    4.4113   -0.9011 H   0  0  0  0  0  0  0  0  0  0  0  0\\n    0.7801    2.8864   -0.2272 H   0  0  0  0  0  0  0  0  0  0  0  0\\n    5.5912    1.8357    1.4361 C   0  0  0  0  0  0  0  0  0  0  0  0\\n    5.8237    2.8834    1.2412 H   0  0  0  0  0  0  0  0  0  0  0  0\\n    5.9570    1.2414    0.5958 H   0  0  0  0  0  0  0  0  0  0  0  0\\n    6.1613    1.5323    2.3205 H   0  0  0  0  0  0  0  0  0  0  0  0\\n    3.9335    0.0915    2.0187 C   0  0  0  0  0  0  0  0  0  0  0  0\\n    4.3123   -0.5481    1.2174 H   0  0  0  0  0  0  0  0  0  0  0  0\\n    2.8874   -0.1646    2.1989 H   0  0  0  0  0  0  0  0  0  0  0  0\\n    4.5040   -0.1319    2.9255 H   0  0  0  0  0  0  0  0  0  0  0  0\\n   -0.8228   -0.2188   -0.2700 B   0  0  0  0  0  5  0  0  0  0  0  0\\n    0.1656   -0.9179    0.2779 H   0  0  0  0  0  2  0  0  0  0  0  0\\n   -0.9256   -0.5897   -1.3980 H   0  0  0  0  0  0  0  0  0  0  0  0\\n   -2.0593   -0.1336    0.7055 C   0  0  0  0  0  3  0  0  0  0  0  0\\n   -2.0789    0.7874    1.7619 C   0  0  0  0  0  3  0  0  0  0  0  0\\n   -1.2322    1.4553    1.8974 H   0  0  0  0  0  0  0  0  0  0  0  0\\n   -3.1504    0.8768    2.6420 C   0  0  0  0  0  3  0  0  0  0  0  0\\n   -3.1373    1.6046    3.4471 H   0  0  0  0  0  0  0  0  0  0  0  0\\n   -4.2351    0.0234    2.4813 C   0  0  0  0  0  3  0  0  0  0  0  0\\n   -5.0787    0.0726    3.1632 H   0  0  0  0  0  0  0  0  0  0  0  0\\n   -4.2409   -0.8980    1.4397 C   0  0  0  0  0  3  0  0  0  0  0  0\\n   -5.0885   -1.5628    1.3223 H   0  0  0  0  0  0  0  0  0  0  0  0\\n   -3.1720   -0.9865    0.5399 C   0  0  0  0  0  3  0  0  0  0  0  0\\n   -3.1862   -1.9200   -0.5469 N   0  0  0  0  0  0  0  0  0  0  0  0\\n   -4.0854   -1.5835   -1.6823 C   0  0  0  0  0  0  0  0  0  0  0  0\\n   -3.6255   -2.3816   -2.9156 C   0  0  0  0  0  0  0  0  0  0  0  0\\n   -2.6520   -1.9868   -3.2327 H   0  0  0  0  0  0  0  0  0  0  0  0\\n   -4.3313   -2.2009   -3.7341 H   0  0  0  0  0  0  0  0  0  0  0  0\\n   -3.4800   -3.8720   -2.6407 C   0  0  0  0  0  0  0  0  0  0  0  0\\n   -3.1350   -4.3902   -3.5416 H   0  0  0  0  0  0  0  0  0  0  0  0\\n   -4.4490   -4.3156   -2.3816 H   0  0  0  0  0  0  0  0  0  0  0  0\\n   -2.4784   -4.0666   -1.5114 C   0  0  0  0  0  0  0  0  0  0  0  0\\n   -2.3432   -5.1299   -1.2838 H   0  0  0  0  0  0  0  0  0  0  0  0\\n   -1.5059   -3.6800   -1.8425 H   0  0  0  0  0  0  0  0  0  0  0  0\\n   -2.8658   -3.3306   -0.2151 C   0  0  0  0  0  0  0  0  0  0  0  0\\n   -3.9942   -4.0987    0.5103 C   0  0  0  0  0  0  0  0  0  0  0  0\\n   -4.2620   -3.6028    1.4466 H   0  0  0  0  0  0  0  0  0  0  0  0\\n   -4.8963   -4.1966   -0.0951 H   0  0  0  0  0  0  0  0  0  0  0  0\\n   -3.6546   -5.1093    0.7600 H   0  0  0  0  0  0  0  0  0  0  0  0\\n   -1.6362   -3.3698    0.7052 C   0  0  0  0  0  0  0  0  0  0  0  0\\n   -1.8223   -2.8826    1.6655 H   0  0  0  0  0  0  0  0  0  0  0  0\\n   -1.3642   -4.4113    0.9011 H   0  0  0  0  0  0  0  0  0  0  0  0\\n   -0.7801   -2.8864    0.2272 H   0  0  0  0  0  0  0  0  0  0  0  0\\n   -5.5912   -1.8357   -1.4361 C   0  0  0  0  0  0  0  0  0  0  0  0\\n   -5.8237   -2.8834   -1.2412 H   0  0  0  0  0  0  0  0  0  0  0  0\\n   -5.9570   -1.2414   -0.5958 H   0  0  0  0  0  0  0  0  0  0  0  0\\n   -6.1613   -1.5323   -2.3205 H   0  0  0  0  0  0  0  0  0  0  0  0\\n   -3.9335   -0.0915   -2.0187 C   0  0  0  0  0  0  0  0  0  0  0  0\\n   -4.3123    0.5481   -1.2174 H   0  0  0  0  0  0  0  0  0  0  0  0\\n   -2.8874    0.1646   -2.1989 H   0  0  0  0  0  0  0  0  0  0  0  0\\n   -4.5040    0.1319   -2.9255 H   0  0  0  0  0  0  0  0  0  0  0  0\\n  2  1  1  0\\n  3  1  1  0\\n  4  1  1  0\\n  5  4  1  0\\n  6  5  1  0\\n  7  5  1  0\\n  8  7  1  0\\n  9  7  1  0\\n 10  9  1  0\\n 11  9  1  0\\n 12 11  1  0\\n 13  4  1  0\\n 13 11  1  0\\n 14 13  1  0\\n 15 14  1  0\\n 16 15  1  0\\n 17 16  1  0\\n 18 16  1  0\\n 19 16  1  0\\n 20 19  1  0\\n 21 19  1  0\\n 22 19  1  0\\n 23 22  1  0\\n 24 22  1  0\\n 25 14  1  0\\n 25 22  1  0\\n 26 25  1  0\\n 27 26  1  0\\n 28 26  1  0\\n 29 26  1  0\\n 30 25  1  0\\n 31 30  1  0\\n 32 30  1  0\\n 33 30  1  0\\n 34 15  1  0\\n 35 34  1  0\\n 36 34  1  0\\n 37 34  1  0\\n 38 15  1  0\\n 39 38  1  0\\n 40 38  1  0\\n 41 38  1  0\\n 42  1  1  0\\n 42  2  1  0\\n 43  1  1  0\\n 43 42  1  0\\n 44 42  1  0\\n 45 42  1  0\\n 46 45  1  0\\n 47 46  1  0\\n 48 46  1  0\\n 49 48  1  0\\n 50 48  1  0\\n 51 50  1  0\\n 52 50  1  0\\n 53 52  1  0\\n 54 45  1  0\\n 54 52  1  0\\n 55 54  1  0\\n 56 55  1  0\\n 57 56  1  0\\n 58 57  1  0\\n 59 57  1  0\\n 60 57  1  0\\n 61 60  1  0\\n 62 60  1  0\\n 63 60  1  0\\n 64 63  1  0\\n 65 63  1  0\\n 66 55  1  0\\n 66 63  1  0\\n 67 66  1  0\\n 68 67  1  0\\n 69 67  1  0\\n 70 67  1  0\\n 71 66  1  0\\n 72 71  1  0\\n 73 71  1  0\\n 74 71  1  0\\n 75 56  1  0\\n 76 75  1  0\\n 77 75  1  0\\n 78 75  1  0\\n 79 56  1  0\\n 80 79  1  0\\n 81 79  1  0\\n 82 79  1  0\\nM  END\\n\",\"mol\");\n",
       "\tviewergrid_17597470678621461[0][0].setStyle({},{\"stick\": {}, \"sphere\": {\"radius\": 0.3}});\n",
       "\tviewergrid_17597470678621461[0][0].zoomTo();\n",
       "\tviewergrid_17597470678621461[0][0].addLabel(\"Mol 1\",{\"fontColor\": \"black\", \"backgroundColor\": \"white\", \"borderColor\": \"black\", \"borderWidth\": 1, \"useScreen\": true, \"inFront\": true, \"screenOffset\": {\"x\": 10, \"y\": 0}});\n",
       "\tviewergrid_17597470678621461[0][0].setClickable({},true,\"function(atom, viewer, event, container) {\\n                if(!viewer._picks)       viewer._picks = [];\\n                if(!viewer._distLabels)  viewer._distLabels = {};\\n                if(!viewer._anglePicks)  viewer._anglePicks = [];\\n                if(!viewer._angleLabels) viewer._angleLabels = {};\\n\\n                // Shift-click: angle\\n                if(event.shiftKey) {\\n                    viewer._anglePicks.push(atom);\\n                    if(viewer._anglePicks.length === 3) {\\n                        var A = viewer._anglePicks[0],\\n                            B = viewer._anglePicks[1],\\n                            C = viewer._anglePicks[2];\\n                        var key = [A.index,B.index,C.index].join('-');\\n                        if(key in viewer._angleLabels) {\\n                            viewer.removeLabel(viewer._angleLabels[key]);\\n                            delete viewer._angleLabels[key];\\n                        } else {\\n                            function vec(u,v){return{x:u.x-v.x,y:u.y-v.y,z:u.z-v.z}};\\n                            var vBA=vec(A,B), vBC=vec(C,B);\\n                            var dot=vBA.x*vBC.x+vBA.y*vBC.y+vBA.z*vBC.z;\\n                            var magBA=Math.sqrt(vBA.x*vBA.x+vBA.y*vBA.y+vBA.z*vBA.z);\\n                            var magBC=Math.sqrt(vBC.x*vBC.x+vBC.y*vBC.y+vBC.z*vBC.z);\\n                            var angle=(Math.acos(dot/(magBA*magBC))*(180/Math.PI))\\n                                      .toFixed(2)+'\\u00b0';\\n                            var lbl = viewer.addLabel(angle,\\n                                {position:{x:B.x,y:B.y,z:B.z},\\n                                 backgroundColor:'blue', fontColor:'white',\\n                                 fontSize:12});\\n                            viewer._angleLabels[key] = lbl;\\n                        }\\n                        viewer._anglePicks = [];\\n                    }\\n                }\\n                // Ctrl-click: distance\\n                else if(event.ctrlKey) {\\n                    viewer._picks.push(atom);\\n                    if(viewer._picks.length === 2) {\\n                        var a=viewer._picks[0], b=viewer._picks[1];\\n                        var key=[Math.min(a.index,b.index),\\n                                 Math.max(a.index,b.index)].join('-');\\n                        if(key in viewer._distLabels) {\\n                            viewer.removeLabel(viewer._distLabels[key]);\\n                            delete viewer._distLabels[key];\\n                        } else {\\n                            var dx=a.x-b.x, dy=a.y-b.y, dz=a.z-b.z;\\n                            var dist=Math.sqrt(dx*dx+dy*dy+dz*dz)\\n                                      .toFixed(3)+' \\u00c5';\\n                            var mid={x:(a.x+b.x)/2,y:(a.y+b.y)/2,z:(a.z+b.z)/2};\\n                            var lbl=viewer.addLabel(dist,\\n                                {position:mid,backgroundColor:'grey',\\n                                 fontColor:'white',fontSize:12});\\n                            viewer._distLabels[key]=lbl;\\n                        }\\n                        viewer._picks = [];\\n                    }\\n                }\\n                // Click: toggle label\\n                else {\\n                    if(atom.label) {\\n                        viewer.removeLabel(atom.label); delete atom.label;\\n                    } else {\\n                        atom.label = viewer.addLabel(\\n                            atom.index,\\n                            {position:atom, backgroundColor:'white',\\n                             fontColor:'black', fontSize:12}\\n                        );\\n                    }\\n                }\\n                viewer.render();\\n            }\");\n",
       "viewergrid_17597470678621461[0][0].render();\n",
       "});\n",
       "</script>"
      ]
     },
     "metadata": {},
     "output_type": "display_data"
    }
   ],
   "source": [
    "f = Path(\"../structures/misc/TMPs/dimer_font_TMP.xyz\")\n",
    "mols = {}\n",
    "with open(f, \"r\") as file:\n",
    "    xyz_block = file.read()\n",
    "    mol = xyz2mol(xyz_block)\n",
    "    mols[f.stem] = (mol, [0])\n",
    "\n",
    "step = Stepper(list(mols.keys()), step_type=\"mol\", save_output_dir=False)\n",
    "df0 = step.build_initial_df(mols)\n",
    "\n",
    "vis.MolTo3DGrid(f)"
   ]
  },
  {
   "cell_type": "code",
   "execution_count": 6,
   "id": "de5c07d2",
   "metadata": {},
   "outputs": [],
   "source": [
    "def run_orca_calc(\n",
    "    df,\n",
    "    results_dir,\n",
    "    debug=False,\n",
    "    n_cores=10,\n",
    "    mem_gb=30,\n",
    "):\n",
    "    from pathlib import Path\n",
    "    name = df[\"custom_name\"].iloc[0]\n",
    "\n",
    "    results_dir = Path(results_dir)\n",
    "    results_dir.mkdir(exist_ok=True)\n",
    "\n",
    "    step = Stepper([name],\n",
    "                step_type=\"none\",\n",
    "                debug=debug,\n",
    "                save_output_dir=False,\n",
    "                output_base=str(results_dir),\n",
    "                n_cores=n_cores,\n",
    "                memory_gb=mem_gb)\n",
    "\n",
    "    df = step.orca(df0, \"DFT-SP\", {\n",
    "        \"wB97X-D3\"  : None,\n",
    "        \"6-31G**\"   : None,\n",
    "        \"TightSCF\"  : None,\n",
    "        \"SlowConv\"  : None,\n",
    "        \"SP\"        : None,\n",
    "        \"Freq\"      : None,\n",
    "        \"NoSym\"     : None,\n",
    "    })\n",
    "    \n",
    "    df = step.orca(df, name=\"DFT-SP\", options={\n",
    "        \"wB97X-D3\"      : None,\n",
    "        \"6-31+G**\"      : None,\n",
    "        \"TightSCF\"      : None,\n",
    "        \"SP\"            : None,\n",
    "        \"NoSym\"         : None,\n",
    "    }, xtra_inp_str=\"\"\"%CPCM\\nSMD TRUE\\nSMDSOLVENT \"chloroform\"\\nend\"\"\")\n",
    "\n",
    "    df.to_parquet(f\"{results_dir}/results_{name}.parquet\")"
   ]
  },
  {
   "cell_type": "code",
   "execution_count": 7,
   "id": "3994f844",
   "metadata": {},
   "outputs": [
    {
     "name": "stdout",
     "output_type": "stream",
     "text": [
      "Submitted: dimer_font_TMP\n"
     ]
    }
   ],
   "source": [
    "DEBUG           = False\n",
    "N_CORES         = 12\n",
    "MEM_GB          = 32\n",
    "TIMEOUT_MIN     = 1440 \n",
    "RESULTS_DIR     = \"dimer_font_TMP\"\n",
    "\n",
    "executor = submitit.AutoExecutor(f\"logs/{RESULTS_DIR}\")\n",
    "executor.update_parameters(\n",
    "    slurm_partition=\"kemi1\",\n",
    "    cpus_per_task=N_CORES,\n",
    "    mem_gb=MEM_GB,\n",
    "    timeout_min=TIMEOUT_MIN,\n",
    ")\n",
    "\n",
    "name = df0[\"custom_name\"].iloc[0]\n",
    "executor.update_parameters(slurm_job_name=name)\n",
    "executor.submit(run_orca_calc, df0, RESULTS_DIR, DEBUG, N_CORES, MEM_GB)\n",
    "print(f\"Submitted: {name}\")"
   ]
  }
 ],
 "metadata": {
  "kernelspec": {
   "display_name": "FrustActivation",
   "language": "python",
   "name": "python3"
  },
  "language_info": {
   "codemirror_mode": {
    "name": "ipython",
    "version": 3
   },
   "file_extension": ".py",
   "mimetype": "text/x-python",
   "name": "python",
   "nbconvert_exporter": "python",
   "pygments_lexer": "ipython3",
   "version": "3.12.8"
  }
 },
 "nbformat": 4,
 "nbformat_minor": 5
}
