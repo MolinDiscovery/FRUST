{
 "cells": [
  {
   "cell_type": "code",
   "execution_count": 1,
   "id": "7d77e31d",
   "metadata": {},
   "outputs": [],
   "source": [
    "import submitit\n",
    "from frust.stepper import Stepper\n",
    "from pathlib import Path\n",
    "from tooltoad.chemutils import xyz2mol"
   ]
  },
  {
   "cell_type": "markdown",
   "id": "8476ab6b",
   "metadata": {},
   "source": [
    "# Run single structure"
   ]
  },
  {
   "cell_type": "code",
   "execution_count": 2,
   "id": "bfa8bf6c",
   "metadata": {},
   "outputs": [
    {
     "name": "stdout",
     "output_type": "stream",
     "text": [
      "2025-10-02 13:56:20 INFO  frust.stepper: Working dir: .\n"
     ]
    }
   ],
   "source": [
    "f = Path(\"../structures/misc/TMPs/int3_TMP.xyz\")\n",
    "mols = {}\n",
    "with open(f, \"r\") as file:\n",
    "    xyz_block = file.read()\n",
    "    mol = xyz2mol(xyz_block)\n",
    "    mols[f.stem] = (mol, [0])\n",
    "\n",
    "step = Stepper(list(mols.keys()), step_type=\"mol\", save_output_dir=False)\n",
    "df0 = step.build_initial_df(mols)"
   ]
  },
  {
   "cell_type": "code",
   "execution_count": 3,
   "id": "de5c07d2",
   "metadata": {},
   "outputs": [],
   "source": [
    "def run_orca_calc(\n",
    "    df,\n",
    "    results_dir,\n",
    "    debug=False,\n",
    "    n_cores=10,\n",
    "    mem_gb=30,\n",
    "):\n",
    "    from pathlib import Path\n",
    "    name = df[\"custom_name\"].iloc[0]\n",
    "\n",
    "    results_dir = Path(results_dir)\n",
    "    results_dir.mkdir(exist_ok=True)\n",
    "\n",
    "    step = Stepper([name],\n",
    "                step_type=\"none\",\n",
    "                debug=debug,\n",
    "                save_output_dir=False,\n",
    "                output_base=str(results_dir),\n",
    "                n_cores=n_cores,\n",
    "                memory_gb=mem_gb)\n",
    "\n",
    "    df1 = step.orca(df, \"DFT-preopt\", {\n",
    "        \"wB97X-D3\": None,\n",
    "        \"6-31G**\": None,\n",
    "        \"Opt\":    None,\n",
    "        \"NoSym\":   None,\n",
    "    }, xtra_inp_str=\n",
    "\"\"\"%geom\n",
    "    Constraints\n",
    "        {B 11 10 C}\n",
    "        {B 11 19 C}\n",
    "        {B 12 10 C}\n",
    "        {B 12 19 C}\n",
    "        {B 19 10 C}\n",
    "        {B 11 12 C}\n",
    "        {A 10 11 19 C}\n",
    "        {A 10 12 19 C}\n",
    "    end\n",
    "end\"\"\")\n",
    "\n",
    "    df2 = step.orca(df1, \"DFT\", {\n",
    "        \"wB97X-D3\": None,\n",
    "        \"6-31G**\": None,\n",
    "        \"TightSCF\": None,\n",
    "        \"SlowConv\": None,\n",
    "        \"Opt\":    None,\n",
    "        \"Freq\":    None,\n",
    "        \"NoSym\":   None,\n",
    "    })\n",
    "    \n",
    "    # detailed_inp = \"\"\"%CPCM\\nSMD TRUE\\nSMDSOLVENT \"chloroform\"\\nend\"\"\"\n",
    "    # df2 = step.orca(df1, \"DFT-SP\", {\n",
    "    #     \"wB97X-D3\": None,\n",
    "    #     \"6-31+G**\": None,\n",
    "    #     \"TightSCF\": None,\n",
    "    #     \"SP\":       None,\n",
    "    #     \"NoSym\":    None,\n",
    "    # },detailed_inp)\n",
    "\n",
    "    df2.to_parquet(f\"{results_dir}/results_{name}.parquet\")"
   ]
  },
  {
   "cell_type": "code",
   "execution_count": 4,
   "id": "3994f844",
   "metadata": {},
   "outputs": [
    {
     "name": "stdout",
     "output_type": "stream",
     "text": [
      "Submitted: int3_TMP\n"
     ]
    }
   ],
   "source": [
    "DEBUG           = False\n",
    "N_CORES         = 1\n",
    "MEM_GB          = 20\n",
    "TIMEOUT_MIN     = 14400\n",
    "RESULTS_DIR     = \"int3_TMP_1\"\n",
    "\n",
    "executor = submitit.AutoExecutor(f\"logs/{RESULTS_DIR}\")\n",
    "executor.update_parameters(\n",
    "    slurm_partition=\"kemi1\",\n",
    "    cpus_per_task=N_CORES,\n",
    "    mem_gb=MEM_GB,\n",
    "    timeout_min=TIMEOUT_MIN,\n",
    ")\n",
    "\n",
    "name = df0[\"custom_name\"].iloc[0]\n",
    "executor.update_parameters(slurm_job_name=name)\n",
    "executor.submit(run_orca_calc, df0, RESULTS_DIR, DEBUG, N_CORES, MEM_GB)\n",
    "print(f\"Submitted: {name}\")"
   ]
  }
 ],
 "metadata": {
  "kernelspec": {
   "display_name": "FrustActivation",
   "language": "python",
   "name": "python3"
  },
  "language_info": {
   "codemirror_mode": {
    "name": "ipython",
    "version": 3
   },
   "file_extension": ".py",
   "mimetype": "text/x-python",
   "name": "python",
   "nbconvert_exporter": "python",
   "pygments_lexer": "ipython3",
   "version": "3.12.8"
  }
 },
 "nbformat": 4,
 "nbformat_minor": 5
}
