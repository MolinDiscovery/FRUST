{
 "cells": [
  {
   "cell_type": "code",
   "execution_count": 1,
   "id": "7d77e31d",
   "metadata": {},
   "outputs": [],
   "source": [
    "import submitit\n",
    "from frust.stepper import Stepper\n",
    "import frust.vis as vis\n",
    "from pathlib import Path\n",
    "from tooltoad.chemutils import xyz2mol"
   ]
  },
  {
   "cell_type": "markdown",
   "id": "8476ab6b",
   "metadata": {},
   "source": [
    "# Run single structure"
   ]
  },
  {
   "cell_type": "code",
   "execution_count": 2,
   "id": "bfa8bf6c",
   "metadata": {},
   "outputs": [
    {
     "name": "stdout",
     "output_type": "stream",
     "text": [
      "2025-10-29 09:59:23 INFO  frust.stepper: Working dir: .\n"
     ]
    },
    {
     "name": "stderr",
     "output_type": "stream",
     "text": [
      "!!! Warning !!! Distance between atoms 2 and 1 (0.640000 A) is suspicious.\n",
      "!!! Warning !!! Distance between atoms 2 and 1 (0.640000 A) is suspicious.\n"
     ]
    },
    {
     "data": {
      "application/3dmoljs_load.v0": "<div id=\"3dmolviewer_1761728363587855\"  style=\"position: relative; width: 400px; height: 400px;\">\n        <p id=\"3dmolwarning_1761728363587855\" style=\"background-color:#ffcccc;color:black\">3Dmol.js failed to load for some reason.  Please check your browser console for error messages.<br></p>\n        </div>\n<script>\n\nvar loadScriptAsync = function(uri){\n  return new Promise((resolve, reject) => {\n    //this is to ignore the existence of requirejs amd\n    var savedexports, savedmodule;\n    if (typeof exports !== 'undefined') savedexports = exports;\n    else exports = {}\n    if (typeof module !== 'undefined') savedmodule = module;\n    else module = {}\n\n    var tag = document.createElement('script');\n    tag.src = uri;\n    tag.async = true;\n    tag.onload = () => {\n        exports = savedexports;\n        module = savedmodule;\n        resolve();\n    };\n  var firstScriptTag = document.getElementsByTagName('script')[0];\n  firstScriptTag.parentNode.insertBefore(tag, firstScriptTag);\n});\n};\n\nif(typeof $3Dmolpromise === 'undefined') {\n$3Dmolpromise = null;\n  $3Dmolpromise = loadScriptAsync('https://cdnjs.cloudflare.com/ajax/libs/3Dmol/2.4.2/3Dmol-min.js');\n}\n\nvar viewer_1761728363587855 = null;\nvar warn = document.getElementById(\"3dmolwarning_1761728363587855\");\nif(warn) {\n    warn.parentNode.removeChild(warn);\n}\n$3Dmolpromise.then(function() {\nvar viewergrid_1761728363587855 = null;\nviewergrid_1761728363587855 = $3Dmol.createViewerGrid(document.getElementById(\"3dmolviewer_1761728363587855\"),{rows: 1, cols: 1, control_all: false},{backgroundColor:\"white\"});\nviewer_1761728363587855 = viewergrid_1761728363587855[0][0];\nviewergrid_1761728363587855[0][0].zoomTo();\tviewergrid_1761728363587855[0][0].setBackgroundColor(\"white\");\n\tviewergrid_1761728363587855[0][0].addModel(\"\\n     RDKit          3D\\n\\n  2  1  0  0  0  0  0  0  0  0999 V2000\\n   -3.9213    2.4630    0.0000 H   0  0  0  0  0  0  0  0  0  0  0  0\\n   -4.4449    2.8263   -0.0588 H   0  0  0  0  0  0  0  0  0  0  0  0\\n  2  1  1  0\\nM  END\\n\",\"mol\");\n\tviewergrid_1761728363587855[0][0].setStyle({},{\"stick\": {}, \"sphere\": {\"radius\": 0.3}});\n\tviewergrid_1761728363587855[0][0].zoomTo();\n\tviewergrid_1761728363587855[0][0].addLabel(\"Mol 1\",{\"fontColor\": \"black\", \"backgroundColor\": \"white\", \"borderColor\": \"black\", \"borderWidth\": 1, \"useScreen\": true, \"inFront\": true, \"screenOffset\": {\"x\": 10, \"y\": 0}});\n\tviewergrid_1761728363587855[0][0].setClickable({},true,\"function(atom, viewer, event, container) {\\n                if(!viewer._picks)       viewer._picks = [];\\n                if(!viewer._distLabels)  viewer._distLabels = {};\\n                if(!viewer._anglePicks)  viewer._anglePicks = [];\\n                if(!viewer._angleLabels) viewer._angleLabels = {};\\n\\n                // Shift-click: angle\\n                if(event.shiftKey) {\\n                    viewer._anglePicks.push(atom);\\n                    if(viewer._anglePicks.length === 3) {\\n                        var A = viewer._anglePicks[0],\\n                            B = viewer._anglePicks[1],\\n                            C = viewer._anglePicks[2];\\n                        var key = [A.index,B.index,C.index].join('-');\\n                        if(key in viewer._angleLabels) {\\n                            viewer.removeLabel(viewer._angleLabels[key]);\\n                            delete viewer._angleLabels[key];\\n                        } else {\\n                            function vec(u,v){return{x:u.x-v.x,y:u.y-v.y,z:u.z-v.z}};\\n                            var vBA=vec(A,B), vBC=vec(C,B);\\n                            var dot=vBA.x*vBC.x+vBA.y*vBC.y+vBA.z*vBC.z;\\n                            var magBA=Math.sqrt(vBA.x*vBA.x+vBA.y*vBA.y+vBA.z*vBA.z);\\n                            var magBC=Math.sqrt(vBC.x*vBC.x+vBC.y*vBC.y+vBC.z*vBC.z);\\n                            var angle=(Math.acos(dot/(magBA*magBC))*(180/Math.PI))\\n                                      .toFixed(2)+'\\u00b0';\\n                            var lbl = viewer.addLabel(angle,\\n                                {position:{x:B.x,y:B.y,z:B.z},\\n                                 backgroundColor:'blue', fontColor:'white',\\n                                 fontSize:12});\\n                            viewer._angleLabels[key] = lbl;\\n                        }\\n                        viewer._anglePicks = [];\\n                    }\\n                }\\n                // Ctrl-click: distance\\n                else if(event.ctrlKey) {\\n                    viewer._picks.push(atom);\\n                    if(viewer._picks.length === 2) {\\n                        var a=viewer._picks[0], b=viewer._picks[1];\\n                        var key=[Math.min(a.index,b.index),\\n                                 Math.max(a.index,b.index)].join('-');\\n                        if(key in viewer._distLabels) {\\n                            viewer.removeLabel(viewer._distLabels[key]);\\n                            delete viewer._distLabels[key];\\n                        } else {\\n                            var dx=a.x-b.x, dy=a.y-b.y, dz=a.z-b.z;\\n                            var dist=Math.sqrt(dx*dx+dy*dy+dz*dz)\\n                                      .toFixed(3)+' \\u00c5';\\n                            var mid={x:(a.x+b.x)/2,y:(a.y+b.y)/2,z:(a.z+b.z)/2};\\n                            var lbl=viewer.addLabel(dist,\\n                                {position:mid,backgroundColor:'grey',\\n                                 fontColor:'white',fontSize:12});\\n                            viewer._distLabels[key]=lbl;\\n                        }\\n                        viewer._picks = [];\\n                    }\\n                }\\n                // Click: toggle label\\n                else {\\n                    if(atom.label) {\\n                        viewer.removeLabel(atom.label); delete atom.label;\\n                    } else {\\n                        atom.label = viewer.addLabel(\\n                            atom.index,\\n                            {position:atom, backgroundColor:'white',\\n                             fontColor:'black', fontSize:12}\\n                        );\\n                    }\\n                }\\n                viewer.render();\\n            }\");\nviewergrid_1761728363587855[0][0].render();\n});\n</script>",
      "text/html": [
       "<div id=\"3dmolviewer_1761728363587855\"  style=\"position: relative; width: 400px; height: 400px;\">\n",
       "        <p id=\"3dmolwarning_1761728363587855\" style=\"background-color:#ffcccc;color:black\">3Dmol.js failed to load for some reason.  Please check your browser console for error messages.<br></p>\n",
       "        </div>\n",
       "<script>\n",
       "\n",
       "var loadScriptAsync = function(uri){\n",
       "  return new Promise((resolve, reject) => {\n",
       "    //this is to ignore the existence of requirejs amd\n",
       "    var savedexports, savedmodule;\n",
       "    if (typeof exports !== 'undefined') savedexports = exports;\n",
       "    else exports = {}\n",
       "    if (typeof module !== 'undefined') savedmodule = module;\n",
       "    else module = {}\n",
       "\n",
       "    var tag = document.createElement('script');\n",
       "    tag.src = uri;\n",
       "    tag.async = true;\n",
       "    tag.onload = () => {\n",
       "        exports = savedexports;\n",
       "        module = savedmodule;\n",
       "        resolve();\n",
       "    };\n",
       "  var firstScriptTag = document.getElementsByTagName('script')[0];\n",
       "  firstScriptTag.parentNode.insertBefore(tag, firstScriptTag);\n",
       "});\n",
       "};\n",
       "\n",
       "if(typeof $3Dmolpromise === 'undefined') {\n",
       "$3Dmolpromise = null;\n",
       "  $3Dmolpromise = loadScriptAsync('https://cdnjs.cloudflare.com/ajax/libs/3Dmol/2.4.2/3Dmol-min.js');\n",
       "}\n",
       "\n",
       "var viewer_1761728363587855 = null;\n",
       "var warn = document.getElementById(\"3dmolwarning_1761728363587855\");\n",
       "if(warn) {\n",
       "    warn.parentNode.removeChild(warn);\n",
       "}\n",
       "$3Dmolpromise.then(function() {\n",
       "var viewergrid_1761728363587855 = null;\n",
       "viewergrid_1761728363587855 = $3Dmol.createViewerGrid(document.getElementById(\"3dmolviewer_1761728363587855\"),{rows: 1, cols: 1, control_all: false},{backgroundColor:\"white\"});\n",
       "viewer_1761728363587855 = viewergrid_1761728363587855[0][0];\n",
       "viewergrid_1761728363587855[0][0].zoomTo();\tviewergrid_1761728363587855[0][0].setBackgroundColor(\"white\");\n",
       "\tviewergrid_1761728363587855[0][0].addModel(\"\\n     RDKit          3D\\n\\n  2  1  0  0  0  0  0  0  0  0999 V2000\\n   -3.9213    2.4630    0.0000 H   0  0  0  0  0  0  0  0  0  0  0  0\\n   -4.4449    2.8263   -0.0588 H   0  0  0  0  0  0  0  0  0  0  0  0\\n  2  1  1  0\\nM  END\\n\",\"mol\");\n",
       "\tviewergrid_1761728363587855[0][0].setStyle({},{\"stick\": {}, \"sphere\": {\"radius\": 0.3}});\n",
       "\tviewergrid_1761728363587855[0][0].zoomTo();\n",
       "\tviewergrid_1761728363587855[0][0].addLabel(\"Mol 1\",{\"fontColor\": \"black\", \"backgroundColor\": \"white\", \"borderColor\": \"black\", \"borderWidth\": 1, \"useScreen\": true, \"inFront\": true, \"screenOffset\": {\"x\": 10, \"y\": 0}});\n",
       "\tviewergrid_1761728363587855[0][0].setClickable({},true,\"function(atom, viewer, event, container) {\\n                if(!viewer._picks)       viewer._picks = [];\\n                if(!viewer._distLabels)  viewer._distLabels = {};\\n                if(!viewer._anglePicks)  viewer._anglePicks = [];\\n                if(!viewer._angleLabels) viewer._angleLabels = {};\\n\\n                // Shift-click: angle\\n                if(event.shiftKey) {\\n                    viewer._anglePicks.push(atom);\\n                    if(viewer._anglePicks.length === 3) {\\n                        var A = viewer._anglePicks[0],\\n                            B = viewer._anglePicks[1],\\n                            C = viewer._anglePicks[2];\\n                        var key = [A.index,B.index,C.index].join('-');\\n                        if(key in viewer._angleLabels) {\\n                            viewer.removeLabel(viewer._angleLabels[key]);\\n                            delete viewer._angleLabels[key];\\n                        } else {\\n                            function vec(u,v){return{x:u.x-v.x,y:u.y-v.y,z:u.z-v.z}};\\n                            var vBA=vec(A,B), vBC=vec(C,B);\\n                            var dot=vBA.x*vBC.x+vBA.y*vBC.y+vBA.z*vBC.z;\\n                            var magBA=Math.sqrt(vBA.x*vBA.x+vBA.y*vBA.y+vBA.z*vBA.z);\\n                            var magBC=Math.sqrt(vBC.x*vBC.x+vBC.y*vBC.y+vBC.z*vBC.z);\\n                            var angle=(Math.acos(dot/(magBA*magBC))*(180/Math.PI))\\n                                      .toFixed(2)+'\\u00b0';\\n                            var lbl = viewer.addLabel(angle,\\n                                {position:{x:B.x,y:B.y,z:B.z},\\n                                 backgroundColor:'blue', fontColor:'white',\\n                                 fontSize:12});\\n                            viewer._angleLabels[key] = lbl;\\n                        }\\n                        viewer._anglePicks = [];\\n                    }\\n                }\\n                // Ctrl-click: distance\\n                else if(event.ctrlKey) {\\n                    viewer._picks.push(atom);\\n                    if(viewer._picks.length === 2) {\\n                        var a=viewer._picks[0], b=viewer._picks[1];\\n                        var key=[Math.min(a.index,b.index),\\n                                 Math.max(a.index,b.index)].join('-');\\n                        if(key in viewer._distLabels) {\\n                            viewer.removeLabel(viewer._distLabels[key]);\\n                            delete viewer._distLabels[key];\\n                        } else {\\n                            var dx=a.x-b.x, dy=a.y-b.y, dz=a.z-b.z;\\n                            var dist=Math.sqrt(dx*dx+dy*dy+dz*dz)\\n                                      .toFixed(3)+' \\u00c5';\\n                            var mid={x:(a.x+b.x)/2,y:(a.y+b.y)/2,z:(a.z+b.z)/2};\\n                            var lbl=viewer.addLabel(dist,\\n                                {position:mid,backgroundColor:'grey',\\n                                 fontColor:'white',fontSize:12});\\n                            viewer._distLabels[key]=lbl;\\n                        }\\n                        viewer._picks = [];\\n                    }\\n                }\\n                // Click: toggle label\\n                else {\\n                    if(atom.label) {\\n                        viewer.removeLabel(atom.label); delete atom.label;\\n                    } else {\\n                        atom.label = viewer.addLabel(\\n                            atom.index,\\n                            {position:atom, backgroundColor:'white',\\n                             fontColor:'black', fontSize:12}\\n                        );\\n                    }\\n                }\\n                viewer.render();\\n            }\");\n",
       "viewergrid_1761728363587855[0][0].render();\n",
       "});\n",
       "</script>"
      ]
     },
     "metadata": {},
     "output_type": "display_data"
    }
   ],
   "source": [
    "f = Path(\"../structures/misc/HH.xyz\")\n",
    "mols = {}\n",
    "with open(f, \"r\") as file:\n",
    "    xyz_block = file.read()\n",
    "    mol = xyz2mol(xyz_block)\n",
    "    mols[f.stem] = (mol, [0])\n",
    "\n",
    "step = Stepper(list(mols.keys()), step_type=\"mol\", save_output_dir=False)\n",
    "df0 = step.build_initial_df(mols)\n",
    "\n",
    "vis.MolTo3DGrid(f)"
   ]
  },
  {
   "cell_type": "code",
   "execution_count": 4,
   "id": "de5c07d2",
   "metadata": {},
   "outputs": [],
   "source": [
    "def run_orca_calc(\n",
    "    df,\n",
    "    results_dir,\n",
    "    debug=False,\n",
    "    n_cores=1,\n",
    "    mem_gb=5,\n",
    "):\n",
    "    from pathlib import Path\n",
    "    # from nuse import start_monitoring\n",
    "    # start_monitoring(filter_cgroup=True)\n",
    "    \n",
    "    name = df[\"custom_name\"].iloc[0]\n",
    "\n",
    "    results_dir = Path(results_dir)\n",
    "    results_dir.mkdir(exist_ok=True)\n",
    "\n",
    "    step = Stepper([name],\n",
    "                step_type=\"none\",\n",
    "                debug=debug,\n",
    "                save_output_dir=True,\n",
    "                output_base=str(results_dir),\n",
    "                n_cores=n_cores,\n",
    "                memory_gb=mem_gb)\n",
    "\n",
    "    df = step.orca(df0, \"DFT\", {\n",
    "        \"wB97X-D3\"  : None,\n",
    "        \"6-31G**\"   : None,\n",
    "        \"TightSCF\"  : None,\n",
    "        \"SlowConv\"  : None,\n",
    "        \"OptTS\"     : None,\n",
    "        #\"Freq\"      : None,\n",
    "        \"NoSym\"     : None,\n",
    "    })\n",
    "    \n",
    "    df = step.orca(df, name=\"DFT-SP\", options={\n",
    "        \"wB97X-D3\"      : None,\n",
    "        \"6-31+G**\"      : None,\n",
    "        \"TightSCF\"      : None,\n",
    "        \"SP\"            : None,\n",
    "        \"NoSym\"         : None,\n",
    "    }, xtra_inp_str=\"\"\"%CPCM\\nSMD TRUE\\nSMDSOLVENT \"chloroform\"\\nend\"\"\")\n",
    "\n",
    "    df.to_parquet(f\"{results_dir}/results_{name}.parquet\")"
   ]
  },
  {
   "cell_type": "code",
   "execution_count": 5,
   "id": "3994f844",
   "metadata": {},
   "outputs": [
    {
     "name": "stdout",
     "output_type": "stream",
     "text": [
      "Submitted: HH\n"
     ]
    }
   ],
   "source": [
    "DEBUG           = False\n",
    "N_CORES         = 64\n",
    "MEM_GB          = 128\n",
    "TIMEOUT_MIN     = 1440 \n",
    "RESULTS_DIR     = \"test\"\n",
    "\n",
    "executor = submitit.AutoExecutor(f\"logs/{RESULTS_DIR}\")\n",
    "executor.update_parameters(\n",
    "    slurm_partition=\"kemi1\",\n",
    "    cpus_per_task=N_CORES,\n",
    "    mem_gb=MEM_GB,\n",
    "    timeout_min=TIMEOUT_MIN,\n",
    ")\n",
    "\n",
    "name = df0[\"custom_name\"].iloc[0]\n",
    "executor.update_parameters(slurm_job_name=name)\n",
    "executor.submit(run_orca_calc, df0, RESULTS_DIR, DEBUG, N_CORES, MEM_GB)\n",
    "print(f\"Submitted: {name}\")"
   ]
  }
 ],
 "metadata": {
  "kernelspec": {
   "display_name": "FrustActivation",
   "language": "python",
   "name": "python3"
  },
  "language_info": {
   "codemirror_mode": {
    "name": "ipython",
    "version": 3
   },
   "file_extension": ".py",
   "mimetype": "text/x-python",
   "name": "python",
   "nbconvert_exporter": "python",
   "pygments_lexer": "ipython3",
   "version": "3.12.8"
  }
 },
 "nbformat": 4,
 "nbformat_minor": 5
}
