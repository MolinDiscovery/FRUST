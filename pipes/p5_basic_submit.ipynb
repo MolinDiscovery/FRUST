{
 "cells": [
  {
   "cell_type": "code",
   "execution_count": 1,
   "id": "7d77e31d",
   "metadata": {},
   "outputs": [],
   "source": [
    "from frust.stepper import Stepper\n",
    "from pathlib import Path\n",
    "from tooltoad.chemutils import xyz2mol\n",
    "import pandas as pd"
   ]
  },
  {
   "cell_type": "code",
   "execution_count": 2,
   "id": "70111934",
   "metadata": {},
   "outputs": [],
   "source": [
    "structures_path = Path(\"../structures/irc_opt_tests\")\n",
    "\n",
    "mols = {}\n",
    "\n",
    "for f in structures_path.rglob(\"*.xyz\"):\n",
    "    with open(f, \"r\") as file:\n",
    "        xyz_block = file.read()\n",
    "        mol = xyz2mol(xyz_block)\n",
    "        mols[f.stem] = (mol, [0])"
   ]
  },
  {
   "cell_type": "code",
   "execution_count": 3,
   "id": "fea081bd",
   "metadata": {},
   "outputs": [],
   "source": [
    "step = Stepper(list(mols.keys()), step_type=\"mol\", save_output_dir=False)\n",
    "df0 = step.build_initial_df(mols)"
   ]
  },
  {
   "cell_type": "code",
   "execution_count": 4,
   "id": "74d15097",
   "metadata": {},
   "outputs": [],
   "source": [
    "dfs = []\n",
    "for i in range(len(df0)):\n",
    "    df_tmp = df0.iloc[[i]]\n",
    "    dfs.append(df_tmp)"
   ]
  },
  {
   "cell_type": "code",
   "execution_count": 5,
   "id": "7e3f40d9",
   "metadata": {},
   "outputs": [],
   "source": [
    "def run_irc(df, debug=False, n_cores=12, mem_gb=30):\n",
    "    from pathlib import Path\n",
    "    name = df[\"custom_name\"].iloc[0]\n",
    "\n",
    "    step = Stepper([name],\n",
    "                step_type=\"IRC\",\n",
    "                debug=debug,\n",
    "                save_output_dir=False,\n",
    "                n_cores=n_cores,\n",
    "                memory_gb=mem_gb)\n",
    "    \n",
    "    options = {\n",
    "        \"wB97X-D3\" : None,\n",
    "        \"6-31G**\"  : None,\n",
    "        \"TightSCF\" : None,\n",
    "        \"Freq\"     : None,\n",
    "        \"NoSym\"    : None,\n",
    "        \"Opt\"      : None,\n",
    "    }\n",
    "\n",
    "    df1 = step.orca(df, \"DFT-IRC-my-opt\", options, save_step=True)\n",
    "    results_dir = Path(\"results_irc_opts\")\n",
    "    results_dir.mkdir(exist_ok=True)\n",
    "    df1.to_parquet(f\"{results_dir}/df_irc_opts_{name}.parquet\")"
   ]
  },
  {
   "cell_type": "code",
   "execution_count": 6,
   "id": "775cae2a",
   "metadata": {},
   "outputs": [
    {
     "name": "stdout",
     "output_type": "stream",
     "text": [
      "Submitted: IRC_OPTS_TS3_font_IRC_B\n",
      "Submitted: IRC_OPTS_ts2_font_p2_IRC_F\n",
      "Submitted: IRC_OPTS_ts2_font_p1_IRC_F\n",
      "Submitted: IRC_OPTS_ts1_font_IRC_F\n",
      "Submitted: IRC_OPTS_ts1_font_IRC_B\n",
      "Submitted: IRC_OPTS_ts2_font_p2_IRC_B\n",
      "Submitted: IRC_OPTS_ts2_font_p1_IRC_B\n",
      "Submitted: IRC_OPTS_TS3_font_IRC_F\n"
     ]
    }
   ],
   "source": [
    "import submitit\n",
    "\n",
    "DEBUG           = False\n",
    "N_CORES         = 24\n",
    "MEM_GB          = 60\n",
    "TIMEOUT_MIN     = 14400\n",
    "\n",
    "\n",
    "executor = submitit.AutoExecutor(\"logs/irc_opts\")\n",
    "executor.update_parameters(\n",
    "    slurm_partition=\"kemi1\",\n",
    "    cpus_per_task=N_CORES,\n",
    "    mem_gb=MEM_GB,\n",
    "    timeout_min=TIMEOUT_MIN,\n",
    ")\n",
    "\n",
    "for dfi in dfs:\n",
    "    name = \"IRC_OPTS_\" + dfi[\"custom_name\"].iloc[0] \n",
    "    executor.update_parameters(slurm_job_name=name)\n",
    "    executor.submit(run_irc, dfi, DEBUG, N_CORES, MEM_GB)\n",
    "    print(f\"Submitted: {name}\")"
   ]
  }
 ],
 "metadata": {
  "kernelspec": {
   "display_name": "FrustActivation",
   "language": "python",
   "name": "python3"
  },
  "language_info": {
   "codemirror_mode": {
    "name": "ipython",
    "version": 3
   },
   "file_extension": ".py",
   "mimetype": "text/x-python",
   "name": "python",
   "nbconvert_exporter": "python",
   "pygments_lexer": "ipython3",
   "version": "3.12.8"
  }
 },
 "nbformat": 4,
 "nbformat_minor": 5
}
