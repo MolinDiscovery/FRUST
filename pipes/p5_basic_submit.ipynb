{
 "cells": [
  {
   "cell_type": "code",
   "execution_count": 2,
   "id": "7d77e31d",
   "metadata": {},
   "outputs": [],
   "source": [
    "import submitit\n",
    "from frust.stepper import Stepper\n",
    "from pathlib import Path\n",
    "from tooltoad.chemutils import xyz2mol"
   ]
  },
  {
   "cell_type": "markdown",
   "id": "afab8564",
   "metadata": {},
   "source": [
    "# Run structures from folder"
   ]
  },
  {
   "cell_type": "code",
   "execution_count": 9,
   "id": "70111934",
   "metadata": {},
   "outputs": [
    {
     "name": "stdout",
     "output_type": "stream",
     "text": [
      "2025-07-23 14:21:03 INFO  frust.stepper: Working dir: .\n"
     ]
    },
    {
     "name": "stderr",
     "output_type": "stream",
     "text": [
      "!!! Warning !!! Distance between atoms 2 and 1 (0.640000 A) is suspicious.\n",
      "!!! Warning !!! Distance between atoms 13 and 12 (0.795399 A) is suspicious.\n",
      "!!! Warning !!! Distance between atoms 2 and 1 (0.950001 A) is suspicious.\n",
      "!!! Warning !!! Distance between atoms 3 and 1 (0.950000 A) is suspicious.\n"
     ]
    }
   ],
   "source": [
    "structures_path = Path(\"../structures/misc/\")\n",
    "\n",
    "mols = {}\n",
    "\n",
    "for f in structures_path.rglob(\"*.xyz\"):\n",
    "    with open(f, \"r\") as file:\n",
    "        xyz_block = file.read()\n",
    "        mol = xyz2mol(xyz_block)\n",
    "        mols[f.stem] = (mol, [0])\n",
    "\n",
    "step = Stepper(list(mols.keys()), step_type=\"mol\", save_output_dir=False)\n",
    "df0 = step.build_initial_df(mols)\n",
    "\n",
    "dfs = []\n",
    "for i in range(len(df0)):\n",
    "    df_tmp = df0.iloc[[i]]\n",
    "    dfs.append(df_tmp)"
   ]
  },
  {
   "cell_type": "code",
   "execution_count": null,
   "id": "55db409e",
   "metadata": {},
   "outputs": [],
   "source": [
    "def run_orca_calc(\n",
    "    df,\n",
    "    results_dir,\n",
    "    debug=False,\n",
    "    n_cores=12,\n",
    "    mem_gb=30,\n",
    "):\n",
    "    from pathlib import Path\n",
    "    name = df[\"custom_name\"].iloc[0]\n",
    "\n",
    "    results_dir = Path(results_dir)\n",
    "    results_dir.mkdir(exist_ok=True)\n",
    "\n",
    "    step = Stepper([name],\n",
    "                step_type=\"none\",\n",
    "                debug=debug,\n",
    "                save_output_dir=False,\n",
    "                output_base=str(results_dir),\n",
    "                n_cores=n_cores,\n",
    "                memory_gb=mem_gb)\n",
    "\n",
    "    df1 = step.orca(df, \"DFT\", {\n",
    "        \"wB97X-D3\": None,\n",
    "        \"6-31+G**\": None,\n",
    "        \"TightSCF\": None,\n",
    "        \"OptTS\": None,\n",
    "        \"Freq\": None,\n",
    "        \"NoSym\": None,\n",
    "    })\n",
    "    df1.to_parquet(f\"{results_dir}/results_{name}.parquet\")"
   ]
  },
  {
   "cell_type": "code",
   "execution_count": null,
   "id": "775cae2a",
   "metadata": {},
   "outputs": [
    {
     "name": "stdout",
     "output_type": "stream",
     "text": [
      "Submitted: ts34-ts3\n",
      "Submitted: ts34-ts4\n"
     ]
    }
   ],
   "source": [
    "DEBUG           = False\n",
    "N_CORES         = 8\n",
    "MEM_GB          = 30\n",
    "TIMEOUT_MIN     = 14400\n",
    "RESULTS_DIR     = \"results\"\n",
    "\n",
    "\n",
    "executor = submitit.AutoExecutor(f\"logs/{RESULTS_DIR}\")\n",
    "executor.update_parameters(\n",
    "    slurm_partition=\"kemi1\",\n",
    "    cpus_per_task=N_CORES,\n",
    "    mem_gb=MEM_GB,\n",
    "    timeout_min=TIMEOUT_MIN,\n",
    ")\n",
    "\n",
    "for dfi in dfs:\n",
    "    name = \"ts34-\" + dfi[\"custom_name\"].iloc[0] \n",
    "    executor.update_parameters(slurm_job_name=name)\n",
    "    executor.submit(run_orca_calc, dfi, RESULTS_DIR, DEBUG, N_CORES, MEM_GB)\n",
    "    print(f\"Submitted: {name}\")"
   ]
  },
  {
   "cell_type": "markdown",
   "id": "8476ab6b",
   "metadata": {},
   "source": [
    "# Run single structure"
   ]
  },
  {
   "cell_type": "code",
   "execution_count": 1,
   "id": "bfa8bf6c",
   "metadata": {},
   "outputs": [
    {
     "ename": "NameError",
     "evalue": "name 'Path' is not defined",
     "output_type": "error",
     "traceback": [
      "\u001b[0;31m---------------------------------------------------------------------------\u001b[0m",
      "\u001b[0;31mNameError\u001b[0m                                 Traceback (most recent call last)",
      "Cell \u001b[0;32mIn[1], line 1\u001b[0m\n\u001b[0;32m----> 1\u001b[0m structures_path \u001b[38;5;241m=\u001b[39m \u001b[43mPath\u001b[49m(\u001b[38;5;124m\"\u001b[39m\u001b[38;5;124m../structures/misc/4-trans-dimer.xyz\u001b[39m\u001b[38;5;124m\"\u001b[39m)\n\u001b[1;32m      2\u001b[0m mols \u001b[38;5;241m=\u001b[39m {}\n\u001b[1;32m      3\u001b[0m \u001b[38;5;28;01mwith\u001b[39;00m \u001b[38;5;28mopen\u001b[39m(f, \u001b[38;5;124m\"\u001b[39m\u001b[38;5;124mr\u001b[39m\u001b[38;5;124m\"\u001b[39m) \u001b[38;5;28;01mas\u001b[39;00m file:\n",
      "\u001b[0;31mNameError\u001b[0m: name 'Path' is not defined"
     ]
    }
   ],
   "source": [
    "structures_path = Path(\"../structures/misc/4-trans-dimer.xyz\")\n",
    "mols = {}\n",
    "with open(f, \"r\") as file:\n",
    "    xyz_block = file.read()\n",
    "    mol = xyz2mol(xyz_block)\n",
    "    mols[f.stem] = (mol, [0])\n",
    "\n",
    "step = Stepper(list(mols.keys()), step_type=\"mol\", save_output_dir=False)\n",
    "df0 = step.build_initial_df(mols)"
   ]
  },
  {
   "cell_type": "code",
   "execution_count": null,
   "id": "de5c07d2",
   "metadata": {},
   "outputs": [],
   "source": [
    "def run_orca_calc(\n",
    "    df,\n",
    "    results_dir,\n",
    "    debug=False,\n",
    "    n_cores=12,\n",
    "    mem_gb=30,\n",
    "):\n",
    "    from pathlib import Path\n",
    "    name = df[\"custom_name\"].iloc[0]\n",
    "\n",
    "    results_dir = Path(results_dir)\n",
    "    results_dir.mkdir(exist_ok=True)\n",
    "\n",
    "    step = Stepper([name],\n",
    "                step_type=\"none\",\n",
    "                debug=debug,\n",
    "                save_output_dir=False,\n",
    "                output_base=str(results_dir),\n",
    "                n_cores=n_cores,\n",
    "                memory_gb=mem_gb)\n",
    "\n",
    "    df1 = step.orca(df, \"DFT\", {\n",
    "        \"wB97X-D3\": None,\n",
    "        \"6-31G**\": None,\n",
    "        \"TightSCF\": None,\n",
    "        \"SlowConv\": None,\n",
    "        \"Opt\":     None,\n",
    "        \"Freq\":    None,\n",
    "        \"NoSym\":   None,\n",
    "    })\n",
    "    \n",
    "    df2 = step.orca(df1, \"DFT-SP\", {\n",
    "        \"wB97X-D3\": None,\n",
    "        \"6-31+G**\": None,\n",
    "        \"TightSCF\": None,\n",
    "        \"SP\":       None,\n",
    "        \"NoSym\":    None,\n",
    "    })\n",
    "\n",
    "    df2.to_parquet(f\"{results_dir}/results_{name}.parquet\")"
   ]
  },
  {
   "cell_type": "code",
   "execution_count": null,
   "id": "3994f844",
   "metadata": {},
   "outputs": [
    {
     "name": "stdout",
     "output_type": "stream",
     "text": [
      "Submitted: 4-trans-dimeropt\n"
     ]
    }
   ],
   "source": [
    "DEBUG           = False\n",
    "N_CORES         = 10\n",
    "MEM_GB          = 30\n",
    "TIMEOUT_MIN     = 14400\n",
    "RESULTS_DIR     = \"4-trans-dimer\"\n",
    "OPTIONS={\n",
    "    \"wB97X-D3\": None,\n",
    "    \"6-31G**\": None,\n",
    "    \"TightSCF\": None,\n",
    "    \"Opt\" : None,\n",
    "    \"Freq\": None,\n",
    "    \"NoSym\": None,\n",
    "}\n",
    "\n",
    "executor = submitit.AutoExecutor(f\"logs/{RESULTS_DIR}\")\n",
    "executor.update_parameters(\n",
    "    slurm_partition=\"kemi1\",\n",
    "    cpus_per_task=N_CORES,\n",
    "    mem_gb=MEM_GB,\n",
    "    timeout_min=TIMEOUT_MIN,\n",
    ")\n",
    "\n",
    "name = df0[\"custom_name\"].iloc[0]\n",
    "executor.update_parameters(slurm_job_name=name)\n",
    "executor.submit(run_orca_calc, df0, RESULTS_DIR, DEBUG, N_CORES, MEM_GB)\n",
    "print(f\"Submitted: {name}\")"
   ]
  }
 ],
 "metadata": {
  "kernelspec": {
   "display_name": "FrustActivation",
   "language": "python",
   "name": "python3"
  },
  "language_info": {
   "codemirror_mode": {
    "name": "ipython",
    "version": 3
   },
   "file_extension": ".py",
   "mimetype": "text/x-python",
   "name": "python",
   "nbconvert_exporter": "python",
   "pygments_lexer": "ipython3",
   "version": "3.12.8"
  }
 },
 "nbformat": 4,
 "nbformat_minor": 5
}
