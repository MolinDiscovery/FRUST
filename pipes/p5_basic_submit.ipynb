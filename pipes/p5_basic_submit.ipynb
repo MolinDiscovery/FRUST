{
 "cells": [
  {
   "cell_type": "code",
   "execution_count": 1,
   "id": "7d77e31d",
   "metadata": {},
   "outputs": [],
   "source": [
    "from frust.stepper import Stepper\n",
    "from pathlib import Path\n",
    "from tooltoad.chemutils import xyz2mol"
   ]
  },
  {
   "cell_type": "code",
   "execution_count": 2,
   "id": "70111934",
   "metadata": {},
   "outputs": [
    {
     "name": "stdout",
     "output_type": "stream",
     "text": [
      "2025-07-15 17:00:40 INFO  frust.stepper: Working dir: .\n"
     ]
    }
   ],
   "source": [
    "structures_path = Path(\"../structures/irc_tests/irc_new_ts/\")\n",
    "\n",
    "mols = {}\n",
    "\n",
    "for f in structures_path.rglob(\"*.xyz\"):\n",
    "    with open(f, \"r\") as file:\n",
    "        xyz_block = file.read()\n",
    "        mol = xyz2mol(xyz_block)\n",
    "        mols[f.stem] = (mol, [0])\n",
    "\n",
    "step = Stepper(list(mols.keys()), step_type=\"mol\", save_output_dir=False)\n",
    "df0 = step.build_initial_df(mols)\n",
    "\n",
    "dfs = []\n",
    "for i in range(len(df0)):\n",
    "    df_tmp = df0.iloc[[i]]\n",
    "    dfs.append(df_tmp)"
   ]
  },
  {
   "cell_type": "code",
   "execution_count": 3,
   "id": "7e3f40d9",
   "metadata": {},
   "outputs": [],
   "source": [
    "def run_calc(df, debug=False, n_cores=12, mem_gb=30):\n",
    "    from pathlib import Path\n",
    "    name = df[\"custom_name\"].iloc[0]\n",
    "\n",
    "    results_dir = Path(\"results_ts34-2\")\n",
    "    results_dir.mkdir(exist_ok=True)\n",
    "\n",
    "    step = Stepper([name],\n",
    "                step_type=\"IRC\",\n",
    "                debug=debug,\n",
    "                save_output_dir=False,\n",
    "                output_base=str(results_dir),\n",
    "                n_cores=n_cores,\n",
    "                memory_gb=mem_gb)\n",
    "    \n",
    "    options = {\n",
    "        \"wB97X-D3\" : None,\n",
    "        \"6-31+G**\"  : None,\n",
    "        \"TightSCF\" : None,\n",
    "        \"Freq\"     : None,\n",
    "        \"NoSym\"    : None,\n",
    "    }\n",
    "\n",
    "    df1 = step.orca(df, \"DFT\", options)\n",
    "    df1.to_parquet(f\"{results_dir}/results_{name}.parquet\")"
   ]
  },
  {
   "cell_type": "code",
   "execution_count": 4,
   "id": "775cae2a",
   "metadata": {},
   "outputs": [
    {
     "name": "stdout",
     "output_type": "stream",
     "text": [
      "Submitted: ts34-ts3\n",
      "Submitted: ts34-ts4\n"
     ]
    }
   ],
   "source": [
    "import submitit\n",
    "\n",
    "DEBUG           = False\n",
    "N_CORES         = 8\n",
    "MEM_GB          = 30\n",
    "TIMEOUT_MIN     = 14400\n",
    "\n",
    "\n",
    "executor = submitit.AutoExecutor(\"logs/ts34-2\")\n",
    "executor.update_parameters(\n",
    "    slurm_partition=\"kemi1\",\n",
    "    cpus_per_task=N_CORES,\n",
    "    mem_gb=MEM_GB,\n",
    "    timeout_min=TIMEOUT_MIN,\n",
    ")\n",
    "\n",
    "for dfi in dfs:\n",
    "    name = \"ts34-\" + dfi[\"custom_name\"].iloc[0] \n",
    "    executor.update_parameters(slurm_job_name=name)\n",
    "    executor.submit(run_calc, dfi, DEBUG, N_CORES, MEM_GB)\n",
    "    print(f\"Submitted: {name}\")"
   ]
  }
 ],
 "metadata": {
  "kernelspec": {
   "display_name": "FrustActivation",
   "language": "python",
   "name": "python3"
  },
  "language_info": {
   "codemirror_mode": {
    "name": "ipython",
    "version": 3
   },
   "file_extension": ".py",
   "mimetype": "text/x-python",
   "name": "python",
   "nbconvert_exporter": "python",
   "pygments_lexer": "ipython3",
   "version": "3.12.8"
  }
 },
 "nbformat": 4,
 "nbformat_minor": 5
}
